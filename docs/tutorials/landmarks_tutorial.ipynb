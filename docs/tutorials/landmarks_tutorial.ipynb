{
 "cells": [
  {
   "cell_type": "markdown",
   "metadata": {},
   "source": [
    "# Landmarks Tutorial"
   ]
  },
  {
   "cell_type": "markdown",
   "metadata": {},
   "source": [
    "In this notebook, we will use the landmarks submodule of Gismo to give an interactive description of ACM topics and researchers of the https://www.lincs.fr laboratory.\n",
    "\n",
    "This notebook can be used as a blueprint to analyze other group of people under the scope of a topic classification.\n",
    "\n",
    "Before starting this topic, it is recommended to have looked at the [ACM](https://balouf.github.io/gismo/tutorials/tutorial_acm.html) and [DBLP](https://balouf.github.io/gismo/tutorials/tutorial_dblp.html) tutorials."
   ]
  },
  {
   "cell_type": "markdown",
   "metadata": {},
   "source": [
    "## Lincs Researchers"
   ]
  },
  {
   "cell_type": "markdown",
   "metadata": {},
   "source": [
    "In this section, we bind the LINCS researchers with their DBLP id."
   ]
  },
  {
   "cell_type": "markdown",
   "metadata": {},
   "source": [
    "### List of DBLP researchers"
   ]
  },
  {
   "cell_type": "markdown",
   "metadata": {},
   "source": [
    "First, we open the DBLP database (see the [DBLP Tutorial](https://balouf.github.io/gismo/tutorials/tutorial_dblp.html) to get your copy of the database)."
   ]
  },
  {
   "cell_type": "code",
   "execution_count": 1,
   "metadata": {
    "ExecuteTime": {
     "end_time": "2022-12-27T08:29:27.111498Z",
     "start_time": "2022-12-27T08:29:24.407464Z"
    }
   },
   "outputs": [],
   "source": [
    "from pathlib import Path\n",
    "\n",
    "path = Path(\"../../../../../../Datasets/DBLP\")\n",
    "\n",
    "from gismo.filesource import FileSource\n",
    "source = FileSource(filename=\"dblp\", path=path)"
   ]
  },
  {
   "cell_type": "markdown",
   "metadata": {},
   "source": [
    "``source`` is a list-like object whose entries are dicts that describe articles."
   ]
  },
  {
   "cell_type": "code",
   "execution_count": 2,
   "metadata": {
    "ExecuteTime": {
     "end_time": "2022-12-27T08:29:27.143122Z",
     "start_time": "2022-12-27T08:29:27.115495Z"
    }
   },
   "outputs": [
    {
     "data": {
      "text/plain": [
       "{'type': 'article',\n",
       " 'authors': ['Andrzej M. Borzyszkowski', 'Philippe Darondeau'],\n",
       " 'title': 'Transition systems without transitions.',\n",
       " 'year': '2005',\n",
       " 'venue': 'Theor. Comput. Sci.'}"
      ]
     },
     "execution_count": 2,
     "metadata": {},
     "output_type": "execute_result"
    }
   ],
   "source": [
    "source[1234567]"
   ]
  },
  {
   "cell_type": "markdown",
   "metadata": {},
   "source": [
    "Let's extract the set of authors. Each author is lowered and spaces are replaced with underscore for better later processing."
   ]
  },
  {
   "cell_type": "code",
   "execution_count": 3,
   "metadata": {
    "ExecuteTime": {
     "end_time": "2022-12-27T08:30:50.987620Z",
     "start_time": "2022-12-27T08:29:27.151134Z"
    }
   },
   "outputs": [],
   "source": [
    "dblp_authors = {a.replace(\" \", \"_\") for paper in source for a in paper['authors']}"
   ]
  },
  {
   "cell_type": "code",
   "execution_count": 4,
   "metadata": {
    "ExecuteTime": {
     "end_time": "2022-12-27T08:30:51.002747Z",
     "start_time": "2022-12-27T08:30:50.991139Z"
    }
   },
   "outputs": [
    {
     "data": {
      "text/plain": [
       "True"
      ]
     },
     "execution_count": 4,
     "metadata": {},
     "output_type": "execute_result"
    }
   ],
   "source": [
    "\"Fabien_Mathieu\" in dblp_authors"
   ]
  },
  {
   "cell_type": "code",
   "execution_count": 5,
   "metadata": {
    "ExecuteTime": {
     "end_time": "2022-12-27T08:30:51.034409Z",
     "start_time": "2022-12-27T08:30:51.005682Z"
    }
   },
   "outputs": [
    {
     "data": {
      "text/plain": [
       "False"
      ]
     },
     "execution_count": 5,
     "metadata": {},
     "output_type": "execute_result"
    }
   ],
   "source": [
    "\"Fabin_Mathieu\" in dblp_authors"
   ]
  },
  {
   "cell_type": "markdown",
   "metadata": {},
   "source": [
    "### List of Lincs Members"
   ]
  },
  {
   "cell_type": "markdown",
   "metadata": {},
   "source": [
    "First we get a copy of the LINCS webpage that tells its researchers and feed it to BeautifulSoup"
   ]
  },
  {
   "cell_type": "code",
   "execution_count": 6,
   "metadata": {
    "ExecuteTime": {
     "end_time": "2022-12-27T08:30:53.369362Z",
     "start_time": "2022-12-27T08:30:51.036390Z"
    }
   },
   "outputs": [],
   "source": [
    "import requests\n",
    "from bs4 import BeautifulSoup as bs\n",
    "soup = bs(requests.get('https://www.lincs.fr/people/').text)"
   ]
  },
  {
   "cell_type": "markdown",
   "metadata": {},
   "source": [
    "We make a function to convert table rows of the HTML page into researcher dict. Each dict will have a *name* (display name) and a *dblp* (DBLP id) entry."
   ]
  },
  {
   "cell_type": "code",
   "execution_count": 7,
   "metadata": {
    "ExecuteTime": {
     "end_time": "2022-12-27T08:32:03.706655Z",
     "start_time": "2022-12-27T08:30:53.371274Z"
    }
   },
   "outputs": [],
   "source": [
    "from bof.fuzz import Process\n",
    "\n",
    "p = Process()\n",
    "p.fit(list(dblp_authors))"
   ]
  },
  {
   "cell_type": "code",
   "execution_count": 8,
   "metadata": {
    "ExecuteTime": {
     "end_time": "2022-12-27T08:32:03.909257Z",
     "start_time": "2022-12-27T08:32:03.714159Z"
    }
   },
   "outputs": [],
   "source": [
    "def row2dict(row, dblp_authors, manual=None):\n",
    "    \"\"\"\n",
    "    Soup 2 dict conversion\n",
    "    \n",
    "    Parameters\n",
    "    ----------\n",
    "    line: soup\n",
    "        The row to convert\n",
    "    dblp_authors: set\n",
    "        The list of DBLP authors\n",
    "    manual: dict\n",
    "        Manual associations between name and id\n",
    "        \n",
    "    Returns\n",
    "    -------\n",
    "    dict\n",
    "        A dict shaped like {'name': \"John Doe\", 'dblp': \"john_doe\"}\n",
    "    \"\"\"\n",
    "    if manual is None:\n",
    "        manual = {}\n",
    "    # name extraction\n",
    "    row = row('td')[1]\n",
    "    name = row.text\n",
    "    # manual association\n",
    "    if name in manual:\n",
    "        return {'name': name, 'dblp': manual[name]}\n",
    "    # Attempt direct transformation\n",
    "    dblp = name.replace(\" \", \"_\")\n",
    "    # If result exists in dblp, return that\n",
    "    if dblp in dblp_authors:\n",
    "        return {'name': name, 'dblp': dblp}\n",
    "    # Attempt to use the lincs automatic URL to infer dblp name\n",
    "    a = row.a\n",
    "    if a:\n",
    "        href = a['href'].split('?more=')[1]\n",
    "        if href in dblp_authors:\n",
    "            return {'name': name, 'dblp': href}\n",
    "    # last chance: use bof to guess the good answer.\n",
    "    print(f\"No direct dblp entry found for {name}, start fuzzy search\")\n",
    "    candidate = p.extractOne(name.lower().replace(\" \", \"_\"))\n",
    "#     candidates = get_close_matches(name.lower().replace(\" \", \"_\"), candidates, cutoff=0.3)\n",
    "    if candidate:\n",
    "        print(f\"Found candidate: {candidate}\")\n",
    "        dblp = candidate[0]\n",
    "        return {'name': name, 'dblp': dblp}\n",
    "    # If all failed, return empty id\n",
    "    return {'name': name, 'dblp': \"\"}"
   ]
  },
  {
   "cell_type": "markdown",
   "metadata": {},
   "source": [
    "The manual override below was actually populated by executing the cell afterwards and iterating until all things were OK."
   ]
  },
  {
   "cell_type": "code",
   "execution_count": 9,
   "metadata": {
    "ExecuteTime": {
     "end_time": "2022-12-27T08:32:03.924549Z",
     "start_time": "2022-12-27T08:32:03.912908Z"
    }
   },
   "outputs": [],
   "source": [
    "manual = {\"Giovanni Pau\": \"Giovanni_Pau_0001\"}"
   ]
  },
  {
   "cell_type": "markdown",
   "metadata": {},
   "source": [
    "The actual construction of the list of LINCS researchers."
   ]
  },
  {
   "cell_type": "code",
   "execution_count": 10,
   "metadata": {
    "ExecuteTime": {
     "end_time": "2022-12-27T08:32:04.254209Z",
     "start_time": "2022-12-27T08:32:03.927510Z"
    }
   },
   "outputs": [
    {
     "name": "stdout",
     "output_type": "stream",
     "text": [
      "No direct dblp entry found for Ana Bušić, start fuzzy search\n",
      "Found candidate: ('Ana_Busic', 41.666666666666664)\n",
      "No direct dblp entry found for Chung Shue (Calvin) Chen, start fuzzy search\n",
      "Found candidate: ('Chung_Shue_Chen', 48.07692307692308)\n",
      "No direct dblp entry found for Joaquin Garcia-Alfaro, start fuzzy search\n",
      "Found candidate: ('Joaquin_Garcia', 65.51724137931035)\n",
      "No direct dblp entry found for Remi Varloot, start fuzzy search\n",
      "Found candidate: ('Rémi_Varloot', 68.42105263157895)\n"
     ]
    }
   ],
   "source": [
    "lincs = [row2dict(line, dblp_authors, manual) for table in soup('table')[:2] for line in table('tr')]"
   ]
  },
  {
   "cell_type": "code",
   "execution_count": 11,
   "metadata": {
    "ExecuteTime": {
     "end_time": "2022-12-27T08:32:04.270275Z",
     "start_time": "2022-12-27T08:32:04.257144Z"
    }
   },
   "outputs": [
    {
     "data": {
      "text/plain": [
       "[{'name': 'Alonso Silva', 'dblp': 'Alonso_Silva'},\n",
       " {'name': 'Ana Bušić', 'dblp': 'Ana_Busic'},\n",
       " {'name': 'Anaïs Vergne', 'dblp': 'Anaïs_Vergne'},\n",
       " {'name': 'Bartek Blaszczyszyn', 'dblp': 'Bartek_Blaszczyszyn'},\n",
       " {'name': 'Chung Shue (Calvin) Chen', 'dblp': 'Chung_Shue_Chen'},\n",
       " {'name': 'Daniel Kofman', 'dblp': 'Daniel_Kofman'},\n",
       " {'name': 'Eitan Altman', 'dblp': 'Eitan_Altman'},\n",
       " {'name': 'François Baccelli', 'dblp': 'François_Baccelli'},\n",
       " {'name': 'Laurent Decreusefond', 'dblp': 'Laurent_Decreusefond'},\n",
       " {'name': 'Ludovic Noirie', 'dblp': 'Ludovic_Noirie'},\n",
       " {'name': 'Makhlouf Hadji', 'dblp': 'Makhlouf_Hadji'},\n",
       " {'name': 'Marc Lelarge', 'dblp': 'Marc_Lelarge'},\n",
       " {'name': 'Marceau Coupechoux', 'dblp': 'Marceau_Coupechoux'},\n",
       " {'name': 'Maria Potop-Butucaru', 'dblp': 'Maria_Potop-Butucaru'},\n",
       " {'name': 'Petr Kuznetsov', 'dblp': 'Petr_Kuznetsov'},\n",
       " {'name': 'Philippe Jacquet', 'dblp': 'Philippe_Jacquet'},\n",
       " {'name': 'Philippe Martins', 'dblp': 'Philippe_Martins'},\n",
       " {'name': 'Renata Teixeira', 'dblp': 'Renata_Teixeira'},\n",
       " {'name': 'Serge Fdida', 'dblp': 'Serge_Fdida'},\n",
       " {'name': 'Sébastien Tixeuil', 'dblp': 'Sébastien_Tixeuil'},\n",
       " {'name': 'Thomas Bonald', 'dblp': 'Thomas_Bonald'},\n",
       " {'name': 'Timur Friedman', 'dblp': 'Timur_Friedman'},\n",
       " {'name': 'Andrea Araldo', 'dblp': 'Andrea_Araldo'},\n",
       " {'name': 'Andrea Marcano', 'dblp': 'Andrea_Marcano'},\n",
       " {'name': 'Dimitrios Milioris', 'dblp': 'Dimitrios_Milioris'},\n",
       " {'name': 'Elie de Panafieu', 'dblp': 'Elie_de_Panafieu'},\n",
       " {'name': 'Fabio Pianese', 'dblp': 'Fabio_Pianese'},\n",
       " {'name': 'Francesca Bassi', 'dblp': 'Francesca_Bassi'},\n",
       " {'name': 'François Durand', 'dblp': 'François_Durand'},\n",
       " {'name': 'Joaquin Garcia-Alfaro', 'dblp': 'Joaquin_Garcia'},\n",
       " {'name': 'Leonardo Linguaglossa', 'dblp': 'Leonardo_Linguaglossa'},\n",
       " {'name': 'Lorenzo Maggi', 'dblp': 'Lorenzo_Maggi'},\n",
       " {'name': 'Luis Uzeda Garcia', 'dblp': 'Luis_Uzeda_Garcia'},\n",
       " {'name': 'Marc-Olivier Buob', 'dblp': 'Marc-Olivier_Buob'},\n",
       " {'name': 'Mauro Sozio', 'dblp': 'Mauro_Sozio'},\n",
       " {'name': 'Natalya Rozhnova', 'dblp': 'Natalya_Rozhnova'},\n",
       " {'name': 'Remi Varloot', 'dblp': 'Rémi_Varloot'},\n",
       " {'name': 'Sara Ayoubi', 'dblp': 'Sara_Ayoubi'},\n",
       " {'name': 'Stefano Paris', 'dblp': 'Stefano_Paris'},\n",
       " {'name': 'Tianzhu Zhang', 'dblp': 'Tianzhu_Zhang'},\n",
       " {'name': 'Tijani Chahed', 'dblp': 'Tijani_Chahed'}]"
      ]
     },
     "execution_count": 11,
     "metadata": {},
     "output_type": "execute_result"
    }
   ],
   "source": [
    "lincs"
   ]
  },
  {
   "cell_type": "markdown",
   "metadata": {},
   "source": [
    "## DBLP Gismo"
   ]
  },
  {
   "cell_type": "markdown",
   "metadata": {},
   "source": [
    "In this Section, we use Landmarks to construct a small XGismo focused around the LINCS researchers. In details:\n",
    "- We construct a large Gismo between articles and researchers, exactly like in the DBLP tutorial;\n",
    "- We use landmarks to extract a (much smaller) list of articles based on collaboration proximity.\n",
    "- We build a XGismo between researchers and keywords from this smaller source."
   ]
  },
  {
   "cell_type": "markdown",
   "metadata": {},
   "source": [
    "### Construction of a full Gismo on authors"
   ]
  },
  {
   "cell_type": "markdown",
   "metadata": {},
   "source": [
    "This part is similar to the one from the DBLP tutorial."
   ]
  },
  {
   "cell_type": "code",
   "execution_count": 12,
   "metadata": {
    "ExecuteTime": {
     "end_time": "2022-12-27T08:32:04.285779Z",
     "start_time": "2022-12-27T08:32:04.273253Z"
    }
   },
   "outputs": [],
   "source": [
    "from gismo.corpus import Corpus\n",
    "from gismo.embedding import Embedding\n",
    "from gismo.gismo import Gismo\n",
    "from sklearn.feature_extraction.text import CountVectorizer\n",
    "vectorizer_author = CountVectorizer(dtype=float, preprocessor=lambda x:x, tokenizer=lambda x: x.split(' '))"
   ]
  },
  {
   "cell_type": "code",
   "execution_count": 13,
   "metadata": {
    "ExecuteTime": {
     "end_time": "2022-12-27T08:32:04.301858Z",
     "start_time": "2022-12-27T08:32:04.289293Z"
    }
   },
   "outputs": [],
   "source": [
    "def to_authors_text(dic):\n",
    "    return \" \".join([a.replace(' ', '_') for a in dic['authors']])\n",
    "corpus = Corpus(source, to_text=to_authors_text)"
   ]
  },
  {
   "cell_type": "code",
   "execution_count": 14,
   "metadata": {
    "ExecuteTime": {
     "end_time": "2022-12-27T08:32:07.302457Z",
     "start_time": "2022-12-27T08:32:04.305857Z"
    }
   },
   "outputs": [],
   "source": [
    "try:\n",
    "    embedding = Embedding(filename=\"dblp_aut_embedding\", path=path)\n",
    "except:\n",
    "    embedding = Embedding(vectorizer=vectorizer_author)\n",
    "    embedding.fit_transform(corpus)\n",
    "    embedding.save(filename=\"dblp_aut_embedding\", path=path)"
   ]
  },
  {
   "cell_type": "code",
   "execution_count": 15,
   "metadata": {
    "ExecuteTime": {
     "end_time": "2022-12-27T08:32:07.318770Z",
     "start_time": "2022-12-27T08:32:07.305683Z"
    }
   },
   "outputs": [],
   "source": [
    "gismo = Gismo(corpus, embedding)"
   ]
  },
  {
   "cell_type": "markdown",
   "metadata": {},
   "source": [
    "Given the size of the dataset, processing a query can take about one second."
   ]
  },
  {
   "cell_type": "code",
   "execution_count": 16,
   "metadata": {
    "ExecuteTime": {
     "end_time": "2022-12-27T08:32:14.231046Z",
     "start_time": "2022-12-27T08:32:07.322657Z"
    }
   },
   "outputs": [
    {
     "data": {
      "text/plain": [
       "True"
      ]
     },
     "execution_count": 16,
     "metadata": {},
     "output_type": "execute_result"
    }
   ],
   "source": [
    "gismo.rank(\"Fabien_Mathieu\")"
   ]
  },
  {
   "cell_type": "code",
   "execution_count": 17,
   "metadata": {
    "ExecuteTime": {
     "end_time": "2022-12-27T08:32:14.979786Z",
     "start_time": "2022-12-27T08:32:14.237032Z"
    }
   },
   "outputs": [
    {
     "name": "stdout",
     "output_type": "stream",
     "text": [
      " F: 0.02. R: 0.25. S: 0.74.\n",
      "- F: 0.03. R: 0.25. S: 0.72.\n",
      "-- F: 0.04. R: 0.24. S: 0.72.\n",
      "--- F: 0.06. R: 0.21. S: 0.67.\n",
      "---- F: 0.06. R: 0.19. S: 0.61.\n",
      "----- F: 0.25. R: 0.18. S: 0.55.\n",
      "------ F: 0.30. R: 0.18. S: 0.58.\n",
      "------- F: 0.42. R: 0.15. S: 0.82.\n",
      "-------- Fabien_Mathieu (R: 0.11; S: 1.00)\n",
      "-------- F: 0.61. R: 0.04. S: 0.43.\n",
      "--------- Laurent_Viennot (R: 0.02; S: 0.47)\n",
      "--------- F: 0.70. R: 0.02. S: 0.36.\n",
      "---------- Diego_Perino (R: 0.01; S: 0.42)\n",
      "---------- Yacine_Boufkhad (R: 0.01; S: 0.30)\n",
      "------- F: 0.77. R: 0.03. S: 0.36.\n",
      "-------- Julien_Reynier (R: 0.01; S: 0.37)\n",
      "-------- Fabien_de_Montgolfier (R: 0.01; S: 0.38)\n",
      "-------- Anh-Tuan_Gai (R: 0.01; S: 0.29)\n",
      "------ Gheorghe_Postelnicu (R: 0.00; S: 0.19)\n",
      "----- F: 0.33. R: 0.01. S: 0.29.\n",
      "------ The_Dang_Huynh (R: 0.01; S: 0.28)\n",
      "------ Dohy_Hong (R: 0.00; S: 0.18)\n",
      "---- F: 0.93. R: 0.02. S: 0.32.\n",
      "----- Ludovic_Noirie (R: 0.01; S: 0.34)\n",
      "----- François_Durand (R: 0.01; S: 0.32)\n",
      "--- F: 0.40. R: 0.02. S: 0.34.\n",
      "---- F: 0.58. R: 0.02. S: 0.33.\n",
      "----- Céline_Comte (R: 0.01; S: 0.32)\n",
      "----- Thomas_Bonald (R: 0.01; S: 0.24)\n",
      "---- Anne_Bouillard (R: 0.00; S: 0.21)\n",
      "--- Nidhi_Hegde_0001 (R: 0.00; S: 0.21)\n",
      "-- F: 1.00. R: 0.01. S: 0.24.\n",
      "--- Ilkka_Norros (R: 0.01; S: 0.24)\n",
      "--- François_Baccelli (R: 0.01; S: 0.24)\n",
      "- Mohamed_Bouklit (R: 0.01; S: 0.19)\n"
     ]
    }
   ],
   "source": [
    "from gismo.post_processing import post_features_cluster_print\n",
    "gismo.post_features_cluster = post_features_cluster_print\n",
    "gismo.get_features_by_cluster()"
   ]
  },
  {
   "cell_type": "markdown",
   "metadata": {},
   "source": [
    "### Using landmarks to shrink a source"
   ]
  },
  {
   "cell_type": "markdown",
   "metadata": {},
   "source": [
    "To reduce the size of the dataset, we make landmarks out of the researchers, and we credit each entry with a budget of 2,000 articles."
   ]
  },
  {
   "cell_type": "code",
   "execution_count": 18,
   "metadata": {
    "ExecuteTime": {
     "end_time": "2022-12-27T08:32:14.995021Z",
     "start_time": "2022-12-27T08:32:14.984811Z"
    }
   },
   "outputs": [],
   "source": [
    "from gismo.landmarks import Landmarks\n",
    "lincs_landmarks_full = Landmarks(source=lincs, to_text=lambda x: x['dblp'], \n",
    "                                 x_density=2000)"
   ]
  },
  {
   "cell_type": "markdown",
   "metadata": {},
   "source": [
    "We launch the computation of the source. This takes a couple of minutes, as a ranking diffusion needs to be performed for all researchers."
   ]
  },
  {
   "cell_type": "code",
   "execution_count": 19,
   "metadata": {
    "ExecuteTime": {
     "end_time": "2022-12-27T08:32:15.011134Z",
     "start_time": "2022-12-27T08:32:15.000703Z"
    }
   },
   "outputs": [],
   "source": [
    "import logging\n",
    "logging.basicConfig()\n",
    "log = logging.getLogger(\"Gismo\")\n",
    "log.setLevel(level=logging.DEBUG)"
   ]
  },
  {
   "cell_type": "code",
   "execution_count": 20,
   "metadata": {
    "ExecuteTime": {
     "end_time": "2022-12-27T08:35:45.208531Z",
     "start_time": "2022-12-27T08:32:15.016143Z"
    }
   },
   "outputs": [
    {
     "name": "stderr",
     "output_type": "stream",
     "text": [
      "INFO:Gismo:Start computation of 41 landmarks.\n",
      "DEBUG:Gismo:Processing Alonso_Silva.\n",
      "DEBUG:Gismo:Landmarks of Alonso_Silva computed.\n",
      "DEBUG:Gismo:Processing Ana_Busic.\n",
      "DEBUG:Gismo:Landmarks of Ana_Busic computed.\n",
      "DEBUG:Gismo:Processing Anaïs_Vergne.\n",
      "DEBUG:Gismo:Landmarks of Anaïs_Vergne computed.\n",
      "DEBUG:Gismo:Processing Bartek_Blaszczyszyn.\n",
      "DEBUG:Gismo:Landmarks of Bartek_Blaszczyszyn computed.\n",
      "DEBUG:Gismo:Processing Chung_Shue_Chen.\n",
      "DEBUG:Gismo:Landmarks of Chung_Shue_Chen computed.\n",
      "DEBUG:Gismo:Processing Daniel_Kofman.\n",
      "DEBUG:Gismo:Landmarks of Daniel_Kofman computed.\n",
      "DEBUG:Gismo:Processing Eitan_Altman.\n",
      "DEBUG:Gismo:Landmarks of Eitan_Altman computed.\n",
      "DEBUG:Gismo:Processing François_Baccelli.\n",
      "DEBUG:Gismo:Landmarks of François_Baccelli computed.\n",
      "DEBUG:Gismo:Processing Laurent_Decreusefond.\n",
      "DEBUG:Gismo:Landmarks of Laurent_Decreusefond computed.\n",
      "DEBUG:Gismo:Processing Ludovic_Noirie.\n",
      "DEBUG:Gismo:Landmarks of Ludovic_Noirie computed.\n",
      "DEBUG:Gismo:Processing Makhlouf_Hadji.\n",
      "DEBUG:Gismo:Landmarks of Makhlouf_Hadji computed.\n",
      "DEBUG:Gismo:Processing Marc_Lelarge.\n",
      "DEBUG:Gismo:Landmarks of Marc_Lelarge computed.\n",
      "DEBUG:Gismo:Processing Marceau_Coupechoux.\n",
      "DEBUG:Gismo:Landmarks of Marceau_Coupechoux computed.\n",
      "DEBUG:Gismo:Processing Maria_Potop-Butucaru.\n",
      "DEBUG:Gismo:Landmarks of Maria_Potop-Butucaru computed.\n",
      "DEBUG:Gismo:Processing Petr_Kuznetsov.\n",
      "DEBUG:Gismo:Landmarks of Petr_Kuznetsov computed.\n",
      "DEBUG:Gismo:Processing Philippe_Jacquet.\n",
      "DEBUG:Gismo:Landmarks of Philippe_Jacquet computed.\n",
      "DEBUG:Gismo:Processing Philippe_Martins.\n",
      "DEBUG:Gismo:Landmarks of Philippe_Martins computed.\n",
      "DEBUG:Gismo:Processing Renata_Teixeira.\n",
      "DEBUG:Gismo:Landmarks of Renata_Teixeira computed.\n",
      "DEBUG:Gismo:Processing Serge_Fdida.\n",
      "DEBUG:Gismo:Landmarks of Serge_Fdida computed.\n",
      "DEBUG:Gismo:Processing Sébastien_Tixeuil.\n",
      "DEBUG:Gismo:Landmarks of Sébastien_Tixeuil computed.\n",
      "DEBUG:Gismo:Processing Thomas_Bonald.\n",
      "DEBUG:Gismo:Landmarks of Thomas_Bonald computed.\n",
      "DEBUG:Gismo:Processing Timur_Friedman.\n",
      "DEBUG:Gismo:Landmarks of Timur_Friedman computed.\n",
      "DEBUG:Gismo:Processing Andrea_Araldo.\n",
      "DEBUG:Gismo:Landmarks of Andrea_Araldo computed.\n",
      "DEBUG:Gismo:Processing Andrea_Marcano.\n",
      "DEBUG:Gismo:Landmarks of Andrea_Marcano computed.\n",
      "DEBUG:Gismo:Processing Dimitrios_Milioris.\n",
      "DEBUG:Gismo:Landmarks of Dimitrios_Milioris computed.\n",
      "DEBUG:Gismo:Processing Elie_de_Panafieu.\n",
      "DEBUG:Gismo:Landmarks of Elie_de_Panafieu computed.\n",
      "DEBUG:Gismo:Processing Fabio_Pianese.\n",
      "DEBUG:Gismo:Landmarks of Fabio_Pianese computed.\n",
      "DEBUG:Gismo:Processing Francesca_Bassi.\n",
      "DEBUG:Gismo:Landmarks of Francesca_Bassi computed.\n",
      "DEBUG:Gismo:Processing François_Durand.\n",
      "DEBUG:Gismo:Landmarks of François_Durand computed.\n",
      "DEBUG:Gismo:Processing Joaquin_Garcia.\n",
      "DEBUG:Gismo:Landmarks of Joaquin_Garcia computed.\n",
      "DEBUG:Gismo:Processing Leonardo_Linguaglossa.\n",
      "DEBUG:Gismo:Landmarks of Leonardo_Linguaglossa computed.\n",
      "DEBUG:Gismo:Processing Lorenzo_Maggi.\n",
      "DEBUG:Gismo:Landmarks of Lorenzo_Maggi computed.\n",
      "DEBUG:Gismo:Processing Luis_Uzeda_Garcia.\n",
      "DEBUG:Gismo:Landmarks of Luis_Uzeda_Garcia computed.\n",
      "DEBUG:Gismo:Processing Marc-Olivier_Buob.\n",
      "DEBUG:Gismo:Landmarks of Marc-Olivier_Buob computed.\n",
      "DEBUG:Gismo:Processing Mauro_Sozio.\n",
      "DEBUG:Gismo:Landmarks of Mauro_Sozio computed.\n",
      "DEBUG:Gismo:Processing Natalya_Rozhnova.\n",
      "DEBUG:Gismo:Landmarks of Natalya_Rozhnova computed.\n",
      "DEBUG:Gismo:Processing Rémi_Varloot.\n",
      "DEBUG:Gismo:Landmarks of Rémi_Varloot computed.\n",
      "DEBUG:Gismo:Processing Sara_Ayoubi.\n",
      "DEBUG:Gismo:Landmarks of Sara_Ayoubi computed.\n",
      "DEBUG:Gismo:Processing Stefano_Paris.\n",
      "DEBUG:Gismo:Landmarks of Stefano_Paris computed.\n",
      "DEBUG:Gismo:Processing Tianzhu_Zhang.\n",
      "DEBUG:Gismo:Landmarks of Tianzhu_Zhang computed.\n",
      "DEBUG:Gismo:Processing Tijani_Chahed.\n",
      "DEBUG:Gismo:Landmarks of Tijani_Chahed computed.\n",
      "INFO:Gismo:All landmarks are built.\n"
     ]
    }
   ],
   "source": [
    "reduced_source = lincs_landmarks_full.get_reduced_source(gismo)"
   ]
  },
  {
   "cell_type": "code",
   "execution_count": 21,
   "metadata": {
    "ExecuteTime": {
     "end_time": "2022-12-27T08:35:45.223646Z",
     "start_time": "2022-12-27T08:35:45.211452Z"
    }
   },
   "outputs": [
    {
     "name": "stdout",
     "output_type": "stream",
     "text": [
      "Source length went down from 6232511 to 57267.\n"
     ]
    }
   ],
   "source": [
    "print(f\"Source length went down from {len(source)} to {len(reduced_source)}.\")"
   ]
  },
  {
   "cell_type": "markdown",
   "metadata": {},
   "source": [
    "Instead of 6,000,000 all purposes articles, we now have 57,000 articles lying in the neighborhood of the considered researchers. We now can close the file descriptor as we won't need further access to the original source."
   ]
  },
  {
   "cell_type": "code",
   "execution_count": 22,
   "metadata": {
    "ExecuteTime": {
     "end_time": "2022-12-27T08:35:45.239321Z",
     "start_time": "2022-12-27T08:35:45.227099Z"
    }
   },
   "outputs": [],
   "source": [
    "source.close()"
   ]
  },
  {
   "cell_type": "markdown",
   "metadata": {},
   "source": [
    "### Building a small XGismo"
   ]
  },
  {
   "cell_type": "markdown",
   "metadata": {},
   "source": [
    "#### Author Embedding"
   ]
  },
  {
   "cell_type": "markdown",
   "metadata": {},
   "source": [
    "Author embedding takes a couple of seconds instead of a couple of minutes."
   ]
  },
  {
   "cell_type": "code",
   "execution_count": 23,
   "metadata": {
    "ExecuteTime": {
     "end_time": "2022-12-27T08:35:47.937607Z",
     "start_time": "2022-12-27T08:35:45.253084Z"
    }
   },
   "outputs": [
    {
     "name": "stderr",
     "output_type": "stream",
     "text": [
      "C:\\Users\\fabienma\\anaconda3\\lib\\site-packages\\sklearn\\feature_extraction\\text.py:528: UserWarning: The parameter 'token_pattern' will not be used since 'tokenizer' is not None'\n",
      "  warnings.warn(\n"
     ]
    }
   ],
   "source": [
    "reduced_corpus = Corpus(reduced_source, to_text=to_authors_text)\n",
    "reduced_author_embedding = Embedding(vectorizer=vectorizer_author)\n",
    "reduced_author_embedding.fit_transform(reduced_corpus)"
   ]
  },
  {
   "cell_type": "markdown",
   "metadata": {},
   "source": [
    "#### Sanity Check"
   ]
  },
  {
   "cell_type": "markdown",
   "metadata": {},
   "source": [
    "We can rebuild a small author Gismo. This part is merely a sanity check to verify that the reduction didn't change too much things in the vicinity of the LINCS.."
   ]
  },
  {
   "cell_type": "code",
   "execution_count": 24,
   "metadata": {
    "ExecuteTime": {
     "end_time": "2022-12-27T08:35:47.953096Z",
     "start_time": "2022-12-27T08:35:47.942299Z"
    }
   },
   "outputs": [],
   "source": [
    "reduced_gismo = Gismo(reduced_corpus, reduced_author_embedding)"
   ]
  },
  {
   "cell_type": "markdown",
   "metadata": {},
   "source": [
    "Ranking is nearly instant."
   ]
  },
  {
   "cell_type": "code",
   "execution_count": 25,
   "metadata": {
    "ExecuteTime": {
     "end_time": "2022-12-27T08:35:48.030974Z",
     "start_time": "2022-12-27T08:35:47.957629Z"
    }
   },
   "outputs": [
    {
     "data": {
      "text/plain": [
       "True"
      ]
     },
     "execution_count": 25,
     "metadata": {},
     "output_type": "execute_result"
    }
   ],
   "source": [
    "reduced_gismo.rank(\"Fabien_Mathieu\")"
   ]
  },
  {
   "cell_type": "markdown",
   "metadata": {},
   "source": [
    "The results are almost identical to what was returned by the full Gismo."
   ]
  },
  {
   "cell_type": "code",
   "execution_count": 26,
   "metadata": {
    "ExecuteTime": {
     "end_time": "2022-12-27T08:35:48.077302Z",
     "start_time": "2022-12-27T08:35:48.033979Z"
    }
   },
   "outputs": [
    {
     "name": "stdout",
     "output_type": "stream",
     "text": [
      " F: 0.02. R: 0.26. S: 0.71.\n",
      "- F: 0.03. R: 0.25. S: 0.70.\n",
      "-- F: 0.05. R: 0.24. S: 0.69.\n",
      "--- F: 0.07. R: 0.19. S: 0.61.\n",
      "---- F: 0.25. R: 0.18. S: 0.55.\n",
      "----- F: 0.30. R: 0.18. S: 0.58.\n",
      "------ F: 0.41. R: 0.15. S: 0.82.\n",
      "------- Fabien_Mathieu (R: 0.11; S: 1.00)\n",
      "------- F: 0.60. R: 0.04. S: 0.43.\n",
      "-------- Laurent_Viennot (R: 0.02; S: 0.46)\n",
      "-------- F: 0.69. R: 0.02. S: 0.36.\n",
      "--------- Diego_Perino (R: 0.01; S: 0.41)\n",
      "--------- Yacine_Boufkhad (R: 0.01; S: 0.29)\n",
      "------ F: 0.77. R: 0.03. S: 0.36.\n",
      "------- Julien_Reynier (R: 0.01; S: 0.37)\n",
      "------- Fabien_de_Montgolfier (R: 0.01; S: 0.37)\n",
      "------- Anh-Tuan_Gai (R: 0.01; S: 0.29)\n",
      "----- Gheorghe_Postelnicu (R: 0.00; S: 0.19)\n",
      "---- F: 0.33. R: 0.01. S: 0.29.\n",
      "----- The_Dang_Huynh (R: 0.01; S: 0.28)\n",
      "----- Dohy_Hong (R: 0.00; S: 0.18)\n",
      "--- F: 0.39. R: 0.02. S: 0.34.\n",
      "---- F: 0.58. R: 0.02. S: 0.33.\n",
      "----- Céline_Comte (R: 0.01; S: 0.32)\n",
      "----- Thomas_Bonald (R: 0.01; S: 0.24)\n",
      "---- Anne_Bouillard (R: 0.00; S: 0.21)\n",
      "--- F: 0.57. R: 0.02. S: 0.29.\n",
      "---- F: 0.94. R: 0.02. S: 0.32.\n",
      "----- François_Durand (R: 0.01; S: 0.32)\n",
      "----- Ludovic_Noirie (R: 0.01; S: 0.34)\n",
      "---- Benoît_Kloeckner (R: 0.00; S: 0.18)\n",
      "--- Nidhi_Hegde_0001 (R: 0.00; S: 0.21)\n",
      "-- F: 1.00. R: 0.01. S: 0.24.\n",
      "--- Ilkka_Norros (R: 0.01; S: 0.24)\n",
      "--- François_Baccelli (R: 0.00; S: 0.24)\n",
      "- Mohamed_Bouklit (R: 0.01; S: 0.19)\n"
     ]
    }
   ],
   "source": [
    "from gismo.post_processing import post_features_cluster_print\n",
    "reduced_gismo.post_features_cluster = post_features_cluster_print\n",
    "reduced_gismo.get_features_by_cluster()"
   ]
  },
  {
   "cell_type": "markdown",
   "metadata": {},
   "source": [
    "#### Word Embedding"
   ]
  },
  {
   "cell_type": "markdown",
   "metadata": {},
   "source": [
    "Now we build the word embedding, with the spacy add-on. Takes a couple of minutes instead of a couple of hours."
   ]
  },
  {
   "cell_type": "code",
   "execution_count": 27,
   "metadata": {
    "ExecuteTime": {
     "end_time": "2022-12-27T08:35:51.935185Z",
     "start_time": "2022-12-27T08:35:48.083200Z"
    }
   },
   "outputs": [],
   "source": [
    "import spacy\n",
    "# Initialize spacy 'en' model, keeping only tagger component needed for lemmatization\n",
    "nlp = spacy.load('en_core_web_sm', disable=['parser', 'ner'])\n",
    "# Who cares about DET and such?\n",
    "keep = {'ADJ', 'NOUN', 'NUM', 'PROPN', 'SYM', 'VERB'}\n",
    "\n",
    "preprocessor=lambda txt: \" \".join([token.lemma_.lower() for token in nlp(txt) \n",
    "                                   if token.pos_ in keep and not token.is_stop])\n",
    "vectorizer_text = CountVectorizer(dtype=float, min_df=5, max_df=.02, ngram_range=(1, 3), preprocessor=preprocessor)"
   ]
  },
  {
   "cell_type": "code",
   "execution_count": 28,
   "metadata": {
    "ExecuteTime": {
     "end_time": "2022-12-27T08:39:09.396370Z",
     "start_time": "2022-12-27T08:35:51.939673Z"
    }
   },
   "outputs": [],
   "source": [
    "reduced_corpus.to_text = lambda e: e['title']\n",
    "reduced_word_embedding = Embedding(vectorizer=vectorizer_text)\n",
    "reduced_word_embedding.fit_transform(reduced_corpus)"
   ]
  },
  {
   "cell_type": "markdown",
   "metadata": {},
   "source": [
    "#### Gathering pieces together"
   ]
  },
  {
   "cell_type": "markdown",
   "metadata": {},
   "source": [
    "We can combine the reduced embeddings to build a XGismo between authors and words."
   ]
  },
  {
   "cell_type": "code",
   "execution_count": 29,
   "metadata": {
    "ExecuteTime": {
     "end_time": "2022-12-27T08:39:09.505419Z",
     "start_time": "2022-12-27T08:39:09.399804Z"
    }
   },
   "outputs": [],
   "source": [
    "from gismo.gismo import XGismo\n",
    "xgismo = XGismo(x_embedding=reduced_author_embedding, y_embedding=reduced_word_embedding)"
   ]
  },
  {
   "cell_type": "markdown",
   "metadata": {},
   "source": [
    "We can save this for later use."
   ]
  },
  {
   "cell_type": "code",
   "execution_count": 30,
   "metadata": {
    "ExecuteTime": {
     "end_time": "2022-12-27T08:39:10.195495Z",
     "start_time": "2022-12-27T08:39:09.507932Z"
    }
   },
   "outputs": [],
   "source": [
    "xgismo.save(filename=\"reduced_lincs_xgismo\", path=path, erase=True)"
   ]
  },
  {
   "cell_type": "markdown",
   "metadata": {},
   "source": [
    "The file should be about 53 Mb, whereas a full-size DBLP XGismo is about 4 Gb. What about speed and quality of results?"
   ]
  },
  {
   "cell_type": "code",
   "execution_count": 31,
   "metadata": {
    "ExecuteTime": {
     "end_time": "2022-12-27T08:39:10.461020Z",
     "start_time": "2022-12-27T08:39:10.197964Z"
    }
   },
   "outputs": [
    {
     "data": {
      "text/plain": [
       "True"
      ]
     },
     "execution_count": 31,
     "metadata": {},
     "output_type": "execute_result"
    }
   ],
   "source": [
    "xgismo.rank(\"Anne_Bouillard\", y=False)"
   ]
  },
  {
   "cell_type": "code",
   "execution_count": 32,
   "metadata": {
    "ExecuteTime": {
     "end_time": "2022-12-27T08:39:10.476441Z",
     "start_time": "2022-12-27T08:39:10.462953Z"
    }
   },
   "outputs": [
    {
     "data": {
      "text/plain": [
       "['Anne_Bouillard',\n",
       " 'Paul_Nikolaus',\n",
       " 'Jens_B._Schmitt',\n",
       " 'Bruno_Gaujal',\n",
       " 'Steffen_Bondorf',\n",
       " 'Albert_Benveniste',\n",
       " 'Sidney_Rosario',\n",
       " 'Seyed_Mohammadhossein_Tabatabaee',\n",
       " 'Fabien_Geyer',\n",
       " 'Jean-Yves_Le_Boudec',\n",
       " 'Stefan_Haar',\n",
       " 'Ana_Busic',\n",
       " 'Claude_Jard',\n",
       " 'Giovanni_Stea',\n",
       " 'Jean_Mairesse',\n",
       " 'Eric_Thierry',\n",
       " 'Nico_M._van_Dijk',\n",
       " 'Sean_P._Meyn',\n",
       " 'Zhen_Liu_0001',\n",
       " 'Eitan_Altman',\n",
       " 'François_Baccelli',\n",
       " 'Aurore_Junier']"
      ]
     },
     "execution_count": 32,
     "metadata": {},
     "output_type": "execute_result"
    }
   ],
   "source": [
    "xgismo.get_documents_by_rank()"
   ]
  },
  {
   "cell_type": "markdown",
   "metadata": {},
   "source": [
    "Let's try some more elaborate display."
   ]
  },
  {
   "cell_type": "code",
   "execution_count": 33,
   "metadata": {
    "ExecuteTime": {
     "end_time": "2022-12-27T08:39:10.522015Z",
     "start_time": "2022-12-27T08:39:10.480038Z"
    }
   },
   "outputs": [
    {
     "name": "stdout",
     "output_type": "stream",
     "text": [
      " F: 0.03. R: 0.10. S: 0.76.\n",
      "- F: 0.08. R: 0.08. S: 0.71.\n",
      "-- F: 0.51. R: 0.07. S: 0.70.\n",
      "--- F: 0.69. R: 0.06. S: 0.69.\n",
      "---- F: 0.80. R: 0.06. S: 0.68.\n",
      "----- F: 0.92. R: 0.06. S: 0.68.\n",
      "------ Anne_Bouillard (R: 0.02; S: 0.80)\n",
      "------ Paul_Nikolaus (R: 0.01; S: 0.68)\n",
      "------ Jens_B._Schmitt (R: 0.01; S: 0.68)\n",
      "------ Steffen_Bondorf (R: 0.00; S: 0.63)\n",
      "------ Seyed_Mohammadhossein_Tabatabaee (R: 0.00; S: 0.63)\n",
      "------ Fabien_Geyer (R: 0.00; S: 0.64)\n",
      "------ Jean-Yves_Le_Boudec (R: 0.00; S: 0.68)\n",
      "------ Eric_Thierry (R: 0.00; S: 0.69)\n",
      "----- Bruno_Gaujal (R: 0.01; S: 0.72)\n",
      "---- Giovanni_Stea (R: 0.00; S: 0.66)\n",
      "--- Aurore_Junier (R: 0.00; S: 0.51)\n",
      "-- F: 0.42. R: 0.02. S: 0.42.\n",
      "--- F: 0.48. R: 0.01. S: 0.39.\n",
      "---- Ana_Busic (R: 0.00; S: 0.33)\n",
      "---- F: 0.52. R: 0.00. S: 0.28.\n",
      "----- Nico_M._van_Dijk (R: 0.00; S: 0.23)\n",
      "----- Zhen_Liu_0001 (R: 0.00; S: 0.31)\n",
      "---- F: 0.73. R: 0.01. S: 0.34.\n",
      "----- Sean_P._Meyn (R: 0.00; S: 0.25)\n",
      "----- Eitan_Altman (R: 0.00; S: 0.42)\n",
      "----- François_Baccelli (R: 0.00; S: 0.30)\n",
      "--- Jean_Mairesse (R: 0.00; S: 0.31)\n",
      "- F: 0.90. R: 0.01. S: 0.29.\n",
      "-- F: 0.98. R: 0.01. S: 0.29.\n",
      "--- Albert_Benveniste (R: 0.00; S: 0.28)\n",
      "--- Sidney_Rosario (R: 0.00; S: 0.28)\n",
      "--- Stefan_Haar (R: 0.00; S: 0.32)\n",
      "-- Claude_Jard (R: 0.00; S: 0.32)\n"
     ]
    }
   ],
   "source": [
    "from gismo.post_processing import post_documents_cluster_print, post_features_cluster_print\n",
    "xgismo.parameters.distortion = 1.0\n",
    "xgismo.post_documents_cluster = post_documents_cluster_print\n",
    "xgismo.post_features_cluster = post_features_cluster_print\n",
    "xgismo.get_documents_by_cluster()"
   ]
  },
  {
   "cell_type": "code",
   "execution_count": 34,
   "metadata": {
    "ExecuteTime": {
     "end_time": "2022-12-27T08:39:10.553060Z",
     "start_time": "2022-12-27T08:39:10.524979Z"
    }
   },
   "outputs": [
    {
     "name": "stdout",
     "output_type": "stream",
     "text": [
      " F: 0.35. R: 0.21. S: 0.91.\n",
      "- F: 0.49. R: 0.17. S: 0.88.\n",
      "-- F: 0.75. R: 0.13. S: 0.84.\n",
      "--- network calculus (R: 0.05; S: 0.87)\n",
      "--- calculus (R: 0.04; S: 0.87)\n",
      "--- stochastic network calculus (R: 0.02; S: 0.76)\n",
      "--- stochastic network (R: 0.01; S: 0.72)\n",
      "--- multiplexing (R: 0.01; S: 0.80)\n",
      "-- free choice (R: 0.01; S: 0.72)\n",
      "-- ospf (R: 0.01; S: 0.56)\n",
      "-- end (R: 0.01; S: 0.63)\n",
      "- orchestrations (R: 0.03; S: 0.51)\n",
      "- stochastic (R: 0.01; S: 0.51)\n"
     ]
    }
   ],
   "source": [
    "xgismo.get_features_by_cluster(target_k=1.5, resolution=.5, distortion=.5)"
   ]
  },
  {
   "cell_type": "markdown",
   "metadata": {},
   "source": [
    "## Rebuild landmarks"
   ]
  },
  {
   "cell_type": "markdown",
   "metadata": {},
   "source": [
    "### Lincs landmarks"
   ]
  },
  {
   "cell_type": "markdown",
   "metadata": {},
   "source": [
    "We can rebuild Lincs landmarks on the XGismo."
   ]
  },
  {
   "cell_type": "code",
   "execution_count": 35,
   "metadata": {
    "ExecuteTime": {
     "end_time": "2022-12-27T08:39:16.715369Z",
     "start_time": "2022-12-27T08:39:10.556087Z"
    }
   },
   "outputs": [
    {
     "name": "stderr",
     "output_type": "stream",
     "text": [
      "INFO:Gismo:Start computation of 41 landmarks.\n",
      "DEBUG:Gismo:Processing Alonso_Silva.\n",
      "DEBUG:Gismo:Landmarks of Alonso_Silva computed.\n",
      "DEBUG:Gismo:Processing Ana_Busic.\n",
      "DEBUG:Gismo:Landmarks of Ana_Busic computed.\n",
      "DEBUG:Gismo:Processing Anaïs_Vergne.\n",
      "DEBUG:Gismo:Landmarks of Anaïs_Vergne computed.\n",
      "DEBUG:Gismo:Processing Bartek_Blaszczyszyn.\n",
      "DEBUG:Gismo:Landmarks of Bartek_Blaszczyszyn computed.\n",
      "DEBUG:Gismo:Processing Chung_Shue_Chen.\n",
      "DEBUG:Gismo:Landmarks of Chung_Shue_Chen computed.\n",
      "DEBUG:Gismo:Processing Daniel_Kofman.\n",
      "DEBUG:Gismo:Landmarks of Daniel_Kofman computed.\n",
      "DEBUG:Gismo:Processing Eitan_Altman.\n",
      "DEBUG:Gismo:Landmarks of Eitan_Altman computed.\n",
      "DEBUG:Gismo:Processing François_Baccelli.\n",
      "DEBUG:Gismo:Landmarks of François_Baccelli computed.\n",
      "DEBUG:Gismo:Processing Laurent_Decreusefond.\n",
      "DEBUG:Gismo:Landmarks of Laurent_Decreusefond computed.\n",
      "DEBUG:Gismo:Processing Ludovic_Noirie.\n",
      "DEBUG:Gismo:Landmarks of Ludovic_Noirie computed.\n",
      "DEBUG:Gismo:Processing Makhlouf_Hadji.\n",
      "DEBUG:Gismo:Landmarks of Makhlouf_Hadji computed.\n",
      "DEBUG:Gismo:Processing Marc_Lelarge.\n",
      "DEBUG:Gismo:Landmarks of Marc_Lelarge computed.\n",
      "DEBUG:Gismo:Processing Marceau_Coupechoux.\n",
      "DEBUG:Gismo:Landmarks of Marceau_Coupechoux computed.\n",
      "DEBUG:Gismo:Processing Maria_Potop-Butucaru.\n",
      "DEBUG:Gismo:Landmarks of Maria_Potop-Butucaru computed.\n",
      "DEBUG:Gismo:Processing Petr_Kuznetsov.\n",
      "DEBUG:Gismo:Landmarks of Petr_Kuznetsov computed.\n",
      "DEBUG:Gismo:Processing Philippe_Jacquet.\n",
      "DEBUG:Gismo:Landmarks of Philippe_Jacquet computed.\n",
      "DEBUG:Gismo:Processing Philippe_Martins.\n",
      "DEBUG:Gismo:Landmarks of Philippe_Martins computed.\n",
      "DEBUG:Gismo:Processing Renata_Teixeira.\n",
      "DEBUG:Gismo:Landmarks of Renata_Teixeira computed.\n",
      "DEBUG:Gismo:Processing Serge_Fdida.\n",
      "DEBUG:Gismo:Landmarks of Serge_Fdida computed.\n",
      "DEBUG:Gismo:Processing Sébastien_Tixeuil.\n",
      "DEBUG:Gismo:Landmarks of Sébastien_Tixeuil computed.\n",
      "DEBUG:Gismo:Processing Thomas_Bonald.\n",
      "DEBUG:Gismo:Landmarks of Thomas_Bonald computed.\n",
      "DEBUG:Gismo:Processing Timur_Friedman.\n",
      "DEBUG:Gismo:Landmarks of Timur_Friedman computed.\n",
      "DEBUG:Gismo:Processing Andrea_Araldo.\n",
      "DEBUG:Gismo:Landmarks of Andrea_Araldo computed.\n",
      "DEBUG:Gismo:Processing Andrea_Marcano.\n",
      "DEBUG:Gismo:Landmarks of Andrea_Marcano computed.\n",
      "DEBUG:Gismo:Processing Dimitrios_Milioris.\n",
      "DEBUG:Gismo:Landmarks of Dimitrios_Milioris computed.\n",
      "DEBUG:Gismo:Processing Elie_de_Panafieu.\n",
      "DEBUG:Gismo:Landmarks of Elie_de_Panafieu computed.\n",
      "DEBUG:Gismo:Processing Fabio_Pianese.\n",
      "DEBUG:Gismo:Landmarks of Fabio_Pianese computed.\n",
      "DEBUG:Gismo:Processing Francesca_Bassi.\n",
      "DEBUG:Gismo:Landmarks of Francesca_Bassi computed.\n",
      "DEBUG:Gismo:Processing François_Durand.\n",
      "DEBUG:Gismo:Landmarks of François_Durand computed.\n",
      "DEBUG:Gismo:Processing Joaquin_Garcia.\n",
      "DEBUG:Gismo:Landmarks of Joaquin_Garcia computed.\n",
      "DEBUG:Gismo:Processing Leonardo_Linguaglossa.\n",
      "DEBUG:Gismo:Landmarks of Leonardo_Linguaglossa computed.\n",
      "DEBUG:Gismo:Processing Lorenzo_Maggi.\n",
      "DEBUG:Gismo:Landmarks of Lorenzo_Maggi computed.\n",
      "DEBUG:Gismo:Processing Luis_Uzeda_Garcia.\n",
      "DEBUG:Gismo:Landmarks of Luis_Uzeda_Garcia computed.\n",
      "DEBUG:Gismo:Processing Marc-Olivier_Buob.\n",
      "DEBUG:Gismo:Landmarks of Marc-Olivier_Buob computed.\n",
      "DEBUG:Gismo:Processing Mauro_Sozio.\n",
      "DEBUG:Gismo:Landmarks of Mauro_Sozio computed.\n",
      "DEBUG:Gismo:Processing Natalya_Rozhnova.\n",
      "DEBUG:Gismo:Landmarks of Natalya_Rozhnova computed.\n",
      "DEBUG:Gismo:Processing Rémi_Varloot.\n",
      "DEBUG:Gismo:Landmarks of Rémi_Varloot computed.\n",
      "DEBUG:Gismo:Processing Sara_Ayoubi.\n",
      "DEBUG:Gismo:Landmarks of Sara_Ayoubi computed.\n",
      "DEBUG:Gismo:Processing Stefano_Paris.\n",
      "DEBUG:Gismo:Landmarks of Stefano_Paris computed.\n",
      "DEBUG:Gismo:Processing Tianzhu_Zhang.\n",
      "DEBUG:Gismo:Landmarks of Tianzhu_Zhang computed.\n",
      "DEBUG:Gismo:Processing Tijani_Chahed.\n",
      "DEBUG:Gismo:Landmarks of Tijani_Chahed computed.\n",
      "INFO:Gismo:All landmarks are built.\n"
     ]
    }
   ],
   "source": [
    "lincs_landmarks = Landmarks(source=lincs, to_text=lambda x: x['dblp'],\n",
    "                           rank = lambda g, q: g.rank(q, y=False))\n",
    "lincs_landmarks.fit(xgismo)"
   ]
  },
  {
   "cell_type": "markdown",
   "metadata": {},
   "source": [
    "We can extract the Lincs researchers that the most similar to a given researcher (not necessarily from Lincs)."
   ]
  },
  {
   "cell_type": "code",
   "execution_count": 36,
   "metadata": {
    "ExecuteTime": {
     "end_time": "2022-12-27T08:39:16.871331Z",
     "start_time": "2022-12-27T08:39:16.717319Z"
    }
   },
   "outputs": [
    {
     "data": {
      "text/plain": [
       "['Elie de Panafieu',\n",
       " 'Ana Bušić',\n",
       " 'Remi Varloot',\n",
       " 'Marc-Olivier Buob',\n",
       " 'François Baccelli',\n",
       " 'Eitan Altman',\n",
       " 'Philippe Jacquet',\n",
       " 'Alonso Silva',\n",
       " 'Marc Lelarge',\n",
       " 'Dimitrios Milioris',\n",
       " 'Tijani Chahed',\n",
       " 'Bartek Blaszczyszyn',\n",
       " 'Thomas Bonald']"
      ]
     },
     "execution_count": 36,
     "metadata": {},
     "output_type": "execute_result"
    }
   ],
   "source": [
    "xgismo.rank(\"Anne_Bouillard\", y=False)\n",
    "lincs_landmarks.post_item = lambda l, i: l[i]['name']\n",
    "lincs_landmarks.get_landmarks_by_rank(xgismo)"
   ]
  },
  {
   "cell_type": "markdown",
   "metadata": {},
   "source": [
    "We can also use a keyword query, and organize the results in clusters."
   ]
  },
  {
   "cell_type": "code",
   "execution_count": 37,
   "metadata": {
    "ExecuteTime": {
     "end_time": "2022-12-27T08:39:17.041731Z",
     "start_time": "2022-12-27T08:39:16.874276Z"
    }
   },
   "outputs": [
    {
     "name": "stdout",
     "output_type": "stream",
     "text": [
      " F: 0.25. \n",
      "- Elie de Panafieu \n",
      "- F: 0.35. \n",
      "-- F: 0.36. \n",
      "--- Ana Bušić \n",
      "--- Remi Varloot \n",
      "--- Marc-Olivier Buob \n",
      "-- F: 0.53. \n",
      "--- François Baccelli \n",
      "--- Eitan Altman \n"
     ]
    }
   ],
   "source": [
    "xgismo.rank(\"Anne_Bouillard\", y=False)\n",
    "from gismo.post_processing import post_landmarks_cluster_print\n",
    "lincs_landmarks.post_cluster = post_landmarks_cluster_print\n",
    "lincs_landmarks.get_landmarks_by_cluster(xgismo, balance=.5, target_k=1.2)"
   ]
  },
  {
   "cell_type": "markdown",
   "metadata": {},
   "source": [
    "### ACM landmarks"
   ]
  },
  {
   "cell_type": "markdown",
   "metadata": {},
   "source": [
    "We can build other landmarks using the ACM categories. This will enable to describe things in term of categories."
   ]
  },
  {
   "cell_type": "code",
   "execution_count": 38,
   "metadata": {
    "ExecuteTime": {
     "end_time": "2022-12-27T08:39:17.072249Z",
     "start_time": "2022-12-27T08:39:17.043716Z"
    }
   },
   "outputs": [],
   "source": [
    "from gismo.datasets.acm import get_acm, flatten_acm\n",
    "acm = flatten_acm(get_acm(), min_size=10)"
   ]
  },
  {
   "cell_type": "code",
   "execution_count": 39,
   "metadata": {
    "ExecuteTime": {
     "end_time": "2022-12-27T08:39:17.088378Z",
     "start_time": "2022-12-27T08:39:17.076217Z"
    }
   },
   "outputs": [],
   "source": [
    "acm_landmarks = Landmarks(acm, to_text=lambda e: e['query'])"
   ]
  },
  {
   "cell_type": "code",
   "execution_count": 40,
   "metadata": {
    "ExecuteTime": {
     "end_time": "2022-12-27T08:39:33.489092Z",
     "start_time": "2022-12-27T08:39:17.092331Z"
    }
   },
   "outputs": [
    {
     "name": "stderr",
     "output_type": "stream",
     "text": [
      "INFO:Gismo:Start computation of 113 landmarks.\n",
      "INFO:Gismo:All landmarks are built.\n"
     ]
    }
   ],
   "source": [
    "log.setLevel(logging.INFO)\n",
    "acm_landmarks.fit(xgismo)"
   ]
  },
  {
   "cell_type": "code",
   "execution_count": 41,
   "metadata": {
    "ExecuteTime": {
     "end_time": "2022-12-27T08:39:33.645998Z",
     "start_time": "2022-12-27T08:39:33.493063Z"
    }
   },
   "outputs": [
    {
     "data": {
      "text/plain": [
       "['Graph theory',\n",
       " 'Discrete mathematics',\n",
       " 'Contextual software domains',\n",
       " 'Software organization and properties',\n",
       " 'Theory of computation',\n",
       " 'Architectures',\n",
       " 'Software system structures',\n",
       " 'Models of computation']"
      ]
     },
     "execution_count": 41,
     "metadata": {},
     "output_type": "execute_result"
    }
   ],
   "source": [
    "xgismo.rank(\"Fabien_Mathieu\", y=False)\n",
    "acm_landmarks.post_item = lambda l, i: l[i]['name']\n",
    "acm_landmarks.get_landmarks_by_rank(xgismo, balance=.5, target_k=1.2)"
   ]
  },
  {
   "cell_type": "code",
   "execution_count": 42,
   "metadata": {
    "ExecuteTime": {
     "end_time": "2022-12-27T08:39:33.771202Z",
     "start_time": "2022-12-27T08:39:33.648456Z"
    }
   },
   "outputs": [
    {
     "name": "stdout",
     "output_type": "stream",
     "text": [
      " F: 0.65. \n",
      "- F: 0.96. \n",
      "-- Discrete mathematics \n",
      "-- Graph theory \n",
      "- F: 0.74. \n",
      "-- F: 0.96. \n",
      "--- Symbolic and algebraic algorithms \n",
      "--- Symbolic and algebraic manipulation \n",
      "--- Numerical analysis \n",
      "--- Mathematical analysis \n",
      "-- F: 0.92. \n",
      "--- Mathematics of computing \n",
      "--- Data structures \n",
      "--- Design and analysis of algorithms \n",
      "--- Models of computation \n",
      "--- Theory of computation \n"
     ]
    }
   ],
   "source": [
    "xgismo.rank(\"combinatorics\")\n",
    "acm_landmarks.post_cluster = post_landmarks_cluster_print\n",
    "acm_landmarks.get_landmarks_by_cluster(xgismo, balance=.5, target_k=1.5)"
   ]
  },
  {
   "cell_type": "markdown",
   "metadata": {},
   "source": [
    "Note that we fully ignore the original ACM category hierarchy. Instead, Gismo builds its own hierarchy tailored to the query."
   ]
  },
  {
   "cell_type": "markdown",
   "metadata": {},
   "source": [
    "### Combining landmarks"
   ]
  },
  {
   "cell_type": "markdown",
   "metadata": {},
   "source": [
    "Through the ``post_processing`` methods, we can intricate multiple landmarks. For example, the following method associates Lincs researchers and keywords to a tree of ACM categories."
   ]
  },
  {
   "cell_type": "code",
   "execution_count": 43,
   "metadata": {
    "ExecuteTime": {
     "end_time": "2022-12-27T08:39:33.786718Z",
     "start_time": "2022-12-27T08:39:33.775180Z"
    }
   },
   "outputs": [],
   "source": [
    "from gismo.common import auto_k\n",
    "import numpy as np\n",
    "def post_cluster_acm(l, cluster, depth=0, kw_size=.3, mts_size=.5):\n",
    "    tk_kw = 1/kw_size\n",
    "    tk_mts = 1/mts_size\n",
    "    n = l.x_direction.shape[0]\n",
    "\n",
    "    kws_view = cluster.vector[0, n:]\n",
    "    k = auto_k(data=kws_view.data, max_k=100, target=tk_kw)\n",
    "    keywords = [xgismo.embedding.features[i] \n",
    "                for i in kws_view.indices[np.argsort(-kws_view.data)[:k]]]\n",
    "\n",
    "    if len(cluster.children) > 0:\n",
    "        print(f\"|{'-'*depth}\")\n",
    "        for c in cluster.children:\n",
    "            post_cluster_acm(l, c, depth=depth+1)\n",
    "    else:\n",
    "        domain = l[cluster.indice]['name']\n",
    "        researchers = \", \".join(lincs_landmarks.get_landmarks_by_rank(cluster, \n",
    "                                                          target_k=tk_mts,\n",
    "                                                        distortion=0.5))    \n",
    "        print(f\"|{'-'*depth} {domain} ({researchers}) ({', '.join(keywords)})\")\n"
   ]
  },
  {
   "cell_type": "code",
   "execution_count": 44,
   "metadata": {
    "ExecuteTime": {
     "end_time": "2022-12-27T08:39:33.955760Z",
     "start_time": "2022-12-27T08:39:33.788887Z"
    }
   },
   "outputs": [
    {
     "name": "stdout",
     "output_type": "stream",
     "text": [
      "|\n",
      "|-\n",
      "|-- Discrete mathematics (Elie de Panafieu, Philippe Jacquet) (graph, combinatoric, analytic, random, analytic combinatoric)\n",
      "|-- Graph theory (Elie de Panafieu, Philippe Jacquet) (graph, random, complexity, analytic)\n",
      "|-\n",
      "|--\n",
      "|--- Symbolic and algebraic algorithms (Elie de Panafieu, Philippe Jacquet) (analytic, complexity, random, functions, graph)\n",
      "|--- Symbolic and algebraic manipulation (Elie de Panafieu, Philippe Jacquet) (analytic, complexity, random, graph, functions, function)\n",
      "|--- Numerical analysis (Elie de Panafieu, Philippe Jacquet) (complexity, gröbner basis, basis, gröbner, combinatoric, graph)\n",
      "|--- Mathematical analysis (Elie de Panafieu, Philippe Jacquet) (complexity, graph, random, analytic, basis, gröbner basis, gröbner, combinatoric)\n",
      "|--\n",
      "|--- Mathematics of computing (Elie de Panafieu, Philippe Jacquet) (graph, complexity, random, analytic, combinatoric)\n",
      "|--- Data structures (Philippe Jacquet, Elie de Panafieu) (graph, complexity, analytic, structure, random, datum)\n",
      "|--- Design and analysis of algorithms (Philippe Jacquet, Elie de Panafieu) (graph, complexity, random, analytic)\n",
      "|--- Models of computation (Philippe Jacquet, Elie de Panafieu) (complexity, graph, random, analytic)\n",
      "|--- Theory of computation (Philippe Jacquet, Elie de Panafieu) (graph, complexity, random, analytic)\n"
     ]
    }
   ],
   "source": [
    "xgismo.rank(\"combinatorics\")\n",
    "acm_landmarks.post_cluster = post_cluster_acm\n",
    "acm_landmarks.get_landmarks_by_cluster(xgismo, target_k=1.5)"
   ]
  },
  {
   "cell_type": "markdown",
   "metadata": {},
   "source": [
    "Conversely, one can associate ACM categories and keywords to a tree of Lincs researchers."
   ]
  },
  {
   "cell_type": "code",
   "execution_count": 45,
   "metadata": {
    "ExecuteTime": {
     "end_time": "2022-12-27T08:39:33.971868Z",
     "start_time": "2022-12-27T08:39:33.958065Z"
    }
   },
   "outputs": [],
   "source": [
    "def post_cluster_lincs(l, cluster, depth=0, kw_size=.3, acm_size=.5):\n",
    "    tk_kw = 1/kw_size\n",
    "    tk_acm = 1/acm_size\n",
    "    n = l.x_direction.shape[0]\n",
    "\n",
    "    kws_view = cluster.vector[0, n:]\n",
    "    k = auto_k(data=kws_view.data, max_k=100, target=tk_kw)\n",
    "    keywords = [xgismo.embedding.features[i] \n",
    "                for i in kws_view.indices[np.argsort(-kws_view.data)[:k]]]\n",
    "\n",
    "    if len(cluster.children) > 0:\n",
    "        print(f\"|{'-'*depth}\")\n",
    "        for c in cluster.children:\n",
    "            post_cluster_lincs(l, c, depth=depth+1)\n",
    "    else:\n",
    "        researcher = l[cluster.indice]['name']\n",
    "        domains = \", \".join(acm_landmarks.get_landmarks_by_rank(cluster, \n",
    "                                                          target_k=tk_acm,\n",
    "                                                        distortion=0.5))\n",
    "        print(f\"|{'-'*depth} {researcher} ({domains}) ({', '.join(keywords)})\")"
   ]
  },
  {
   "cell_type": "code",
   "execution_count": 46,
   "metadata": {
    "ExecuteTime": {
     "end_time": "2022-12-27T08:39:34.158234Z",
     "start_time": "2022-12-27T08:39:33.973805Z"
    }
   },
   "outputs": [
    {
     "name": "stdout",
     "output_type": "stream",
     "text": [
      "|\n",
      "|- Elie de Panafieu (Symbolic and algebraic algorithms, Symbolic and algebraic manipulation, Discrete mathematics, Models of computation, Mathematical analysis, Mathematics of computing, Graph theory, Design and analysis of algorithms, Theory of computation) (network calculus, calculus, analytic, combinatoric, analytic combinatoric, kernels)\n",
      "|-\n",
      "|-- Ana Bušić (Mathematical analysis, Machine learning algorithms, Mathematics of computing, Symbolic and algebraic algorithms, Symbolic and algebraic manipulation) (stochastic, exact, queue network, perfect, perfect sample, sampling, queue, matching, sample)\n",
      "|-- Remi Varloot (Symbolic and algebraic algorithms, Symbolic and algebraic manipulation, Discrete mathematics, Graph theory, Models of computation, Mathematical analysis, Design and analysis of algorithms, Mathematics of computing) (dynamics, glauber dynamics, glauber, random generation, independent sets, sets, independent, speed, generation)\n",
      "|-- Marc-Olivier Buob (Symbolic and algebraic algorithms) (space time, pattern, alarm, space, optimal routing, end, log, pattern matching, delays, logs, lightweight)\n",
      "|-- François Baccelli (Computer graphics) (stochastic, queue, end, delay, throughput)\n"
     ]
    }
   ],
   "source": [
    "xgismo.rank(\"Anne_Bouillard\", y=False)\n",
    "lincs_landmarks.post_cluster = post_cluster_lincs\n",
    "lincs_landmarks.get_landmarks_by_cluster(xgismo, target_k=1.4)"
   ]
  },
  {
   "cell_type": "markdown",
   "metadata": {},
   "source": [
    "That's all for this tutorial!"
   ]
  }
 ],
 "metadata": {
  "kernelspec": {
   "display_name": "Python 3 (ipykernel)",
   "language": "python",
   "name": "python3"
  },
  "language_info": {
   "codemirror_mode": {
    "name": "ipython",
    "version": 3
   },
   "file_extension": ".py",
   "mimetype": "text/x-python",
   "name": "python",
   "nbconvert_exporter": "python",
   "pygments_lexer": "ipython3",
   "version": "3.9.13"
  },
  "toc": {
   "base_numbering": 1,
   "nav_menu": {},
   "number_sections": true,
   "sideBar": true,
   "skip_h1_title": true,
   "title_cell": "Table of Contents",
   "title_sidebar": "Contents",
   "toc_cell": false,
   "toc_position": {},
   "toc_section_display": true,
   "toc_window_display": false
  }
 },
 "nbformat": 4,
 "nbformat_minor": 4
}
