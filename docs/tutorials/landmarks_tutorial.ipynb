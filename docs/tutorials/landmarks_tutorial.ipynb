{
 "cells": [
  {
   "cell_type": "markdown",
   "metadata": {},
   "source": [
    "# Landmarks Tutorial"
   ]
  },
  {
   "cell_type": "markdown",
   "metadata": {},
   "source": [
    "In this notebook, we will use the landmarks submodule of Gismo to give an interactive description of ACM topics and researchers of the https://www.lincs.fr laboratory.\n",
    "\n",
    "This notebook can be used as a blueprint to analyze other group of people under the scope of a topic classification.\n",
    "\n",
    "Before starting this topic, it is recommended to have looked at the [ACM](https://gismo.readthedocs.io/en/latest/tutorials/tutorial_acm.html) and [DBLP](https://gismo.readthedocs.io/en/latest/tutorials/tutorial_dblp.html) tutorials."
   ]
  },
  {
   "cell_type": "markdown",
   "metadata": {},
   "source": [
    "## Lincs Researchers"
   ]
  },
  {
   "cell_type": "markdown",
   "metadata": {},
   "source": [
    "In this section, we bind the LINCS researchers with their DBLP id."
   ]
  },
  {
   "cell_type": "markdown",
   "metadata": {},
   "source": [
    "### List of DBLP researchers"
   ]
  },
  {
   "cell_type": "markdown",
   "metadata": {},
   "source": [
    "First, we open the DBLP database (see the [DBLP Tutorial](https://gismo.readthedocs.io/en/latest/tutorials/tutorial_dblp.html) to get your copy of the database)."
   ]
  },
  {
   "cell_type": "code",
   "execution_count": 1,
   "metadata": {
    "ExecuteTime": {
     "end_time": "2020-07-23T20:58:22.818142Z",
     "start_time": "2020-07-23T20:58:19.539278Z"
    }
   },
   "outputs": [],
   "source": [
    "from pathlib import Path\n",
    "\n",
    "p = Path(\"../../../../Datasets/xplorer\")\n",
    "\n",
    "from gismo.filesource import FileSource\n",
    "source = FileSource(filename=\"dblp\", path=p)"
   ]
  },
  {
   "cell_type": "markdown",
   "metadata": {},
   "source": [
    "``source`` is a list-like object whose entries are dicts that describe articles."
   ]
  },
  {
   "cell_type": "code",
   "execution_count": 2,
   "metadata": {
    "ExecuteTime": {
     "end_time": "2020-07-23T20:58:22.830050Z",
     "start_time": "2020-07-23T20:58:22.821069Z"
    }
   },
   "outputs": [
    {
     "data": {
      "text/plain": [
       "{'type': 'article',\n",
       " 'title': 'CAIM Discretization Algorithm.',\n",
       " 'year': '2004',\n",
       " 'venue': 'IEEE Trans. Knowl. Data Eng.',\n",
       " 'authors': ['Lukasz A. Kurgan', 'Krzysztof J. Cios']}"
      ]
     },
     "execution_count": 2,
     "metadata": {},
     "output_type": "execute_result"
    }
   ],
   "source": [
    "source[1234567]"
   ]
  },
  {
   "cell_type": "markdown",
   "metadata": {},
   "source": [
    "Let's extract the set of authors. Each author is lowered and spaces are replaced with underscore for better later processing."
   ]
  },
  {
   "cell_type": "code",
   "execution_count": 3,
   "metadata": {
    "ExecuteTime": {
     "end_time": "2020-07-23T20:59:16.116906Z",
     "start_time": "2020-07-23T20:58:22.832051Z"
    }
   },
   "outputs": [],
   "source": [
    "dblp_authors = {a.lower().replace(\" \", \"_\") for paper in source for a in paper['authors']}"
   ]
  },
  {
   "cell_type": "code",
   "execution_count": 4,
   "metadata": {
    "ExecuteTime": {
     "end_time": "2020-07-23T20:59:16.124839Z",
     "start_time": "2020-07-23T20:59:16.118848Z"
    }
   },
   "outputs": [
    {
     "data": {
      "text/plain": [
       "True"
      ]
     },
     "execution_count": 4,
     "metadata": {},
     "output_type": "execute_result"
    }
   ],
   "source": [
    "\"fabien_mathieu\" in dblp_authors"
   ]
  },
  {
   "cell_type": "code",
   "execution_count": 5,
   "metadata": {
    "ExecuteTime": {
     "end_time": "2020-07-23T20:59:16.132841Z",
     "start_time": "2020-07-23T20:59:16.126839Z"
    }
   },
   "outputs": [
    {
     "data": {
      "text/plain": [
       "False"
      ]
     },
     "execution_count": 5,
     "metadata": {},
     "output_type": "execute_result"
    }
   ],
   "source": [
    "\"fabin_mathieu\" in dblp_authors"
   ]
  },
  {
   "cell_type": "markdown",
   "metadata": {},
   "source": [
    "### List of Lincs Members"
   ]
  },
  {
   "cell_type": "markdown",
   "metadata": {},
   "source": [
    "First we get a copy of the LINCS webpage that tells its researchers and feed it to BeautifulSoup"
   ]
  },
  {
   "cell_type": "code",
   "execution_count": 6,
   "metadata": {
    "ExecuteTime": {
     "end_time": "2020-07-23T20:59:20.336003Z",
     "start_time": "2020-07-23T20:59:16.134845Z"
    }
   },
   "outputs": [],
   "source": [
    "import requests\n",
    "from bs4 import BeautifulSoup as bs\n",
    "soup = bs(requests.get('https://www.lincs.fr/people/').text)"
   ]
  },
  {
   "cell_type": "markdown",
   "metadata": {},
   "source": [
    "We make a function to convert table rows of the HTML page into researcher dict. Each dict will have a *name* (display name) and a *dblp* (DBLP id) entry."
   ]
  },
  {
   "cell_type": "code",
   "execution_count": 7,
   "metadata": {
    "ExecuteTime": {
     "end_time": "2020-07-23T20:59:20.346931Z",
     "start_time": "2020-07-23T20:59:20.337931Z"
    }
   },
   "outputs": [],
   "source": [
    "# difflib will allow to cope with possible typos\n",
    "from difflib import get_close_matches\n",
    "def row2dict(row, dblp_authors, manual=None):\n",
    "    \"\"\"\n",
    "    Soup 2 dict conversion\n",
    "    \n",
    "    Parameters\n",
    "    ----------\n",
    "    line: soup\n",
    "        The row to convert\n",
    "    dblp_authors: set\n",
    "        The list of DBLP authors\n",
    "    manual: dict\n",
    "        Manual associations between name and id\n",
    "        \n",
    "    Returns\n",
    "    -------\n",
    "    dict\n",
    "        A dict shaped like {'name': \"John Doe\", 'dblp': \"john_doe\"}\n",
    "    \"\"\"\n",
    "    if manual is None:\n",
    "        manual = {}\n",
    "    # name extraction\n",
    "    row = row('td')[1]\n",
    "    name = row.text\n",
    "    # manual association\n",
    "    if name in manual:\n",
    "        return {'name': name, 'dblp': manual[name]}\n",
    "    # Attempt direct transformation\n",
    "    dblp = name.lower().replace(\" \", \"_\")\n",
    "    # If result exists in dblp, return that\n",
    "    if dblp in dblp_authors:\n",
    "        return {'name': name, 'dblp': dblp}\n",
    "    # Attempt to use the lincs automatic URL to infer dblp name\n",
    "    a = row.a\n",
    "    if a:\n",
    "        href = a['href'].split('?more=')[1]\n",
    "        if href in dblp_authors:\n",
    "            return {'name': name, 'dblp': href}\n",
    "    # last chance: subselect potential candidates that share the same last name and use difflib to guess the good answer.\n",
    "    print(f\"No direct dblp entry found for {name}, start fuzzy search\")\n",
    "    last_name = name.split()[-1]\n",
    "    candidates = [a for a in dblp_authors if last_name.lower() in a]\n",
    "    candidates = get_close_matches(name.lower().replace(\" \", \"_\"), candidates, cutoff=0.3)\n",
    "    if len(candidates)>0:\n",
    "        print(f\"Found candidate(s): {candidates}\")\n",
    "        dblp = candidates[0]\n",
    "        return {'name': name, 'dblp': dblp}\n",
    "    # If all failed, return empty id\n",
    "    return {'name': name, 'dblp': \"\"}"
   ]
  },
  {
   "cell_type": "markdown",
   "metadata": {},
   "source": [
    "The manual override below was actually populated by executing the cell afterwards and iterating until all things were OK."
   ]
  },
  {
   "cell_type": "code",
   "execution_count": 8,
   "metadata": {
    "ExecuteTime": {
     "end_time": "2020-07-23T20:59:20.355973Z",
     "start_time": "2020-07-23T20:59:20.349930Z"
    }
   },
   "outputs": [],
   "source": [
    "manual = {\"Giovanni Pau\": \"giovanni_pau_0001\",\n",
    "         \"Luis Uzeda Garcia\": \"luis_guilherme_uzeda_garcia\"}"
   ]
  },
  {
   "cell_type": "markdown",
   "metadata": {},
   "source": [
    "The actual construction of the list of LINCS researchers."
   ]
  },
  {
   "cell_type": "code",
   "execution_count": 9,
   "metadata": {
    "ExecuteTime": {
     "end_time": "2020-07-23T20:59:20.963975Z",
     "start_time": "2020-07-23T20:59:20.357931Z"
    }
   },
   "outputs": [
    {
     "name": "stdout",
     "output_type": "stream",
     "text": [
      "No direct dblp entry found for Salah Eddine Elayoubi, start fuzzy search\n",
      "Found candidate(s): ['salah-eddine_elayoubi']\n"
     ]
    }
   ],
   "source": [
    "lincs = [row2dict(line, dblp_authors, manual) for table in soup('table')[:2] for line in table('tr')]"
   ]
  },
  {
   "cell_type": "code",
   "execution_count": 10,
   "metadata": {
    "ExecuteTime": {
     "end_time": "2020-07-23T20:59:20.972936Z",
     "start_time": "2020-07-23T20:59:20.965984Z"
    }
   },
   "outputs": [
    {
     "data": {
      "text/plain": [
       "[{'name': 'Ana Bušić', 'dblp': 'ana_busic'},\n",
       " {'name': 'Anais Vergne', 'dblp': 'anais_vergne'},\n",
       " {'name': 'Bartek Blaszczyszyn', 'dblp': 'bartek_blaszczyszyn'},\n",
       " {'name': 'Chung Shue (Calvin) Chen', 'dblp': 'chung_shue_chen'},\n",
       " {'name': 'Daniel Kofman', 'dblp': 'daniel_kofman'},\n",
       " {'name': 'Eitan Altman', 'dblp': 'eitan_altman'},\n",
       " {'name': 'Fabien Mathieu', 'dblp': 'fabien_mathieu'},\n",
       " {'name': 'François Baccelli', 'dblp': 'françois_baccelli'},\n",
       " {'name': 'Laurent Decreusefond', 'dblp': 'laurent_decreusefond'},\n",
       " {'name': 'Laurent Viennot', 'dblp': 'laurent_viennot'},\n",
       " {'name': 'Luca Muscariello', 'dblp': 'luca_muscariello'},\n",
       " {'name': 'Ludovic Noirie', 'dblp': 'ludovic_noirie'},\n",
       " {'name': 'Makhlouf Hadji', 'dblp': 'makhlouf_hadji'},\n",
       " {'name': 'Marc Lelarge', 'dblp': 'marc_lelarge'},\n",
       " {'name': 'Marceau Coupechoux', 'dblp': 'marceau_coupechoux'},\n",
       " {'name': 'Petr Kuznetsov', 'dblp': 'petr_kuznetsov'},\n",
       " {'name': 'Philippe Jacquet', 'dblp': 'philippe_jacquet'},\n",
       " {'name': 'Philippe Martins', 'dblp': 'philippe_martins'},\n",
       " {'name': 'Renata Teixeira', 'dblp': 'renata_teixeira'},\n",
       " {'name': 'Salah Eddine Elayoubi', 'dblp': 'salah-eddine_elayoubi'},\n",
       " {'name': 'Serge Fdida', 'dblp': 'serge_fdida'},\n",
       " {'name': 'Sébastien Tixeuil', 'dblp': 'sébastien_tixeuil'},\n",
       " {'name': 'Thomas Bonald', 'dblp': 'thomas_bonald'},\n",
       " {'name': 'Timur Friedman', 'dblp': 'timur_friedman'},\n",
       " {'name': 'Alexandre Proutière', 'dblp': 'alexandre_proutière'},\n",
       " {'name': 'Andrea Marcano', 'dblp': 'andrea_marcano'},\n",
       " {'name': 'Dalia Popescu', 'dblp': 'dalia_popescu'},\n",
       " {'name': 'Dimitrios Milioris', 'dblp': 'dimitrios_milioris'},\n",
       " {'name': 'Elie de Panafieu', 'dblp': 'elie_de_panafieu'},\n",
       " {'name': 'Fabio Pianese', 'dblp': 'fabio_pianese'},\n",
       " {'name': 'Francesco Bronzino', 'dblp': 'francesco_bronzino'},\n",
       " {'name': 'François Durand', 'dblp': 'françois_durand'},\n",
       " {'name': 'Fuad Abinader', 'dblp': 'fuad_abinader'},\n",
       " {'name': 'Giovanni Pau', 'dblp': 'giovanni_pau_0001'},\n",
       " {'name': 'Laurent Massoulié', 'dblp': 'laurent_massoulié'},\n",
       " {'name': 'Lorenzo Maggi', 'dblp': 'lorenzo_maggi'},\n",
       " {'name': 'Luigi Iannone', 'dblp': 'luigi_iannone'},\n",
       " {'name': 'Luis Uzeda Garcia', 'dblp': 'luis_guilherme_uzeda_garcia'},\n",
       " {'name': 'Marc-Olivier Buob', 'dblp': 'marc-olivier_buob'},\n",
       " {'name': 'Maria Potop-Butucaru', 'dblp': 'maria_potop-butucaru'},\n",
       " {'name': 'Mauro Sozio', 'dblp': 'mauro_sozio'},\n",
       " {'name': 'Myriana Rifai', 'dblp': 'myriana_rifai'},\n",
       " {'name': 'Natalya Rozhnova', 'dblp': 'natalya_rozhnova'},\n",
       " {'name': 'Sara Ayoubi', 'dblp': 'sara_ayoubi'},\n",
       " {'name': 'Tijani Chahed', 'dblp': 'tijani_chahed'}]"
      ]
     },
     "execution_count": 10,
     "metadata": {},
     "output_type": "execute_result"
    }
   ],
   "source": [
    "lincs"
   ]
  },
  {
   "cell_type": "markdown",
   "metadata": {},
   "source": [
    "## DBLP Gismo"
   ]
  },
  {
   "cell_type": "markdown",
   "metadata": {},
   "source": [
    "In this Section, we use Landmarks to construct a small XGismo focused around the LINCS researchers. In details:\n",
    "- We construct a large Gismo between articles and researchers, exactly like in the DBLP tutorial;\n",
    "- We use landmarks to extract a (much smaller) list of articles based on collaboration proximity.\n",
    "- We build a XGismo between researchers and keywords from this smaller source."
   ]
  },
  {
   "cell_type": "markdown",
   "metadata": {},
   "source": [
    "### Construction of a full Gismo on authors"
   ]
  },
  {
   "cell_type": "markdown",
   "metadata": {},
   "source": [
    "This part is similar to the one from the DBLP tutorial."
   ]
  },
  {
   "cell_type": "code",
   "execution_count": 11,
   "metadata": {
    "ExecuteTime": {
     "end_time": "2020-07-23T20:59:21.002496Z",
     "start_time": "2020-07-23T20:59:20.975044Z"
    }
   },
   "outputs": [],
   "source": [
    "from gismo.corpus import Corpus\n",
    "from gismo.embedding import Embedding\n",
    "from gismo.gismo import Gismo\n",
    "from sklearn.feature_extraction.text import CountVectorizer\n",
    "vectorizer_author = CountVectorizer(dtype=float, preprocessor=lambda x:x, tokenizer=lambda x: x.split(' '))"
   ]
  },
  {
   "cell_type": "code",
   "execution_count": 12,
   "metadata": {
    "ExecuteTime": {
     "end_time": "2020-07-23T20:59:21.010494Z",
     "start_time": "2020-07-23T20:59:21.004493Z"
    }
   },
   "outputs": [],
   "source": [
    "def to_authors_text(dic):\n",
    "    return \" \".join([a.lower().replace(' ', '_') for a in dic['authors']])\n",
    "corpus = Corpus(source, to_text=to_authors_text)"
   ]
  },
  {
   "cell_type": "code",
   "execution_count": 13,
   "metadata": {
    "ExecuteTime": {
     "end_time": "2020-07-23T20:59:23.607917Z",
     "start_time": "2020-07-23T20:59:21.013495Z"
    }
   },
   "outputs": [],
   "source": [
    "try:\n",
    "    embedding = Embedding(filename=\"dblp_author_embedding\", path=p)\n",
    "except:\n",
    "    embedding = Embedding(vectorizer=vectorizer_author)\n",
    "    embedding.fit_transform(corpus)\n",
    "    embedding.save(filename=\"dblp_author_embedding\", path=p)"
   ]
  },
  {
   "cell_type": "code",
   "execution_count": 14,
   "metadata": {
    "ExecuteTime": {
     "end_time": "2020-07-23T20:59:23.614863Z",
     "start_time": "2020-07-23T20:59:23.609855Z"
    }
   },
   "outputs": [],
   "source": [
    "gismo = Gismo(corpus, embedding)"
   ]
  },
  {
   "cell_type": "markdown",
   "metadata": {},
   "source": [
    "Given the size of the dataset, processing a query can take about one second."
   ]
  },
  {
   "cell_type": "code",
   "execution_count": 15,
   "metadata": {
    "ExecuteTime": {
     "end_time": "2020-07-23T20:59:27.244223Z",
     "start_time": "2020-07-23T20:59:23.615856Z"
    }
   },
   "outputs": [
    {
     "data": {
      "text/plain": [
       "True"
      ]
     },
     "execution_count": 15,
     "metadata": {},
     "output_type": "execute_result"
    }
   ],
   "source": [
    "gismo.rank(\"fabien_mathieu\")"
   ]
  },
  {
   "cell_type": "code",
   "execution_count": 16,
   "metadata": {
    "ExecuteTime": {
     "end_time": "2020-07-23T20:59:27.567233Z",
     "start_time": "2020-07-23T20:59:27.246164Z"
    }
   },
   "outputs": [
    {
     "name": "stdout",
     "output_type": "stream",
     "text": [
      " F: 0.02. R: 0.26. S: 0.76.\n",
      "- F: 0.03. R: 0.25. S: 0.75.\n",
      "-- F: 0.04. R: 0.24. S: 0.74.\n",
      "--- F: 0.06. R: 0.22. S: 0.70.\n",
      "---- F: 0.07. R: 0.20. S: 0.64.\n",
      "----- F: 0.24. R: 0.18. S: 0.58.\n",
      "------ F: 0.29. R: 0.18. S: 0.60.\n",
      "------- F: 0.44. R: 0.15. S: 0.80.\n",
      "-------- fabien_mathieu (R: 0.11; S: 1.00)\n",
      "-------- F: 0.60. R: 0.04. S: 0.45.\n",
      "--------- laurent_viennot (R: 0.02; S: 0.48)\n",
      "--------- F: 0.70. R: 0.02. S: 0.38.\n",
      "---------- diego_perino (R: 0.02; S: 0.43)\n",
      "---------- yacine_boufkhad (R: 0.01; S: 0.30)\n",
      "------- F: 0.77. R: 0.03. S: 0.37.\n",
      "-------- julien_reynier (R: 0.01; S: 0.38)\n",
      "-------- fabien_de_montgolfier (R: 0.01; S: 0.39)\n",
      "-------- anh-tuan_gai (R: 0.01; S: 0.30)\n",
      "------ gheorghe_postelnicu (R: 0.00; S: 0.19)\n",
      "----- F: 0.33. R: 0.01. S: 0.30.\n",
      "------ the_dang_huynh (R: 0.01; S: 0.29)\n",
      "------ dohy_hong (R: 0.00; S: 0.18)\n",
      "----- nidhi_hegde (R: 0.00; S: 0.21)\n",
      "---- F: 0.93. R: 0.02. S: 0.33.\n",
      "----- ludovic_noirie (R: 0.01; S: 0.35)\n",
      "----- françois_durand (R: 0.01; S: 0.32)\n",
      "--- F: 0.48. R: 0.02. S: 0.30.\n",
      "---- F: 0.69. R: 0.01. S: 0.28.\n",
      "----- céline_comte (R: 0.01; S: 0.28)\n",
      "----- thomas_bonald (R: 0.01; S: 0.25)\n",
      "---- anne_bouillard (R: 0.00; S: 0.21)\n",
      "-- F: 1.00. R: 0.01. S: 0.24.\n",
      "--- ilkka_norros (R: 0.01; S: 0.24)\n",
      "--- françois_baccelli (R: 0.01; S: 0.24)\n",
      "- mohamed_bouklit (R: 0.01; S: 0.19)\n"
     ]
    }
   ],
   "source": [
    "from gismo.post_processing import post_features_cluster_print\n",
    "gismo.post_features_cluster = post_features_cluster_print\n",
    "gismo.get_features_by_cluster()"
   ]
  },
  {
   "cell_type": "markdown",
   "metadata": {},
   "source": [
    "### Using landmarks to shrink a source"
   ]
  },
  {
   "cell_type": "markdown",
   "metadata": {},
   "source": [
    "To reduce the size of the dataset, we make landmarks out of the researchers, and we credit each entry with a budget of 2,000 articles."
   ]
  },
  {
   "cell_type": "code",
   "execution_count": 17,
   "metadata": {
    "ExecuteTime": {
     "end_time": "2020-07-23T20:59:27.574232Z",
     "start_time": "2020-07-23T20:59:27.569232Z"
    }
   },
   "outputs": [],
   "source": [
    "from gismo.landmarks import Landmarks\n",
    "lincs_landmarks_full = Landmarks(source=lincs, to_text=lambda x: x['dblp'], \n",
    "                                 x_density=2000)"
   ]
  },
  {
   "cell_type": "markdown",
   "metadata": {},
   "source": [
    "We launch the computation of the source. This takes a couple of minutes, as a ranking diffusion needs to be performed for all researchers."
   ]
  },
  {
   "cell_type": "code",
   "execution_count": 18,
   "metadata": {
    "ExecuteTime": {
     "end_time": "2020-07-23T20:59:27.590266Z",
     "start_time": "2020-07-23T20:59:27.575230Z"
    }
   },
   "outputs": [],
   "source": [
    "import logging\n",
    "logging.basicConfig()\n",
    "log = logging.getLogger(\"Gismo\")\n",
    "log.setLevel(level=logging.DEBUG)"
   ]
  },
  {
   "cell_type": "code",
   "execution_count": 19,
   "metadata": {
    "ExecuteTime": {
     "end_time": "2020-07-23T21:01:10.881789Z",
     "start_time": "2020-07-23T20:59:27.592252Z"
    }
   },
   "outputs": [
    {
     "name": "stderr",
     "output_type": "stream",
     "text": [
      "INFO:Gismo:Start computation of 45 landmarks.\n",
      "DEBUG:Gismo:Processing ana_busic.\n",
      "DEBUG:Gismo:Landmarks of ana_busic computed.\n",
      "DEBUG:Gismo:Processing anais_vergne.\n",
      "DEBUG:Gismo:Landmarks of anais_vergne computed.\n",
      "DEBUG:Gismo:Processing bartek_blaszczyszyn.\n",
      "DEBUG:Gismo:Landmarks of bartek_blaszczyszyn computed.\n",
      "DEBUG:Gismo:Processing chung_shue_chen.\n",
      "DEBUG:Gismo:Landmarks of chung_shue_chen computed.\n",
      "DEBUG:Gismo:Processing daniel_kofman.\n",
      "DEBUG:Gismo:Landmarks of daniel_kofman computed.\n",
      "DEBUG:Gismo:Processing eitan_altman.\n",
      "DEBUG:Gismo:Landmarks of eitan_altman computed.\n",
      "DEBUG:Gismo:Processing fabien_mathieu.\n",
      "DEBUG:Gismo:Landmarks of fabien_mathieu computed.\n",
      "DEBUG:Gismo:Processing françois_baccelli.\n",
      "DEBUG:Gismo:Landmarks of françois_baccelli computed.\n",
      "DEBUG:Gismo:Processing laurent_decreusefond.\n",
      "DEBUG:Gismo:Landmarks of laurent_decreusefond computed.\n",
      "DEBUG:Gismo:Processing laurent_viennot.\n",
      "DEBUG:Gismo:Landmarks of laurent_viennot computed.\n",
      "DEBUG:Gismo:Processing luca_muscariello.\n",
      "DEBUG:Gismo:Landmarks of luca_muscariello computed.\n",
      "DEBUG:Gismo:Processing ludovic_noirie.\n",
      "DEBUG:Gismo:Landmarks of ludovic_noirie computed.\n",
      "DEBUG:Gismo:Processing makhlouf_hadji.\n",
      "DEBUG:Gismo:Landmarks of makhlouf_hadji computed.\n",
      "DEBUG:Gismo:Processing marc_lelarge.\n",
      "DEBUG:Gismo:Landmarks of marc_lelarge computed.\n",
      "DEBUG:Gismo:Processing marceau_coupechoux.\n",
      "DEBUG:Gismo:Landmarks of marceau_coupechoux computed.\n",
      "DEBUG:Gismo:Processing petr_kuznetsov.\n",
      "DEBUG:Gismo:Landmarks of petr_kuznetsov computed.\n",
      "DEBUG:Gismo:Processing philippe_jacquet.\n",
      "DEBUG:Gismo:Landmarks of philippe_jacquet computed.\n",
      "DEBUG:Gismo:Processing philippe_martins.\n",
      "DEBUG:Gismo:Landmarks of philippe_martins computed.\n",
      "DEBUG:Gismo:Processing renata_teixeira.\n",
      "DEBUG:Gismo:Landmarks of renata_teixeira computed.\n",
      "DEBUG:Gismo:Processing salah-eddine_elayoubi.\n",
      "DEBUG:Gismo:Landmarks of salah-eddine_elayoubi computed.\n",
      "DEBUG:Gismo:Processing serge_fdida.\n",
      "DEBUG:Gismo:Landmarks of serge_fdida computed.\n",
      "DEBUG:Gismo:Processing sébastien_tixeuil.\n",
      "DEBUG:Gismo:Landmarks of sébastien_tixeuil computed.\n",
      "DEBUG:Gismo:Processing thomas_bonald.\n",
      "DEBUG:Gismo:Landmarks of thomas_bonald computed.\n",
      "DEBUG:Gismo:Processing timur_friedman.\n",
      "DEBUG:Gismo:Landmarks of timur_friedman computed.\n",
      "DEBUG:Gismo:Processing alexandre_proutière.\n",
      "DEBUG:Gismo:Landmarks of alexandre_proutière computed.\n",
      "DEBUG:Gismo:Processing andrea_marcano.\n",
      "DEBUG:Gismo:Landmarks of andrea_marcano computed.\n",
      "DEBUG:Gismo:Processing dalia_popescu.\n",
      "DEBUG:Gismo:Landmarks of dalia_popescu computed.\n",
      "DEBUG:Gismo:Processing dimitrios_milioris.\n",
      "DEBUG:Gismo:Landmarks of dimitrios_milioris computed.\n",
      "DEBUG:Gismo:Processing elie_de_panafieu.\n",
      "DEBUG:Gismo:Landmarks of elie_de_panafieu computed.\n",
      "DEBUG:Gismo:Processing fabio_pianese.\n",
      "DEBUG:Gismo:Landmarks of fabio_pianese computed.\n",
      "DEBUG:Gismo:Processing francesco_bronzino.\n",
      "DEBUG:Gismo:Landmarks of francesco_bronzino computed.\n",
      "DEBUG:Gismo:Processing françois_durand.\n",
      "DEBUG:Gismo:Landmarks of françois_durand computed.\n",
      "DEBUG:Gismo:Processing fuad_abinader.\n",
      "DEBUG:Gismo:Landmarks of fuad_abinader computed.\n",
      "DEBUG:Gismo:Processing giovanni_pau_0001.\n",
      "DEBUG:Gismo:Landmarks of giovanni_pau_0001 computed.\n",
      "DEBUG:Gismo:Processing laurent_massoulié.\n",
      "DEBUG:Gismo:Landmarks of laurent_massoulié computed.\n",
      "DEBUG:Gismo:Processing lorenzo_maggi.\n",
      "DEBUG:Gismo:Landmarks of lorenzo_maggi computed.\n",
      "DEBUG:Gismo:Processing luigi_iannone.\n",
      "DEBUG:Gismo:Landmarks of luigi_iannone computed.\n",
      "DEBUG:Gismo:Processing luis_guilherme_uzeda_garcia.\n",
      "DEBUG:Gismo:Landmarks of luis_guilherme_uzeda_garcia computed.\n",
      "DEBUG:Gismo:Processing marc-olivier_buob.\n",
      "DEBUG:Gismo:Landmarks of marc-olivier_buob computed.\n",
      "DEBUG:Gismo:Processing maria_potop-butucaru.\n",
      "DEBUG:Gismo:Landmarks of maria_potop-butucaru computed.\n",
      "DEBUG:Gismo:Processing mauro_sozio.\n",
      "DEBUG:Gismo:Landmarks of mauro_sozio computed.\n",
      "DEBUG:Gismo:Processing myriana_rifai.\n",
      "DEBUG:Gismo:Landmarks of myriana_rifai computed.\n",
      "DEBUG:Gismo:Processing natalya_rozhnova.\n",
      "DEBUG:Gismo:Landmarks of natalya_rozhnova computed.\n",
      "DEBUG:Gismo:Processing sara_ayoubi.\n",
      "DEBUG:Gismo:Landmarks of sara_ayoubi computed.\n",
      "DEBUG:Gismo:Processing tijani_chahed.\n",
      "DEBUG:Gismo:Landmarks of tijani_chahed computed.\n",
      "INFO:Gismo:All landmarks are built.\n"
     ]
    }
   ],
   "source": [
    "reduced_source = lincs_landmarks_full.get_reduced_source(gismo)"
   ]
  },
  {
   "cell_type": "code",
   "execution_count": 20,
   "metadata": {
    "ExecuteTime": {
     "end_time": "2020-07-23T21:01:10.887520Z",
     "start_time": "2020-07-23T21:01:10.883518Z"
    }
   },
   "outputs": [
    {
     "name": "stdout",
     "output_type": "stream",
     "text": [
      "Source length went down from 4857787 to 57993.\n"
     ]
    }
   ],
   "source": [
    "print(f\"Source length went down from {len(source)} to {len(reduced_source)}.\")"
   ]
  },
  {
   "cell_type": "markdown",
   "metadata": {},
   "source": [
    "Instead of 5,000,000 all purposes articles, we now have 58,000 articles lying in the neighborhood of the considered researchers. We now can close the file descriptor as we won't need further access to the original source."
   ]
  },
  {
   "cell_type": "code",
   "execution_count": 21,
   "metadata": {
    "ExecuteTime": {
     "end_time": "2020-07-23T21:01:10.902712Z",
     "start_time": "2020-07-23T21:01:10.888655Z"
    }
   },
   "outputs": [],
   "source": [
    "source.close()"
   ]
  },
  {
   "cell_type": "markdown",
   "metadata": {},
   "source": [
    "### Building a small XGismo"
   ]
  },
  {
   "cell_type": "markdown",
   "metadata": {},
   "source": [
    "#### Author Embedding"
   ]
  },
  {
   "cell_type": "markdown",
   "metadata": {},
   "source": [
    "Author embedding takes a couple of seconds instead of a couple of minutes."
   ]
  },
  {
   "cell_type": "code",
   "execution_count": 22,
   "metadata": {
    "ExecuteTime": {
     "end_time": "2020-07-23T21:01:12.527250Z",
     "start_time": "2020-07-23T21:01:10.903635Z"
    }
   },
   "outputs": [],
   "source": [
    "reduced_corpus = Corpus(reduced_source, to_text=to_authors_text)\n",
    "reduced_author_embedding = Embedding(vectorizer=vectorizer_author)\n",
    "reduced_author_embedding.fit_transform(reduced_corpus)"
   ]
  },
  {
   "cell_type": "markdown",
   "metadata": {},
   "source": [
    "#### Sanity Check"
   ]
  },
  {
   "cell_type": "markdown",
   "metadata": {},
   "source": [
    "We can rebuild a small author Gismo. This part is merely a sanity check to verify that the reduction didn't change too much things in the vicinity of the LINCS.."
   ]
  },
  {
   "cell_type": "code",
   "execution_count": 23,
   "metadata": {
    "ExecuteTime": {
     "end_time": "2020-07-23T21:01:12.535221Z",
     "start_time": "2020-07-23T21:01:12.531182Z"
    }
   },
   "outputs": [],
   "source": [
    "reduced_gismo = Gismo(reduced_corpus, reduced_author_embedding)"
   ]
  },
  {
   "cell_type": "markdown",
   "metadata": {},
   "source": [
    "Ranking is nearly instant."
   ]
  },
  {
   "cell_type": "code",
   "execution_count": 24,
   "metadata": {
    "ExecuteTime": {
     "end_time": "2020-07-23T21:01:12.586085Z",
     "start_time": "2020-07-23T21:01:12.537181Z"
    }
   },
   "outputs": [
    {
     "data": {
      "text/plain": [
       "True"
      ]
     },
     "execution_count": 24,
     "metadata": {},
     "output_type": "execute_result"
    }
   ],
   "source": [
    "reduced_gismo.rank(\"fabien_mathieu\")"
   ]
  },
  {
   "cell_type": "markdown",
   "metadata": {},
   "source": [
    "The results are almost identical to what was returned by the full Gismo."
   ]
  },
  {
   "cell_type": "code",
   "execution_count": 25,
   "metadata": {
    "ExecuteTime": {
     "end_time": "2020-07-23T21:01:12.619110Z",
     "start_time": "2020-07-23T21:01:12.588072Z"
    }
   },
   "outputs": [
    {
     "name": "stdout",
     "output_type": "stream",
     "text": [
      " F: 0.02. R: 0.26. S: 0.74.\n",
      "- F: 0.03. R: 0.25. S: 0.72.\n",
      "-- F: 0.03. R: 0.24. S: 0.71.\n",
      "--- F: 0.05. R: 0.22. S: 0.67.\n",
      "---- F: 0.07. R: 0.20. S: 0.64.\n",
      "----- F: 0.25. R: 0.18. S: 0.57.\n",
      "------ F: 0.29. R: 0.18. S: 0.60.\n",
      "------- F: 0.44. R: 0.15. S: 0.81.\n",
      "-------- fabien_mathieu (R: 0.11; S: 1.00)\n",
      "-------- F: 0.59. R: 0.04. S: 0.45.\n",
      "--------- laurent_viennot (R: 0.02; S: 0.47)\n",
      "--------- F: 0.69. R: 0.02. S: 0.38.\n",
      "---------- diego_perino (R: 0.02; S: 0.42)\n",
      "---------- yacine_boufkhad (R: 0.01; S: 0.30)\n",
      "------- F: 0.77. R: 0.03. S: 0.37.\n",
      "-------- julien_reynier (R: 0.01; S: 0.37)\n",
      "-------- fabien_de_montgolfier (R: 0.01; S: 0.38)\n",
      "-------- anh-tuan_gai (R: 0.01; S: 0.29)\n",
      "------ gheorghe_postelnicu (R: 0.00; S: 0.19)\n",
      "----- F: 0.33. R: 0.01. S: 0.30.\n",
      "------ the_dang_huynh (R: 0.01; S: 0.29)\n",
      "------ dohy_hong (R: 0.00; S: 0.18)\n",
      "----- nidhi_hegde (R: 0.00; S: 0.21)\n",
      "---- F: 0.57. R: 0.02. S: 0.30.\n",
      "----- F: 0.94. R: 0.02. S: 0.33.\n",
      "------ françois_durand (R: 0.01; S: 0.32)\n",
      "------ ludovic_noirie (R: 0.01; S: 0.35)\n",
      "----- benoît_kloeckner (R: 0.00; S: 0.19)\n",
      "--- F: 0.47. R: 0.02. S: 0.29.\n",
      "---- F: 0.70. R: 0.01. S: 0.28.\n",
      "----- céline_comte (R: 0.01; S: 0.28)\n",
      "----- thomas_bonald (R: 0.01; S: 0.25)\n",
      "---- anne_bouillard (R: 0.00; S: 0.21)\n",
      "-- F: 1.00. R: 0.01. S: 0.24.\n",
      "--- ilkka_norros (R: 0.01; S: 0.24)\n",
      "--- françois_baccelli (R: 0.00; S: 0.24)\n",
      "- mohamed_bouklit (R: 0.01; S: 0.19)\n"
     ]
    }
   ],
   "source": [
    "from gismo.post_processing import post_features_cluster_print\n",
    "reduced_gismo.post_features_cluster = post_features_cluster_print\n",
    "reduced_gismo.get_features_by_cluster()"
   ]
  },
  {
   "cell_type": "markdown",
   "metadata": {},
   "source": [
    "#### Word Embedding"
   ]
  },
  {
   "cell_type": "markdown",
   "metadata": {},
   "source": [
    "Now we build the word embedding, with the spacy add-on. Takes a couple of minutes instead of a couple of hours."
   ]
  },
  {
   "cell_type": "code",
   "execution_count": 26,
   "metadata": {
    "ExecuteTime": {
     "end_time": "2020-07-23T21:01:13.708526Z",
     "start_time": "2020-07-23T21:01:12.620072Z"
    }
   },
   "outputs": [],
   "source": [
    "import spacy\n",
    "# Initialize spacy 'en' model, keeping only tagger component needed for lemmatization\n",
    "nlp = spacy.load('en', disable=['parser', 'ner'])\n",
    "# Who cares about DET and such?\n",
    "keep = {'ADJ', 'NOUN', 'NUM', 'PROPN', 'SYM', 'VERB'}\n",
    "\n",
    "preprocessor=lambda txt: \" \".join([token.lemma_.lower() for token in nlp(txt) \n",
    "                                   if token.pos_ in keep and not token.is_stop])\n",
    "vectorizer_text = CountVectorizer(dtype=float, min_df=5, max_df=.02, ngram_range=[1, 3], preprocessor=preprocessor)"
   ]
  },
  {
   "cell_type": "code",
   "execution_count": 27,
   "metadata": {
    "ExecuteTime": {
     "end_time": "2020-07-23T21:02:52.952128Z",
     "start_time": "2020-07-23T21:01:13.710456Z"
    }
   },
   "outputs": [],
   "source": [
    "reduced_corpus.to_text = lambda e: e['title']\n",
    "reduced_word_embedding = Embedding(vectorizer=vectorizer_text)\n",
    "reduced_word_embedding.fit_transform(reduced_corpus)"
   ]
  },
  {
   "cell_type": "markdown",
   "metadata": {},
   "source": [
    "#### Gathering pieces together"
   ]
  },
  {
   "cell_type": "markdown",
   "metadata": {},
   "source": [
    "We can combine the reduced embeddings to build a XGismo between authors and words."
   ]
  },
  {
   "cell_type": "code",
   "execution_count": 28,
   "metadata": {
    "ExecuteTime": {
     "end_time": "2020-07-23T21:02:53.030642Z",
     "start_time": "2020-07-23T21:02:52.954040Z"
    }
   },
   "outputs": [],
   "source": [
    "from gismo.gismo import XGismo\n",
    "xgismo = XGismo(x_embedding=reduced_author_embedding, y_embedding=reduced_word_embedding)"
   ]
  },
  {
   "cell_type": "markdown",
   "metadata": {},
   "source": [
    "We can save this for later use."
   ]
  },
  {
   "cell_type": "code",
   "execution_count": 29,
   "metadata": {
    "ExecuteTime": {
     "end_time": "2020-07-23T21:02:54.453530Z",
     "start_time": "2020-07-23T21:02:53.032550Z"
    }
   },
   "outputs": [],
   "source": [
    "xgismo.save(filename=\"reduced_lincs_xgismo\", path=p, erase=True)"
   ]
  },
  {
   "cell_type": "markdown",
   "metadata": {},
   "source": [
    "The file should be about 53 Mb, whereas a full-size DBLP XGismo is about 4 Gb. What about speed and quality of results?"
   ]
  },
  {
   "cell_type": "code",
   "execution_count": 30,
   "metadata": {
    "ExecuteTime": {
     "end_time": "2020-07-23T21:02:54.559518Z",
     "start_time": "2020-07-23T21:02:54.454470Z"
    }
   },
   "outputs": [
    {
     "data": {
      "text/plain": [
       "True"
      ]
     },
     "execution_count": 30,
     "metadata": {},
     "output_type": "execute_result"
    }
   ],
   "source": [
    "xgismo.rank(\"anne_bouillard\", y=False)"
   ]
  },
  {
   "cell_type": "code",
   "execution_count": 31,
   "metadata": {
    "ExecuteTime": {
     "end_time": "2020-07-23T21:02:54.565490Z",
     "start_time": "2020-07-23T21:02:54.560471Z"
    }
   },
   "outputs": [
    {
     "data": {
      "text/plain": [
       "['anne_bouillard',\n",
       " 'bruno_gaujal',\n",
       " 'ana_busic',\n",
       " 'eric_thierry',\n",
       " 'ramavarapu_s._sreenivas',\n",
       " 'albert_benveniste',\n",
       " 'giovanni_stea',\n",
       " 'sidney_rosario',\n",
       " 'jean_mairesse',\n",
       " 'nico_m._van_dijk',\n",
       " 'eitan_altman',\n",
       " 'stefan_haar',\n",
       " 'frank_p._kelly',\n",
       " 'zhen_liu_0001',\n",
       " 'claude_jard',\n",
       " 'aurore_junier',\n",
       " 'giovanni_chiola',\n",
       " 'elie_de_panafieu',\n",
       " 'christelle_rovetta',\n",
       " 'bruno_salvy',\n",
       " 'yves_dallery',\n",
       " 'rémi_varloot',\n",
       " 'wojciech_szpankowski',\n",
       " 'ulle_endriss',\n",
       " 'laurent_jouhet',\n",
       " 'radu_mateescu_0001',\n",
       " 'marco_ajmone_marsan',\n",
       " 'françois_baccelli',\n",
       " 'jean-marc_vincent']"
      ]
     },
     "execution_count": 31,
     "metadata": {},
     "output_type": "execute_result"
    }
   ],
   "source": [
    "xgismo.get_documents_by_rank()"
   ]
  },
  {
   "cell_type": "markdown",
   "metadata": {},
   "source": [
    "Let's try some more elaborate display."
   ]
  },
  {
   "cell_type": "code",
   "execution_count": 32,
   "metadata": {
    "ExecuteTime": {
     "end_time": "2020-07-23T21:02:54.608512Z",
     "start_time": "2020-07-23T21:02:54.567471Z"
    }
   },
   "outputs": [
    {
     "name": "stdout",
     "output_type": "stream",
     "text": [
      " F: 0.01. R: 0.08. S: 0.83.\n",
      "- F: 0.08. R: 0.08. S: 0.82.\n",
      "-- F: 0.51. R: 0.03. S: 0.69.\n",
      "--- F: 0.58. R: 0.03. S: 0.67.\n",
      "---- F: 0.84. R: 0.03. S: 0.67.\n",
      "----- F: 0.84. R: 0.03. S: 0.68.\n",
      "------ anne_bouillard (R: 0.02; S: 0.79)\n",
      "------ bruno_gaujal (R: 0.01; S: 0.66)\n",
      "------ eric_thierry (R: 0.00; S: 0.60)\n",
      "------ laurent_jouhet (R: 0.00; S: 0.59)\n",
      "----- elie_de_panafieu (R: 0.00; S: 0.49)\n",
      "---- radu_mateescu_0001 (R: 0.00; S: 0.39)\n",
      "--- aurore_junier (R: 0.00; S: 0.50)\n",
      "-- F: 0.45. R: 0.02. S: 0.38.\n",
      "--- F: 0.74. R: 0.01. S: 0.35.\n",
      "---- ana_busic (R: 0.00; S: 0.37)\n",
      "---- nico_m._van_dijk (R: 0.00; S: 0.25)\n",
      "---- frank_p._kelly (R: 0.00; S: 0.31)\n",
      "---- christelle_rovetta (R: 0.00; S: 0.33)\n",
      "---- yves_dallery (R: 0.00; S: 0.29)\n",
      "--- eitan_altman (R: 0.00; S: 0.43)\n",
      "--- F: 0.67. R: 0.00. S: 0.42.\n",
      "---- zhen_liu_0001 (R: 0.00; S: 0.35)\n",
      "---- françois_baccelli (R: 0.00; S: 0.42)\n",
      "--- jean-marc_vincent (R: 0.00; S: 0.30)\n",
      "-- F: 0.12. R: 0.01. S: 0.35.\n",
      "--- F: 0.22. R: 0.01. S: 0.32.\n",
      "---- F: 0.50. R: 0.01. S: 0.31.\n",
      "----- F: 0.76. R: 0.01. S: 0.25.\n",
      "------ ramavarapu_s._sreenivas (R: 0.00; S: 0.25)\n",
      "------ giovanni_chiola (R: 0.00; S: 0.18)\n",
      "------ marco_ajmone_marsan (R: 0.00; S: 0.33)\n",
      "----- jean_mairesse (R: 0.00; S: 0.33)\n",
      "---- ulle_endriss (R: 0.00; S: 0.16)\n",
      "--- F: 0.20. R: 0.00. S: 0.27.\n",
      "---- bruno_salvy (R: 0.00; S: 0.23)\n",
      "---- wojciech_szpankowski (R: 0.00; S: 0.20)\n",
      "-- F: 0.76. R: 0.01. S: 0.29.\n",
      "--- F: 0.99. R: 0.01. S: 0.24.\n",
      "---- albert_benveniste (R: 0.00; S: 0.25)\n",
      "---- sidney_rosario (R: 0.00; S: 0.24)\n",
      "--- stefan_haar (R: 0.00; S: 0.34)\n",
      "--- claude_jard (R: 0.00; S: 0.30)\n",
      "-- giovanni_stea (R: 0.00; S: 0.35)\n",
      "- rémi_varloot (R: 0.00; S: 0.15)\n"
     ]
    }
   ],
   "source": [
    "from gismo.post_processing import post_documents_cluster_print, post_features_cluster_print\n",
    "xgismo.parameters.distortion = 1.0\n",
    "xgismo.post_documents_cluster = post_documents_cluster_print\n",
    "xgismo.post_features_cluster = post_features_cluster_print\n",
    "xgismo.get_documents_by_cluster()"
   ]
  },
  {
   "cell_type": "code",
   "execution_count": 33,
   "metadata": {
    "ExecuteTime": {
     "end_time": "2020-07-23T21:02:54.632471Z",
     "start_time": "2020-07-23T21:02:54.609470Z"
    }
   },
   "outputs": [
    {
     "name": "stdout",
     "output_type": "stream",
     "text": [
      " F: 0.32. R: 0.20. S: 0.85.\n",
      "- F: 0.35. R: 0.17. S: 0.84.\n",
      "-- F: 0.50. R: 0.15. S: 0.84.\n",
      "--- F: 0.72. R: 0.10. S: 0.82.\n",
      "---- network calculus (R: 0.03; S: 0.80)\n",
      "---- calculus (R: 0.03; S: 0.79)\n",
      "---- free choice (R: 0.01; S: 0.69)\n",
      "---- case delay (R: 0.01; S: 0.75)\n",
      "---- case (R: 0.01; S: 0.79)\n",
      "--- F: 0.63. R: 0.02. S: 0.69.\n",
      "---- closed queueing (R: 0.01; S: 0.69)\n",
      "---- queueing (R: 0.01; S: 0.50)\n",
      "--- ospf (R: 0.01; S: 0.52)\n",
      "--- sampling (R: 0.01; S: 0.58)\n",
      "-- delay (R: 0.01; S: 0.47)\n",
      "-- end (R: 0.01; S: 0.56)\n",
      "- F: 0.94. R: 0.02. S: 0.41.\n",
      "-- service orchestration (R: 0.01; S: 0.50)\n",
      "-- orchestrations (R: 0.01; S: 0.38)\n"
     ]
    }
   ],
   "source": [
    "xgismo.get_features_by_cluster(target_k=1.5, resolution=.5, distortion=.5)"
   ]
  },
  {
   "cell_type": "markdown",
   "metadata": {},
   "source": [
    "## Rebuild landmarks"
   ]
  },
  {
   "cell_type": "markdown",
   "metadata": {},
   "source": [
    "### Lincs landmarks"
   ]
  },
  {
   "cell_type": "markdown",
   "metadata": {},
   "source": [
    "We can rebuild Lincs landmarks on the XGismo."
   ]
  },
  {
   "cell_type": "code",
   "execution_count": 34,
   "metadata": {
    "ExecuteTime": {
     "end_time": "2020-07-23T21:02:59.088254Z",
     "start_time": "2020-07-23T21:02:54.634470Z"
    }
   },
   "outputs": [
    {
     "name": "stderr",
     "output_type": "stream",
     "text": [
      "INFO:Gismo:Start computation of 45 landmarks.\n",
      "DEBUG:Gismo:Processing ana_busic.\n",
      "DEBUG:Gismo:Landmarks of ana_busic computed.\n",
      "DEBUG:Gismo:Processing anais_vergne.\n",
      "DEBUG:Gismo:Landmarks of anais_vergne computed.\n",
      "DEBUG:Gismo:Processing bartek_blaszczyszyn.\n",
      "DEBUG:Gismo:Landmarks of bartek_blaszczyszyn computed.\n",
      "DEBUG:Gismo:Processing chung_shue_chen.\n",
      "DEBUG:Gismo:Landmarks of chung_shue_chen computed.\n",
      "DEBUG:Gismo:Processing daniel_kofman.\n",
      "DEBUG:Gismo:Landmarks of daniel_kofman computed.\n",
      "DEBUG:Gismo:Processing eitan_altman.\n",
      "DEBUG:Gismo:Landmarks of eitan_altman computed.\n",
      "DEBUG:Gismo:Processing fabien_mathieu.\n",
      "DEBUG:Gismo:Landmarks of fabien_mathieu computed.\n",
      "DEBUG:Gismo:Processing françois_baccelli.\n",
      "DEBUG:Gismo:Landmarks of françois_baccelli computed.\n",
      "DEBUG:Gismo:Processing laurent_decreusefond.\n",
      "DEBUG:Gismo:Landmarks of laurent_decreusefond computed.\n",
      "DEBUG:Gismo:Processing laurent_viennot.\n",
      "DEBUG:Gismo:Landmarks of laurent_viennot computed.\n",
      "DEBUG:Gismo:Processing luca_muscariello.\n",
      "DEBUG:Gismo:Landmarks of luca_muscariello computed.\n",
      "DEBUG:Gismo:Processing ludovic_noirie.\n",
      "DEBUG:Gismo:Landmarks of ludovic_noirie computed.\n",
      "DEBUG:Gismo:Processing makhlouf_hadji.\n",
      "DEBUG:Gismo:Landmarks of makhlouf_hadji computed.\n",
      "DEBUG:Gismo:Processing marc_lelarge.\n",
      "DEBUG:Gismo:Landmarks of marc_lelarge computed.\n",
      "DEBUG:Gismo:Processing marceau_coupechoux.\n",
      "DEBUG:Gismo:Landmarks of marceau_coupechoux computed.\n",
      "DEBUG:Gismo:Processing petr_kuznetsov.\n",
      "DEBUG:Gismo:Landmarks of petr_kuznetsov computed.\n",
      "DEBUG:Gismo:Processing philippe_jacquet.\n",
      "DEBUG:Gismo:Landmarks of philippe_jacquet computed.\n",
      "DEBUG:Gismo:Processing philippe_martins.\n",
      "DEBUG:Gismo:Landmarks of philippe_martins computed.\n",
      "DEBUG:Gismo:Processing renata_teixeira.\n",
      "DEBUG:Gismo:Landmarks of renata_teixeira computed.\n",
      "DEBUG:Gismo:Processing salah-eddine_elayoubi.\n",
      "DEBUG:Gismo:Landmarks of salah-eddine_elayoubi computed.\n",
      "DEBUG:Gismo:Processing serge_fdida.\n",
      "DEBUG:Gismo:Landmarks of serge_fdida computed.\n",
      "DEBUG:Gismo:Processing sébastien_tixeuil.\n",
      "DEBUG:Gismo:Landmarks of sébastien_tixeuil computed.\n",
      "DEBUG:Gismo:Processing thomas_bonald.\n",
      "DEBUG:Gismo:Landmarks of thomas_bonald computed.\n",
      "DEBUG:Gismo:Processing timur_friedman.\n",
      "DEBUG:Gismo:Landmarks of timur_friedman computed.\n",
      "DEBUG:Gismo:Processing alexandre_proutière.\n",
      "DEBUG:Gismo:Landmarks of alexandre_proutière computed.\n",
      "DEBUG:Gismo:Processing andrea_marcano.\n",
      "DEBUG:Gismo:Landmarks of andrea_marcano computed.\n",
      "DEBUG:Gismo:Processing dalia_popescu.\n",
      "DEBUG:Gismo:Landmarks of dalia_popescu computed.\n",
      "DEBUG:Gismo:Processing dimitrios_milioris.\n",
      "DEBUG:Gismo:Landmarks of dimitrios_milioris computed.\n",
      "DEBUG:Gismo:Processing elie_de_panafieu.\n",
      "DEBUG:Gismo:Landmarks of elie_de_panafieu computed.\n",
      "DEBUG:Gismo:Processing fabio_pianese.\n",
      "DEBUG:Gismo:Landmarks of fabio_pianese computed.\n",
      "DEBUG:Gismo:Processing francesco_bronzino.\n",
      "DEBUG:Gismo:Landmarks of francesco_bronzino computed.\n",
      "DEBUG:Gismo:Processing françois_durand.\n",
      "DEBUG:Gismo:Landmarks of françois_durand computed.\n",
      "DEBUG:Gismo:Processing fuad_abinader.\n",
      "DEBUG:Gismo:Landmarks of fuad_abinader computed.\n",
      "DEBUG:Gismo:Processing giovanni_pau_0001.\n",
      "DEBUG:Gismo:Landmarks of giovanni_pau_0001 computed.\n",
      "DEBUG:Gismo:Processing laurent_massoulié.\n",
      "DEBUG:Gismo:Landmarks of laurent_massoulié computed.\n",
      "DEBUG:Gismo:Processing lorenzo_maggi.\n",
      "DEBUG:Gismo:Landmarks of lorenzo_maggi computed.\n",
      "DEBUG:Gismo:Processing luigi_iannone.\n",
      "DEBUG:Gismo:Landmarks of luigi_iannone computed.\n",
      "DEBUG:Gismo:Processing luis_guilherme_uzeda_garcia.\n",
      "DEBUG:Gismo:Landmarks of luis_guilherme_uzeda_garcia computed.\n",
      "DEBUG:Gismo:Processing marc-olivier_buob.\n",
      "DEBUG:Gismo:Landmarks of marc-olivier_buob computed.\n",
      "DEBUG:Gismo:Processing maria_potop-butucaru.\n",
      "DEBUG:Gismo:Landmarks of maria_potop-butucaru computed.\n",
      "DEBUG:Gismo:Processing mauro_sozio.\n",
      "DEBUG:Gismo:Landmarks of mauro_sozio computed.\n",
      "DEBUG:Gismo:Processing myriana_rifai.\n",
      "DEBUG:Gismo:Landmarks of myriana_rifai computed.\n",
      "DEBUG:Gismo:Processing natalya_rozhnova.\n",
      "DEBUG:Gismo:Landmarks of natalya_rozhnova computed.\n",
      "DEBUG:Gismo:Processing sara_ayoubi.\n",
      "DEBUG:Gismo:Landmarks of sara_ayoubi computed.\n",
      "DEBUG:Gismo:Processing tijani_chahed.\n",
      "DEBUG:Gismo:Landmarks of tijani_chahed computed.\n",
      "INFO:Gismo:All landmarks are built.\n"
     ]
    }
   ],
   "source": [
    "lincs_landmarks = Landmarks(source=lincs, to_text=lambda x: x['dblp'],\n",
    "                           rank = lambda g, q: g.rank(q, y=False))\n",
    "lincs_landmarks.fit(xgismo)"
   ]
  },
  {
   "cell_type": "markdown",
   "metadata": {},
   "source": [
    "We can extract the Lincs researchers that the most similar to a given researcher (not necessarily from Lincs)."
   ]
  },
  {
   "cell_type": "code",
   "execution_count": 35,
   "metadata": {
    "ExecuteTime": {
     "end_time": "2020-07-23T21:02:59.216298Z",
     "start_time": "2020-07-23T21:02:59.090252Z"
    }
   },
   "outputs": [
    {
     "data": {
      "text/plain": [
       "['Ana Bušić',\n",
       " 'Elie de Panafieu',\n",
       " 'Andrea Marcano',\n",
       " 'Fabien Mathieu',\n",
       " 'Marc-Olivier Buob',\n",
       " 'Dalia Popescu',\n",
       " 'Bartek Blaszczyszyn',\n",
       " 'François Baccelli',\n",
       " 'Eitan Altman',\n",
       " 'Dimitrios Milioris',\n",
       " 'Renata Teixeira',\n",
       " 'Philippe Jacquet',\n",
       " 'Laurent Massoulié',\n",
       " 'Marc Lelarge',\n",
       " 'Thomas Bonald',\n",
       " 'Tijani Chahed']"
      ]
     },
     "execution_count": 35,
     "metadata": {},
     "output_type": "execute_result"
    }
   ],
   "source": [
    "xgismo.rank(\"anne_bouillard\", y=False)\n",
    "lincs_landmarks.post_item = lambda l, i: l[i]['name']\n",
    "lincs_landmarks.get_landmarks_by_rank(xgismo)"
   ]
  },
  {
   "cell_type": "markdown",
   "metadata": {},
   "source": [
    "We can also use a keyword query, and organize the results in clusters."
   ]
  },
  {
   "cell_type": "code",
   "execution_count": 36,
   "metadata": {
    "ExecuteTime": {
     "end_time": "2020-07-23T21:02:59.355261Z",
     "start_time": "2020-07-23T21:02:59.217253Z"
    }
   },
   "outputs": [
    {
     "name": "stdout",
     "output_type": "stream",
     "text": [
      " F: 0.03. \n",
      "- F: 0.09. \n",
      "-- F: 0.11. \n",
      "--- F: 0.12. \n",
      "---- Ana Bušić \n",
      "---- F: 0.39. \n",
      "----- Marc-Olivier Buob \n",
      "----- Bartek Blaszczyszyn \n",
      "---- F: 0.40. \n",
      "----- Dalia Popescu \n",
      "----- F: 0.47. \n",
      "------ François Baccelli \n",
      "------ Eitan Altman \n",
      "--- F: 0.80. \n",
      "---- Elie de Panafieu \n",
      "---- Fabien Mathieu \n",
      "-- Dimitrios Milioris \n",
      "- Andrea Marcano \n"
     ]
    }
   ],
   "source": [
    "xgismo.rank(\"anne_bouillard\", y=False)\n",
    "from gismo.post_processing import post_landmarks_cluster_print\n",
    "lincs_landmarks.post_cluster = post_landmarks_cluster_print\n",
    "lincs_landmarks.get_landmarks_by_cluster(xgismo, balance=.5, target_k=1.2)"
   ]
  },
  {
   "cell_type": "markdown",
   "metadata": {},
   "source": [
    "### ACM landmarks"
   ]
  },
  {
   "cell_type": "markdown",
   "metadata": {},
   "source": [
    "We can build other landmarks using the ACM categories. This will enable to describe things in term of categories."
   ]
  },
  {
   "cell_type": "code",
   "execution_count": 37,
   "metadata": {
    "ExecuteTime": {
     "end_time": "2020-07-23T21:02:59.367293Z",
     "start_time": "2020-07-23T21:02:59.358260Z"
    }
   },
   "outputs": [],
   "source": [
    "from gismo.datasets.acm import get_acm, flatten_acm\n",
    "acm = flatten_acm(get_acm(), min_size=10)"
   ]
  },
  {
   "cell_type": "code",
   "execution_count": 38,
   "metadata": {
    "ExecuteTime": {
     "end_time": "2020-07-23T21:02:59.373256Z",
     "start_time": "2020-07-23T21:02:59.369256Z"
    }
   },
   "outputs": [],
   "source": [
    "acm_landmarks = Landmarks(acm, to_text=lambda e: e['query'])"
   ]
  },
  {
   "cell_type": "code",
   "execution_count": 39,
   "metadata": {
    "ExecuteTime": {
     "end_time": "2020-07-23T21:03:10.755778Z",
     "start_time": "2020-07-23T21:02:59.375256Z"
    }
   },
   "outputs": [
    {
     "name": "stderr",
     "output_type": "stream",
     "text": [
      "INFO:Gismo:Start computation of 113 landmarks.\n",
      "INFO:Gismo:All landmarks are built.\n"
     ]
    }
   ],
   "source": [
    "log.setLevel(logging.INFO)\n",
    "acm_landmarks.fit(xgismo)"
   ]
  },
  {
   "cell_type": "code",
   "execution_count": 40,
   "metadata": {
    "ExecuteTime": {
     "end_time": "2020-07-23T21:03:10.918702Z",
     "start_time": "2020-07-23T21:03:10.758729Z"
    }
   },
   "outputs": [
    {
     "data": {
      "text/plain": [
       "['Web searching and information discovery',\n",
       " 'Theory of computation',\n",
       " 'Software system structures']"
      ]
     },
     "execution_count": 40,
     "metadata": {},
     "output_type": "execute_result"
    }
   ],
   "source": [
    "xgismo.rank(\"fabien_mathieu\", y=False)\n",
    "acm_landmarks.post_item = lambda l, i: l[i]['name']\n",
    "acm_landmarks.get_landmarks_by_rank(xgismo, balance=.5, target_k=1.2)"
   ]
  },
  {
   "cell_type": "code",
   "execution_count": 41,
   "metadata": {
    "ExecuteTime": {
     "end_time": "2020-07-23T21:03:11.052735Z",
     "start_time": "2020-07-23T21:03:10.920699Z"
    }
   },
   "outputs": [
    {
     "name": "stdout",
     "output_type": "stream",
     "text": [
      " F: 0.27. \n",
      "- F: 0.57. \n",
      "-- F: 0.91. \n",
      "--- Discrete mathematics \n",
      "--- Mathematics of computing \n",
      "--- Graph theory \n",
      "-- F: 0.94. \n",
      "--- Data structures \n",
      "--- Models of computation \n",
      "--- Hardware test \n",
      "--- Semantics and reasoning \n",
      "--- Design and analysis of algorithms \n",
      "--- Theory of computation \n",
      "-- F: 0.89. \n",
      "--- Symbolic and algebraic algorithms \n",
      "--- Symbolic and algebraic manipulation \n",
      "--- Numerical analysis \n",
      "--- Mathematical analysis \n",
      "- Formal languages and automata theory \n"
     ]
    }
   ],
   "source": [
    "xgismo.rank(\"combinatorics\")\n",
    "acm_landmarks.post_cluster = post_landmarks_cluster_print\n",
    "acm_landmarks.get_landmarks_by_cluster(xgismo, balance=.5, target_k=1.5)"
   ]
  },
  {
   "cell_type": "markdown",
   "metadata": {},
   "source": [
    "Note that we fully ignore the original ACM category hierarchy. Instead, Gismo builds its own hierarchy tailored to the query."
   ]
  },
  {
   "cell_type": "markdown",
   "metadata": {},
   "source": [
    "### Combining landmarks"
   ]
  },
  {
   "cell_type": "markdown",
   "metadata": {},
   "source": [
    "Through the ``post_processing`` methods, we can intricate multiple landmarks. For example, the following method associates Lincs researchers and keywords to a tree of ACM categories."
   ]
  },
  {
   "cell_type": "code",
   "execution_count": 42,
   "metadata": {
    "ExecuteTime": {
     "end_time": "2020-07-23T21:03:11.062702Z",
     "start_time": "2020-07-23T21:03:11.053700Z"
    }
   },
   "outputs": [],
   "source": [
    "from gismo.common import auto_k\n",
    "import numpy as np\n",
    "def post_cluster_acm(l, cluster, depth=0, kw_size=.3, mts_size=.5):\n",
    "    tk_kw = 1/kw_size\n",
    "    tk_mts = 1/mts_size\n",
    "    n = l.x_direction.shape[0]\n",
    "\n",
    "    kws_view = cluster.vector[0, n:]\n",
    "    k = auto_k(data=kws_view.data, max_k=100, target=tk_kw)\n",
    "    keywords = [xgismo.embedding.features[i] \n",
    "                for i in kws_view.indices[np.argsort(-kws_view.data)[:k]]]\n",
    "\n",
    "    if len(cluster.children) > 0:\n",
    "        print(f\"|{'-'*depth}\")\n",
    "        for c in cluster.children:\n",
    "            post_cluster_acm(l, c, depth=depth+1)\n",
    "    else:\n",
    "        domain = l[cluster.indice]['name']\n",
    "        researchers = \", \".join(lincs_landmarks.get_landmarks_by_rank(cluster, \n",
    "                                                          target_k=tk_mts,\n",
    "                                                        distortion=0.5))    \n",
    "        print(f\"|{'-'*depth} {domain} ({researchers}) ({', '.join(keywords)})\")\n"
   ]
  },
  {
   "cell_type": "code",
   "execution_count": 43,
   "metadata": {
    "ExecuteTime": {
     "end_time": "2020-07-23T21:03:11.339758Z",
     "start_time": "2020-07-23T21:03:11.064700Z"
    }
   },
   "outputs": [
    {
     "name": "stdout",
     "output_type": "stream",
     "text": [
      "|\n",
      "|-\n",
      "|--\n",
      "|--- Discrete mathematics (Elie de Panafieu, Philippe Jacquet) (graph, combinatoric, analytic, random, analytic combinatoric, complexity)\n",
      "|--- Mathematics of computing (Elie de Panafieu, Philippe Jacquet) (graph, random, complexity, analytic, combinatoric)\n",
      "|--- Graph theory (Elie de Panafieu, Philippe Jacquet) (graph, random, complexity)\n",
      "|--\n",
      "|--- Data structures (Philippe Jacquet, Elie de Panafieu, Marc-Olivier Buob) (compression, graph, complexity, structure, random, analytic)\n",
      "|--- Models of computation (Elie de Panafieu, Philippe Jacquet) (complexity, graph, random, parallel, function)\n",
      "|--- Hardware test (Philippe Jacquet, Elie de Panafieu, Marc-Olivier Buob) (compression, graph, complexity, random)\n",
      "|--- Semantics and reasoning (Philippe Jacquet, Elie de Panafieu, Marc-Olivier Buob) (graph, complexity, random)\n",
      "|--- Design and analysis of algorithms (Philippe Jacquet, Elie de Panafieu, Marc-Olivier Buob) (graph, complexity, random, algorithms, problem)\n",
      "|--- Theory of computation (Philippe Jacquet, Elie de Panafieu, Marc-Olivier Buob) (graph, complexity, random)\n",
      "|--\n",
      "|--- Symbolic and algebraic algorithms (Elie de Panafieu, Philippe Jacquet, Fabien Mathieu) (graph, analytic, complexity, random, polynomial)\n",
      "|--- Symbolic and algebraic manipulation (Elie de Panafieu, Philippe Jacquet, Fabien Mathieu) (graph, complexity, function, analytic, random, polynomial)\n",
      "|--- Numerical analysis (Elie de Panafieu, Philippe Jacquet) (complexity, polynomial, graph, analytic, lattice, random)\n",
      "|--- Mathematical analysis (Elie de Panafieu, Philippe Jacquet, Fabien Mathieu) (complexity, graph, random, polynomial, analytic, function)\n",
      "|- Formal languages and automata theory (Elie de Panafieu, Philippe Jacquet) (graph, tree, random, complexity, polynomial)\n"
     ]
    }
   ],
   "source": [
    "xgismo.rank(\"combinatorics\")\n",
    "acm_landmarks.post_cluster = post_cluster_acm\n",
    "acm_landmarks.get_landmarks_by_cluster(xgismo, target_k=1.5)"
   ]
  },
  {
   "cell_type": "markdown",
   "metadata": {},
   "source": [
    "Conversely, one can associate ACM categories and keywords to a tree of Lincs researchers."
   ]
  },
  {
   "cell_type": "code",
   "execution_count": 44,
   "metadata": {
    "ExecuteTime": {
     "end_time": "2020-07-23T21:03:11.347704Z",
     "start_time": "2020-07-23T21:03:11.341702Z"
    }
   },
   "outputs": [],
   "source": [
    "def post_cluster_lincs(l, cluster, depth=0, kw_size=.3, acm_size=.5):\n",
    "    tk_kw = 1/kw_size\n",
    "    tk_acm = 1/acm_size\n",
    "    n = l.x_direction.shape[0]\n",
    "\n",
    "    kws_view = cluster.vector[0, n:]\n",
    "    k = auto_k(data=kws_view.data, max_k=100, target=tk_kw)\n",
    "    keywords = [xgismo.embedding.features[i] \n",
    "                for i in kws_view.indices[np.argsort(-kws_view.data)[:k]]]\n",
    "\n",
    "    if len(cluster.children) > 0:\n",
    "        print(f\"|{'-'*depth}\")\n",
    "        for c in cluster.children:\n",
    "            post_cluster_lincs(l, c, depth=depth+1)\n",
    "    else:\n",
    "        researcher = l[cluster.indice]['name']\n",
    "        domains = \", \".join(acm_landmarks.get_landmarks_by_rank(cluster, \n",
    "                                                          target_k=tk_acm,\n",
    "                                                        distortion=0.5))\n",
    "        print(f\"|{'-'*depth} {researcher} ({domains}) ({', '.join(keywords)})\")"
   ]
  },
  {
   "cell_type": "code",
   "execution_count": 45,
   "metadata": {
    "ExecuteTime": {
     "end_time": "2020-07-23T21:03:11.623741Z",
     "start_time": "2020-07-23T21:03:11.349704Z"
    }
   },
   "outputs": [
    {
     "name": "stdout",
     "output_type": "stream",
     "text": [
      "|\n",
      "|-\n",
      "|--\n",
      "|--- Ana Bušić (Mathematical analysis, Mathematics of computing, Probabilistic reasoning algorithms, Probability and statistics, Symbolic and algebraic algorithms) (sampling, perfect sampling, perfect, queueing, closed queueing, exact, closed)\n",
      "|---\n",
      "|---- Elie de Panafieu (Discrete mathematics, Symbolic and algebraic algorithms, Symbolic and algebraic manipulation, Models of computation, Mathematics of computing, Mathematical analysis, Graph theory) (network calculus, calculus, analytic, combinatoric, analytic combinatoric, kernels)\n",
      "|---- Fabien Mathieu (Symbolic and algebraic algorithms, Models of computation, Symbolic and algebraic manipulation) (network calculus, calculus, space, network design, transport network, kernels, fronthaul)\n",
      "|-- Marc-Olivier Buob (Design and analysis of algorithms) (routing, delays, pattern matching, lightweight, log, space time, space, route, matching, pattern)\n",
      "|- Andrea Marcano (Power and energy) (impact)\n"
     ]
    }
   ],
   "source": [
    "xgismo.rank(\"anne_bouillard\", y=False)\n",
    "lincs_landmarks.post_cluster = post_cluster_lincs\n",
    "lincs_landmarks.get_landmarks_by_cluster(xgismo, target_k=1.4)"
   ]
  },
  {
   "cell_type": "markdown",
   "metadata": {},
   "source": [
    "That's all for this tutorial!"
   ]
  }
 ],
 "metadata": {
  "kernelspec": {
   "display_name": "Python 3",
   "language": "python",
   "name": "python3"
  },
  "language_info": {
   "codemirror_mode": {
    "name": "ipython",
    "version": 3
   },
   "file_extension": ".py",
   "mimetype": "text/x-python",
   "name": "python",
   "nbconvert_exporter": "python",
   "pygments_lexer": "ipython3",
   "version": "3.7.7"
  },
  "toc": {
   "base_numbering": 1,
   "nav_menu": {},
   "number_sections": true,
   "sideBar": true,
   "skip_h1_title": true,
   "title_cell": "Table of Contents",
   "title_sidebar": "Contents",
   "toc_cell": false,
   "toc_position": {},
   "toc_section_display": true,
   "toc_window_display": false
  }
 },
 "nbformat": 4,
 "nbformat_minor": 4
}
