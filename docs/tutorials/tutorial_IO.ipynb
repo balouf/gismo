{
 "cells": [
  {
   "cell_type": "markdown",
   "metadata": {},
   "source": [
    "# Saving/loading Gismo objects"
   ]
  },
  {
   "cell_type": "markdown",
   "metadata": {},
   "source": [
    "Most Gismo classes provide a basic I/O interface for their instances:\n",
    "- ``Corpus``;\n",
    "- ``CorpusList``;\n",
    "- ``Embedding``;\n",
    "- ``Gismo``.\n",
    "\n",
    "They provide save and load methods, along with a load-on-constructor option."
   ]
  },
  {
   "cell_type": "code",
   "execution_count": 1,
   "metadata": {
    "ExecuteTime": {
     "end_time": "2020-05-04T07:44:35.162237Z",
     "start_time": "2020-05-04T07:44:34.003120Z"
    }
   },
   "outputs": [
    {
     "data": {
      "text/plain": [
       "'Gizmo is a Mogwaï.'"
      ]
     },
     "execution_count": 1,
     "metadata": {},
     "output_type": "execute_result"
    }
   ],
   "source": [
    "from gismo.common import toy_source_text\n",
    "from gismo.corpus import Corpus\n",
    "import tempfile\n",
    "corpus1 = Corpus(toy_source_text)\n",
    "with tempfile.TemporaryDirectory() as tmpdirname:\n",
    "    corpus1.save(filename=\"myfile\", path=tmpdirname)\n",
    "    corpus2 = Corpus(filename=\"myfile\", path=tmpdirname)\n",
    "corpus2[0]"
   ]
  }
 ],
 "metadata": {
  "kernelspec": {
   "display_name": "Python 3",
   "language": "python",
   "name": "python3"
  },
  "language_info": {
   "codemirror_mode": {
    "name": "ipython",
    "version": 3
   },
   "file_extension": ".py",
   "mimetype": "text/x-python",
   "name": "python",
   "nbconvert_exporter": "python",
   "pygments_lexer": "ipython3",
   "version": "3.7.7"
  },
  "toc": {
   "base_numbering": 1,
   "nav_menu": {},
   "number_sections": true,
   "sideBar": true,
   "skip_h1_title": true,
   "title_cell": "Table of Contents",
   "title_sidebar": "Contents",
   "toc_cell": false,
   "toc_position": {},
   "toc_section_display": true,
   "toc_window_display": true
  }
 },
 "nbformat": 4,
 "nbformat_minor": 4
}
