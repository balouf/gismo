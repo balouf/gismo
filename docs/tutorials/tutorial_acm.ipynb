{
 "cells": [
  {
   "cell_type": "markdown",
   "metadata": {},
   "source": [
    "# ACM categories"
   ]
  },
  {
   "cell_type": "markdown",
   "metadata": {},
   "source": [
    "This tutorial shows how ACM categories can be studied with Gismo.\n",
    "\n",
    "Imagine that you want to submit an article and are asked to provide an ACM category and some generic keywords. Let see how Gismo can help you.\n",
    "\n",
    "Here, *documents* are ACM categories. The *features* of a category will be the words of its name along with the words of the name of its descendants."
   ]
  },
  {
   "cell_type": "markdown",
   "metadata": {},
   "source": [
    "## Initialisation"
   ]
  },
  {
   "cell_type": "markdown",
   "metadata": {},
   "source": [
    "First, we load the required package."
   ]
  },
  {
   "cell_type": "code",
   "execution_count": 1,
   "metadata": {
    "ExecuteTime": {
     "end_time": "2020-05-07T07:50:00.995750Z",
     "start_time": "2020-05-07T07:49:59.577736Z"
    }
   },
   "outputs": [],
   "source": [
    "from sklearn.feature_extraction.text import CountVectorizer\n",
    "from sklearn.metrics.pairwise import cosine_similarity\n",
    "\n",
    "from gismo.datasets.acm import get_acm, flatten_acm\n",
    "from gismo.corpus import Corpus\n",
    "from gismo.embedding import Embedding\n",
    "from gismo.gismo import Gismo\n",
    "from gismo.post_processing import print_feature_cluster"
   ]
  },
  {
   "cell_type": "markdown",
   "metadata": {},
   "source": [
    "Then, we load the ACM source. Note that we flatten the source, i.e. the existing hierarchy is discarded, as Gismo will provide its own dynamic, query-based, structure."
   ]
  },
  {
   "cell_type": "code",
   "execution_count": 2,
   "metadata": {
    "ExecuteTime": {
     "end_time": "2020-05-07T07:50:01.008661Z",
     "start_time": "2020-05-07T07:50:00.997717Z"
    }
   },
   "outputs": [],
   "source": [
    "acm = flatten_acm(get_acm())"
   ]
  },
  {
   "cell_type": "markdown",
   "metadata": {},
   "source": [
    "Each category in the ``acm`` list is a dict with ``name`` and ``query``. We build a corpus that will tell Gismo that the content of a category is its ``query`` value."
   ]
  },
  {
   "cell_type": "code",
   "execution_count": 3,
   "metadata": {
    "ExecuteTime": {
     "end_time": "2020-05-07T07:50:01.014637Z",
     "start_time": "2020-05-07T07:50:01.010631Z"
    }
   },
   "outputs": [],
   "source": [
    "corpus = Corpus(acm, to_text=lambda x: x['query'])"
   ]
  },
  {
   "cell_type": "markdown",
   "metadata": {},
   "source": [
    "We build an embedding on top of that corpus.\n",
    "- We set ``min_df=3`` to exclude rare features;\n",
    "- We set ``ngram_range=[1, 3]`` to include bi-grams and tri-grams in the embedding.\n",
    "- We manually pick a few common words to exclude from the emebedding."
   ]
  },
  {
   "cell_type": "code",
   "execution_count": 4,
   "metadata": {
    "ExecuteTime": {
     "end_time": "2020-05-07T07:50:02.183859Z",
     "start_time": "2020-05-07T07:50:01.015630Z"
    }
   },
   "outputs": [],
   "source": [
    "vectorizer = CountVectorizer(min_df=3, ngram_range=[1, 3], dtype=float, stop_words=['to', 'and'])\n",
    "embedding = Embedding(vectorizer=vectorizer)\n",
    "embedding.fit_transform(corpus)"
   ]
  },
  {
   "cell_type": "code",
   "execution_count": 5,
   "metadata": {
    "ExecuteTime": {
     "end_time": "2020-05-07T07:50:02.195503Z",
     "start_time": "2020-05-07T07:50:02.185510Z"
    }
   },
   "outputs": [
    {
     "data": {
      "text/plain": [
       "<234x6936 sparse matrix of type '<class 'numpy.float64'>'\n",
       "\twith 28041 stored elements in Compressed Sparse Row format>"
      ]
     },
     "execution_count": 5,
     "metadata": {},
     "output_type": "execute_result"
    }
   ],
   "source": [
    "embedding.x"
   ]
  },
  {
   "cell_type": "markdown",
   "metadata": {},
   "source": [
    "We see from ``embedding.x`` that the embedding links 234 documents to 6,936 features. There are 28,041 weights: in average, each document is linked to more than 100 features, each feature is linked to 4 documents."
   ]
  },
  {
   "cell_type": "markdown",
   "metadata": {},
   "source": [
    "Now, we initiate the gismo object, and customize post_processers to ease the display."
   ]
  },
  {
   "cell_type": "code",
   "execution_count": 6,
   "metadata": {
    "ExecuteTime": {
     "end_time": "2020-05-07T07:50:02.215515Z",
     "start_time": "2020-05-07T07:50:02.197590Z"
    }
   },
   "outputs": [],
   "source": [
    "gismo = Gismo(corpus, embedding)\n",
    "gismo.post_document = lambda g, i: g.corpus[i]['name']\n",
    "def print_document_cluster(gismo, cluster, depth=\"\"):\n",
    "    sim = cosine_similarity(cluster.vector, gismo.diteration.y_relevance.reshape(1, -1))[0][0]\n",
    "    if len(cluster.children) == 0:\n",
    "        txt = gismo.corpus[cluster.indice]['name']\n",
    "        print(f\"{depth} {txt} \"\n",
    "              f\"(R: {gismo.diteration.x_relevance[cluster.indice]:.2f}; \"\n",
    "              f\"S: {sim:.2f})\")\n",
    "    else:\n",
    "        print(f\"{depth} F: {cluster.focus:.2f}. \"\n",
    "              f\"R: {sum(gismo.diteration.x_relevance[cluster.members]):.2f}. \"\n",
    "              f\"S: {sim:.2f}.\")\n",
    "    for c in cluster.children:\n",
    "        print_document_cluster(gismo, c, depth=depth + '-')\n",
    "gismo.post_document_cluster = print_document_cluster\n",
    "gismo.post_feature_cluster = print_feature_cluster"
   ]
  },
  {
   "cell_type": "markdown",
   "metadata": {},
   "source": [
    "## Machine Learning query"
   ]
  },
  {
   "cell_type": "markdown",
   "metadata": {},
   "source": [
    "We perform the query *Machine learning*. The returned ``True`` tells that some of the query features were found in the corpus' features.\n",
    "\n",
    "**Remark:** For this tutorial, we just enter a few words, but at the start of this Notebook, we talked about submitting an article. As a query can be as long as you want, you can call the ``rank`` method with the full textual content of your article if you want to."
   ]
  },
  {
   "cell_type": "code",
   "execution_count": 7,
   "metadata": {
    "ExecuteTime": {
     "end_time": "2020-05-07T07:50:03.407135Z",
     "start_time": "2020-05-07T07:50:02.217514Z"
    }
   },
   "outputs": [
    {
     "data": {
      "text/plain": [
       "True"
      ]
     },
     "execution_count": 7,
     "metadata": {},
     "output_type": "execute_result"
    }
   ],
   "source": [
    "gismo.rank(\"Machine learning\")"
   ]
  },
  {
   "cell_type": "markdown",
   "metadata": {},
   "source": [
    "What are the best ACM categories for an article on *Machine Learning*?"
   ]
  },
  {
   "cell_type": "code",
   "execution_count": 8,
   "metadata": {
    "ExecuteTime": {
     "end_time": "2020-05-07T07:50:03.414063Z",
     "start_time": "2020-05-07T07:50:03.410068Z"
    }
   },
   "outputs": [
    {
     "data": {
      "text/plain": [
       "['Machine learning',\n",
       " 'Computing methodologies',\n",
       " 'Machine learning algorithms',\n",
       " 'Learning paradigms',\n",
       " 'Machine learning theory',\n",
       " 'Machine learning approaches',\n",
       " 'Theory and algorithms for application domains',\n",
       " 'Theory of computation',\n",
       " 'Natural language processing',\n",
       " 'Artificial intelligence']"
      ]
     },
     "execution_count": 8,
     "metadata": {},
     "output_type": "execute_result"
    }
   ],
   "source": [
    "gismo.get_ranked_documents()"
   ]
  },
  {
   "cell_type": "markdown",
   "metadata": {},
   "source": [
    "Sounds nice. How are these domains related in the context of *Machine Learning*?"
   ]
  },
  {
   "cell_type": "code",
   "execution_count": 9,
   "metadata": {
    "ExecuteTime": {
     "end_time": "2020-05-07T07:50:03.462066Z",
     "start_time": "2020-05-07T07:50:03.415063Z"
    }
   },
   "outputs": [
    {
     "name": "stdout",
     "output_type": "stream",
     "text": [
      " F: 0.06. R: 0.52. S: 0.75.\n",
      "- F: 0.63. R: 0.48. S: 0.73.\n",
      "-- F: 0.78. R: 0.41. S: 0.70.\n",
      "--- F: 0.98. R: 0.16. S: 0.85.\n",
      "---- Machine learning (R: 0.09; S: 0.84)\n",
      "---- Computing methodologies (R: 0.06; S: 0.87)\n",
      "--- Learning paradigms (R: 0.06; S: 0.62)\n",
      "--- F: 0.94. R: 0.14. S: 0.63.\n",
      "---- Machine learning theory (R: 0.06; S: 0.61)\n",
      "---- Theory and algorithms for application domains (R: 0.05; S: 0.63)\n",
      "---- Theory of computation (R: 0.04; S: 0.66)\n",
      "--- Machine learning approaches (R: 0.05; S: 0.54)\n",
      "-- Machine learning algorithms (R: 0.06; S: 0.60)\n",
      "- F: 0.66. R: 0.04. S: 0.23.\n",
      "-- Natural language processing (R: 0.03; S: 0.21)\n",
      "-- Artificial intelligence (R: 0.02; S: 0.30)\n"
     ]
    }
   ],
   "source": [
    "gismo.get_clustered_ranked_documents()"
   ]
  },
  {
   "cell_type": "markdown",
   "metadata": {},
   "source": [
    "OK! Let's decode this:\n",
    "- Mainstream we have two main groups\n",
    "    - the practical fields (methodology, paradigms)\n",
    "    - the theoretical fields\n",
    "- If you don't want to decide, you can go with approaches/algorithms.\n",
    "- But maybe your article uses machine learning to achieve NLP or AI?"
   ]
  },
  {
   "cell_type": "markdown",
   "metadata": {},
   "source": [
    "Now, let's look at the main keywords."
   ]
  },
  {
   "cell_type": "code",
   "execution_count": 10,
   "metadata": {
    "ExecuteTime": {
     "end_time": "2020-05-07T07:50:03.469065Z",
     "start_time": "2020-05-07T07:50:03.463059Z"
    }
   },
   "outputs": [
    {
     "data": {
      "text/plain": [
       "['learning',\n",
       " 'reinforcement',\n",
       " 'reinforcement learning',\n",
       " 'decision',\n",
       " 'machine',\n",
       " 'supervised learning',\n",
       " 'supervised',\n",
       " 'iteration',\n",
       " 'learning learning',\n",
       " 'machine learning']"
      ]
     },
     "execution_count": 10,
     "metadata": {},
     "output_type": "execute_result"
    }
   ],
   "source": [
    "gismo.get_ranked_features()"
   ]
  },
  {
   "cell_type": "markdown",
   "metadata": {},
   "source": [
    "Let's organize them."
   ]
  },
  {
   "cell_type": "code",
   "execution_count": 11,
   "metadata": {
    "ExecuteTime": {
     "end_time": "2020-05-07T07:50:03.492164Z",
     "start_time": "2020-05-07T07:50:03.470062Z"
    }
   },
   "outputs": [
    {
     "name": "stdout",
     "output_type": "stream",
     "text": [
      " F: 0.62. R: 0.01. S: 0.93.\n",
      "- F: 0.84. R: 0.01. S: 0.92.\n",
      "-- F: 0.87. R: 0.01. S: 0.92.\n",
      "--- learning (R: 0.00; S: 0.96)\n",
      "--- reinforcement (R: 0.00; S: 0.83)\n",
      "--- reinforcement learning (R: 0.00; S: 0.83)\n",
      "--- decision (R: 0.00; S: 0.96)\n",
      "--- machine (R: 0.00; S: 0.95)\n",
      "--- supervised learning (R: 0.00; S: 0.81)\n",
      "--- supervised (R: 0.00; S: 0.81)\n",
      "--- machine learning (R: 0.00; S: 0.93)\n",
      "-- learning learning (R: 0.00; S: 0.75)\n",
      "- iteration (R: 0.00; S: 0.68)\n"
     ]
    }
   ],
   "source": [
    "gismo.get_clustered_ranked_features()"
   ]
  },
  {
   "cell_type": "markdown",
   "metadata": {},
   "source": [
    "Hum, not very informative. Let's increase the resolution to get more structure!"
   ]
  },
  {
   "cell_type": "code",
   "execution_count": 12,
   "metadata": {
    "ExecuteTime": {
     "end_time": "2020-05-07T07:50:03.515061Z",
     "start_time": "2020-05-07T07:50:03.493059Z"
    }
   },
   "outputs": [
    {
     "name": "stdout",
     "output_type": "stream",
     "text": [
      " F: 0.62. R: 0.01. S: 0.93.\n",
      "- F: 0.84. R: 0.01. S: 0.92.\n",
      "-- F: 0.87. R: 0.01. S: 0.92.\n",
      "--- F: 0.96. R: 0.01. S: 0.96.\n",
      "---- learning (R: 0.00; S: 0.96)\n",
      "---- decision (R: 0.00; S: 0.96)\n",
      "---- machine (R: 0.00; S: 0.95)\n",
      "---- machine learning (R: 0.00; S: 0.93)\n",
      "--- F: 0.92. R: 0.00. S: 0.84.\n",
      "---- F: 1.00. R: 0.00. S: 0.83.\n",
      "----- reinforcement (R: 0.00; S: 0.83)\n",
      "----- reinforcement learning (R: 0.00; S: 0.83)\n",
      "---- F: 1.00. R: 0.00. S: 0.81.\n",
      "----- supervised learning (R: 0.00; S: 0.81)\n",
      "----- supervised (R: 0.00; S: 0.81)\n",
      "-- learning learning (R: 0.00; S: 0.75)\n",
      "- iteration (R: 0.00; S: 0.68)\n"
     ]
    }
   ],
   "source": [
    "gismo.get_clustered_ranked_features(resolution=.97)"
   ]
  },
  {
   "cell_type": "markdown",
   "metadata": {},
   "source": [
    "Rough analysis:\n",
    "- Machine learning is about... Machine learning, which seems related to decision.\n",
    "- Reinforcement learning and supervised learning seem to be categories of interest.\n",
    "- Iteration is a lone wolf. Rather important in the context of ML, but not highly related to other keywords so set apart."
   ]
  },
  {
   "cell_type": "markdown",
   "metadata": {},
   "source": [
    "## P2P query"
   ]
  },
  {
   "cell_type": "markdown",
   "metadata": {},
   "source": [
    "We perform the query *P2P*. The returned ``False`` tells that P2P is not a feature of the corpus (it's a small corpus after all, made only of catagory titles)."
   ]
  },
  {
   "cell_type": "code",
   "execution_count": 13,
   "metadata": {
    "ExecuteTime": {
     "end_time": "2020-05-07T07:50:03.529062Z",
     "start_time": "2020-05-07T07:50:03.517061Z"
    }
   },
   "outputs": [
    {
     "data": {
      "text/plain": [
       "False"
      ]
     },
     "execution_count": 13,
     "metadata": {},
     "output_type": "execute_result"
    }
   ],
   "source": [
    "gismo.rank(\"P2P\")"
   ]
  },
  {
   "cell_type": "markdown",
   "metadata": {},
   "source": [
    "Let's try to avoid the acronym. Ok, now it works."
   ]
  },
  {
   "cell_type": "code",
   "execution_count": 14,
   "metadata": {
    "ExecuteTime": {
     "end_time": "2020-05-07T07:50:03.542153Z",
     "start_time": "2020-05-07T07:50:03.530060Z"
    }
   },
   "outputs": [
    {
     "data": {
      "text/plain": [
       "True"
      ]
     },
     "execution_count": 14,
     "metadata": {},
     "output_type": "execute_result"
    }
   ],
   "source": [
    "gismo.rank(\"Machine learning\")"
   ]
  },
  {
   "cell_type": "markdown",
   "metadata": {},
   "source": [
    "What are the best ACM categories for an article on *P2P*?"
   ]
  },
  {
   "cell_type": "code",
   "execution_count": 15,
   "metadata": {
    "ExecuteTime": {
     "end_time": "2020-05-07T07:50:03.549142Z",
     "start_time": "2020-05-07T07:50:03.543059Z"
    }
   },
   "outputs": [
    {
     "data": {
      "text/plain": [
       "['Machine learning',\n",
       " 'Computing methodologies',\n",
       " 'Machine learning algorithms',\n",
       " 'Learning paradigms',\n",
       " 'Machine learning theory',\n",
       " 'Machine learning approaches',\n",
       " 'Theory and algorithms for application domains',\n",
       " 'Theory of computation',\n",
       " 'Natural language processing',\n",
       " 'Artificial intelligence']"
      ]
     },
     "execution_count": 15,
     "metadata": {},
     "output_type": "execute_result"
    }
   ],
   "source": [
    "gismo.get_ranked_documents()"
   ]
  },
  {
   "cell_type": "markdown",
   "metadata": {},
   "source": [
    "Sounds nice. How are these domains related in the context of *P2P*?"
   ]
  },
  {
   "cell_type": "code",
   "execution_count": 16,
   "metadata": {
    "ExecuteTime": {
     "end_time": "2020-05-07T07:50:03.577061Z",
     "start_time": "2020-05-07T07:50:03.551060Z"
    }
   },
   "outputs": [
    {
     "name": "stdout",
     "output_type": "stream",
     "text": [
      " F: 0.06. R: 0.52. S: 0.75.\n",
      "- F: 0.63. R: 0.48. S: 0.73.\n",
      "-- F: 0.78. R: 0.41. S: 0.70.\n",
      "--- F: 0.98. R: 0.16. S: 0.85.\n",
      "---- Machine learning (R: 0.09; S: 0.84)\n",
      "---- Computing methodologies (R: 0.06; S: 0.87)\n",
      "--- Learning paradigms (R: 0.06; S: 0.62)\n",
      "--- F: 0.94. R: 0.14. S: 0.63.\n",
      "---- Machine learning theory (R: 0.06; S: 0.61)\n",
      "---- Theory and algorithms for application domains (R: 0.05; S: 0.63)\n",
      "---- Theory of computation (R: 0.04; S: 0.66)\n",
      "--- Machine learning approaches (R: 0.05; S: 0.54)\n",
      "-- Machine learning algorithms (R: 0.06; S: 0.60)\n",
      "- F: 0.66. R: 0.04. S: 0.23.\n",
      "-- Natural language processing (R: 0.03; S: 0.21)\n",
      "-- Artificial intelligence (R: 0.02; S: 0.30)\n"
     ]
    }
   ],
   "source": [
    "gismo.get_clustered_ranked_documents()"
   ]
  },
  {
   "cell_type": "markdown",
   "metadata": {},
   "source": [
    "OK! Let's decode this:\n",
    "- Mainstream is obviously *networks*, with two main groups\n",
    "    - the design fields (*distributed architecture*, *organization*)\n",
    "    - the implementation fields (*software*)\n",
    "- Inside networks, but a little bit isolated, *search engine architectures and scalability* calls for the scalable property of P2P networks. The SE reference probably comes from Distributed Hash Tables, one of the main theoretical and practical success of P2P."
   ]
  },
  {
   "cell_type": "markdown",
   "metadata": {},
   "source": [
    "Now, let's look at the main keywords."
   ]
  },
  {
   "cell_type": "code",
   "execution_count": 17,
   "metadata": {
    "ExecuteTime": {
     "end_time": "2020-05-07T07:50:03.585059Z",
     "start_time": "2020-05-07T07:50:03.578061Z"
    }
   },
   "outputs": [
    {
     "data": {
      "text/plain": [
       "['learning',\n",
       " 'reinforcement',\n",
       " 'reinforcement learning',\n",
       " 'decision',\n",
       " 'machine',\n",
       " 'supervised learning',\n",
       " 'supervised',\n",
       " 'iteration',\n",
       " 'learning learning',\n",
       " 'machine learning']"
      ]
     },
     "execution_count": 17,
     "metadata": {},
     "output_type": "execute_result"
    }
   ],
   "source": [
    "gismo.get_ranked_features()"
   ]
  },
  {
   "cell_type": "markdown",
   "metadata": {},
   "source": [
    "Let's organize them."
   ]
  },
  {
   "cell_type": "code",
   "execution_count": 18,
   "metadata": {
    "ExecuteTime": {
     "end_time": "2020-05-07T07:50:03.603061Z",
     "start_time": "2020-05-07T07:50:03.587060Z"
    }
   },
   "outputs": [
    {
     "name": "stdout",
     "output_type": "stream",
     "text": [
      " F: 0.62. R: 0.01. S: 0.93.\n",
      "- F: 0.84. R: 0.01. S: 0.92.\n",
      "-- F: 0.87. R: 0.01. S: 0.92.\n",
      "--- learning (R: 0.00; S: 0.96)\n",
      "--- reinforcement (R: 0.00; S: 0.83)\n",
      "--- reinforcement learning (R: 0.00; S: 0.83)\n",
      "--- decision (R: 0.00; S: 0.96)\n",
      "--- machine (R: 0.00; S: 0.95)\n",
      "--- supervised learning (R: 0.00; S: 0.81)\n",
      "--- supervised (R: 0.00; S: 0.81)\n",
      "--- machine learning (R: 0.00; S: 0.93)\n",
      "-- learning learning (R: 0.00; S: 0.75)\n",
      "- iteration (R: 0.00; S: 0.68)\n"
     ]
    }
   ],
   "source": [
    "gismo.get_clustered_ranked_features()"
   ]
  },
  {
   "cell_type": "markdown",
   "metadata": {},
   "source": [
    "Rough analysis:\n",
    "- One cluster about network protocols\n",
    "- One cluster about architectures"
   ]
  },
  {
   "cell_type": "markdown",
   "metadata": {},
   "source": [
    "## PageRank query"
   ]
  },
  {
   "cell_type": "markdown",
   "metadata": {},
   "source": [
    "We perform the query *PageRank*. The returned ``False`` tells that *PageRank* is not a feature of the corpus (it's a small corpus after all, made only of catagory titles)."
   ]
  },
  {
   "cell_type": "code",
   "execution_count": 19,
   "metadata": {
    "ExecuteTime": {
     "end_time": "2020-05-07T07:50:03.617061Z",
     "start_time": "2020-05-07T07:50:03.604059Z"
    }
   },
   "outputs": [
    {
     "data": {
      "text/plain": [
       "False"
      ]
     },
     "execution_count": 19,
     "metadata": {},
     "output_type": "execute_result"
    }
   ],
   "source": [
    "gismo.rank(\"Pagerank\")"
   ]
  },
  {
   "cell_type": "markdown",
   "metadata": {},
   "source": [
    "Let's try to avoid the copyright infrigment. Ok, now it works."
   ]
  },
  {
   "cell_type": "code",
   "execution_count": 20,
   "metadata": {
    "ExecuteTime": {
     "end_time": "2020-05-07T07:50:03.628060Z",
     "start_time": "2020-05-07T07:50:03.618060Z"
    }
   },
   "outputs": [
    {
     "data": {
      "text/plain": [
       "True"
      ]
     },
     "execution_count": 20,
     "metadata": {},
     "output_type": "execute_result"
    }
   ],
   "source": [
    "gismo.rank(\"ranking the web\")"
   ]
  },
  {
   "cell_type": "markdown",
   "metadata": {},
   "source": [
    "What are the best ACM categories for an article on *PageRank*?"
   ]
  },
  {
   "cell_type": "code",
   "execution_count": 21,
   "metadata": {
    "ExecuteTime": {
     "end_time": "2020-05-07T07:50:03.637059Z",
     "start_time": "2020-05-07T07:50:03.630060Z"
    }
   },
   "outputs": [
    {
     "data": {
      "text/plain": [
       "['Web searching and information discovery',\n",
       " 'World Wide Web',\n",
       " 'Information systems',\n",
       " 'Web applications',\n",
       " 'Supervised learning',\n",
       " 'Retrieval models and ranking',\n",
       " 'Learning paradigms',\n",
       " 'Information retrieval',\n",
       " 'Machine learning',\n",
       " 'Web mining']"
      ]
     },
     "execution_count": 21,
     "metadata": {},
     "output_type": "execute_result"
    }
   ],
   "source": [
    "gismo.get_ranked_documents()"
   ]
  },
  {
   "cell_type": "markdown",
   "metadata": {},
   "source": [
    "Sounds nice. How are these domains related in the context of *PageRank*?"
   ]
  },
  {
   "cell_type": "code",
   "execution_count": 22,
   "metadata": {
    "ExecuteTime": {
     "end_time": "2020-05-07T07:50:03.672058Z",
     "start_time": "2020-05-07T07:50:03.639062Z"
    }
   },
   "outputs": [
    {
     "name": "stdout",
     "output_type": "stream",
     "text": [
      " F: 0.22. R: 0.43. S: 0.78.\n",
      "- F: 0.22. R: 0.37. S: 0.75.\n",
      "-- Web searching and information discovery (R: 0.08; S: 0.63)\n",
      "-- F: 0.91. R: 0.13. S: 0.81.\n",
      "--- World Wide Web (R: 0.08; S: 0.79)\n",
      "--- Information systems (R: 0.05; S: 0.85)\n",
      "-- F: 0.92. R: 0.09. S: 0.41.\n",
      "--- Supervised learning (R: 0.04; S: 0.40)\n",
      "--- Learning paradigms (R: 0.03; S: 0.43)\n",
      "--- Machine learning (R: 0.02; S: 0.43)\n",
      "-- F: 0.81. R: 0.07. S: 0.36.\n",
      "--- Retrieval models and ranking (R: 0.04; S: 0.33)\n",
      "--- Information retrieval (R: 0.03; S: 0.44)\n",
      "- F: 0.38. R: 0.07. S: 0.46.\n",
      "-- Web applications (R: 0.05; S: 0.49)\n",
      "-- Web mining (R: 0.02; S: 0.34)\n"
     ]
    }
   ],
   "source": [
    "gismo.get_clustered_ranked_documents()"
   ]
  },
  {
   "cell_type": "markdown",
   "metadata": {},
   "source": [
    "Hum, maybe somethin more compact. Let's lower the resolution (default resolution is 0.9)."
   ]
  },
  {
   "cell_type": "code",
   "execution_count": 23,
   "metadata": {
    "ExecuteTime": {
     "end_time": "2020-05-07T07:50:03.695061Z",
     "start_time": "2020-05-07T07:50:03.674062Z"
    }
   },
   "outputs": [
    {
     "name": "stdout",
     "output_type": "stream",
     "text": [
      " F: 0.20. R: 0.43. S: 0.78.\n",
      "- F: 0.75. R: 0.21. S: 0.70.\n",
      "-- Web searching and information discovery (R: 0.08; S: 0.63)\n",
      "-- World Wide Web (R: 0.08; S: 0.79)\n",
      "-- Information systems (R: 0.05; S: 0.85)\n",
      "- Web applications (R: 0.05; S: 0.49)\n",
      "- F: 0.92. R: 0.09. S: 0.41.\n",
      "-- Supervised learning (R: 0.04; S: 0.40)\n",
      "-- Learning paradigms (R: 0.03; S: 0.43)\n",
      "-- Machine learning (R: 0.02; S: 0.43)\n",
      "- F: 0.81. R: 0.07. S: 0.36.\n",
      "-- Retrieval models and ranking (R: 0.04; S: 0.33)\n",
      "-- Information retrieval (R: 0.03; S: 0.44)\n",
      "- Web mining (R: 0.02; S: 0.34)\n"
     ]
    }
   ],
   "source": [
    "gismo.get_clustered_ranked_documents(resolution=.8)"
   ]
  },
  {
   "cell_type": "markdown",
   "metadata": {},
   "source": [
    "Better! Let's broadly decode this:\n",
    "- One cluster of categories is about the Web & Search\n",
    "- One cluster is about learning techniques\n",
    "- One cluster is about information retrieval."
   ]
  },
  {
   "cell_type": "markdown",
   "metadata": {},
   "source": [
    "Now, let's look at the main keywords."
   ]
  },
  {
   "cell_type": "code",
   "execution_count": 24,
   "metadata": {
    "ExecuteTime": {
     "end_time": "2020-05-07T07:50:03.702061Z",
     "start_time": "2020-05-07T07:50:03.696058Z"
    }
   },
   "outputs": [
    {
     "data": {
      "text/plain": [
       "['web',\n",
       " 'ranking',\n",
       " 'social',\n",
       " 'learning',\n",
       " 'discovery',\n",
       " 'supervised',\n",
       " 'supervised learning',\n",
       " 'security',\n",
       " 'site',\n",
       " 'learning by']"
      ]
     },
     "execution_count": 24,
     "metadata": {},
     "output_type": "execute_result"
    }
   ],
   "source": [
    "gismo.get_ranked_features()"
   ]
  },
  {
   "cell_type": "markdown",
   "metadata": {},
   "source": [
    "Let's organize them."
   ]
  },
  {
   "cell_type": "code",
   "execution_count": 25,
   "metadata": {
    "ExecuteTime": {
     "end_time": "2020-05-07T07:50:03.723062Z",
     "start_time": "2020-05-07T07:50:03.704059Z"
    }
   },
   "outputs": [
    {
     "name": "stdout",
     "output_type": "stream",
     "text": [
      " F: 0.02. R: 0.01. S: 0.89.\n",
      "- F: 0.09. R: 0.01. S: 0.89.\n",
      "-- F: 0.87. R: 0.01. S: 0.85.\n",
      "--- web (R: 0.00; S: 0.87)\n",
      "--- ranking (R: 0.00; S: 0.91)\n",
      "--- social (R: 0.00; S: 0.84)\n",
      "--- discovery (R: 0.00; S: 0.80)\n",
      "--- site (R: 0.00; S: 0.77)\n",
      "-- F: 0.94. R: 0.00. S: 0.36.\n",
      "--- learning (R: 0.00; S: 0.44)\n",
      "--- supervised (R: 0.00; S: 0.35)\n",
      "--- supervised learning (R: 0.00; S: 0.35)\n",
      "--- learning by (R: 0.00; S: 0.35)\n",
      "- security (R: 0.00; S: 0.14)\n"
     ]
    }
   ],
   "source": [
    "gismo.get_clustered_ranked_features()"
   ]
  },
  {
   "cell_type": "markdown",
   "metadata": {},
   "source": [
    "Rough analysis:\n",
    "- One cluster about the Web\n",
    "- One cluster about learning\n",
    "- One lone wolf: security"
   ]
  }
 ],
 "metadata": {
  "kernelspec": {
   "display_name": "Python 3",
   "language": "python",
   "name": "python3"
  },
  "language_info": {
   "codemirror_mode": {
    "name": "ipython",
    "version": 3
   },
   "file_extension": ".py",
   "mimetype": "text/x-python",
   "name": "python",
   "nbconvert_exporter": "python",
   "pygments_lexer": "ipython3",
   "version": "3.7.7"
  },
  "toc": {
   "base_numbering": 1,
   "nav_menu": {},
   "number_sections": true,
   "sideBar": true,
   "skip_h1_title": true,
   "title_cell": "Table of Contents",
   "title_sidebar": "Contents",
   "toc_cell": false,
   "toc_position": {},
   "toc_section_display": true,
   "toc_window_display": false
  }
 },
 "nbformat": 4,
 "nbformat_minor": 4
}
