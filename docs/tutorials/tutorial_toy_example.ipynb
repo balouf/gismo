{
 "cells": [
  {
   "cell_type": "markdown",
   "metadata": {},
   "source": [
    "# Using Gismo on a toy example"
   ]
  },
  {
   "cell_type": "markdown",
   "metadata": {},
   "source": [
    "A typical Gismo workflow stands as follows:\n",
    "- Its input is a list of objects, called the source;\n",
    "- A source is wrapped into a Corpus object;\n",
    "- A dual embedding is computed that relates objects and their content;\n",
    "- The embedding fuels a query-based ranking function;\n",
    "- The best results of a query can be organized in a hierarchical way."
   ]
  },
  {
   "cell_type": "markdown",
   "metadata": {},
   "source": [
    "## Source"
   ]
  },
  {
   "cell_type": "markdown",
   "metadata": {},
   "source": [
    "In Gismo, a source is a list of objects. The typical case is when objects are documents represented by a string or a dictionary.\n",
    "\n",
    "For tutoring, gismo provides a toy source, in both string and dict format."
   ]
  },
  {
   "cell_type": "code",
   "execution_count": 1,
   "metadata": {
    "ExecuteTime": {
     "end_time": "2020-05-03T16:54:14.937006Z",
     "start_time": "2020-05-03T16:54:14.912945Z"
    }
   },
   "outputs": [
    {
     "data": {
      "text/plain": [
       "['Gizmo is a Mogwaï.',\n",
       " 'This is a sentence about Blade.',\n",
       " 'This is another sentence about Shadoks.',\n",
       " 'This very long sentence, with a lot of stuff about Star Wars inside, makes at some point a side reference to the Gremlins movie by comparing Gizmo and Yoda.',\n",
       " 'In chinese folklore, a Mogwaï is a demon.']"
      ]
     },
     "execution_count": 1,
     "metadata": {},
     "output_type": "execute_result"
    }
   ],
   "source": [
    "from gismo.common import toy_source_text\n",
    "toy_source_text"
   ]
  },
  {
   "cell_type": "code",
   "execution_count": 2,
   "metadata": {
    "ExecuteTime": {
     "end_time": "2020-05-03T16:54:38.174040Z",
     "start_time": "2020-05-03T16:54:38.164036Z"
    }
   },
   "outputs": [
    {
     "data": {
      "text/plain": [
       "[{'title': 'First Document', 'content': 'Gizmo is a Mogwaï.'},\n",
       " {'title': 'Second Document', 'content': 'This is a sentence about Blade.'},\n",
       " {'title': 'Third Document',\n",
       "  'content': 'This is another sentence about Shadoks.'},\n",
       " {'title': 'Fourth Document',\n",
       "  'content': 'This very long sentence, with a lot of stuff about Star Wars inside, makes at some point a side reference to the Gremlins movie by comparing Gizmo and Yoda.'},\n",
       " {'title': 'Fifth Document',\n",
       "  'content': 'In chinese folklore, a Mogwaï is a demon.'}]"
      ]
     },
     "execution_count": 2,
     "metadata": {},
     "output_type": "execute_result"
    }
   ],
   "source": [
    "from gismo.common import toy_source_dict\n",
    "toy_source_dict"
   ]
  },
  {
   "cell_type": "markdown",
   "metadata": {},
   "source": [
    "## Corpus"
   ]
  },
  {
   "cell_type": "markdown",
   "metadata": {},
   "source": [
    "A corpus is mostly a wrapper around a source that tells how to convert source objects to string and provides basic I/O capacities."
   ]
  },
  {
   "cell_type": "markdown",
   "metadata": {},
   "source": [
    "### Construction and basic use"
   ]
  },
  {
   "cell_type": "code",
   "execution_count": 3,
   "metadata": {
    "ExecuteTime": {
     "end_time": "2020-05-03T17:03:11.792301Z",
     "start_time": "2020-05-03T17:03:11.784372Z"
    }
   },
   "outputs": [],
   "source": [
    "from gismo.corpus import Corpus\n",
    "corpus = Corpus(source=toy_source_dict, to_text=lambda e: e['content'])"
   ]
  },
  {
   "cell_type": "markdown",
   "metadata": {},
   "source": [
    "The source itself is stored as attribute of the corpus."
   ]
  },
  {
   "cell_type": "code",
   "execution_count": 4,
   "metadata": {
    "ExecuteTime": {
     "end_time": "2020-05-03T17:03:54.861946Z",
     "start_time": "2020-05-03T17:03:54.852908Z"
    }
   },
   "outputs": [
    {
     "data": {
      "text/plain": [
       "True"
      ]
     },
     "execution_count": 4,
     "metadata": {},
     "output_type": "execute_result"
    }
   ],
   "source": [
    "corpus.source == toy_source_dict"
   ]
  },
  {
   "cell_type": "markdown",
   "metadata": {},
   "source": [
    "The corpus can provide length and individual elements of the source."
   ]
  },
  {
   "cell_type": "code",
   "execution_count": 5,
   "metadata": {
    "ExecuteTime": {
     "end_time": "2020-05-03T17:04:21.742365Z",
     "start_time": "2020-05-03T17:04:21.732960Z"
    }
   },
   "outputs": [
    {
     "data": {
      "text/plain": [
       "5"
      ]
     },
     "execution_count": 5,
     "metadata": {},
     "output_type": "execute_result"
    }
   ],
   "source": [
    "len(corpus)"
   ]
  },
  {
   "cell_type": "code",
   "execution_count": 6,
   "metadata": {
    "ExecuteTime": {
     "end_time": "2020-05-03T17:04:26.784189Z",
     "start_time": "2020-05-03T17:04:26.776048Z"
    }
   },
   "outputs": [
    {
     "data": {
      "text/plain": [
       "{'title': 'Third Document',\n",
       " 'content': 'This is another sentence about Shadoks.'}"
      ]
     },
     "execution_count": 6,
     "metadata": {},
     "output_type": "execute_result"
    }
   ],
   "source": [
    "corpus[2]"
   ]
  },
  {
   "cell_type": "markdown",
   "metadata": {},
   "source": [
    "The iterator ``iterate`` iterates through the source."
   ]
  },
  {
   "cell_type": "code",
   "execution_count": 8,
   "metadata": {
    "ExecuteTime": {
     "end_time": "2020-05-03T17:07:19.958461Z",
     "start_time": "2020-05-03T17:07:19.947456Z"
    }
   },
   "outputs": [
    {
     "data": {
      "text/plain": [
       "['First', 'Second', 'Third', 'Fourth', 'Fifth']"
      ]
     },
     "execution_count": 8,
     "metadata": {},
     "output_type": "execute_result"
    }
   ],
   "source": [
    "[e['title'].split(' ')[0] for e in corpus.iterate()]"
   ]
  },
  {
   "cell_type": "markdown",
   "metadata": {},
   "source": [
    "### iterate_text method"
   ]
  },
  {
   "cell_type": "markdown",
   "metadata": {},
   "source": [
    "Note that all actions above can be directly performed on the source and do not justify the introduction of a Corpus class. The main interest of the class is the ``ìterate_text`` operator. Indeed, the Embedding class that comes next requires a string operator. The Corpus class facilitates this."
   ]
  },
  {
   "cell_type": "code",
   "execution_count": 9,
   "metadata": {
    "ExecuteTime": {
     "end_time": "2020-05-03T17:10:49.906719Z",
     "start_time": "2020-05-03T17:10:49.896332Z"
    }
   },
   "outputs": [
    {
     "data": {
      "text/plain": [
       "['Gizmo is a Mogwaï.',\n",
       " 'This is a sentence about Blade.',\n",
       " 'This is another sentence about Shadoks.',\n",
       " 'This very long sentence, with a lot of stuff about Star Wars inside, makes at some point a side reference to the Gremlins movie by comparing Gizmo and Yoda.',\n",
       " 'In chinese folklore, a Mogwaï is a demon.']"
      ]
     },
     "execution_count": 9,
     "metadata": {},
     "output_type": "execute_result"
    }
   ],
   "source": [
    "[e for e in corpus.iterate_text()]"
   ]
  },
  {
   "cell_type": "markdown",
   "metadata": {},
   "source": [
    "Remark: the corpus ``to_text`` function can be overridden on the fly. This can be handy if one needs to consider multiple views of a same source without creating two Corpus objects."
   ]
  },
  {
   "cell_type": "code",
   "execution_count": 10,
   "metadata": {
    "ExecuteTime": {
     "end_time": "2020-05-03T17:17:05.227695Z",
     "start_time": "2020-05-03T17:17:05.216267Z"
    }
   },
   "outputs": [
    {
     "data": {
      "text/plain": [
       "['.ïawgoM a si omziG',\n",
       " '.edalB tuoba ecnetnes a si sihT',\n",
       " '.skodahS tuoba ecnetnes rehtona si sihT',\n",
       " '.adoY dna omziG gnirapmoc yb eivom snilmerG eht ot ecnerefer edis a tniop emos ta sekam ,edisni sraW ratS tuoba ffuts fo tol a htiw ,ecnetnes gnol yrev sihT',\n",
       " '.nomed a si ïawgoM a ,erolklof esenihc nI']"
      ]
     },
     "execution_count": 10,
     "metadata": {},
     "output_type": "execute_result"
    }
   ],
   "source": [
    "[e for e in corpus.iterate_text(to_text=lambda e: e['content'][::-1])]"
   ]
  },
  {
   "cell_type": "markdown",
   "metadata": {},
   "source": [
    "### I/O"
   ]
  },
  {
   "cell_type": "markdown",
   "metadata": {},
   "source": [
    "Like most Gismo objects, a basic I/O interface is provided for Corpus."
   ]
  },
  {
   "cell_type": "code",
   "execution_count": 11,
   "metadata": {
    "ExecuteTime": {
     "end_time": "2020-05-03T17:46:33.723247Z",
     "start_time": "2020-05-03T17:46:33.680474Z"
    }
   },
   "outputs": [
    {
     "data": {
      "text/plain": [
       "'Gizmo is a Mogwaï.'"
      ]
     },
     "execution_count": 11,
     "metadata": {},
     "output_type": "execute_result"
    }
   ],
   "source": [
    "import tempfile\n",
    "corpus1 = Corpus(toy_source_text)\n",
    "with tempfile.TemporaryDirectory() as tmpdirname:\n",
    "    corpus1.save(filename=\"myfile\", path=tmpdirname)\n",
    "    corpus2 = Corpus(filename=\"myfile\", path=tmpdirname)\n",
    "corpus2[0]"
   ]
  },
  {
   "cell_type": "markdown",
   "metadata": {},
   "source": [
    "## Embedding "
   ]
  },
  {
   "cell_type": "markdown",
   "metadata": {},
   "source": [
    "The Embedding class computes the relationships between the corpus and the features of its elements."
   ]
  },
  {
   "cell_type": "markdown",
   "metadata": {},
   "source": [
    "### X/Y convention"
   ]
  },
  {
   "cell_type": "markdown",
   "metadata": {},
   "source": [
    "For most scenarios, objects of a corpus are documents and features are words. But not always. For example, you can assume scientific articles as documents and authors as features. Or authors as documents and the words they use as features."
   ]
  },
  {
   "cell_type": "markdown",
   "metadata": {},
   "source": [
    "## Ranking"
   ]
  },
  {
   "cell_type": "markdown",
   "metadata": {},
   "source": [
    "## Structuring"
   ]
  }
 ],
 "metadata": {
  "kernelspec": {
   "display_name": "Python 3",
   "language": "python",
   "name": "python3"
  },
  "language_info": {
   "codemirror_mode": {
    "name": "ipython",
    "version": 3
   },
   "file_extension": ".py",
   "mimetype": "text/x-python",
   "name": "python",
   "nbconvert_exporter": "python",
   "pygments_lexer": "ipython3",
   "version": "3.7.7"
  },
  "toc": {
   "base_numbering": 1,
   "nav_menu": {},
   "number_sections": false,
   "sideBar": true,
   "skip_h1_title": false,
   "title_cell": "Table of Contents",
   "title_sidebar": "Contents",
   "toc_cell": false,
   "toc_position": {},
   "toc_section_display": true,
   "toc_window_display": true
  }
 },
 "nbformat": 4,
 "nbformat_minor": 4
}
