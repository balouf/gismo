{
 "cells": [
  {
   "cell_type": "markdown",
   "metadata": {},
   "source": [
    "# DBLP exploration"
   ]
  },
  {
   "cell_type": "markdown",
   "metadata": {},
   "source": [
    "This tutorial shows how explore DBLP with Gismo.\n",
    "\n",
    "If you have never used Gismo before, you may want to start with the *Toy example tutorial* or the *ACM* tutorial.\n",
    "\n",
    "Note: the DBLP databased is not small. Recommended requirements to excute this Notebook:\n",
    "- Fast Internet connection (you will need to download a few hundred Mb)\n",
    "- 4 Gb of free space\n",
    "- 4 Gb of RAM (8Gb or more recommended)\n",
    "- Descent CPU (can take more than one hour on slow CPUs)\n",
    "\n",
    "Here, *documents* are articles in DBLP. The *features* of an article category will vary."
   ]
  },
  {
   "cell_type": "markdown",
   "metadata": {},
   "source": [
    "## Initialisation"
   ]
  },
  {
   "cell_type": "markdown",
   "metadata": {},
   "source": [
    "First, we load the required packages."
   ]
  },
  {
   "cell_type": "code",
   "execution_count": 1,
   "metadata": {
    "ExecuteTime": {
     "end_time": "2020-07-22T13:53:50.991801Z",
     "start_time": "2020-07-22T13:53:46.666437Z"
    }
   },
   "outputs": [],
   "source": [
    "import numpy as np\n",
    "import spacy\n",
    "from sklearn.feature_extraction.text import CountVectorizer\n",
    "from sklearn.metrics.pairwise import cosine_similarity\n",
    "from pathlib import Path\n",
    "from functools import partial\n",
    "\n",
    "from gismo.datasets.dblp import Dblp\n",
    "from gismo.filesource import FileSource\n",
    "from gismo.corpus import Corpus\n",
    "from gismo.embedding import Embedding\n",
    "from gismo.gismo import Gismo\n",
    "from gismo.post_processing import post_features_cluster_print, post_documents_cluster_print"
   ]
  },
  {
   "cell_type": "markdown",
   "metadata": {},
   "source": [
    "Then, we prepare the DBLP source."
   ]
  },
  {
   "cell_type": "markdown",
   "metadata": {},
   "source": [
    "First we choose the location of the DBLP files. If you want to run this Notebook at your place, please change the path below and check that it exists."
   ]
  },
  {
   "cell_type": "code",
   "execution_count": 2,
   "metadata": {
    "ExecuteTime": {
     "end_time": "2020-07-22T13:53:51.018714Z",
     "start_time": "2020-07-22T13:53:50.996802Z"
    }
   },
   "outputs": [
    {
     "data": {
      "text/plain": [
       "True"
      ]
     },
     "execution_count": 2,
     "metadata": {},
     "output_type": "execute_result"
    }
   ],
   "source": [
    "path = Path(\"../../../../../Datasets/DBLP\")\n",
    "path.exists()"
   ]
  },
  {
   "cell_type": "markdown",
   "metadata": {},
   "source": [
    "Construction of the dblp files. Only needs to be performed the first time or when you want to refresh the database. Takes about 10 minutes on a Surface Pro 4 with fiber Internet connection."
   ]
  },
  {
   "cell_type": "code",
   "execution_count": 3,
   "metadata": {
    "ExecuteTime": {
     "end_time": "2020-07-22T13:53:51.045553Z",
     "start_time": "2020-07-22T13:53:51.025129Z"
    }
   },
   "outputs": [
    {
     "name": "stdout",
     "output_type": "stream",
     "text": [
      "File ..\\..\\..\\..\\..\\Datasets\\DBLP\\dblp.xml.gz already exists. Use refresh option to overwrite.\n",
      "File ..\\..\\..\\..\\..\\Datasets\\DBLP\\dblp.data already exists. Use refresh option to overwrite.\n"
     ]
    }
   ],
   "source": [
    "dblp = Dblp(path=path)\n",
    "dblp.build()"
   ]
  },
  {
   "cell_type": "markdown",
   "metadata": {},
   "source": [
    "Then, we can load the database as a filesource."
   ]
  },
  {
   "cell_type": "code",
   "execution_count": 4,
   "metadata": {
    "ExecuteTime": {
     "end_time": "2020-07-22T13:53:51.104600Z",
     "start_time": "2020-07-22T13:53:51.048481Z"
    }
   },
   "outputs": [
    {
     "data": {
      "text/plain": [
       "{'type': 'article',\n",
       " 'title': 'Spectre Attacks: Exploiting Speculative Execution.',\n",
       " 'venue': 'meltdownattack.com',\n",
       " 'year': '2018',\n",
       " 'authors': ['Paul Kocher',\n",
       "  'Daniel Genkin',\n",
       "  'Daniel Gruss',\n",
       "  'Werner Haas',\n",
       "  'Mike Hamburg',\n",
       "  'Moritz Lipp',\n",
       "  'Stefan Mangard',\n",
       "  'Thomas Prescher 0002',\n",
       "  'Michael Schwarz 0001',\n",
       "  'Yuval Yarom']}"
      ]
     },
     "execution_count": 4,
     "metadata": {},
     "output_type": "execute_result"
    }
   ],
   "source": [
    "source = FileSource(filename=\"dblp\", path=path)\n",
    "source[0]"
   ]
  },
  {
   "cell_type": "markdown",
   "metadata": {},
   "source": [
    "Each article is a dict with fields ``type``, ``venue``, ``title``, ``year``, and ``authors``. We build a corpus that will tell Gismo that the content of an article is its ``title`` value."
   ]
  },
  {
   "cell_type": "code",
   "execution_count": 5,
   "metadata": {
    "ExecuteTime": {
     "end_time": "2020-07-22T13:53:51.115976Z",
     "start_time": "2020-07-22T13:53:51.109595Z"
    }
   },
   "outputs": [],
   "source": [
    "corpus = Corpus(source, to_text=lambda x: x['title'])"
   ]
  },
  {
   "cell_type": "markdown",
   "metadata": {},
   "source": [
    "We build an embedding on top of that corpus.\n",
    "- We set ``min_df=30`` to exclude rare features;\n",
    "- We set ``max_df=.02`` to exclude anything present in more than 2% of the corpus;\n",
    "- We use `spacy` to lemmatize & remove some stopwords; remove `preprocessor=...` from the input if you want to skip this (takes time);\n",
    "- A few manually selected stopwords to fine-tune things.\n",
    "- We set ``ngram_range=[1, 2]`` to include bi-grams in the embedding.\n",
    "\n",
    "This will take a few minutes (without spacy) up to a few hours (with spacy enabled). You can save the embedding for later if you want."
   ]
  },
  {
   "cell_type": "code",
   "execution_count": 6,
   "metadata": {
    "ExecuteTime": {
     "end_time": "2020-07-22T13:53:55.780461Z",
     "start_time": "2020-07-22T13:53:51.121093Z"
    }
   },
   "outputs": [],
   "source": [
    "nlp = spacy.load('en', disable=['parser', 'ner'])\n",
    "keep = {'ADJ', 'NOUN', 'NUM', 'PROPN', 'SYM', 'VERB'}\n",
    "vectorizer = CountVectorizer(min_df=30, max_df=.02, ngram_range=[1, 2], dtype=float,\n",
    "                             preprocessor=lambda txt: \" \".join([w.lemma_.lower() for w in nlp(txt) \n",
    "                                                                if w.pos_ in keep and not w.is_stop]),\n",
    "                             stop_words=['a', 'about', 'an', 'and', 'for', 'from', 'in', 'of', 'on', 'the', 'with'])\n",
    "embedding = Embedding(vectorizer=vectorizer)\n",
    "\n",
    "try:\n",
    "    embedding.load(filename=\"dblp_embedding\", path=path)\n",
    "except:\n",
    "    embedding.fit_transform(corpus)\n",
    "    embedding.save(filename=\"dblp_embedding\", path=path)"
   ]
  },
  {
   "cell_type": "code",
   "execution_count": 7,
   "metadata": {
    "ExecuteTime": {
     "end_time": "2020-07-22T13:53:55.796036Z",
     "start_time": "2020-07-22T13:53:55.786457Z"
    }
   },
   "outputs": [
    {
     "data": {
      "text/plain": [
       "<4889758x149361 sparse matrix of type '<class 'numpy.float64'>'\n",
       "\twith 45847196 stored elements in Compressed Sparse Row format>"
      ]
     },
     "execution_count": 7,
     "metadata": {},
     "output_type": "execute_result"
    }
   ],
   "source": [
    "embedding.x"
   ]
  },
  {
   "cell_type": "markdown",
   "metadata": {},
   "source": [
    "We see from ``embedding.x`` that the embedding links about 5,000,000 documents to 150,000 features. In average, each document is linked to about 10 features."
   ]
  },
  {
   "cell_type": "markdown",
   "metadata": {},
   "source": [
    "Now, we initiate the gismo object, and customize post_processers to ease the display."
   ]
  },
  {
   "cell_type": "code",
   "execution_count": 8,
   "metadata": {
    "ExecuteTime": {
     "end_time": "2020-07-22T13:53:55.812425Z",
     "start_time": "2020-07-22T13:53:55.803026Z"
    }
   },
   "outputs": [],
   "source": [
    "gismo = Gismo(corpus, embedding)"
   ]
  },
  {
   "cell_type": "code",
   "execution_count": 9,
   "metadata": {
    "ExecuteTime": {
     "end_time": "2020-07-22T13:53:55.838771Z",
     "start_time": "2020-07-22T13:53:55.818537Z"
    }
   },
   "outputs": [],
   "source": [
    "def post_article(g, i):\n",
    "    dic = g.corpus[i]\n",
    "    authors = \", \".join(dic['authors'])\n",
    "    return f\"{dic['title']} By {authors} ({dic['venue']}, {dic['year']})\"\n",
    "    \n",
    "gismo.post_documents_item = post_article\n",
    "\n",
    "def post_title(g, i):\n",
    "    return g.corpus[i]['title']\n",
    "    authors = \", \".join(dic['authors'])\n",
    "    return f\"{dic['title']} By {authors} ({dic['venue']}, {dic['year']})\"\n",
    "\n",
    "def post_meta(g, i):\n",
    "    dic = g.corpus[i]\n",
    "    authors = \", \".join(dic['authors'])\n",
    "    return f\"{authors} ({dic['venue']}, {dic['year']})\"\n",
    "\n",
    "\n",
    "gismo.post_documents_cluster = partial(post_documents_cluster_print, post_item=post_title)\n",
    "gismo.post_features_cluster = post_features_cluster_print"
   ]
  },
  {
   "cell_type": "markdown",
   "metadata": {},
   "source": [
    "As the dataset is big, we lower the precision of the computation to speed up things a little bit."
   ]
  },
  {
   "cell_type": "code",
   "execution_count": 10,
   "metadata": {
    "ExecuteTime": {
     "end_time": "2020-07-22T13:53:55.852471Z",
     "start_time": "2020-07-22T13:53:55.844265Z"
    }
   },
   "outputs": [],
   "source": [
    "gismo.parameters.n_iter = 2"
   ]
  },
  {
   "cell_type": "markdown",
   "metadata": {},
   "source": [
    "## Machine Learning (and Covid-19) query"
   ]
  },
  {
   "cell_type": "markdown",
   "metadata": {},
   "source": [
    "We perform the query *Machine learning*. The returned ``True`` tells that some of the query features were found in the corpus' features."
   ]
  },
  {
   "cell_type": "code",
   "execution_count": 11,
   "metadata": {
    "ExecuteTime": {
     "end_time": "2020-07-22T13:54:08.187443Z",
     "start_time": "2020-07-22T13:53:55.856755Z"
    }
   },
   "outputs": [
    {
     "data": {
      "text/plain": [
       "True"
      ]
     },
     "execution_count": 11,
     "metadata": {},
     "output_type": "execute_result"
    }
   ],
   "source": [
    "gismo.rank(\"Machine Learning\")"
   ]
  },
  {
   "cell_type": "markdown",
   "metadata": {},
   "source": [
    "What are the best articles on *Machine Learning*?"
   ]
  },
  {
   "cell_type": "code",
   "execution_count": 12,
   "metadata": {
    "ExecuteTime": {
     "end_time": "2020-07-22T13:54:08.201521Z",
     "start_time": "2020-07-22T13:54:08.192375Z"
    }
   },
   "outputs": [
    {
     "data": {
      "text/plain": [
       "['Can Machine Learning Model with Static Features be Fooled: an Adversarial Machine Learning Approach. By Rahim Taheri, Reza Javidan, Mohammad Shojafar, Vinod P, Mauro Conti (CoRR, 2019)',\n",
       " 'How Developers Iterate on Machine Learning Workflows - A Survey of the Applied Machine Learning Literature. By Doris Xin, Litian Ma, Shuchen Song, Aditya G. Parameswaran (CoRR, 2018)',\n",
       " 'Informed Machine Learning - Towards a Taxonomy of Explicit Integration of Knowledge into Machine Learning. By Laura von Rüden, Sebastian Mayer, Jochen Garcke, Christian Bauckhage, Jannis Schücker (CoRR, 2019)',\n",
       " 'Three Differential Emotion Classification by Machine Learning Algorithms using Physiological Signals - Discriminantion of Emotions by Machine Learning Algorithms. By Eun-Hye Jang, Byoung-Jun Park, Sang-Hyeob Kim, Jin-Hun Sohn (ICAART (1), 2012)',\n",
       " 'When Lempel-Ziv-Welch Meets Machine Learning: A Case Study of Accelerating Machine Learning using Coding. By Fengan Li, Lingjiao Chen, Arun Kumar 0001, Jeffrey F. Naughton, Jignesh M. Patel, Xi Wu 0001 (CoRR, 2017)',\n",
       " 'Linear Algebra and Optimization with Applications to Machine Learning - Volume I: Linear Algebra for Computer Vision, Robotics, and Machine Learning By Jean H. Gallier, Jocelyn Quaintance (Linear Algebra Optim. Appl. Mach. Learn. I, 2020)',\n",
       " 'Sports and machine learning: How young people can use data from their own bodies to learn about machine learning. By Abigail Zimmermann-Niefield, R. Benjamin Shapiro, Shaun K. Kane (ACM Crossroads, 2019)',\n",
       " 'Ethem Alpaydin. Introduction to Machine Learning (Adaptive Computation and Machine Learning Series). The MIT Press, 2004, ISBN 0 262 01211 1. By Shahzad Khan (Nat. Lang. Eng., 2008)',\n",
       " 'Motion Evaluation of Therapy Exercises by Means of Skeleton Normalisation, Incremental Dynamic Time Warping and Machine Learning: A Comparison of a Rule-Based and a Machine-Learning-Based Approach. By Julia Richter, Christian Wiede, Ulrich Heinkel, Gangolf Hirtz (VISIGRAPP (4: VISAPP), 2019)']"
      ]
     },
     "execution_count": 12,
     "metadata": {},
     "output_type": "execute_result"
    }
   ],
   "source": [
    "gismo.get_documents_by_rank()"
   ]
  },
  {
   "cell_type": "markdown",
   "metadata": {},
   "source": [
    "OK, this seems to go everywhere. Maybe we can narrow with a more specific request."
   ]
  },
  {
   "cell_type": "code",
   "execution_count": 13,
   "metadata": {
    "ExecuteTime": {
     "end_time": "2020-07-22T13:54:15.600494Z",
     "start_time": "2020-07-22T13:54:08.207200Z"
    }
   },
   "outputs": [
    {
     "data": {
      "text/plain": [
       "True"
      ]
     },
     "execution_count": 13,
     "metadata": {},
     "output_type": "execute_result"
    }
   ],
   "source": [
    "gismo.rank(\"Machine Learning and covid-19\")"
   ]
  },
  {
   "cell_type": "code",
   "execution_count": 14,
   "metadata": {
    "ExecuteTime": {
     "end_time": "2020-07-22T13:54:15.619344Z",
     "start_time": "2020-07-22T13:54:15.605493Z"
    }
   },
   "outputs": [
    {
     "data": {
      "text/plain": [
       "['GSA-DenseNet121-COVID-19: a Hybrid Deep Learning Architecture for the Diagnosis of COVID-19 Disease based on Gravitational Search Optimization Algorithm. By Dalia Ezzat, Aboul Ella Hassanien, Hassan Aboul Ella (CoRR, 2020)',\n",
       " 'NAIST COVID: Multilingual COVID-19 Twitter and Weibo Dataset. By Zhiwei Gao, Shuntaro Yada, Shoko Wakamiya, Eiji Aramaki (CoRR, 2020)',\n",
       " 'COVID-MobileXpert: On-Device COVID-19 Screening using Snapshots of Chest X-Ray. By Xin Li, Chengyin Li, Dongxiao Zhu (CoRR, 2020)',\n",
       " 'Deep-COVID: Predicting COVID-19 From Chest X-Ray Images Using Deep Transfer Learning. By Shervin Minaee, Rahele Kafieh, Milan Sonka, Shakib Yazdani, Ghazaleh Jamalipour Soufi (CoRR, 2020)',\n",
       " 'COVID-CAPS: A Capsule Network-based Framework for Identification of COVID-19 cases from X-ray Images. By Parnian Afshar, Shahin Heidarian, Farnoosh Naderkhani, Anastasia Oikonomou, Konstantinos N. Plataniotis, Arash Mohammadi 0001 (CoRR, 2020)',\n",
       " 'COVID-Net: A Tailored Deep Convolutional Neural Network Design for Detection of COVID-19 Cases from Chest Radiography Images. By Linda Wang, Alexander Wong (CoRR, 2020)',\n",
       " 'CORD-19: The Covid-19 Open Research Dataset. By Lucy Lu Wang, Kyle Lo, Yoganand Chandrasekhar, Russell Reas, Jiangjiang Yang, Darrin Eide, Kathryn Funk, Rodney Kinney, Ziyang Liu, William Merrill, Paul Mooney, Dewey Murdick, Devvret Rishi, Jerry Sheehan, Zhihong Shen, Brandon Stilson, Alex D. Wade, Kuansan Wang, Chris Wilhelm, Boya Xie, Douglas Raymond, Daniel S. Weld, Oren Etzioni, Sebastian Kohlmeier (CoRR, 2020)',\n",
       " 'A SIDARTHE Model of COVID-19 Epidemic in Italy. By Giulia Giordano, Franco Blanchini, Raffaele Bruno, Patrizio Colaneri, Alessandro Di Filippo, Angela Di Matteo, Marta Colaneri (CoRR, 2020)',\n",
       " 'A First Instagram Dataset on COVID-19. By Koosha Zarei, Reza Farahbakhsh, Noël Crespi, Gareth Tyson (CoRR, 2020)',\n",
       " 'SurviveCovid-19 - A Game for Improving Awareness of Social Distancing and Health Measures for Covid-19 Pandemic. By Akhila Sri Manasa Venigalla, Dheeraj Vagavolu, Sridhar Chimalakonda (CoRR, 2020)',\n",
       " 'Responding to the COVID-19 pandemic: an invitation. By Mikael Wiberg, Alex S. Taylor, Daniela Rosner (Interactions, 2020)',\n",
       " 'Tracing Contacts to Control the COVID-19 Pandemic. By Christoph Günther 0001, Michael Günther 0007, Daniel Günther 0005 (CoRR, 2020)',\n",
       " 'Learning to Forecast and Forecasting to Learn from the COVID-19 Pandemic. By Ajitesh Srivastava, Viktor K. Prasanna (CoRR, 2020)',\n",
       " 'Campus Traffic and e-Learning during COVID-19 Pandemic. By Thomas Favale, Francesca Soro, Martino Trevisan, Idilio Drago, Marco Mellia (CoRR, 2020)',\n",
       " 'MiniSeg: An Extremely Minimum Network for Efficient COVID-19 Segmentation. By Yu Qiu, Yun Liu, Jing Xu (CoRR, 2020)',\n",
       " 'COVID-19 Image Data Collection. By Joseph Paul Cohen, Paul Morrison, Lan Dao (CoRR, 2020)',\n",
       " 'The COVID-19 Social Media Infodemic. By Matteo Cinelli, Walter Quattrociocchi, Alessandro Galeazzi, Carlo Michele Valensise, Emanuele Brugnoli, Ana Lucía Schmidt, Paola Zola, Fabiana Zollo, Antonio Scala (CoRR, 2020)',\n",
       " 'Mobility Changes in Response to COVID-19. By Michael S. Warren, Samuel W. Skillman (CoRR, 2020)',\n",
       " 'Building a COVID-19 Vulnerability Index. By Dave DeCaprio, Joseph Gartner, Thadeus Burgess, Sarthak Kothari, Shaayan Sayed, Carol J. McCall (CoRR, 2020)',\n",
       " 'Why do People Share Misinformation during the COVID-19 Pandemic? By Samuli Laato, A. K. M. Najmul Islam, Muhammad Nazrul Islam, Eoin Whelan (CoRR, 2020)',\n",
       " 'CovidAID: COVID-19 Detection Using Chest X-Ray. By Arpan Mangal, Surya Kalia, Harish Rajgopal, Krithika Rangarajan, Vinay Namboodiri, Subhashis Banerjee, Chetan Arora 0001 (CoRR, 2020)']"
      ]
     },
     "execution_count": 14,
     "metadata": {},
     "output_type": "execute_result"
    }
   ],
   "source": [
    "gismo.get_documents_by_rank()"
   ]
  },
  {
   "cell_type": "markdown",
   "metadata": {},
   "source": [
    "Sounds nice. How are the top-10 articles related? Note: as the graph structure is really sparse on the document side (10 features), it is best to de-activate the query-distortion, which is intended for longer documents."
   ]
  },
  {
   "cell_type": "code",
   "execution_count": 15,
   "metadata": {
    "ExecuteTime": {
     "end_time": "2020-07-22T13:54:15.701479Z",
     "start_time": "2020-07-22T13:54:15.625788Z"
    }
   },
   "outputs": [
    {
     "name": "stdout",
     "output_type": "stream",
     "text": [
      " F: 0.56. R: 0.02. S: 0.93.\n",
      "- F: 0.57. R: 0.02. S: 0.92.\n",
      "-- GSA-DenseNet121-COVID-19: a Hybrid Deep Learning Architecture for the Diagnosis of COVID-19 Disease based on Gravitational Search Optimization Algorithm. (R: 0.00; S: 0.64)\n",
      "-- F: 0.66. R: 0.01. S: 0.91.\n",
      "--- F: 0.66. R: 0.01. S: 0.90.\n",
      "---- NAIST COVID: Multilingual COVID-19 Twitter and Weibo Dataset. (R: 0.00; S: 0.69)\n",
      "---- CORD-19: The Covid-19 Open Research Dataset. (R: 0.00; S: 0.76)\n",
      "---- A SIDARTHE Model of COVID-19 Epidemic in Italy. (R: 0.00; S: 0.79)\n",
      "---- A First Instagram Dataset on COVID-19. (R: 0.00; S: 0.80)\n",
      "--- F: 0.68. R: 0.00. S: 0.73.\n",
      "---- COVID-MobileXpert: On-Device COVID-19 Screening using Snapshots of Chest X-Ray. (R: 0.00; S: 0.70)\n",
      "---- Deep-COVID: Predicting COVID-19 From Chest X-Ray Images Using Deep Transfer Learning. (R: 0.00; S: 0.63)\n",
      "-- COVID-CAPS: A Capsule Network-based Framework for Identification of COVID-19 cases from X-ray Images. (R: 0.00; S: 0.60)\n",
      "-- COVID-Net: A Tailored Deep Convolutional Neural Network Design for Detection of COVID-19 Cases from Chest Radiography Images. (R: 0.00; S: 0.56)\n",
      "- SurviveCovid-19 - A Game for Improving Awareness of Social Distancing and Health Measures for Covid-19 Pandemic. (R: 0.00; S: 0.62)\n"
     ]
    }
   ],
   "source": [
    "gismo.parameters.distortion = 0.0\n",
    "gismo.get_documents_by_cluster(k=10)"
   ]
  },
  {
   "cell_type": "markdown",
   "metadata": {},
   "source": [
    "OK! Let's decode this: we have:\n",
    "- Lone wolves on gravitional search (first article) and serious gaming (last article)\n",
    "- A large cluster on applications of ML to X-Ray / CT scan processing\n",
    "- A cluster on datasets and social networks\n",
    "- Note that it's not perfect: the social network has been nested inside X-Ray although a manual classification would probably have put it nearby..."
   ]
  },
  {
   "cell_type": "markdown",
   "metadata": {},
   "source": [
    "Now, let's look at the main keywords."
   ]
  },
  {
   "cell_type": "code",
   "execution_count": 16,
   "metadata": {
    "ExecuteTime": {
     "end_time": "2020-07-22T13:54:15.717127Z",
     "start_time": "2020-07-22T13:54:15.705432Z"
    }
   },
   "outputs": [
    {
     "data": {
      "text/plain": [
       "['19',\n",
       " 'covid',\n",
       " 'covid 19',\n",
       " 'machine',\n",
       " 'machine learning',\n",
       " 'pandemic',\n",
       " 'chest',\n",
       " 'chest ray',\n",
       " 'coronavirus',\n",
       " 'ray',\n",
       " 'dataset',\n",
       " 'deep',\n",
       " 'ct',\n",
       " 'epidemic',\n",
       " 'ray image',\n",
       " 'social',\n",
       " 'learn',\n",
       " 'twitter',\n",
       " 'infection',\n",
       " 'spread']"
      ]
     },
     "execution_count": 16,
     "metadata": {},
     "output_type": "execute_result"
    }
   ],
   "source": [
    "gismo.get_features_by_rank(20)"
   ]
  },
  {
   "cell_type": "markdown",
   "metadata": {},
   "source": [
    "Let's organize them."
   ]
  },
  {
   "cell_type": "code",
   "execution_count": 17,
   "metadata": {
    "ExecuteTime": {
     "end_time": "2020-07-22T13:54:16.644910Z",
     "start_time": "2020-07-22T13:54:15.723240Z"
    }
   },
   "outputs": [
    {
     "name": "stdout",
     "output_type": "stream",
     "text": [
      " F: 0.15. R: 0.07. S: 0.93.\n",
      "- F: 0.26. R: 0.06. S: 0.93.\n",
      "-- F: 0.29. R: 0.06. S: 0.97.\n",
      "--- F: 0.97. R: 0.05. S: 0.98.\n",
      "---- 19 (R: 0.02; S: 0.99)\n",
      "---- covid (R: 0.02; S: 0.97)\n",
      "---- covid 19 (R: 0.02; S: 0.98)\n",
      "--- pandemic (R: 0.00; S: 0.32)\n",
      "--- F: 0.86. R: 0.00. S: 0.30.\n",
      "---- chest (R: 0.00; S: 0.32)\n",
      "---- chest ray (R: 0.00; S: 0.28)\n",
      "---- ray (R: 0.00; S: 0.33)\n",
      "--- dataset (R: 0.00; S: 0.28)\n",
      "-- coronavirus (R: 0.00; S: 0.27)\n",
      "- F: 0.79. R: 0.01. S: 0.14.\n",
      "-- machine (R: 0.00; S: 0.16)\n",
      "-- machine learning (R: 0.00; S: 0.12)\n"
     ]
    }
   ],
   "source": [
    "# On the feature side, the graph is more dense so we can use query distortion\n",
    "gismo.get_features_by_cluster(distortion=1)"
   ]
  },
  {
   "cell_type": "markdown",
   "metadata": {},
   "source": [
    "Rough, very broad analysis:\n",
    "- One big keyword cluster about Coronavirus / Covid-19;\n",
    "- Chest X-ray as a sub-cluster;\n",
    "- Machine Learning as a separate small cluster."
   ]
  },
  {
   "cell_type": "code",
   "execution_count": 18,
   "metadata": {
    "ExecuteTime": {
     "end_time": "2020-07-22T13:54:16.765082Z",
     "start_time": "2020-07-22T13:54:16.649082Z"
    }
   },
   "outputs": [
    {
     "data": {
      "text/plain": [
       "<1x4889758 sparse matrix of type '<class 'numpy.float64'>'\n",
       "\twith 56026 stored elements in Compressed Sparse Row format>"
      ]
     },
     "execution_count": 18,
     "metadata": {},
     "output_type": "execute_result"
    }
   ],
   "source": [
    "np.dot(gismo.embedding.query_projection(\"Machine learning\")[0], gismo.embedding.y)"
   ]
  },
  {
   "cell_type": "markdown",
   "metadata": {},
   "source": [
    "50,000 articles with an explicit link to machine learning."
   ]
  },
  {
   "cell_type": "code",
   "execution_count": 19,
   "metadata": {
    "ExecuteTime": {
     "end_time": "2020-07-22T13:54:16.879633Z",
     "start_time": "2020-07-22T13:54:16.769341Z"
    }
   },
   "outputs": [
    {
     "data": {
      "text/plain": [
       "<1x4889758 sparse matrix of type '<class 'numpy.float64'>'\n",
       "\twith 762 stored elements in Compressed Sparse Row format>"
      ]
     },
     "execution_count": 19,
     "metadata": {},
     "output_type": "execute_result"
    }
   ],
   "source": [
    "np.dot(gismo.embedding.query_projection(\"Covid-19\")[0], gismo.embedding.y)"
   ]
  },
  {
   "cell_type": "markdown",
   "metadata": {},
   "source": [
    "800 articles with an explicit link to covid-19."
   ]
  },
  {
   "cell_type": "markdown",
   "metadata": {},
   "source": [
    "## Authors query"
   ]
  },
  {
   "cell_type": "markdown",
   "metadata": {},
   "source": [
    "Instead of looking at words, we can explore authors and their collaborations."
   ]
  },
  {
   "cell_type": "markdown",
   "metadata": {},
   "source": [
    " We just have to rewire the corpus to output string of authors."
   ]
  },
  {
   "cell_type": "code",
   "execution_count": 20,
   "metadata": {
    "ExecuteTime": {
     "end_time": "2020-07-22T13:54:16.893314Z",
     "start_time": "2020-07-22T13:54:16.884585Z"
    }
   },
   "outputs": [],
   "source": [
    "def to_authors_text(dic):\n",
    "    return \" \".join([a.replace(' ', '_') for a in dic['authors']])\n",
    "corpus = Corpus(source, to_text=to_authors_text)"
   ]
  },
  {
   "cell_type": "markdown",
   "metadata": {},
   "source": [
    "We can build a new embedding on top of this modified corpus. We tell the vectorizer to be stupid: don't preprocess, words are separated spaces.\n",
    "\n",
    "This will take a few minutes (you can save the embedding for later if you want)."
   ]
  },
  {
   "cell_type": "code",
   "execution_count": 21,
   "metadata": {
    "ExecuteTime": {
     "end_time": "2020-07-22T13:54:24.022842Z",
     "start_time": "2020-07-22T13:54:16.898282Z"
    }
   },
   "outputs": [],
   "source": [
    "vectorizer = CountVectorizer(dtype=float,\n",
    "                            preprocessor=lambda x:x, tokenizer=lambda x: x.split(' '))\n",
    "a_embedding = Embedding(vectorizer=vectorizer)\n",
    "try:\n",
    "    a_embedding.load(filename=\"dblp_aut_embedding\", path=path)\n",
    "except:\n",
    "    a_embedding.fit_transform(corpus)\n",
    "    a_embedding.save(filename=\"dblp_aut_embedding\", path=path)"
   ]
  },
  {
   "cell_type": "code",
   "execution_count": 22,
   "metadata": {
    "ExecuteTime": {
     "end_time": "2020-07-22T13:54:24.037084Z",
     "start_time": "2020-07-22T13:54:24.027844Z"
    }
   },
   "outputs": [
    {
     "data": {
      "text/plain": [
       "<4889758x2532137 sparse matrix of type '<class 'numpy.float64'>'\n",
       "\twith 15083911 stored elements in Compressed Sparse Row format>"
      ]
     },
     "execution_count": 22,
     "metadata": {},
     "output_type": "execute_result"
    }
   ],
   "source": [
    "a_embedding.x"
   ]
  },
  {
   "cell_type": "markdown",
   "metadata": {},
   "source": [
    "We now have about 2,500,000 authors to explore. Let's reload gismo and try to play."
   ]
  },
  {
   "cell_type": "code",
   "execution_count": 23,
   "metadata": {
    "ExecuteTime": {
     "end_time": "2020-07-22T13:54:24.085673Z",
     "start_time": "2020-07-22T13:54:24.048021Z"
    }
   },
   "outputs": [],
   "source": [
    "gismo = Gismo(corpus, a_embedding)\n",
    "gismo.post_documents_item = post_article\n",
    "gismo.post_features_item = lambda g, i: g.embedding.features[i].replace(\"_\", \" \")"
   ]
  },
  {
   "cell_type": "code",
   "execution_count": 24,
   "metadata": {
    "ExecuteTime": {
     "end_time": "2020-07-22T13:54:24.098167Z",
     "start_time": "2020-07-22T13:54:24.091780Z"
    }
   },
   "outputs": [],
   "source": [
    "gismo.post_documents_cluster = partial(post_documents_cluster_print, post_item=post_meta)\n",
    "gismo.post_features_cluster = post_features_cluster_print"
   ]
  },
  {
   "cell_type": "markdown",
   "metadata": {},
   "source": [
    "### Laurent Massoulié query"
   ]
  },
  {
   "cell_type": "code",
   "execution_count": 25,
   "metadata": {
    "ExecuteTime": {
     "end_time": "2020-07-22T13:54:29.425523Z",
     "start_time": "2020-07-22T13:54:24.103470Z"
    }
   },
   "outputs": [
    {
     "data": {
      "text/plain": [
       "True"
      ]
     },
     "execution_count": 25,
     "metadata": {},
     "output_type": "execute_result"
    }
   ],
   "source": [
    "gismo.rank(\"Laurent_Massoulié\")"
   ]
  },
  {
   "cell_type": "markdown",
   "metadata": {},
   "source": [
    "What are the most central articles of Laurent Massoulié in terms of collaboration?"
   ]
  },
  {
   "cell_type": "code",
   "execution_count": 26,
   "metadata": {
    "ExecuteTime": {
     "end_time": "2020-07-22T13:54:29.441420Z",
     "start_time": "2020-07-22T13:54:29.429767Z"
    }
   },
   "outputs": [
    {
     "data": {
      "text/plain": [
       "['Robustness of Spectral Methods for Community Detection. By Ludovic Stephan, Laurent Massoulié (COLT, 2019)',\n",
       " 'Robustness of spectral methods for community detection. By Ludovic Stephan, Laurent Massoulié (CoRR, 2018)',\n",
       " 'From tree matching to sparse graph alignment. By Luca Ganassali, Laurent Massoulié (CoRR, 2020)',\n",
       " 'Spectral alignment of correlated Gaussian random matrices. By Luca Ganassali, Marc Lelarge, Laurent Massoulié (CoRR, 2019)',\n",
       " 'Planting trees in graphs, and finding them back. By Laurent Massoulié, Ludovic Stephan, Don Towsley (COLT, 2019)',\n",
       " 'Brief announcement: adaptive content placement for peer-to-peer video-on-demand systems. By Bo Tan 0002, Laurent Massoulié (PODC, 2010)',\n",
       " 'Optimal content placement for peer-to-peer video-on-demand systems. By Bo Tan 0002, Laurent Massoulié (INFOCOM, 2011)',\n",
       " 'Optimal Content Placement for Peer-to-Peer Video-on-Demand Systems. By Bo Tan 0002, Laurent Massoulié (IEEE/ACM Trans. Netw., 2013)',\n",
       " 'Scalable Local Area Service Discovery. By Richard Black, Heimir Sverrisson, Laurent Massoulié (ICC, 2007)',\n",
       " 'Non-Backtracking Spectrum of Degree-Corrected Stochastic Block Models. By Lennart Gulikers, Marc Lelarge, Laurent Massoulié (CoRR, 2016)']"
      ]
     },
     "execution_count": 26,
     "metadata": {},
     "output_type": "execute_result"
    }
   ],
   "source": [
    "gismo.get_documents_by_rank(k=10)"
   ]
  },
  {
   "cell_type": "markdown",
   "metadata": {},
   "source": [
    "We see lots of duplicates. This is not surprising as many articles can published first as a research report, then as a conference paper, last as a journal article. Luckily, Gismo can cover for you."
   ]
  },
  {
   "cell_type": "code",
   "execution_count": 27,
   "metadata": {
    "ExecuteTime": {
     "end_time": "2020-07-22T13:54:30.165069Z",
     "start_time": "2020-07-22T13:54:29.446236Z"
    }
   },
   "outputs": [
    {
     "data": {
      "text/plain": [
       "['Robustness of Spectral Methods for Community Detection. By Ludovic Stephan, Laurent Massoulié (COLT, 2019)',\n",
       " 'Robustness of spectral methods for community detection. By Ludovic Stephan, Laurent Massoulié (CoRR, 2018)',\n",
       " 'From tree matching to sparse graph alignment. By Luca Ganassali, Laurent Massoulié (CoRR, 2020)',\n",
       " 'Spectral alignment of correlated Gaussian random matrices. By Luca Ganassali, Marc Lelarge, Laurent Massoulié (CoRR, 2019)',\n",
       " 'Planting trees in graphs, and finding them back. By Laurent Massoulié, Ludovic Stephan, Don Towsley (COLT, 2019)',\n",
       " 'Brief announcement: adaptive content placement for peer-to-peer video-on-demand systems. By Bo Tan 0002, Laurent Massoulié (PODC, 2010)',\n",
       " 'Optimal content placement for peer-to-peer video-on-demand systems. By Bo Tan 0002, Laurent Massoulié (INFOCOM, 2011)',\n",
       " 'Optimal Content Placement for Peer-to-Peer Video-on-Demand Systems. By Bo Tan 0002, Laurent Massoulié (IEEE/ACM Trans. Netw., 2013)',\n",
       " 'Scalable Local Area Service Discovery. By Richard Black, Heimir Sverrisson, Laurent Massoulié (ICC, 2007)',\n",
       " 'Non-Backtracking Spectrum of Degree-Corrected Stochastic Block Models. By Lennart Gulikers, Marc Lelarge, Laurent Massoulié (CoRR, 2016)']"
      ]
     },
     "execution_count": 27,
     "metadata": {},
     "output_type": "execute_result"
    }
   ],
   "source": [
    "gismo.get_documents_by_coverage(k=10)"
   ]
  },
  {
   "cell_type": "markdown",
   "metadata": {},
   "source": [
    "Hum, not working well. The reason here is query distortion. Query distortion is a gismo feature that modulates the clustering with the query. Sadly, when features are authors, the underlying graph has a very specific structure (highly sparse and redundant) that makes query distortion *too* effective. The solution is to desactivate it."
   ]
  },
  {
   "cell_type": "code",
   "execution_count": 28,
   "metadata": {
    "ExecuteTime": {
     "end_time": "2020-07-22T13:54:30.291563Z",
     "start_time": "2020-07-22T13:54:30.170041Z"
    }
   },
   "outputs": [
    {
     "data": {
      "text/plain": [
       "['Robustness of Spectral Methods for Community Detection. By Ludovic Stephan, Laurent Massoulié (COLT, 2019)',\n",
       " 'Scalable Local Area Service Discovery. By Richard Black, Heimir Sverrisson, Laurent Massoulié (ICC, 2007)',\n",
       " 'Asynchronous Accelerated Proximal Stochastic Gradient for Strongly Convex Distributed Finite Sums. By Hadrien Hendrikx, Francis Bach, Laurent Massoulié (CoRR, 2019)',\n",
       " 'From tree matching to sparse graph alignment. By Luca Ganassali, Laurent Massoulié (CoRR, 2020)',\n",
       " 'Brief announcement: adaptive content placement for peer-to-peer video-on-demand systems. By Bo Tan 0002, Laurent Massoulié (PODC, 2010)',\n",
       " 'Non-Backtracking Spectrum of Degree-Corrected Stochastic Block Models. By Lennart Gulikers, Marc Lelarge, Laurent Massoulié (CoRR, 2016)',\n",
       " 'Adaptive matching for expert systems with uncertain task types. By Virag Shah, Lennart Gulikers, Laurent Massoulié, Milan Vojnovic (Allerton, 2017)',\n",
       " 'Spectral alignment of correlated Gaussian random matrices. By Luca Ganassali, Marc Lelarge, Laurent Massoulié (CoRR, 2019)',\n",
       " 'Planting trees in graphs, and finding them back. By Laurent Massoulié, Ludovic Stephan, Don Towsley (COLT, 2019)',\n",
       " 'Optimal content placement for peer-to-peer video-on-demand systems. By Bo Tan 0002, Laurent Massoulié (INFOCOM, 2011)']"
      ]
     },
     "execution_count": 28,
     "metadata": {},
     "output_type": "execute_result"
    }
   ],
   "source": [
    "gismo.parameters.distortion = 0\n",
    "gismo.get_documents_by_coverage(k=10)"
   ]
  },
  {
   "cell_type": "markdown",
   "metadata": {},
   "source": [
    "Much better. No duplicate and more diversity in the results. Let's observe the communities."
   ]
  },
  {
   "cell_type": "code",
   "execution_count": 29,
   "metadata": {
    "ExecuteTime": {
     "end_time": "2020-07-22T13:54:30.520518Z",
     "start_time": "2020-07-22T13:54:30.295695Z"
    }
   },
   "outputs": [
    {
     "name": "stdout",
     "output_type": "stream",
     "text": [
      " F: 0.36. R: 0.09. S: 0.87.\n",
      "- F: 0.36. R: 0.08. S: 0.86.\n",
      "-- F: 0.36. R: 0.06. S: 0.83.\n",
      "--- F: 0.36. R: 0.03. S: 0.73.\n",
      "---- F: 0.88. R: 0.01. S: 0.60.\n",
      "----- F: 1.00. R: 0.01. S: 0.60.\n",
      "------ Ludovic Stephan, Laurent Massoulié (COLT, 2019) (R: 0.00; S: 0.60)\n",
      "------ Ludovic Stephan, Laurent Massoulié (CoRR, 2018) (R: 0.00; S: 0.60)\n",
      "----- Laurent Massoulié, Ludovic Stephan, Don Towsley (COLT, 2019) (R: 0.00; S: 0.54)\n",
      "---- F: 1.00. R: 0.01. S: 0.61.\n",
      "----- Bo Tan 0002, Laurent Massoulié (PODC, 2010) (R: 0.00; S: 0.61)\n",
      "----- Bo Tan 0002, Laurent Massoulié (INFOCOM, 2011) (R: 0.00; S: 0.61)\n",
      "----- Bo Tan 0002, Laurent Massoulié (IEEE/ACM Trans. Netw., 2013) (R: 0.00; S: 0.61)\n",
      "--- F: 0.41. R: 0.03. S: 0.69.\n",
      "---- F: 0.86. R: 0.01. S: 0.59.\n",
      "----- Luca Ganassali, Laurent Massoulié (CoRR, 2020) (R: 0.00; S: 0.58)\n",
      "----- Luca Ganassali, Marc Lelarge, Laurent Massoulié (CoRR, 2019) (R: 0.00; S: 0.56)\n",
      "---- F: 0.61. R: 0.03. S: 0.60.\n",
      "----- F: 1.00. R: 0.02. S: 0.59.\n",
      "------ Lennart Gulikers, Marc Lelarge, Laurent Massoulié (CoRR, 2016) (R: 0.00; S: 0.59)\n",
      "------ Lennart Gulikers, Marc Lelarge, Laurent Massoulié (CoRR, 2015) (R: 0.00; S: 0.59)\n",
      "------ Lennart Gulikers, Marc Lelarge, Laurent Massoulié (CoRR, 2015) (R: 0.00; S: 0.59)\n",
      "------ Lennart Gulikers, Marc Lelarge, Laurent Massoulié (ITCS, 2017) (R: 0.00; S: 0.59)\n",
      "----- F: 1.00. R: 0.01. S: 0.47.\n",
      "------ Virag Shah, Lennart Gulikers, Laurent Massoulié, Milan Vojnovic (Allerton, 2017) (R: 0.00; S: 0.47)\n",
      "------ Virag Shah, Lennart Gulikers, Laurent Massoulié, Milan Vojnovic (CoRR, 2017) (R: 0.00; S: 0.47)\n",
      "-- F: 1.00. R: 0.02. S: 0.55.\n",
      "--- Hadrien Hendrikx, Francis Bach, Laurent Massoulié (CoRR, 2019) (R: 0.00; S: 0.55)\n",
      "--- Hadrien Hendrikx, Francis Bach, Laurent Massoulié (CoRR, 2019) (R: 0.00; S: 0.55)\n",
      "--- Hadrien Hendrikx, Francis Bach, Laurent Massoulié (AISTATS, 2019) (R: 0.00; S: 0.55)\n",
      "--- Hadrien Hendrikx, Laurent Massoulié, Francis Bach (CoRR, 2018) (R: 0.00; S: 0.55)\n",
      "--- Hadrien Hendrikx, Francis Bach, Laurent Massoulié (NeurIPS, 2019) (R: 0.00; S: 0.55)\n",
      "- Richard Black, Heimir Sverrisson, Laurent Massoulié (ICC, 2007) (R: 0.00; S: 0.47)\n"
     ]
    }
   ],
   "source": [
    "gismo.get_documents_by_cluster(k=20, resolution=.9)"
   ]
  },
  {
   "cell_type": "markdown",
   "metadata": {},
   "source": [
    "OK! We see that the articles are organized by writing commmunities. Also note how Gismo managed to organize a hierachical grouping of the communities."
   ]
  },
  {
   "cell_type": "markdown",
   "metadata": {},
   "source": [
    "Now, let's look in terms of authors. This is actually the interesting part when studying collaborations."
   ]
  },
  {
   "cell_type": "code",
   "execution_count": 30,
   "metadata": {
    "ExecuteTime": {
     "end_time": "2020-07-22T13:54:30.535788Z",
     "start_time": "2020-07-22T13:54:30.526255Z"
    }
   },
   "outputs": [
    {
     "data": {
      "text/plain": [
       "['Laurent Massoulié',\n",
       " 'Marc Lelarge',\n",
       " 'Stratis Ioannidis',\n",
       " 'Nidhi Hegde',\n",
       " 'Peter B. Key',\n",
       " 'Anne-Marie Kermarrec',\n",
       " 'Ayalvadi J. Ganesh',\n",
       " 'Lennart Gulikers',\n",
       " 'Hadrien Hendrikx',\n",
       " 'Francis Bach',\n",
       " 'Dan-Cristian Tomozei',\n",
       " 'Amin Karbasi',\n",
       " 'Milan Vojnovic',\n",
       " 'Augustin Chaintreau',\n",
       " 'Mathieu Leconte',\n",
       " 'Bo Tan 0002',\n",
       " 'James Roberts',\n",
       " 'Ludovic Stephan',\n",
       " 'Kuang Xu',\n",
       " 'Fabio Picconi']"
      ]
     },
     "execution_count": 30,
     "metadata": {},
     "output_type": "execute_result"
    }
   ],
   "source": [
    "gismo.get_features_by_rank()"
   ]
  },
  {
   "cell_type": "markdown",
   "metadata": {},
   "source": [
    "We see many authors that were not present in the articles listed above. This is an important observation: central articles (with respect to a query) are not necessarily written by central authors!\n",
    "\n",
    "Let's organize them into communities."
   ]
  },
  {
   "cell_type": "code",
   "execution_count": 31,
   "metadata": {
    "ExecuteTime": {
     "end_time": "2020-07-22T13:54:31.040528Z",
     "start_time": "2020-07-22T13:54:30.540333Z"
    }
   },
   "outputs": [
    {
     "name": "stdout",
     "output_type": "stream",
     "text": [
      " F: 0.00. R: 0.21. S: 0.52.\n",
      "- F: 0.00. R: 0.21. S: 0.52.\n",
      "-- F: 0.01. R: 0.21. S: 0.52.\n",
      "--- F: 0.02. R: 0.20. S: 0.51.\n",
      "---- F: 0.03. R: 0.17. S: 0.50.\n",
      "----- F: 0.04. R: 0.17. S: 0.49.\n",
      "------ F: 0.08. R: 0.16. S: 0.49.\n",
      "------- F: 0.13. R: 0.15. S: 0.50.\n",
      "-------- F: 0.15. R: 0.14. S: 0.49.\n",
      "--------- Laurent Massoulié (R: 0.10; S: 1.00)\n",
      "--------- Nidhi Hegde (R: 0.01; S: 0.18)\n",
      "--------- Peter B. Key (R: 0.01; S: 0.16)\n",
      "--------- Ayalvadi J. Ganesh (R: 0.01; S: 0.16)\n",
      "--------- Lennart Gulikers (R: 0.00; S: 0.22)\n",
      "--------- Hadrien Hendrikx (R: 0.00; S: 0.18)\n",
      "--------- Francis Bach (R: 0.00; S: 0.06)\n",
      "-------- Marc Lelarge (R: 0.01; S: 0.15)\n",
      "------- Milan Vojnovic (R: 0.00; S: 0.06)\n",
      "------ Anne-Marie Kermarrec (R: 0.01; S: 0.08)\n",
      "----- Mathieu Leconte (R: 0.00; S: 0.10)\n",
      "---- F: 0.03. R: 0.02. S: 0.14.\n",
      "----- F: 0.09. R: 0.02. S: 0.14.\n",
      "------ Stratis Ioannidis (R: 0.01; S: 0.15)\n",
      "------ Augustin Chaintreau (R: 0.00; S: 0.06)\n",
      "----- Amin Karbasi (R: 0.00; S: 0.05)\n",
      "---- Dan-Cristian Tomozei (R: 0.00; S: 0.08)\n",
      "---- Ludovic Stephan (R: 0.00; S: 0.16)\n",
      "--- Bo Tan 0002 (R: 0.00; S: 0.13)\n",
      "--- Fabio Picconi (R: 0.00; S: 0.08)\n",
      "-- James Roberts (R: 0.00; S: 0.06)\n",
      "- Kuang Xu (R: 0.00; S: 0.04)\n"
     ]
    }
   ],
   "source": [
    "gismo.get_features_by_cluster(resolution=.6)"
   ]
  },
  {
   "cell_type": "markdown",
   "metadata": {},
   "source": [
    "### Jim Roberts  query"
   ]
  },
  {
   "cell_type": "code",
   "execution_count": 32,
   "metadata": {
    "ExecuteTime": {
     "end_time": "2020-07-22T13:54:33.817728Z",
     "start_time": "2020-07-22T13:54:31.045289Z"
    }
   },
   "outputs": [
    {
     "data": {
      "text/plain": [
       "True"
      ]
     },
     "execution_count": 32,
     "metadata": {},
     "output_type": "execute_result"
    }
   ],
   "source": [
    "gismo.rank(\"James_W._Roberts\")"
   ]
  },
  {
   "cell_type": "markdown",
   "metadata": {},
   "source": [
    "Let's have a covering set of articles."
   ]
  },
  {
   "cell_type": "code",
   "execution_count": 33,
   "metadata": {
    "ExecuteTime": {
     "end_time": "2020-07-22T13:54:33.964313Z",
     "start_time": "2020-07-22T13:54:33.822719Z"
    }
   },
   "outputs": [
    {
     "data": {
      "text/plain": [
       "['Integrated Admission Control for Streaming and Elastic Traffic. By Nabil Benameur, Slim Ben Fredj, Frank Delcoigne, Sara Oueslati-Boulahia, James W. Roberts (QofIS, 2001)',\n",
       " 'An In-Camera Data Stream Processing System for Defect Detection in Web Inspection Tasks. By S. Hossain Hajimowlana, Roberto Muscedere, Graham A. Jullien, James W. Roberts (Real-Time Imaging, 1999)',\n",
       " \"Modifications of Thomae's Function and Differentiability. By Kevin Beanland, James W. Roberts, Craig Stevenson (The American Mathematical Monthly, 2009)\",\n",
       " 'A Traffic Control Framework for High Speed Data Transmission. By James W. Roberts, Brahim Bensaou, Y. Canetti (Modelling and Evaluation of ATM Networks, 1993)',\n",
       " 'Statistical bandwidth sharing: a study of congestion at flow level. By Slim Ben Fredj, Thomas Bonald, Alexandre Proutière, G. Régnié, James W. Roberts (SIGCOMM, 2001)',\n",
       " 'Swing: Traffic capacity of a simple WDM ring network. By Thomas Bonald, Sara Oueslati, James W. Roberts, Charlotte Roger (International Teletraffic Congress, 2009)',\n",
       " 'Impact of \"Trunk Reservation\" on Elastic Flow Routing. By Sara Oueslati-Boulahia, James W. Roberts (NETWORKING, 2000)',\n",
       " 'Traffic Control in the B-ISDN. By James W. Roberts (Computer Networks and ISDN Systems, 1993)',\n",
       " 'Burstiness Bounds Based Muliplexing Schemes for VBR Video Connections in the B-ISDN. By Maher Hamdi, James W. Roberts (International Zurich Seminar on Digital Communications, 1996)',\n",
       " 'Multi-resource fairness: Objectives, algorithms and performance. By Thomas Bonald, James W. Roberts (CoRR, 2014)']"
      ]
     },
     "execution_count": 33,
     "metadata": {},
     "output_type": "execute_result"
    }
   ],
   "source": [
    "gismo.get_documents_by_coverage(k=10)"
   ]
  },
  {
   "cell_type": "markdown",
   "metadata": {},
   "source": [
    "Who are the associated authors?"
   ]
  },
  {
   "cell_type": "code",
   "execution_count": 34,
   "metadata": {
    "ExecuteTime": {
     "end_time": "2020-07-22T13:54:33.979836Z",
     "start_time": "2020-07-22T13:54:33.969350Z"
    }
   },
   "outputs": [
    {
     "data": {
      "text/plain": [
       "['James W. Roberts',\n",
       " 'Thomas Bonald',\n",
       " 'Maher Hamdi',\n",
       " 'Sara Oueslati-Boulahia',\n",
       " 'Ali Ibrahim',\n",
       " 'Alexandre Proutière',\n",
       " 'Sara Oueslati',\n",
       " 'Jorma T. Virtamo',\n",
       " 'Slim Ben Fredj',\n",
       " 'Jussi Kangasharju']"
      ]
     },
     "execution_count": 34,
     "metadata": {},
     "output_type": "execute_result"
    }
   ],
   "source": [
    "gismo.get_features_by_rank(k=10)"
   ]
  },
  {
   "cell_type": "markdown",
   "metadata": {},
   "source": [
    "Let's organize them."
   ]
  },
  {
   "cell_type": "code",
   "execution_count": 35,
   "metadata": {
    "ExecuteTime": {
     "end_time": "2020-07-22T13:54:34.258676Z",
     "start_time": "2020-07-22T13:54:33.984428Z"
    }
   },
   "outputs": [
    {
     "name": "stdout",
     "output_type": "stream",
     "text": [
      " F: 0.01. R: 0.23. S: 0.55.\n",
      "- F: 0.01. R: 0.22. S: 0.54.\n",
      "-- F: 0.04. R: 0.20. S: 0.53.\n",
      "--- F: 0.16. R: 0.19. S: 0.53.\n",
      "---- F: 0.25. R: 0.17. S: 0.91.\n",
      "----- James W. Roberts (R: 0.12; S: 1.00)\n",
      "----- Thomas Bonald (R: 0.05; S: 0.28)\n",
      "---- F: 0.57. R: 0.02. S: 0.34.\n",
      "----- Sara Oueslati-Boulahia (R: 0.01; S: 0.28)\n",
      "----- Slim Ben Fredj (R: 0.01; S: 0.32)\n",
      "---- Sara Oueslati (R: 0.01; S: 0.16)\n",
      "--- Alexandre Proutière (R: 0.01; S: 0.05)\n",
      "-- Maher Hamdi (R: 0.01; S: 0.13)\n",
      "-- Ali Ibrahim (R: 0.01; S: 0.07)\n",
      "- F: 0.01. R: 0.01. S: 0.05.\n",
      "-- Jorma T. Virtamo (R: 0.01; S: 0.04)\n",
      "-- Jussi Kangasharju (R: 0.01; S: 0.03)\n"
     ]
    }
   ],
   "source": [
    "gismo.get_features_by_cluster(k=10, resolution=.4)"
   ]
  },
  {
   "cell_type": "markdown",
   "metadata": {},
   "source": [
    "### Combined queries"
   ]
  },
  {
   "cell_type": "markdown",
   "metadata": {},
   "source": [
    "We can input multiple authors."
   ]
  },
  {
   "cell_type": "code",
   "execution_count": 36,
   "metadata": {
    "ExecuteTime": {
     "end_time": "2020-07-22T13:54:39.691529Z",
     "start_time": "2020-07-22T13:54:34.263536Z"
    }
   },
   "outputs": [
    {
     "data": {
      "text/plain": [
       "True"
      ]
     },
     "execution_count": 36,
     "metadata": {},
     "output_type": "execute_result"
    }
   ],
   "source": [
    "gismo.rank(\"Laurent_Massoulié and James_W._Roberts\")"
   ]
  },
  {
   "cell_type": "markdown",
   "metadata": {},
   "source": [
    "Let's have a covering set of articles."
   ]
  },
  {
   "cell_type": "code",
   "execution_count": 37,
   "metadata": {
    "ExecuteTime": {
     "end_time": "2020-07-22T13:54:39.825243Z",
     "start_time": "2020-07-22T13:54:39.696198Z"
    }
   },
   "outputs": [
    {
     "data": {
      "text/plain": [
       "['Integrated Admission Control for Streaming and Elastic Traffic. By Nabil Benameur, Slim Ben Fredj, Frank Delcoigne, Sara Oueslati-Boulahia, James W. Roberts (QofIS, 2001)',\n",
       " 'An In-Camera Data Stream Processing System for Defect Detection in Web Inspection Tasks. By S. Hossain Hajimowlana, Roberto Muscedere, Graham A. Jullien, James W. Roberts (Real-Time Imaging, 1999)',\n",
       " \"Modifications of Thomae's Function and Differentiability. By Kevin Beanland, James W. Roberts, Craig Stevenson (The American Mathematical Monthly, 2009)\",\n",
       " 'A Traffic Control Framework for High Speed Data Transmission. By James W. Roberts, Brahim Bensaou, Y. Canetti (Modelling and Evaluation of ATM Networks, 1993)',\n",
       " 'Statistical bandwidth sharing: a study of congestion at flow level. By Slim Ben Fredj, Thomas Bonald, Alexandre Proutière, G. Régnié, James W. Roberts (SIGCOMM, 2001)',\n",
       " 'Swing: Traffic capacity of a simple WDM ring network. By Thomas Bonald, Sara Oueslati, James W. Roberts, Charlotte Roger (International Teletraffic Congress, 2009)',\n",
       " 'Impact of \"Trunk Reservation\" on Elastic Flow Routing. By Sara Oueslati-Boulahia, James W. Roberts (NETWORKING, 2000)',\n",
       " 'Traffic Control in the B-ISDN. By James W. Roberts (Computer Networks and ISDN Systems, 1993)',\n",
       " 'QoS Guarantees for Shaped Bit Rate Video Connections in Broadband Networks. By Maher Hamdi, James W. Roberts (MMNET, 1995)',\n",
       " 'Internet and the Erlang formula. By Thomas Bonald, James W. Roberts (Computer Communication Review, 2012)']"
      ]
     },
     "execution_count": 37,
     "metadata": {},
     "output_type": "execute_result"
    }
   ],
   "source": [
    "gismo.get_documents_by_coverage(k=10)"
   ]
  },
  {
   "cell_type": "markdown",
   "metadata": {},
   "source": [
    "Note that we get here only articles by Roberts, yet the articles returned have sightly changed."
   ]
  },
  {
   "cell_type": "markdown",
   "metadata": {},
   "source": [
    "Now, let's look at the main authors."
   ]
  },
  {
   "cell_type": "code",
   "execution_count": 38,
   "metadata": {
    "ExecuteTime": {
     "end_time": "2020-07-22T13:54:39.839783Z",
     "start_time": "2020-07-22T13:54:39.830256Z"
    }
   },
   "outputs": [
    {
     "data": {
      "text/plain": [
       "['James W. Roberts',\n",
       " 'Laurent Massoulié',\n",
       " 'Thomas Bonald',\n",
       " 'Nidhi Hegde',\n",
       " 'Maher Hamdi',\n",
       " 'Marc Lelarge',\n",
       " 'Stratis Ioannidis',\n",
       " 'Alexandre Proutière',\n",
       " 'Sara Oueslati-Boulahia',\n",
       " 'Ali Ibrahim',\n",
       " 'Peter B. Key',\n",
       " 'Jorma T. Virtamo',\n",
       " 'Sara Oueslati',\n",
       " 'Anne-Marie Kermarrec',\n",
       " 'Ayalvadi J. Ganesh',\n",
       " 'Slim Ben Fredj']"
      ]
     },
     "execution_count": 38,
     "metadata": {},
     "output_type": "execute_result"
    }
   ],
   "source": [
    "gismo.get_features_by_rank()"
   ]
  },
  {
   "cell_type": "markdown",
   "metadata": {},
   "source": [
    "We see a mix of both co-authors. How are they organized?"
   ]
  },
  {
   "cell_type": "code",
   "execution_count": 39,
   "metadata": {
    "ExecuteTime": {
     "end_time": "2020-07-22T13:54:40.101268Z",
     "start_time": "2020-07-22T13:54:39.844442Z"
    }
   },
   "outputs": [
    {
     "name": "stdout",
     "output_type": "stream",
     "text": [
      " F: 0.01. R: 0.20. S: 0.54.\n",
      "- F: 0.01. R: 0.20. S: 0.54.\n",
      "-- F: 0.05. R: 0.19. S: 0.53.\n",
      "--- F: 0.25. R: 0.09. S: 0.84.\n",
      "---- James W. Roberts (R: 0.06; S: 0.91)\n",
      "---- Thomas Bonald (R: 0.03; S: 0.26)\n",
      "--- F: 0.12. R: 0.08. S: 0.23.\n",
      "---- Laurent Massoulié (R: 0.05; S: 0.40)\n",
      "---- Nidhi Hegde (R: 0.01; S: 0.10)\n",
      "---- Marc Lelarge (R: 0.01; S: 0.06)\n",
      "---- Stratis Ioannidis (R: 0.01; S: 0.06)\n",
      "---- Alexandre Proutière (R: 0.01; S: 0.05)\n",
      "---- Peter B. Key (R: 0.00; S: 0.07)\n",
      "---- Ayalvadi J. Ganesh (R: 0.00; S: 0.06)\n",
      "--- F: 0.57. R: 0.01. S: 0.31.\n",
      "---- Sara Oueslati-Boulahia (R: 0.00; S: 0.26)\n",
      "---- Slim Ben Fredj (R: 0.00; S: 0.29)\n",
      "--- Sara Oueslati (R: 0.00; S: 0.15)\n",
      "--- Anne-Marie Kermarrec (R: 0.00; S: 0.03)\n",
      "-- Maher Hamdi (R: 0.01; S: 0.12)\n",
      "-- Ali Ibrahim (R: 0.00; S: 0.07)\n",
      "- Jorma T. Virtamo (R: 0.00; S: 0.04)\n"
     ]
    }
   ],
   "source": [
    "gismo.get_features_by_cluster(resolution=.4)"
   ]
  },
  {
   "cell_type": "markdown",
   "metadata": {},
   "source": [
    "## Cross-gismo"
   ]
  },
  {
   "cell_type": "markdown",
   "metadata": {},
   "source": [
    "Gismo can combine two embeddings two create one hybrid gismo. This is called a cross-gismo (XGismo). This features can be used to analyze authors with respect to the words they use (and vice-versa)."
   ]
  },
  {
   "cell_type": "code",
   "execution_count": 40,
   "metadata": {
    "ExecuteTime": {
     "end_time": "2020-07-22T13:55:24.161123Z",
     "start_time": "2020-07-22T13:54:40.106076Z"
    }
   },
   "outputs": [],
   "source": [
    "from gismo.gismo import XGismo\n",
    "gismo = XGismo(x_embedding=a_embedding, y_embedding=embedding)\n",
    "gismo.diteration.n_iter = 2 # to speed up a little bit computation time"
   ]
  },
  {
   "cell_type": "markdown",
   "metadata": {},
   "source": [
    "Note that XGismo does not use the underlying corpus, so we can now close the source (the source keeps the file ``dblp.data`` open)."
   ]
  },
  {
   "cell_type": "code",
   "execution_count": 41,
   "metadata": {
    "ExecuteTime": {
     "end_time": "2020-07-22T13:55:24.173387Z",
     "start_time": "2020-07-22T13:55:24.166060Z"
    }
   },
   "outputs": [],
   "source": [
    "source.close()"
   ]
  },
  {
   "cell_type": "code",
   "execution_count": 42,
   "metadata": {
    "ExecuteTime": {
     "end_time": "2020-07-22T13:55:24.195944Z",
     "start_time": "2020-07-22T13:55:24.177901Z"
    }
   },
   "outputs": [],
   "source": [
    "gismo.post_documents_item = lambda g, i: g.corpus[i].replace(\"_\", \" \")\n",
    "gismo.post_features_cluster = post_features_cluster_print\n",
    "gismo.post_documents_cluster = post_documents_cluster_print"
   ]
  },
  {
   "cell_type": "markdown",
   "metadata": {},
   "source": [
    "Let's try a request."
   ]
  },
  {
   "cell_type": "code",
   "execution_count": 43,
   "metadata": {
    "ExecuteTime": {
     "end_time": "2020-07-22T13:55:43.908630Z",
     "start_time": "2020-07-22T13:55:24.200893Z"
    }
   },
   "outputs": [
    {
     "data": {
      "text/plain": [
       "True"
      ]
     },
     "execution_count": 43,
     "metadata": {},
     "output_type": "execute_result"
    }
   ],
   "source": [
    "gismo.rank(\"self-stabilization\")"
   ]
  },
  {
   "cell_type": "markdown",
   "metadata": {},
   "source": [
    "What are the associated keywords?"
   ]
  },
  {
   "cell_type": "code",
   "execution_count": 44,
   "metadata": {
    "ExecuteTime": {
     "end_time": "2020-07-22T13:55:43.923247Z",
     "start_time": "2020-07-22T13:55:43.913280Z"
    }
   },
   "outputs": [
    {
     "data": {
      "text/plain": [
       "['stabilization',\n",
       " 'self',\n",
       " 'self stabilization',\n",
       " 'stabilize',\n",
       " 'self stabilize',\n",
       " 'distribute',\n",
       " 'distributed',\n",
       " 'robust',\n",
       " 'sensor',\n",
       " 'adaptive']"
      ]
     },
     "execution_count": 44,
     "metadata": {},
     "output_type": "execute_result"
    }
   ],
   "source": [
    "gismo.get_features_by_rank(k=10)"
   ]
  },
  {
   "cell_type": "markdown",
   "metadata": {},
   "source": [
    "How are keywords structured?"
   ]
  },
  {
   "cell_type": "code",
   "execution_count": 45,
   "metadata": {
    "ExecuteTime": {
     "end_time": "2020-07-22T13:55:49.697394Z",
     "start_time": "2020-07-22T13:55:43.927541Z"
    }
   },
   "outputs": [
    {
     "name": "stdout",
     "output_type": "stream",
     "text": [
      " F: 0.03. R: 0.02. S: 0.80.\n",
      "- F: 0.50. R: 0.02. S: 0.80.\n",
      "-- F: 0.65. R: 0.02. S: 0.80.\n",
      "--- F: 0.70. R: 0.02. S: 0.81.\n",
      "---- F: 0.77. R: 0.02. S: 0.81.\n",
      "----- F: 0.91. R: 0.01. S: 0.81.\n",
      "------ stabilization (R: 0.00; S: 0.81)\n",
      "------ self (R: 0.00; S: 0.75)\n",
      "------ self stabilization (R: 0.00; S: 0.82)\n",
      "------ stabilize (R: 0.00; S: 0.72)\n",
      "------ self stabilize (R: 0.00; S: 0.67)\n",
      "----- F: 0.86. R: 0.00. S: 0.75.\n",
      "------ distribute (R: 0.00; S: 0.68)\n",
      "------ distributed (R: 0.00; S: 0.76)\n",
      "----- F: 0.92. R: 0.00. S: 0.68.\n",
      "------ sensor (R: 0.00; S: 0.67)\n",
      "------ wireless (R: 0.00; S: 0.65)\n",
      "----- fault (R: 0.00; S: 0.75)\n",
      "---- adaptive (R: 0.00; S: 0.57)\n",
      "--- F: 0.82. R: 0.00. S: 0.47.\n",
      "---- F: 0.82. R: 0.00. S: 0.47.\n",
      "----- networks (R: 0.00; S: 0.75)\n",
      "----- byzantine (R: 0.00; S: 0.46)\n",
      "----- optimal (R: 0.00; S: 0.65)\n",
      "----- mobile (R: 0.00; S: 0.56)\n",
      "---- robot (R: 0.00; S: 0.44)\n",
      "-- robust (R: 0.00; S: 0.46)\n",
      "- F: 0.60. R: 0.00. S: 0.13.\n",
      "-- F: 0.68. R: 0.00. S: 0.10.\n",
      "--- nonlinear (R: 0.00; S: 0.08)\n",
      "--- delay (R: 0.00; S: 0.09)\n",
      "-- linear (R: 0.00; S: 0.26)\n"
     ]
    }
   ],
   "source": [
    "gismo.get_features_by_cluster(k=20, resolution=.8)"
   ]
  },
  {
   "cell_type": "markdown",
   "metadata": {},
   "source": [
    "Who are the associated researchers?"
   ]
  },
  {
   "cell_type": "code",
   "execution_count": 46,
   "metadata": {
    "ExecuteTime": {
     "end_time": "2020-07-22T13:55:49.709622Z",
     "start_time": "2020-07-22T13:55:49.700709Z"
    }
   },
   "outputs": [
    {
     "data": {
      "text/plain": [
       "['Ted Herman',\n",
       " 'Shlomi Dolev',\n",
       " 'Sébastien Tixeuil',\n",
       " 'Sukumar Ghosh',\n",
       " 'George Varghese',\n",
       " 'Shay Kutten',\n",
       " 'Toshimitsu Masuzawa',\n",
       " 'Stefan Schmid 0001',\n",
       " 'Swan Dubois',\n",
       " 'Bertrand Ducourthial']"
      ]
     },
     "execution_count": 46,
     "metadata": {},
     "output_type": "execute_result"
    }
   ],
   "source": [
    "gismo.get_documents_by_rank(k=10)"
   ]
  },
  {
   "cell_type": "markdown",
   "metadata": {},
   "source": [
    "How are they structured?"
   ]
  },
  {
   "cell_type": "code",
   "execution_count": 47,
   "metadata": {
    "ExecuteTime": {
     "end_time": "2020-07-22T13:55:49.810925Z",
     "start_time": "2020-07-22T13:55:49.713035Z"
    }
   },
   "outputs": [
    {
     "name": "stdout",
     "output_type": "stream",
     "text": [
      " F: 0.79. R: 0.05. S: 0.84.\n",
      "- F: 0.88. R: 0.05. S: 0.84.\n",
      "-- F: 0.93. R: 0.04. S: 0.83.\n",
      "--- F: 0.95. R: 0.03. S: 0.83.\n",
      "---- Ted Herman (R: 0.01; S: 0.81)\n",
      "---- Sébastien Tixeuil (R: 0.01; S: 0.83)\n",
      "---- Sukumar Ghosh (R: 0.01; S: 0.80)\n",
      "---- Swan Dubois (R: 0.00; S: 0.79)\n",
      "--- F: 0.96. R: 0.02. S: 0.78.\n",
      "---- Shlomi Dolev (R: 0.01; S: 0.78)\n",
      "---- Shay Kutten (R: 0.00; S: 0.83)\n",
      "---- Toshimitsu Masuzawa (R: 0.00; S: 0.72)\n",
      "-- F: 0.98. R: 0.01. S: 0.80.\n",
      "--- George Varghese (R: 0.00; S: 0.82)\n",
      "--- Bertrand Ducourthial (R: 0.00; S: 0.79)\n",
      "- Stefan Schmid 0001 (R: 0.00; S: 0.72)\n"
     ]
    }
   ],
   "source": [
    "gismo.get_documents_by_cluster(k=10, resolution=.9)"
   ]
  },
  {
   "cell_type": "markdown",
   "metadata": {},
   "source": [
    "We can also query researchers. Just use underscores in the query and add `y=False` to indicate that the input is *documents*."
   ]
  },
  {
   "cell_type": "code",
   "execution_count": 48,
   "metadata": {
    "ExecuteTime": {
     "end_time": "2020-07-22T13:56:12.172735Z",
     "start_time": "2020-07-22T13:55:49.815928Z"
    }
   },
   "outputs": [
    {
     "data": {
      "text/plain": [
       "True"
      ]
     },
     "execution_count": 48,
     "metadata": {},
     "output_type": "execute_result"
    }
   ],
   "source": [
    "gismo.rank(\"Sébastien_Tixeuil and Fabien_Mathieu\", y=False)"
   ]
  },
  {
   "cell_type": "markdown",
   "metadata": {},
   "source": [
    "What are the associated keywords?"
   ]
  },
  {
   "cell_type": "code",
   "execution_count": 49,
   "metadata": {
    "ExecuteTime": {
     "end_time": "2020-07-22T13:56:12.190150Z",
     "start_time": "2020-07-22T13:56:12.179352Z"
    }
   },
   "outputs": [
    {
     "data": {
      "text/plain": [
       "['p2p',\n",
       " 'byzantine',\n",
       " 'stabilization',\n",
       " 'stabilize',\n",
       " 'p2p network',\n",
       " 'refresh',\n",
       " 'reload',\n",
       " 'self',\n",
       " 'self stabilize',\n",
       " 'self stabilization']"
      ]
     },
     "execution_count": 49,
     "metadata": {},
     "output_type": "execute_result"
    }
   ],
   "source": [
    "gismo.get_features_by_rank(k=10)"
   ]
  },
  {
   "cell_type": "markdown",
   "metadata": {},
   "source": [
    "Using covering can yield other keywords of interest."
   ]
  },
  {
   "cell_type": "code",
   "execution_count": 50,
   "metadata": {
    "ExecuteTime": {
     "end_time": "2020-07-22T13:56:15.306226Z",
     "start_time": "2020-07-22T13:56:12.194999Z"
    }
   },
   "outputs": [
    {
     "data": {
      "text/plain": [
       "['p2p',\n",
       " 'byzantine',\n",
       " 'grid',\n",
       " 'preference',\n",
       " 'pagerank',\n",
       " 'p2p network',\n",
       " 'refresh',\n",
       " 'streaming',\n",
       " 'acyclic',\n",
       " 'stabilization']"
      ]
     },
     "execution_count": 50,
     "metadata": {},
     "output_type": "execute_result"
    }
   ],
   "source": [
    "gismo.get_features_by_coverage(k=10)"
   ]
  },
  {
   "cell_type": "markdown",
   "metadata": {},
   "source": [
    "How are keywords structured?"
   ]
  },
  {
   "cell_type": "code",
   "execution_count": 51,
   "metadata": {
    "ExecuteTime": {
     "end_time": "2020-07-22T13:56:18.247040Z",
     "start_time": "2020-07-22T13:56:15.311230Z"
    }
   },
   "outputs": [
    {
     "name": "stdout",
     "output_type": "stream",
     "text": [
      " F: 0.06. R: 0.23. S: 0.64.\n",
      "- F: 0.62. R: 0.13. S: 0.27.\n",
      "-- F: 0.68. R: 0.12. S: 0.27.\n",
      "--- F: 0.69. R: 0.11. S: 0.27.\n",
      "---- p2p (R: 0.02; S: 0.32)\n",
      "---- p2p network (R: 0.01; S: 0.28)\n",
      "---- F: 0.84. R: 0.06. S: 0.25.\n",
      "----- refresh (R: 0.01; S: 0.24)\n",
      "----- reload (R: 0.01; S: 0.24)\n",
      "----- old (R: 0.01; S: 0.23)\n",
      "----- live streaming (R: 0.01; S: 0.25)\n",
      "----- preference base (R: 0.01; S: 0.23)\n",
      "----- live (R: 0.01; S: 0.32)\n",
      "---- streaming (R: 0.01; S: 0.31)\n",
      "---- acyclic (R: 0.01; S: 0.27)\n",
      "--- pagerank (R: 0.01; S: 0.20)\n",
      "-- preference (R: 0.01; S: 0.19)\n",
      "- F: 0.39. R: 0.10. S: 0.61.\n",
      "-- F: 0.82. R: 0.09. S: 0.61.\n",
      "--- F: 0.84. R: 0.03. S: 0.54.\n",
      "---- byzantine (R: 0.02; S: 0.54)\n",
      "---- asynchronous (R: 0.01; S: 0.55)\n",
      "--- F: 0.91. R: 0.06. S: 0.60.\n",
      "---- stabilization (R: 0.02; S: 0.58)\n",
      "---- stabilize (R: 0.01; S: 0.61)\n",
      "---- self (R: 0.01; S: 0.62)\n",
      "---- self stabilize (R: 0.01; S: 0.60)\n",
      "---- self stabilization (R: 0.01; S: 0.58)\n",
      "-- grid (R: 0.01; S: 0.41)\n"
     ]
    }
   ],
   "source": [
    "gismo.get_features_by_cluster(k=20, resolution=.7)"
   ]
  },
  {
   "cell_type": "markdown",
   "metadata": {},
   "source": [
    "Who are the associated researchers?"
   ]
  },
  {
   "cell_type": "code",
   "execution_count": 52,
   "metadata": {
    "ExecuteTime": {
     "end_time": "2020-07-22T13:56:18.263691Z",
     "start_time": "2020-07-22T13:56:18.252069Z"
    }
   },
   "outputs": [
    {
     "data": {
      "text/plain": [
       "['Sébastien Tixeuil',\n",
       " 'Fabien Mathieu',\n",
       " 'Shlomi Dolev',\n",
       " 'Toshimitsu Masuzawa',\n",
       " 'Nitin H. Vaidya',\n",
       " 'Edmond Bianco',\n",
       " 'Stéphane Devismes',\n",
       " 'Franck Petit',\n",
       " 'Michel Raynal',\n",
       " 'Ted Herman']"
      ]
     },
     "execution_count": 52,
     "metadata": {},
     "output_type": "execute_result"
    }
   ],
   "source": [
    "gismo.get_documents_by_rank(k=10)"
   ]
  },
  {
   "cell_type": "markdown",
   "metadata": {},
   "source": [
    "How are they structured?"
   ]
  },
  {
   "cell_type": "code",
   "execution_count": 53,
   "metadata": {
    "ExecuteTime": {
     "end_time": "2020-07-22T13:56:18.409134Z",
     "start_time": "2020-07-22T13:56:18.267620Z"
    }
   },
   "outputs": [
    {
     "name": "stdout",
     "output_type": "stream",
     "text": [
      " F: 0.00. R: 0.01. S: 0.63.\n",
      "- F: 0.08. R: 0.00. S: 0.63.\n",
      "-- F: 0.71. R: 0.00. S: 0.52.\n",
      "--- Sébastien Tixeuil (R: 0.00; S: 0.56)\n",
      "--- F: 0.93. R: 0.00. S: 0.46.\n",
      "---- Shlomi Dolev (R: 0.00; S: 0.46)\n",
      "---- Toshimitsu Masuzawa (R: 0.00; S: 0.48)\n",
      "---- Stéphane Devismes (R: 0.00; S: 0.44)\n",
      "---- Franck Petit (R: 0.00; S: 0.44)\n",
      "---- Ted Herman (R: 0.00; S: 0.42)\n",
      "--- F: 0.78. R: 0.00. S: 0.34.\n",
      "---- Nitin H. Vaidya (R: 0.00; S: 0.30)\n",
      "---- Michel Raynal (R: 0.00; S: 0.37)\n",
      "-- Fabien Mathieu (R: 0.00; S: 0.69)\n",
      "- Edmond Bianco (R: 0.00; S: 0.04)\n"
     ]
    }
   ],
   "source": [
    "gismo.get_documents_by_cluster(k=10, resolution=.8)"
   ]
  }
 ],
 "metadata": {
  "kernelspec": {
   "display_name": "Python 3",
   "language": "python",
   "name": "python3"
  },
  "language_info": {
   "codemirror_mode": {
    "name": "ipython",
    "version": 3
   },
   "file_extension": ".py",
   "mimetype": "text/x-python",
   "name": "python",
   "nbconvert_exporter": "python",
   "pygments_lexer": "ipython3",
   "version": "3.7.7"
  },
  "toc": {
   "base_numbering": 1,
   "nav_menu": {},
   "number_sections": true,
   "sideBar": true,
   "skip_h1_title": true,
   "title_cell": "Table of Contents",
   "title_sidebar": "Contents",
   "toc_cell": false,
   "toc_position": {},
   "toc_section_display": true,
   "toc_window_display": false
  }
 },
 "nbformat": 4,
 "nbformat_minor": 4
}
