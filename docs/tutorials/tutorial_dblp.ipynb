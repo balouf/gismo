{
 "cells": [
  {
   "cell_type": "markdown",
   "metadata": {},
   "source": [
    "# DBLP exploration"
   ]
  },
  {
   "cell_type": "markdown",
   "metadata": {},
   "source": [
    "This tutorial shows how explore DBLP with Gismo.\n",
    "\n",
    "Note: the DBLP databased is not small. Recommended requirements to excute this Notebook:\n",
    "- Fast Internet connection (you will need to download a few hundred Mb)\n",
    "- 4 Gb of free space\n",
    "- 4 Gb of RAM (8Gb or more recommended)\n",
    "- Descent CPU (can take more than one hour on slow CPUs)\n",
    "\n",
    "Here, *documents* are articles in DBLP. The *features* of an article category will vary."
   ]
  },
  {
   "cell_type": "markdown",
   "metadata": {},
   "source": [
    "## Initialisation"
   ]
  },
  {
   "cell_type": "markdown",
   "metadata": {},
   "source": [
    "First, we load the required package."
   ]
  },
  {
   "cell_type": "code",
   "execution_count": 1,
   "metadata": {
    "ExecuteTime": {
     "end_time": "2020-05-07T07:41:49.398480Z",
     "start_time": "2020-05-07T07:41:48.029123Z"
    }
   },
   "outputs": [],
   "source": [
    "import numpy as np\n",
    "from sklearn.feature_extraction.text import CountVectorizer\n",
    "from sklearn.metrics.pairwise import cosine_similarity\n",
    "from pathlib import Path\n",
    "\n",
    "from gismo.datasets.dblp import Dblp\n",
    "from gismo.filesource import FileSource\n",
    "from gismo.corpus import Corpus\n",
    "from gismo.embedding import Embedding\n",
    "from gismo.gismo import Gismo\n",
    "from gismo.post_processing import print_feature_cluster"
   ]
  },
  {
   "cell_type": "markdown",
   "metadata": {},
   "source": [
    "Then, we prepare the DBLP source."
   ]
  },
  {
   "cell_type": "markdown",
   "metadata": {},
   "source": [
    "First we choose the location of the DBLP files. If you want to run this Notebook at your place, please change the path below and check that it exists."
   ]
  },
  {
   "cell_type": "code",
   "execution_count": 2,
   "metadata": {
    "ExecuteTime": {
     "end_time": "2020-05-07T07:41:49.415406Z",
     "start_time": "2020-05-07T07:41:49.401498Z"
    }
   },
   "outputs": [
    {
     "data": {
      "text/plain": [
       "True"
      ]
     },
     "execution_count": 2,
     "metadata": {},
     "output_type": "execute_result"
    }
   ],
   "source": [
    "path = Path(\"../../../../../Datasets/DBLP\")\n",
    "path.exists()"
   ]
  },
  {
   "cell_type": "markdown",
   "metadata": {},
   "source": [
    "Construction of the dblp files. Only needs to be performed the first time or when you want to refresh the database. Takes about 10 minutes on a Surface Pro 4 with fiber Internet connection."
   ]
  },
  {
   "cell_type": "code",
   "execution_count": 3,
   "metadata": {
    "ExecuteTime": {
     "end_time": "2020-05-07T07:41:49.441435Z",
     "start_time": "2020-05-07T07:41:49.417918Z"
    }
   },
   "outputs": [
    {
     "name": "stdout",
     "output_type": "stream",
     "text": [
      "File ..\\..\\..\\..\\..\\Datasets\\DBLP\\dblp.xml.gz already exists.\n",
      "File ..\\..\\..\\..\\..\\Datasets\\DBLP\\dblp.data already exists.\n"
     ]
    }
   ],
   "source": [
    "dblp = Dblp(path=path)\n",
    "dblp.build()"
   ]
  },
  {
   "cell_type": "markdown",
   "metadata": {},
   "source": [
    "Then, we can load the database as a filesource."
   ]
  },
  {
   "cell_type": "code",
   "execution_count": 4,
   "metadata": {
    "ExecuteTime": {
     "end_time": "2020-05-07T07:41:49.477465Z",
     "start_time": "2020-05-07T07:41:49.443436Z"
    }
   },
   "outputs": [
    {
     "data": {
      "text/plain": [
       "{'type': 'article',\n",
       " 'title': 'Spectre Attacks: Exploiting Speculative Execution.',\n",
       " 'venue': 'meltdownattack.com',\n",
       " 'year': '2018',\n",
       " 'authors': ['Paul Kocher',\n",
       "  'Daniel Genkin',\n",
       "  'Daniel Gruss',\n",
       "  'Werner Haas',\n",
       "  'Mike Hamburg',\n",
       "  'Moritz Lipp',\n",
       "  'Stefan Mangard',\n",
       "  'Thomas Prescher 0002',\n",
       "  'Michael Schwarz 0001',\n",
       "  'Yuval Yarom']}"
      ]
     },
     "execution_count": 4,
     "metadata": {},
     "output_type": "execute_result"
    }
   ],
   "source": [
    "source = FileSource(filename=\"dblp\", path=path)\n",
    "source[0]"
   ]
  },
  {
   "cell_type": "markdown",
   "metadata": {},
   "source": [
    "Each article is a dict with fields ``type``, ``venue``, ``title``, ``year``, and ``authors``. We build a corpus that will tell Gismo that the content of an article is its ``title`` value."
   ]
  },
  {
   "cell_type": "code",
   "execution_count": 5,
   "metadata": {
    "ExecuteTime": {
     "end_time": "2020-05-07T07:41:49.482436Z",
     "start_time": "2020-05-07T07:41:49.478434Z"
    }
   },
   "outputs": [],
   "source": [
    "corpus = Corpus(source, to_text=lambda x: x['title'])"
   ]
  },
  {
   "cell_type": "markdown",
   "metadata": {},
   "source": [
    "We build an embedding on top of that corpus.\n",
    "- We set ``min_df=30`` to exclude rare features;\n",
    "- We set ``max_df=.02`` to exclude anything present in more than 2% of the corpus;\n",
    "- A few manually selected stopwords to fine-tune things.\n",
    "- We set ``ngram_range=[1, 2]`` to include bi-grams in the embedding.\n",
    "\n",
    "This will take a few minutes (you can save the embedding for later if you want)."
   ]
  },
  {
   "cell_type": "code",
   "execution_count": 6,
   "metadata": {
    "ExecuteTime": {
     "end_time": "2020-05-07T07:41:50.525912Z",
     "start_time": "2020-05-07T07:41:49.483433Z"
    }
   },
   "outputs": [],
   "source": [
    "vectorizer = CountVectorizer(min_df=30, max_df=.02, ngram_range=[1, 2], dtype=float, \n",
    "                             stop_words=['a', 'about', 'an', 'and', 'for', 'from', 'in', 'of', 'on', 'the', 'with'])\n",
    "embedding = Embedding(vectorizer=vectorizer)\n",
    "\n",
    "try:\n",
    "    embedding.load(filename=\"dblp_embedding\", path=path)\n",
    "except:\n",
    "    embedding.fit_transform(corpus)\n",
    "    embedding.save(filename=\"dblp_embedding\", path=path)"
   ]
  },
  {
   "cell_type": "code",
   "execution_count": 7,
   "metadata": {
    "ExecuteTime": {
     "end_time": "2020-05-07T07:41:50.530684Z",
     "start_time": "2020-05-07T07:41:50.526590Z"
    }
   },
   "outputs": [
    {
     "data": {
      "text/plain": [
       "<4889758x160216 sparse matrix of type '<class 'numpy.float64'>'\n",
       "\twith 49388202 stored elements in Compressed Sparse Row format>"
      ]
     },
     "execution_count": 7,
     "metadata": {},
     "output_type": "execute_result"
    }
   ],
   "source": [
    "embedding.x"
   ]
  },
  {
   "cell_type": "markdown",
   "metadata": {},
   "source": [
    "We see from ``embedding.x`` that the embedding links about 5,000,000 documents to 160,000 features. In average, each document is linked to about 10 features."
   ]
  },
  {
   "cell_type": "markdown",
   "metadata": {},
   "source": [
    "Now, we initiate the gismo object, and customize post_processers to ease the display."
   ]
  },
  {
   "cell_type": "code",
   "execution_count": 8,
   "metadata": {
    "ExecuteTime": {
     "end_time": "2020-05-07T07:41:50.553735Z",
     "start_time": "2020-05-07T07:41:50.533846Z"
    }
   },
   "outputs": [],
   "source": [
    "gismo = Gismo(corpus, embedding)"
   ]
  },
  {
   "cell_type": "code",
   "execution_count": 9,
   "metadata": {
    "ExecuteTime": {
     "end_time": "2020-05-07T07:41:50.563735Z",
     "start_time": "2020-05-07T07:41:50.555735Z"
    }
   },
   "outputs": [],
   "source": [
    "def post_article(g, i):\n",
    "    dic = g.corpus[i]\n",
    "    authors = \", \".join(dic['authors'])\n",
    "    return f\"{dic['title']} By {authors} ({dic['venue']}, {dic['year']})\"\n",
    "    \n",
    "gismo.post_document = post_article\n",
    "def print_document_cluster(gismo, cluster, depth=\"\"):\n",
    "    sim = cosine_similarity(cluster.vector, gismo.diteration.y_relevance.reshape(1, -1))[0][0]\n",
    "    if len(cluster.children) == 0:\n",
    "        txt = gismo.corpus[cluster.indice][\"title\"]\n",
    "        print(f\"{depth} {txt} \"\n",
    "              f\"(R: {gismo.diteration.x_relevance[cluster.indice]:.2f}; \"\n",
    "              f\"S: {sim:.2f})\")\n",
    "    else:\n",
    "        print(f\"{depth} F: {cluster.focus:.2f}. \"\n",
    "              f\"R: {sum(gismo.diteration.x_relevance[cluster.members]):.2f}. \"\n",
    "              f\"S: {sim:.2f}.\")\n",
    "    for c in cluster.children:\n",
    "        print_document_cluster(gismo, c, depth=depth + '-')\n",
    "gismo.post_document_cluster = print_document_cluster\n",
    "gismo.post_feature_cluster = print_feature_cluster"
   ]
  },
  {
   "cell_type": "markdown",
   "metadata": {},
   "source": [
    "As the dataset is big, we lower the precision of the computation to speed up things a little bit."
   ]
  },
  {
   "cell_type": "code",
   "execution_count": 10,
   "metadata": {
    "ExecuteTime": {
     "end_time": "2020-05-07T07:41:50.571737Z",
     "start_time": "2020-05-07T07:41:50.564735Z"
    }
   },
   "outputs": [],
   "source": [
    "gismo.diteration.n_iter = 2"
   ]
  },
  {
   "cell_type": "markdown",
   "metadata": {},
   "source": [
    "## Machine Learning (and Covid-19) query"
   ]
  },
  {
   "cell_type": "markdown",
   "metadata": {},
   "source": [
    "We perform the query *Machine learning*. The returned ``True`` tells that some of the query features were found in the corpus' features."
   ]
  },
  {
   "cell_type": "code",
   "execution_count": 11,
   "metadata": {
    "ExecuteTime": {
     "end_time": "2020-05-07T07:41:54.567077Z",
     "start_time": "2020-05-07T07:41:50.573736Z"
    }
   },
   "outputs": [
    {
     "data": {
      "text/plain": [
       "True"
      ]
     },
     "execution_count": 11,
     "metadata": {},
     "output_type": "execute_result"
    }
   ],
   "source": [
    "gismo.rank(\"Machine Learning\")"
   ]
  },
  {
   "cell_type": "markdown",
   "metadata": {},
   "source": [
    "What are the best articles on *Machine Learning*?"
   ]
  },
  {
   "cell_type": "code",
   "execution_count": 12,
   "metadata": {
    "ExecuteTime": {
     "end_time": "2020-05-07T07:41:54.574163Z",
     "start_time": "2020-05-07T07:41:54.569077Z"
    }
   },
   "outputs": [
    {
     "data": {
      "text/plain": [
       "['Machine Learning Unplugged - Development and Evaluation of a Workshop About Machine Learning. By Elisaweta Ossovski, Michael Brinkmeier (ISSEP, 2019)',\n",
       " 'Can Machine Learning Model with Static Features be Fooled: an Adversarial Machine Learning Approach. By Rahim Taheri, Reza Javidan, Mohammad Shojafar, Vinod P, Mauro Conti (CoRR, 2019)',\n",
       " 'MARVIN: An Open Machine Learning Corpus and Environment for Automated Machine Learning Primitive Annotation and Execution. By Chris A. Mattmann, Sujen Shah, Brian Wilson (CoRR, 2018)',\n",
       " 'Trustless Machine Learning Contracts; Evaluating and Exchanging Machine Learning Models on the Ethereum Blockchain. By A. Besir Kurtulmus, Kenny Daniel (CoRR, 2018)',\n",
       " 'How Developers Iterate on Machine Learning Workflows - A Survey of the Applied Machine Learning Literature. By Doris Xin, Litian Ma, Shuchen Song, Aditya G. Parameswaran (CoRR, 2018)',\n",
       " 'Machine learning in computer forensics (and the lessons learned from machine learning in computer security). By Davide Ariu, Giorgio Giacinto, Fabio Roli (AISec, 2011)',\n",
       " 'Special session on machine learning: How will machine learning transform test? By Yiorgos Makris, Amit Nahar, Haralampos-G. D. Stratigopoulos, Marc Hutner (VTS, 2018)',\n",
       " 'How can machine-learning methods assist in virtual screening for hyperuricemia? A healthcare machine-learning approach. By Daisuke Ichikawa, Toki Saito, Waka Ujita, Hiroshi Oyama 0001 (J. Biomed. Informatics, 2016)',\n",
       " 'The Holy Grail of \"Systems for Machine Learning\": Teaming humans and machine learning for detecting cyber threats. By Ignacio Arnaldo, Kalyan Veeramachaneni (SIGKDD Explorations, 2019)',\n",
       " 'Three Differential Emotion Classification by Machine Learning Algorithms using Physiological Signals - Discriminantion of Emotions by Machine Learning Algorithms. By Eun-Hye Jang, Byoung-Jun Park, Sang-Hyeob Kim, Jin-Hun Sohn (ICAART (1), 2012)']"
      ]
     },
     "execution_count": 12,
     "metadata": {},
     "output_type": "execute_result"
    }
   ],
   "source": [
    "gismo.get_ranked_documents()"
   ]
  },
  {
   "cell_type": "markdown",
   "metadata": {},
   "source": [
    "OK, this seems to go everywhere. Maybe we can narrow with a more specific request."
   ]
  },
  {
   "cell_type": "code",
   "execution_count": 13,
   "metadata": {
    "ExecuteTime": {
     "end_time": "2020-05-07T07:41:56.850669Z",
     "start_time": "2020-05-07T07:41:54.575163Z"
    }
   },
   "outputs": [
    {
     "data": {
      "text/plain": [
       "True"
      ]
     },
     "execution_count": 13,
     "metadata": {},
     "output_type": "execute_result"
    }
   ],
   "source": [
    "gismo.rank(\"Machine Learning and covid-19\")"
   ]
  },
  {
   "cell_type": "code",
   "execution_count": 14,
   "metadata": {
    "ExecuteTime": {
     "end_time": "2020-05-07T07:41:56.856673Z",
     "start_time": "2020-05-07T07:41:56.851647Z"
    }
   },
   "outputs": [
    {
     "data": {
      "text/plain": [
       "['GSA-DenseNet121-COVID-19: a Hybrid Deep Learning Architecture for the Diagnosis of COVID-19 Disease based on Gravitational Search Optimization Algorithm. By Dalia Ezzat, Aboul Ella Hassanien, Hassan Aboul Ella (CoRR, 2020)',\n",
       " 'COVID-CT-Dataset: A CT Scan Dataset about COVID-19. By Jinyu Zhao, Yichen Zhang, Xuehai He, Pengtao Xie (CoRR, 2020)',\n",
       " 'NAIST COVID: Multilingual COVID-19 Twitter and Weibo Dataset. By Zhiwei Gao, Shuntaro Yada, Shoko Wakamiya, Eiji Aramaki (CoRR, 2020)',\n",
       " 'COVID-MobileXpert: On-Device COVID-19 Screening using Snapshots of Chest X-Ray. By Xin Li, Chengyin Li, Dongxiao Zhu (CoRR, 2020)',\n",
       " 'Deep-COVID: Predicting COVID-19 From Chest X-Ray Images Using Deep Transfer Learning. By Shervin Minaee, Rahele Kafieh, Milan Sonka, Shakib Yazdani, Ghazaleh Jamalipour Soufi (CoRR, 2020)',\n",
       " 'COVID-CAPS: A Capsule Network-based Framework for Identification of COVID-19 cases from X-ray Images. By Parnian Afshar, Shahin Heidarian, Farnoosh Naderkhani, Anastasia Oikonomou, Konstantinos N. Plataniotis, Arash Mohammadi 0001 (CoRR, 2020)',\n",
       " 'COVID-Net: A Tailored Deep Convolutional Neural Network Design for Detection of COVID-19 Cases from Chest Radiography Images. By Linda Wang, Alexander Wong (CoRR, 2020)',\n",
       " 'CORD-19: The Covid-19 Open Research Dataset. By Lucy Lu Wang, Kyle Lo, Yoganand Chandrasekhar, Russell Reas, Jiangjiang Yang, Darrin Eide, Kathryn Funk, Rodney Kinney, Ziyang Liu, William Merrill, Paul Mooney, Dewey Murdick, Devvret Rishi, Jerry Sheehan, Zhihong Shen, Brandon Stilson, Alex D. Wade, Kuansan Wang, Chris Wilhelm, Boya Xie, Douglas Raymond, Daniel S. Weld, Oren Etzioni, Sebastian Kohlmeier (CoRR, 2020)',\n",
       " 'ArCOV-19: The First Arabic COVID-19 Twitter Dataset with Propagation Networks. By Fatima Haouari, Maram Hasanain, Reem Suwaileh, Tamer Elsayed (CoRR, 2020)',\n",
       " 'SurviveCovid-19 - A Game for Improving Awareness of Social Distancing and Health Measures for Covid-19 Pandemic. By Akhila Sri Manasa Venigalla, Dheeraj Vagavolu, Sridhar Chimalakonda (CoRR, 2020)']"
      ]
     },
     "execution_count": 14,
     "metadata": {},
     "output_type": "execute_result"
    }
   ],
   "source": [
    "gismo.get_ranked_documents()"
   ]
  },
  {
   "cell_type": "markdown",
   "metadata": {},
   "source": [
    "Sounds nice. How are these articles related?"
   ]
  },
  {
   "cell_type": "code",
   "execution_count": 15,
   "metadata": {
    "ExecuteTime": {
     "end_time": "2020-05-07T07:41:56.903661Z",
     "start_time": "2020-05-07T07:41:56.858017Z"
    }
   },
   "outputs": [
    {
     "name": "stdout",
     "output_type": "stream",
     "text": [
      " F: 0.97. R: 0.02. S: 0.95.\n",
      "- GSA-DenseNet121-COVID-19: a Hybrid Deep Learning Architecture for the Diagnosis of COVID-19 Disease based on Gravitational Search Optimization Algorithm. (R: 0.00; S: 0.96)\n",
      "- F: 1.00. R: 0.01. S: 0.92.\n",
      "-- COVID-CT-Dataset: A CT Scan Dataset about COVID-19. (R: 0.00; S: 0.92)\n",
      "-- NAIST COVID: Multilingual COVID-19 Twitter and Weibo Dataset. (R: 0.00; S: 0.92)\n",
      "-- COVID-MobileXpert: On-Device COVID-19 Screening using Snapshots of Chest X-Ray. (R: 0.00; S: 0.92)\n",
      "-- Deep-COVID: Predicting COVID-19 From Chest X-Ray Images Using Deep Transfer Learning. (R: 0.00; S: 0.92)\n",
      "-- COVID-CAPS: A Capsule Network-based Framework for Identification of COVID-19 cases from X-ray Images. (R: 0.00; S: 0.92)\n",
      "-- COVID-Net: A Tailored Deep Convolutional Neural Network Design for Detection of COVID-19 Cases from Chest Radiography Images. (R: 0.00; S: 0.92)\n",
      "- F: 1.00. R: 0.00. S: 0.94.\n",
      "-- CORD-19: The Covid-19 Open Research Dataset. (R: 0.00; S: 0.94)\n",
      "-- ArCOV-19: The First Arabic COVID-19 Twitter Dataset with Propagation Networks. (R: 0.00; S: 0.94)\n",
      "- SurviveCovid-19 - A Game for Improving Awareness of Social Distancing and Health Measures for Covid-19 Pandemic. (R: 0.00; S: 0.94)\n"
     ]
    }
   ],
   "source": [
    "gismo.get_clustered_ranked_documents(resolution=.999)"
   ]
  },
  {
   "cell_type": "markdown",
   "metadata": {},
   "source": [
    "OK! Let's decode this: we have:\n",
    "- One single article on gravitional search\n",
    "- A large cluster on applications of ML to X-Ray / CT scan processing\n",
    "- A social cluster\n",
    "- Note that it's not perfect: a Twitter dataset falls in the X-Ray cluster..."
   ]
  },
  {
   "cell_type": "markdown",
   "metadata": {},
   "source": [
    "Now, let's look at the main keywords."
   ]
  },
  {
   "cell_type": "code",
   "execution_count": 16,
   "metadata": {
    "ExecuteTime": {
     "end_time": "2020-05-07T07:41:56.910602Z",
     "start_time": "2020-05-07T07:41:56.904661Z"
    }
   },
   "outputs": [
    {
     "data": {
      "text/plain": [
       "['19',\n",
       " 'covid',\n",
       " 'covid 19',\n",
       " 'machine',\n",
       " 'machine learning',\n",
       " 'pandemic',\n",
       " 'chest',\n",
       " 'coronavirus',\n",
       " 'dataset',\n",
       " 'ray',\n",
       " 'chest ray',\n",
       " 'deep',\n",
       " 'ray images',\n",
       " 'ct',\n",
       " 'images',\n",
       " 'twitter',\n",
       " 'deep learning',\n",
       " 'social',\n",
       " 'using machine',\n",
       " 'epidemic']"
      ]
     },
     "execution_count": 16,
     "metadata": {},
     "output_type": "execute_result"
    }
   ],
   "source": [
    "gismo.get_ranked_features(20)"
   ]
  },
  {
   "cell_type": "markdown",
   "metadata": {},
   "source": [
    "Let's organize them."
   ]
  },
  {
   "cell_type": "code",
   "execution_count": 17,
   "metadata": {
    "ExecuteTime": {
     "end_time": "2020-05-07T07:41:58.159384Z",
     "start_time": "2020-05-07T07:41:56.912580Z"
    }
   },
   "outputs": [
    {
     "name": "stdout",
     "output_type": "stream",
     "text": [
      " F: 0.00. R: 0.07. S: 0.92.\n",
      "- F: 0.13. R: 0.07. S: 0.92.\n",
      "-- F: 0.18. R: 0.07. S: 0.92.\n",
      "--- F: 0.25. R: 0.06. S: 0.92.\n",
      "---- F: 0.31. R: 0.06. S: 0.96.\n",
      "----- F: 0.97. R: 0.05. S: 0.98.\n",
      "------ 19 (R: 0.02; S: 0.99)\n",
      "------ covid (R: 0.02; S: 0.97)\n",
      "------ covid 19 (R: 0.02; S: 0.98)\n",
      "----- pandemic (R: 0.00; S: 0.31)\n",
      "----- F: 0.80. R: 0.01. S: 0.31.\n",
      "------ chest (R: 0.00; S: 0.33)\n",
      "------ ray (R: 0.00; S: 0.34)\n",
      "------ chest ray (R: 0.00; S: 0.27)\n",
      "------ ray images (R: 0.00; S: 0.27)\n",
      "------ images (R: 0.00; S: 0.34)\n",
      "----- F: 0.41. R: 0.00. S: 0.31.\n",
      "------ dataset (R: 0.00; S: 0.29)\n",
      "------ twitter (R: 0.00; S: 0.24)\n",
      "----- F: 0.71. R: 0.00. S: 0.32.\n",
      "------ deep (R: 0.00; S: 0.36)\n",
      "------ deep learning (R: 0.00; S: 0.27)\n",
      "---- coronavirus (R: 0.00; S: 0.29)\n",
      "---- ct (R: 0.00; S: 0.28)\n",
      "---- social (R: 0.00; S: 0.28)\n",
      "--- F: 0.99. R: 0.01. S: 0.16.\n",
      "---- machine (R: 0.00; S: 0.16)\n",
      "---- machine learning (R: 0.00; S: 0.16)\n",
      "-- epidemic (R: 0.00; S: 0.18)\n",
      "- using machine (R: 0.00; S: 0.01)\n"
     ]
    }
   ],
   "source": [
    "gismo.get_clustered_ranked_features(20)"
   ]
  },
  {
   "cell_type": "markdown",
   "metadata": {},
   "source": [
    "Rough, very broad analysis:\n",
    "- Covid-19 as a pandemic diseases is a core cluster. As they are more article in DBLP (a computer science database) about ML than CV-19, Gismo focused more on that\n",
    "- X-ray processing seems to be a field of interest\n",
    "- Twitter datasets"
   ]
  },
  {
   "cell_type": "code",
   "execution_count": 18,
   "metadata": {
    "ExecuteTime": {
     "end_time": "2020-05-07T07:41:58.200597Z",
     "start_time": "2020-05-07T07:41:58.161290Z"
    }
   },
   "outputs": [
    {
     "data": {
      "text/plain": [
       "<1x4889758 sparse matrix of type '<class 'numpy.float64'>'\n",
       "\twith 49442 stored elements in Compressed Sparse Row format>"
      ]
     },
     "execution_count": 18,
     "metadata": {},
     "output_type": "execute_result"
    }
   ],
   "source": [
    "np.dot(gismo.embedding.query_projection(\"Machine learning\")[0], gismo.embedding.y)"
   ]
  },
  {
   "cell_type": "markdown",
   "metadata": {},
   "source": [
    "50,000 articles with an explicit link to machine learning."
   ]
  },
  {
   "cell_type": "code",
   "execution_count": 19,
   "metadata": {
    "ExecuteTime": {
     "end_time": "2020-05-07T07:41:58.235690Z",
     "start_time": "2020-05-07T07:41:58.201598Z"
    }
   },
   "outputs": [
    {
     "data": {
      "text/plain": [
       "<1x4889758 sparse matrix of type '<class 'numpy.float64'>'\n",
       "\twith 793 stored elements in Compressed Sparse Row format>"
      ]
     },
     "execution_count": 19,
     "metadata": {},
     "output_type": "execute_result"
    }
   ],
   "source": [
    "np.dot(gismo.embedding.query_projection(\"Covid-19\")[0], gismo.embedding.y)"
   ]
  },
  {
   "cell_type": "markdown",
   "metadata": {},
   "source": [
    "800 articles with an explicit link to covid-19."
   ]
  },
  {
   "cell_type": "markdown",
   "metadata": {},
   "source": [
    "## Authors query"
   ]
  },
  {
   "cell_type": "markdown",
   "metadata": {},
   "source": [
    "Instead of looking at words, we can explore authors and their collaborations."
   ]
  },
  {
   "cell_type": "markdown",
   "metadata": {},
   "source": [
    " We just have to rewire the corpus to output string of authors."
   ]
  },
  {
   "cell_type": "code",
   "execution_count": 20,
   "metadata": {
    "ExecuteTime": {
     "end_time": "2020-05-07T07:41:58.239597Z",
     "start_time": "2020-05-07T07:41:58.236625Z"
    }
   },
   "outputs": [],
   "source": [
    "def to_authors_text(dic):\n",
    "    return \" \".join([a.replace(' ', '_') for a in dic['authors']])\n",
    "corpus = Corpus(source, to_text=to_authors_text)"
   ]
  },
  {
   "cell_type": "markdown",
   "metadata": {},
   "source": [
    "We can build a new embedding on top of this modified corpus. We tell the vectorizer to be stupid: don't preprocess, words are separated spaces.\n",
    "\n",
    "This will take a few minutes (you can save the embedding for later if you want)."
   ]
  },
  {
   "cell_type": "code",
   "execution_count": 21,
   "metadata": {
    "ExecuteTime": {
     "end_time": "2020-05-07T07:42:00.470626Z",
     "start_time": "2020-05-07T07:41:58.240596Z"
    }
   },
   "outputs": [],
   "source": [
    "vectorizer = CountVectorizer(dtype=float,\n",
    "                            preprocessor=lambda x:x, tokenizer=lambda x: x.split(' '))\n",
    "embedding = Embedding(vectorizer=vectorizer)\n",
    "try:\n",
    "    embedding.load(filename=\"dblp_aut_embedding\", path=path)\n",
    "except:\n",
    "    embedding.fit_transform(corpus)\n",
    "    embedding.save(filename=\"dblp_aut_embedding\", path=path)"
   ]
  },
  {
   "cell_type": "code",
   "execution_count": 22,
   "metadata": {
    "ExecuteTime": {
     "end_time": "2020-05-07T07:42:00.476653Z",
     "start_time": "2020-05-07T07:42:00.471636Z"
    }
   },
   "outputs": [
    {
     "data": {
      "text/plain": [
       "<4889758x2532137 sparse matrix of type '<class 'numpy.float64'>'\n",
       "\twith 15083911 stored elements in Compressed Sparse Row format>"
      ]
     },
     "execution_count": 22,
     "metadata": {},
     "output_type": "execute_result"
    }
   ],
   "source": [
    "embedding.x"
   ]
  },
  {
   "cell_type": "markdown",
   "metadata": {},
   "source": [
    "We now have about 2,500,000 authors to explore. Let's reload gismo and try Fabien Mathieu."
   ]
  },
  {
   "cell_type": "code",
   "execution_count": 23,
   "metadata": {
    "ExecuteTime": {
     "end_time": "2020-05-07T07:42:00.558547Z",
     "start_time": "2020-05-07T07:42:00.479550Z"
    }
   },
   "outputs": [],
   "source": [
    "gismo = Gismo(corpus, embedding)\n",
    "gismo.post_document = post_article\n",
    "gismo.post_feature = lambda g, i: g.embedding.features[i].replace(\"_\", \" \")\n",
    "\n",
    "def print_document_cluster(gismo, cluster, depth=\"\"):\n",
    "    sim = cosine_similarity(cluster.vector, gismo.diteration.y_relevance.reshape(1, -1))[0][0]\n",
    "    if len(cluster.children) == 0:\n",
    "        dic = gismo.corpus[cluster.indice]\n",
    "        authors = \", \".join(dic['authors'])\n",
    "        txt = f\"{authors} ({dic['venue']}, {dic['year']})\"\n",
    "        #post_article(gismo, cluster.indice)\n",
    "        print(f\"{depth} {txt} \")\n",
    "         #     f\"(R: {gismo.diteration.x_relevance[cluster.indice]:.2f}; \"\n",
    "          #    f\"S: {sim:.2f})\")\n",
    "    else:\n",
    "        print(f\"{depth} F: {cluster.focus:.2f}. \"\n",
    "              f\"R: {sum(gismo.diteration.x_relevance[cluster.members]):.2f}. \"\n",
    "              f\"S: {sim:.2f}.\")\n",
    "    for c in cluster.children:\n",
    "        print_document_cluster(gismo, c, depth=depth + '-')\n",
    "gismo.post_document_cluster = print_document_cluster\n",
    "\n",
    "\n",
    "gismo.post_document_cluster = print_document_cluster\n",
    "gismo.post_feature_cluster = print_feature_cluster"
   ]
  },
  {
   "cell_type": "markdown",
   "metadata": {},
   "source": [
    "### Laurent Massoulié query"
   ]
  },
  {
   "cell_type": "code",
   "execution_count": 24,
   "metadata": {
    "ExecuteTime": {
     "end_time": "2020-05-07T07:42:02.235818Z",
     "start_time": "2020-05-07T07:42:00.560547Z"
    }
   },
   "outputs": [
    {
     "data": {
      "text/plain": [
       "True"
      ]
     },
     "execution_count": 24,
     "metadata": {},
     "output_type": "execute_result"
    }
   ],
   "source": [
    "gismo.rank(\"Laurent_Massoulié\")"
   ]
  },
  {
   "cell_type": "markdown",
   "metadata": {},
   "source": [
    "What are the most central articles of Sem Borst in terms of collaboration?"
   ]
  },
  {
   "cell_type": "code",
   "execution_count": 25,
   "metadata": {
    "ExecuteTime": {
     "end_time": "2020-05-07T07:42:02.242830Z",
     "start_time": "2020-05-07T07:42:02.236734Z"
    }
   },
   "outputs": [
    {
     "data": {
      "text/plain": [
       "['Robustness of Spectral Methods for Community Detection. By Ludovic Stephan, Laurent Massoulié (COLT, 2019)',\n",
       " 'Robustness of spectral methods for community detection. By Ludovic Stephan, Laurent Massoulié (CoRR, 2018)',\n",
       " 'From tree matching to sparse graph alignment. By Luca Ganassali, Laurent Massoulié (CoRR, 2020)',\n",
       " 'Spectral alignment of correlated Gaussian random matrices. By Luca Ganassali, Marc Lelarge, Laurent Massoulié (CoRR, 2019)',\n",
       " 'Planting trees in graphs, and finding them back. By Laurent Massoulié, Ludovic Stephan, Don Towsley (COLT, 2019)',\n",
       " 'Brief announcement: adaptive content placement for peer-to-peer video-on-demand systems. By Bo Tan 0002, Laurent Massoulié (PODC, 2010)',\n",
       " 'Optimal content placement for peer-to-peer video-on-demand systems. By Bo Tan 0002, Laurent Massoulié (INFOCOM, 2011)',\n",
       " 'Optimal Content Placement for Peer-to-Peer Video-on-Demand Systems. By Bo Tan 0002, Laurent Massoulié (IEEE/ACM Trans. Netw., 2013)',\n",
       " 'Scalable Local Area Service Discovery. By Richard Black, Heimir Sverrisson, Laurent Massoulié (ICC, 2007)',\n",
       " 'Non-Backtracking Spectrum of Degree-Corrected Stochastic Block Models. By Lennart Gulikers, Marc Lelarge, Laurent Massoulié (CoRR, 2016)']"
      ]
     },
     "execution_count": 25,
     "metadata": {},
     "output_type": "execute_result"
    }
   ],
   "source": [
    "gismo.get_ranked_documents()"
   ]
  },
  {
   "cell_type": "markdown",
   "metadata": {},
   "source": [
    "Sounds nice. Let's observe the communities?"
   ]
  },
  {
   "cell_type": "code",
   "execution_count": 26,
   "metadata": {
    "ExecuteTime": {
     "end_time": "2020-05-07T07:42:02.806454Z",
     "start_time": "2020-05-07T07:42:02.244815Z"
    }
   },
   "outputs": [
    {
     "name": "stdout",
     "output_type": "stream",
     "text": [
      " F: 0.99. R: 0.09. S: 0.96.\n",
      "- F: 1.00. R: 0.07. S: 0.96.\n",
      "-- F: 1.00. R: 0.04. S: 0.96.\n",
      "--- Ludovic Stephan, Laurent Massoulié (COLT, 2019) \n",
      "--- Ludovic Stephan, Laurent Massoulié (CoRR, 2018) \n",
      "--- Luca Ganassali, Laurent Massoulié (CoRR, 2020) \n",
      "--- Laurent Massoulié, Ludovic Stephan, Don Towsley (COLT, 2019) \n",
      "--- Bo Tan 0002, Laurent Massoulié (PODC, 2010) \n",
      "--- Bo Tan 0002, Laurent Massoulié (INFOCOM, 2011) \n",
      "--- Bo Tan 0002, Laurent Massoulié (IEEE/ACM Trans. Netw., 2013) \n",
      "--- Richard Black, Heimir Sverrisson, Laurent Massoulié (ICC, 2007) \n",
      "-- F: 1.00. R: 0.01. S: 0.96.\n",
      "--- Virag Shah, Lennart Gulikers, Laurent Massoulié, Milan Vojnovic (Allerton, 2017) \n",
      "--- Virag Shah, Lennart Gulikers, Laurent Massoulié, Milan Vojnovic (CoRR, 2017) \n",
      "-- F: 1.00. R: 0.02. S: 0.96.\n",
      "--- Hadrien Hendrikx, Francis Bach, Laurent Massoulié (CoRR, 2019) \n",
      "--- Hadrien Hendrikx, Francis Bach, Laurent Massoulié (CoRR, 2019) \n",
      "--- Hadrien Hendrikx, Francis Bach, Laurent Massoulié (AISTATS, 2019) \n",
      "--- Hadrien Hendrikx, Laurent Massoulié, Francis Bach (CoRR, 2018) \n",
      "--- Hadrien Hendrikx, Francis Bach, Laurent Massoulié (NeurIPS, 2019) \n",
      "- F: 1.00. R: 0.02. S: 0.97.\n",
      "-- Luca Ganassali, Marc Lelarge, Laurent Massoulié (CoRR, 2019) \n",
      "-- F: 1.00. R: 0.02. S: 0.97.\n",
      "--- Lennart Gulikers, Marc Lelarge, Laurent Massoulié (CoRR, 2016) \n",
      "--- Lennart Gulikers, Marc Lelarge, Laurent Massoulié (CoRR, 2015) \n",
      "--- Lennart Gulikers, Marc Lelarge, Laurent Massoulié (CoRR, 2015) \n",
      "--- Lennart Gulikers, Marc Lelarge, Laurent Massoulié (ITCS, 2017) \n"
     ]
    }
   ],
   "source": [
    "gismo.get_clustered_ranked_documents(k=20, resolution=.999)"
   ]
  },
  {
   "cell_type": "markdown",
   "metadata": {},
   "source": [
    "OK! We see writing commnities."
   ]
  },
  {
   "cell_type": "markdown",
   "metadata": {},
   "source": [
    "Now, let's look in terms of authors. This is actually the interesting part when studying collaborations. So far, the top articles do not seem to be very informative in the author space."
   ]
  },
  {
   "cell_type": "code",
   "execution_count": 27,
   "metadata": {
    "ExecuteTime": {
     "end_time": "2020-05-07T07:42:02.811462Z",
     "start_time": "2020-05-07T07:42:02.807468Z"
    }
   },
   "outputs": [
    {
     "data": {
      "text/plain": [
       "['Laurent Massoulié',\n",
       " 'Marc Lelarge',\n",
       " 'Stratis Ioannidis',\n",
       " 'Nidhi Hegde',\n",
       " 'Peter B. Key',\n",
       " 'Anne-Marie Kermarrec',\n",
       " 'Ayalvadi J. Ganesh',\n",
       " 'Lennart Gulikers',\n",
       " 'Hadrien Hendrikx',\n",
       " 'Francis Bach']"
      ]
     },
     "execution_count": 27,
     "metadata": {},
     "output_type": "execute_result"
    }
   ],
   "source": [
    "gismo.get_ranked_features()"
   ]
  },
  {
   "cell_type": "markdown",
   "metadata": {},
   "source": [
    "We see many authors that were not present in the articles listed above. This is an important observation: central articles (with respect to a query) are not necessarily written by central authors!\n",
    "\n",
    "Let's organize them into communities."
   ]
  },
  {
   "cell_type": "code",
   "execution_count": 28,
   "metadata": {
    "ExecuteTime": {
     "end_time": "2020-05-07T07:42:03.498181Z",
     "start_time": "2020-05-07T07:42:02.812951Z"
    }
   },
   "outputs": [
    {
     "name": "stdout",
     "output_type": "stream",
     "text": [
      " F: 0.03. R: 0.17. S: 0.57.\n",
      "- F: 0.09. R: 0.16. S: 0.55.\n",
      "-- F: 0.16. R: 0.15. S: 0.78.\n",
      "--- F: 0.32. R: 0.12. S: 0.83.\n",
      "---- Laurent_Massoulié (R: 0.10; S: 1.00)\n",
      "---- Stratis_Ioannidis (R: 0.01; S: 0.34)\n",
      "---- Nidhi_Hegde (R: 0.01; S: 0.32)\n",
      "--- Peter_B._Key (R: 0.01; S: 0.28)\n",
      "--- F: 0.62. R: 0.01. S: 0.28.\n",
      "---- Anne-Marie_Kermarrec (R: 0.01; S: 0.30)\n",
      "---- Ayalvadi_J._Ganesh (R: 0.01; S: 0.27)\n",
      "-- F: 0.42. R: 0.02. S: 0.24.\n",
      "--- Marc_Lelarge (R: 0.01; S: 0.35)\n",
      "--- Lennart_Gulikers (R: 0.00; S: 0.22)\n",
      "- F: 0.94. R: 0.01. S: 0.21.\n",
      "-- Hadrien_Hendrikx (R: 0.00; S: 0.21)\n",
      "-- Francis_Bach (R: 0.00; S: 0.23)\n"
     ]
    }
   ],
   "source": [
    "gismo.get_clustered_ranked_features()"
   ]
  },
  {
   "cell_type": "markdown",
   "metadata": {},
   "source": [
    "### Jim Roberts  query"
   ]
  },
  {
   "cell_type": "code",
   "execution_count": 29,
   "metadata": {
    "ExecuteTime": {
     "end_time": "2020-05-07T07:42:04.372671Z",
     "start_time": "2020-05-07T07:42:03.499188Z"
    }
   },
   "outputs": [
    {
     "data": {
      "text/plain": [
       "True"
      ]
     },
     "execution_count": 29,
     "metadata": {},
     "output_type": "execute_result"
    }
   ],
   "source": [
    "gismo.rank(\"James_W._Roberts\")"
   ]
  },
  {
   "cell_type": "markdown",
   "metadata": {},
   "source": [
    "Who are the associated authors?"
   ]
  },
  {
   "cell_type": "code",
   "execution_count": 30,
   "metadata": {
    "ExecuteTime": {
     "end_time": "2020-05-07T07:42:04.379685Z",
     "start_time": "2020-05-07T07:42:04.374575Z"
    }
   },
   "outputs": [
    {
     "data": {
      "text/plain": [
       "['James W. Roberts',\n",
       " 'Thomas Bonald',\n",
       " 'Maher Hamdi',\n",
       " 'Sara Oueslati-Boulahia',\n",
       " 'Ali Ibrahim',\n",
       " 'Alexandre Proutière',\n",
       " 'Sara Oueslati',\n",
       " 'Jorma T. Virtamo',\n",
       " 'Slim Ben Fredj',\n",
       " 'Jussi Kangasharju']"
      ]
     },
     "execution_count": 30,
     "metadata": {},
     "output_type": "execute_result"
    }
   ],
   "source": [
    "gismo.get_ranked_features()"
   ]
  },
  {
   "cell_type": "markdown",
   "metadata": {},
   "source": [
    "Let's organize them."
   ]
  },
  {
   "cell_type": "code",
   "execution_count": 31,
   "metadata": {
    "ExecuteTime": {
     "end_time": "2020-05-07T07:42:04.996593Z",
     "start_time": "2020-05-07T07:42:04.381673Z"
    }
   },
   "outputs": [
    {
     "name": "stdout",
     "output_type": "stream",
     "text": [
      " F: 0.03. R: 0.23. S: 0.56.\n",
      "- F: 0.04. R: 0.22. S: 0.56.\n",
      "-- F: 0.30. R: 0.20. S: 0.50.\n",
      "--- F: 0.66. R: 0.17. S: 0.99.\n",
      "---- James_W._Roberts (R: 0.12; S: 1.00)\n",
      "---- Thomas_Bonald (R: 0.05; S: 0.66)\n",
      "--- F: 0.70. R: 0.02. S: 0.35.\n",
      "---- Sara_Oueslati-Boulahia (R: 0.01; S: 0.32)\n",
      "---- Slim_Ben_Fredj (R: 0.01; S: 0.32)\n",
      "--- Ali_Ibrahim (R: 0.01; S: 0.28)\n",
      "--- Alexandre_Proutière (R: 0.01; S: 0.29)\n",
      "-- Maher_Hamdi (R: 0.01; S: 0.29)\n",
      "-- Sara_Oueslati (R: 0.01; S: 0.28)\n",
      "- Jorma_T._Virtamo (R: 0.01; S: 0.23)\n",
      "- Jussi_Kangasharju (R: 0.01; S: 0.22)\n"
     ]
    }
   ],
   "source": [
    "gismo.get_clustered_ranked_features()"
   ]
  },
  {
   "cell_type": "markdown",
   "metadata": {},
   "source": [
    "### Combined queries"
   ]
  },
  {
   "cell_type": "markdown",
   "metadata": {},
   "source": [
    "We can input multiple authors."
   ]
  },
  {
   "cell_type": "code",
   "execution_count": 32,
   "metadata": {
    "ExecuteTime": {
     "end_time": "2020-05-07T07:42:06.735061Z",
     "start_time": "2020-05-07T07:42:04.997586Z"
    }
   },
   "outputs": [
    {
     "data": {
      "text/plain": [
       "True"
      ]
     },
     "execution_count": 32,
     "metadata": {},
     "output_type": "execute_result"
    }
   ],
   "source": [
    "gismo.rank(\"Laurent_Massoulié and James_W._Roberts\")"
   ]
  },
  {
   "cell_type": "markdown",
   "metadata": {},
   "source": [
    "Now, let's look at the main authors."
   ]
  },
  {
   "cell_type": "code",
   "execution_count": 33,
   "metadata": {
    "ExecuteTime": {
     "end_time": "2020-05-07T07:42:06.741977Z",
     "start_time": "2020-05-07T07:42:06.736939Z"
    }
   },
   "outputs": [
    {
     "data": {
      "text/plain": [
       "['James W. Roberts',\n",
       " 'Laurent Massoulié',\n",
       " 'Thomas Bonald',\n",
       " 'Nidhi Hegde',\n",
       " 'Maher Hamdi',\n",
       " 'Marc Lelarge',\n",
       " 'Stratis Ioannidis',\n",
       " 'Alexandre Proutière',\n",
       " 'Sara Oueslati-Boulahia',\n",
       " 'Ali Ibrahim']"
      ]
     },
     "execution_count": 33,
     "metadata": {},
     "output_type": "execute_result"
    }
   ],
   "source": [
    "gismo.get_ranked_features()"
   ]
  },
  {
   "cell_type": "markdown",
   "metadata": {},
   "source": [
    "We see a mix of both co-authors. How are they organized?"
   ]
  },
  {
   "cell_type": "code",
   "execution_count": 34,
   "metadata": {
    "ExecuteTime": {
     "end_time": "2020-05-07T07:42:07.434235Z",
     "start_time": "2020-05-07T07:42:06.743997Z"
    }
   },
   "outputs": [
    {
     "name": "stdout",
     "output_type": "stream",
     "text": [
      " F: 0.04. R: 0.18. S: 0.62.\n",
      "- F: 0.23. R: 0.11. S: 0.60.\n",
      "-- F: 0.32. R: 0.10. S: 0.89.\n",
      "--- F: 0.66. R: 0.09. S: 0.91.\n",
      "---- James_W._Roberts (R: 0.06; S: 0.91)\n",
      "---- Thomas_Bonald (R: 0.03; S: 0.61)\n",
      "--- Ali_Ibrahim (R: 0.00; S: 0.26)\n",
      "-- Maher_Hamdi (R: 0.01; S: 0.26)\n",
      "-- Sara_Oueslati-Boulahia (R: 0.00; S: 0.29)\n",
      "- F: 0.15. R: 0.07. S: 0.40.\n",
      "-- F: 0.34. R: 0.06. S: 0.37.\n",
      "--- Laurent_Massoulié (R: 0.05; S: 0.40)\n",
      "--- Marc_Lelarge (R: 0.01; S: 0.14)\n",
      "--- Stratis_Ioannidis (R: 0.01; S: 0.14)\n",
      "-- F: 0.42. R: 0.01. S: 0.25.\n",
      "--- Nidhi_Hegde (R: 0.01; S: 0.20)\n",
      "--- Alexandre_Proutière (R: 0.01; S: 0.27)\n"
     ]
    }
   ],
   "source": [
    "gismo.get_clustered_ranked_features()"
   ]
  },
  {
   "cell_type": "markdown",
   "metadata": {},
   "source": [
    "Rough analysis:\n",
    "- One cluster centered around Jim\n",
    "- One cluster centered around Laurent\n",
    "- One subcluster with high focus that relates Nidhi (Laurent's top 10) and Alexandre (Jim's top 10). As expected, they have a strong collaboration history!"
   ]
  },
  {
   "cell_type": "markdown",
   "metadata": {},
   "source": [
    "## Cross-gismo"
   ]
  },
  {
   "cell_type": "markdown",
   "metadata": {},
   "source": [
    "To be done."
   ]
  },
  {
   "cell_type": "markdown",
   "metadata": {},
   "source": [
    "Don't forget to close the source when you're done (the source keeps the ``dblp.data`` file open)."
   ]
  },
  {
   "cell_type": "code",
   "execution_count": 35,
   "metadata": {
    "ExecuteTime": {
     "end_time": "2020-05-07T07:42:07.440308Z",
     "start_time": "2020-05-07T07:42:07.435235Z"
    }
   },
   "outputs": [],
   "source": [
    "source.close()"
   ]
  }
 ],
 "metadata": {
  "kernelspec": {
   "display_name": "Python 3",
   "language": "python",
   "name": "python3"
  },
  "language_info": {
   "codemirror_mode": {
    "name": "ipython",
    "version": 3
   },
   "file_extension": ".py",
   "mimetype": "text/x-python",
   "name": "python",
   "nbconvert_exporter": "python",
   "pygments_lexer": "ipython3",
   "version": "3.7.7"
  },
  "toc": {
   "base_numbering": 1,
   "nav_menu": {},
   "number_sections": true,
   "sideBar": true,
   "skip_h1_title": true,
   "title_cell": "Table of Contents",
   "title_sidebar": "Contents",
   "toc_cell": false,
   "toc_position": {},
   "toc_section_display": true,
   "toc_window_display": true
  }
 },
 "nbformat": 4,
 "nbformat_minor": 4
}
