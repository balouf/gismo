{
 "cells": [
  {
   "cell_type": "markdown",
   "metadata": {},
   "source": [
    "# DBLP exploration"
   ]
  },
  {
   "cell_type": "markdown",
   "metadata": {},
   "source": [
    "This tutorial shows how explore DBLP with Gismo.\n",
    "\n",
    "If you have never used Gismo before, you may want to start with the *Toy example tutorial* or the *ACM* tutorial.\n",
    "\n",
    "Note: the DBLP databased is not small. Recommended requirements to excute this Notebook:\n",
    "- Fast Internet connection (you will need to download a few hundred Mb)\n",
    "- 4 Gb of free space\n",
    "- 4 Gb of RAM (8Gb or more recommended)\n",
    "- Descent CPU (can take more than one hour on slow CPUs)\n",
    "\n",
    "Here, *documents* are articles in DBLP. The *features* of an article category will vary."
   ]
  },
  {
   "cell_type": "markdown",
   "metadata": {},
   "source": [
    "## Initialisation"
   ]
  },
  {
   "cell_type": "markdown",
   "metadata": {},
   "source": [
    "First, we load the required packages."
   ]
  },
  {
   "cell_type": "code",
   "execution_count": 1,
   "metadata": {
    "ExecuteTime": {
     "end_time": "2025-04-09T08:36:53.936992Z",
     "start_time": "2025-04-09T08:36:02.538005Z"
    },
    "scrolled": true
   },
   "outputs": [],
   "source": [
    "import numpy as np\n",
    "import spacy\n",
    "from gismo import Corpus, Embedding, CountVectorizer, cosine_similarity, Gismo\n",
    "from pathlib import Path\n",
    "from functools import partial\n",
    "\n",
    "from gismo.datasets.dblp import Dblp\n",
    "from gismo.filesource import FileSource\n",
    "from gismo.post_processing import post_features_cluster_print, post_documents_cluster_print"
   ]
  },
  {
   "cell_type": "markdown",
   "metadata": {},
   "source": [
    "Then, we prepare the DBLP source."
   ]
  },
  {
   "cell_type": "markdown",
   "metadata": {},
   "source": [
    "First we choose the location of the DBLP files. If you want to run this Notebook at your place, please change the path below and check that it exists."
   ]
  },
  {
   "cell_type": "code",
   "execution_count": 2,
   "metadata": {
    "ExecuteTime": {
     "end_time": "2025-04-09T08:36:53.971763Z",
     "start_time": "2025-04-09T08:36:53.947949Z"
    }
   },
   "outputs": [
    {
     "data": {
      "text/plain": [
       "True"
      ]
     },
     "execution_count": 2,
     "metadata": {},
     "output_type": "execute_result"
    }
   ],
   "source": [
    "path = Path(\"../../../../../Datasets/DBLP\")\n",
    "path.exists()"
   ]
  },
  {
   "cell_type": "markdown",
   "metadata": {},
   "source": [
    "Construction of the dblp files. Only needs to be performed the first time or when you want to refresh the database. Takes about 10 minutes on a Surface Pro 4 with fiber Internet connection."
   ]
  },
  {
   "cell_type": "code",
   "execution_count": 3,
   "metadata": {
    "ExecuteTime": {
     "end_time": "2025-04-09T08:36:53.994237Z",
     "start_time": "2025-04-09T08:36:53.979412Z"
    }
   },
   "outputs": [
    {
     "name": "stdout",
     "output_type": "stream",
     "text": [
      "Retrieve https://dblp.uni-trier.de/xml/dblp.xml.gz from the Internet.\n",
      "DBLP database downloaded to ..\\..\\..\\..\\..\\Datasets\\DBLP\\dblp.xml.gz.\n",
      "Converting DBLP database from ..\\..\\..\\..\\..\\Datasets\\DBLP\\dblp.xml.gz (may take a while).\n",
      "Building Index.\n",
      "Conversion done.\n"
     ]
    }
   ],
   "source": [
    "dblp = Dblp(path=path)\n",
    "dblp.build()"
   ]
  },
  {
   "cell_type": "markdown",
   "metadata": {},
   "source": [
    "Then, we can load the database as a filesource."
   ]
  },
  {
   "cell_type": "code",
   "execution_count": 4,
   "metadata": {
    "ExecuteTime": {
     "end_time": "2025-04-09T08:36:54.097530Z",
     "start_time": "2025-04-09T08:36:54.001419Z"
    }
   },
   "outputs": [
    {
     "data": {
      "text/plain": [
       "{'type': 'inproceedings',\n",
       " 'authors': ['Arnon Rosenthal'],\n",
       " 'title': 'The Future of Classic Data Administration: Objects + Databases + CASE',\n",
       " 'venue': 'SWEE',\n",
       " 'year': '1998'}"
      ]
     },
     "execution_count": 4,
     "metadata": {},
     "output_type": "execute_result"
    }
   ],
   "source": [
    "source = FileSource(filename=\"dblp\", path=path)\n",
    "source[0]"
   ]
  },
  {
   "cell_type": "markdown",
   "metadata": {},
   "source": [
    "Each article is a dict with fields ``type``, ``venue``, ``title``, ``year``, and ``authors``. We build a corpus that will tell Gismo that the content of an article is its ``title`` value."
   ]
  },
  {
   "cell_type": "code",
   "execution_count": 5,
   "metadata": {
    "ExecuteTime": {
     "end_time": "2025-04-09T08:36:54.113578Z",
     "start_time": "2025-04-09T08:36:54.105424Z"
    }
   },
   "outputs": [],
   "source": [
    "corpus = Corpus(source, to_text=lambda x: x['title'])"
   ]
  },
  {
   "cell_type": "markdown",
   "metadata": {},
   "source": [
    "We build an embedding on top of that corpus.\n",
    "- We set ``min_df=30`` to exclude rare features;\n",
    "- We set ``max_df=.02`` to exclude anything present in more than 2% of the corpus;\n",
    "- We use `spacy` to lemmatize & remove some stopwords; remove `preprocessor=...` from the input if you want to skip this (takes time);\n",
    "- A few manually selected stopwords to fine-tune things.\n",
    "- We set ``ngram_range=(1, 2)`` to include bi-grams in the embedding.\n",
    "\n",
    "This will take a few minutes (without spacy) up to a few hours (with spacy enabled). You can save the embedding for later if you want."
   ]
  },
  {
   "cell_type": "code",
   "execution_count": 6,
   "metadata": {
    "ExecuteTime": {
     "start_time": "2025-04-09T08:36:02.557Z"
    }
   },
   "outputs": [],
   "source": [
    "nlp = spacy.load('en_core_web_sm', disable=['parser', 'ner'])\n",
    "keep = {'ADJ', 'NOUN', 'NUM', 'PROPN', 'SYM', 'VERB'}\n",
    "vectorizer = CountVectorizer(min_df=30, max_df=.02, ngram_range=(1, 2), dtype=float,\n",
    "                             preprocessor=lambda txt: \" \".join([w.lemma_.lower() for w in nlp(txt) \n",
    "                                                                if w.pos_ in keep and not w.is_stop]),\n",
    "                             stop_words=['a', 'about', 'an', 'and', 'for', 'from', 'in', 'of', 'on', 'the', 'with'])\n",
    "\n",
    "try:\n",
    "    embedding = Embedding.load(filename=\"dblp_embedding\", path=path)\n",
    "except:\n",
    "    embedding = Embedding(vectorizer=vectorizer)\n",
    "    embedding.fit_transform(corpus)\n",
    "    embedding.dump(filename=\"dblp_embedding\", path=path)"
   ]
  },
  {
   "cell_type": "code",
   "execution_count": 7,
   "metadata": {
    "ExecuteTime": {
     "start_time": "2025-04-09T08:36:02.560Z"
    }
   },
   "outputs": [
    {
     "data": {
      "text/plain": [
       "<Compressed Sparse Row sparse matrix of dtype 'float64'\n",
       "\twith 76864824 stored elements and shape (7513218, 235264)>"
      ]
     },
     "execution_count": 7,
     "metadata": {},
     "output_type": "execute_result"
    }
   ],
   "source": [
    "embedding.x"
   ]
  },
  {
   "cell_type": "markdown",
   "metadata": {},
   "source": [
    "We see from ``embedding.x`` that the embedding links about 7,500,000 documents to 235,000 features. In average, each document is linked to about 10 features."
   ]
  },
  {
   "cell_type": "markdown",
   "metadata": {},
   "source": [
    "Now, we initiate the gismo object, and customize post_processers to ease the display."
   ]
  },
  {
   "cell_type": "code",
   "execution_count": 8,
   "metadata": {
    "ExecuteTime": {
     "start_time": "2025-04-09T08:36:02.564Z"
    }
   },
   "outputs": [],
   "source": [
    "gismo = Gismo(corpus, embedding)"
   ]
  },
  {
   "cell_type": "code",
   "execution_count": 9,
   "metadata": {
    "ExecuteTime": {
     "start_time": "2025-04-09T08:36:02.567Z"
    }
   },
   "outputs": [],
   "source": [
    "def post_article(g, i):\n",
    "    dic = g.corpus[i]\n",
    "    authors = \", \".join(dic['authors'])\n",
    "    return f\"{dic['title']} By {authors} ({dic['venue']}, {dic['year']})\"\n",
    "    \n",
    "gismo.post_documents_item = post_article\n",
    "\n",
    "def post_title(g, i):\n",
    "    return g.corpus[i]['title']\n",
    "    authors = \", \".join(dic['authors'])\n",
    "    return f\"{dic['title']} By {authors} ({dic['venue']}, {dic['year']})\"\n",
    "\n",
    "def post_meta(g, i):\n",
    "    dic = g.corpus[i]\n",
    "    authors = \", \".join(dic['authors'])\n",
    "    return f\"{authors} ({dic['venue']}, {dic['year']})\"\n",
    "\n",
    "\n",
    "gismo.post_documents_cluster = partial(post_documents_cluster_print, post_item=post_title)\n",
    "gismo.post_features_cluster = post_features_cluster_print"
   ]
  },
  {
   "cell_type": "markdown",
   "metadata": {},
   "source": [
    "As the dataset is big, we lower the precision of the computation to speed up things a little bit."
   ]
  },
  {
   "cell_type": "code",
   "execution_count": 10,
   "metadata": {
    "ExecuteTime": {
     "start_time": "2025-04-09T08:36:02.570Z"
    }
   },
   "outputs": [],
   "source": [
    "gismo.parameters.n_iter = 2"
   ]
  },
  {
   "cell_type": "markdown",
   "metadata": {},
   "source": [
    "## Machine Learning (and Covid-19) query"
   ]
  },
  {
   "cell_type": "markdown",
   "metadata": {},
   "source": [
    "We perform the query *Machine learning*. The returned ``True`` tells that some of the query features were found in the corpus' features."
   ]
  },
  {
   "cell_type": "code",
   "execution_count": 11,
   "metadata": {
    "ExecuteTime": {
     "start_time": "2025-04-09T08:36:02.574Z"
    }
   },
   "outputs": [
    {
     "data": {
      "text/plain": [
       "True"
      ]
     },
     "execution_count": 11,
     "metadata": {},
     "output_type": "execute_result"
    }
   ],
   "source": [
    "gismo.rank(\"Machine Learning\")"
   ]
  },
  {
   "cell_type": "markdown",
   "metadata": {},
   "source": [
    "What are the best articles on *Machine Learning*?"
   ]
  },
  {
   "cell_type": "code",
   "execution_count": 12,
   "metadata": {
    "ExecuteTime": {
     "start_time": "2025-04-09T08:36:02.578Z"
    }
   },
   "outputs": [
    {
     "data": {
      "text/plain": [
       "['The Changing Landscape of Machine Learning: A Comparative Analysis of Centralized Machine Learning, Distributed Machine Learning and Federated Machine Learning. By Dishita Naik, Nitin Naik (UKCI, 2023)',\n",
       " 'Resilient Machine Learning for Networked Cyber Physical Systems: A Survey for Machine Learning Security to Securing Machine Learning for CPS. By Felix O. Olowononi, Danda B. Rawat, Chunmei Liu (CoRR, 2021)',\n",
       " 'Resilient Machine Learning for Networked Cyber Physical Systems: A Survey for Machine Learning Security to Securing Machine Learning for CPS. By Felix O. Olowononi, Danda B. Rawat, Chunmei Liu (IEEE Commun. Surv. Tutorials, 2021)',\n",
       " 'The Machine Learning Machine: A Tangible User Interface for Teaching Machine Learning. By Magnus Høholt Kaspersen, Karl-Emil Kjær Bilstrup, Marianne Graves Petersen (TEI, 2021)',\n",
       " 'A Machine Learning-oriented Survey on Tiny Machine Learning. By Luigi Capogrosso, Federico Cunico, Dong Seon Cheng, Franco Fummi, Marco Cristani (CoRR, 2023)',\n",
       " 'A Machine Learning-Oriented Survey on Tiny Machine Learning. By Luigi Capogrosso, Federico Cunico, Dong Seon Cheng, Franco Fummi, Marco Cristani (IEEE Access, 2024)',\n",
       " 'Quantum Machine Learning: An Interplay Between Quantum Computing and Machine Learning. By Jun Qi 0002, Chao-Han Yang, Samuel Yen-Chi Chen, Pin-Yu Chen (CoRR, 2024)',\n",
       " 'PIMA Diabetes Prediction Using Machine Learning and Quantum Machine Learning Techniques. By Dixit Vimal (ITU K, 2024)',\n",
       " 'A Machine Learning Tutorial for Operational Meteorology, Part I: Traditional Machine Learning. By Randy J. Chase, David R. Harrison, Amanda Burke, Gary M. Lackmann, Amy McGovern (CoRR, 2022)',\n",
       " 'Breast Tumor Classification using Machine Learning: Breast Tumor Classification using Machine Learning. By Salman Siddiqui, Mohd Usman Mallick, Ankur Varshney (EAI Endorsed Trans. Context aware Syst. Appl., 2023)',\n",
       " 'When Physics Meets Machine Learning: A Survey of Physics-Informed Machine Learning. By Chuizheng Meng, Sungyong Seo, Defu Cao, Sam Griesemer, Yan Liu 0002 (CoRR, 2022)',\n",
       " 'The Application of Machine Learning Algorithms in Predicting the Usage of IoT-based Cleaning Dispensers: Machine Learning Algorithms in Predicting the Usage if IoT-based Dispensers. By Tobechi Obinwanne, Chibuzor Udokwu, Patrick Brandtner (ICEEG, 2023)',\n",
       " 'The Idealized Machine Learning Pipeline (IMLP) for Advancing Reproducibility in Machine Learning. By Yantong Zheng, Victoria Stodden (ACM-REP, 2024)',\n",
       " 'Quantum Machine Learning: A Hands-on Tutorial for Machine Learning Practitioners and Researchers. By Yuxuan Du, Xinbiao Wang, Naixu Guo, Zhan Yu, Yang Qian, Kaining Zhang, Min-Hsiu Hsieh, Patrick Rebentrost, Dacheng Tao (CoRR, 2025)',\n",
       " 'Machine Learning for Health ( ML4H ) 2019 : What Makes Machine Learning in Medicine Different? By Adrian V. Dalca, Matthew B. A. McDermott, Emily Alsentzer, Samuel G. Finlayson, Michael Oberst, Fabian Falck, Corey Chivers, Andrew Beam, Tristan Naumann, Brett K. Beaulieu-Jones (ML4H@NeurIPS, 2019)',\n",
       " 'Resilient Machine Learning (rML) Ensemble Against Adversarial Machine Learning Attacks. By Likai Yao, Cihan Tunc, Pratik Satam, Salim Hariri (DDDAS, 2020)',\n",
       " 'Predicting Machine Learning Pipeline Runtimes in the Context of Automated Machine Learning. By Felix Mohr, Marcel Wever, Alexander Tornede, Eyke Hüllermeier (IEEE Trans. Pattern Anal. Mach. Intell., 2021)',\n",
       " 'Poisoning Attacks Against Machine Learning: Can Machine Learning Be Trustworthy? By Alina Oprea, Anoop Singhal, Apostol Vassilev 0001 (Computer, 2022)',\n",
       " 'Machine Learning for Testing Machine-Learning Hardware: A Virtuous Cycle. By Arjun Chaudhuri, Jonti Talukdar, Krishnendu Chakrabarty (ICCAD, 2022)',\n",
       " 'Critical Tools for Machine Learning: Situating, Figuring, Diffracting, Fabulating Machine Learning Systems Design. By Goda Klumbyte, Claude Draude, Alex S. Taylor (CHItaly, 2021)',\n",
       " 'Adversarial Machine Learning: Difficulties in Applying Machine Learning to Existing Cybersecurity Systems. By Nick Rahimi, Jordan Maynor, Bidyut Gupta (CATA, 2020)',\n",
       " 'Machine Learning Unplugged - Development and Evaluation of a Workshop About Machine Learning. By Elisaweta Ossovski, Michael Brinkmeier (ISSEP, 2019)',\n",
       " 'Physics Informed Machine Learning of SPH: Machine Learning Lagrangian Turbulence. By Michael Woodward, Yifeng Tian, Criston Hyett, Chris Fryer, Daniel Livescu, Mikhail G. Stepanov, Michael Chertkov (CoRR, 2021)',\n",
       " 'Hacking Machine Learning: Towards The Comprehensive Taxonomy of Attacks Against Machine Learning Systems. By Jerzy Surma (ICIAI, 2020)',\n",
       " 'Machine Learning Lineage for Trustworthy Machine Learning Systems: Information Framework for MLOps Pipelines. By Mikko Raatikainen, Charalampos Souris, Jukka J. Remes, Vlad Stirbu (IEEE Softw., 2025)',\n",
       " 'Informed Machine Learning - Towards a Taxonomy of Explicit Integration of Knowledge into Machine Learning. By Laura von Rüden, Sebastian Mayer, Jochen Garcke, Christian Bauckhage, Jannis Schücker (CoRR, 2019)',\n",
       " 'Deep Fast Machine Learning Utils: A Python Library for Streamlined Machine Learning Prototyping. By Fabi Prezja (CoRR, 2024)',\n",
       " 'How Developers Iterate on Machine Learning Workflows - A Survey of the Applied Machine Learning Literature. By Doris Xin, Litian Ma, Shuchen Song, Aditya G. Parameswaran (CoRR, 2018)',\n",
       " 'Machine Learning in Antenna Design: An Overview on Machine Learning Concept and Algorithms. By Hilal M. El Misilmani, Tarek Naous (HPCS, 2019)',\n",
       " 'Can Machine Learning Model with Static Features be Fooled: an Adversarial Machine Learning Approach. By Rahim Taheri, Reza Javidan, Mohammad Shojafar, Vinod P 0001, Mauro Conti (CoRR, 2019)',\n",
       " 'Machine Learning for All! - Introducing Machine Learning in Middle and High School. By Ramon Mayor Martins, Christiane Gresse von Wangenheim, Marcelo Fernando Rauber, Jean Carlo Hauck (Int. J. Artif. Intell. Educ., 2024)',\n",
       " 'Ensemble Machine Learning Methods to Predict the Balancing of Ayurvedic Constituents in the Human Body Ensemble Machine Learning Methods to Predict. By Vani Rajasekar, Sathya Krishnamoorthi, Muzafer Saracevic, Dzenis Pepic, Mahir Zajmovic, Haris Zogic (Comput. Sci., 2022)',\n",
       " 'Can machine learning model with static features be fooled: an adversarial machine learning approach. By Rahim Taheri, Reza Javidan, Mohammad Shojafar, P. Vinod 0001, Mauro Conti (Clust. Comput., 2020)',\n",
       " 'Contrasting Explain-ML with Interpretability Machine Learning Tools in Light of Interactive Machine Learning Principles. By Bárbara Gabrielle C. O. Lopes, Liziane Santos Soares, Raquel Oliveira Prates, Marcos André Gonçalves (J. Interact. Syst., 2022)',\n",
       " 'A Comparative Analysis Between Quantum Machine Learning and Machine Learning on EEG Dataset. By Leopoldo Angrisani, Egidio De Benedetto, Alessandro Di Bernardo, Roberto Prevete, Annarita Tedesco (MetroXRAINE, 2024)',\n",
       " 'Securing Machine Learning in the Cloud: A Systematic Review of Cloud Machine Learning Security. By Adnan Qayyum, Aneeqa Ijaz, Muhammad Usama, Waleed Iqbal, Junaid Qadir 0001, Yehia Elkhatib, Ala I. Al-Fuqaha (Frontiers Big Data, 2020)',\n",
       " 'Verbalized Machine Learning: Revisiting Machine Learning with Language Models. By Tim Z. Xiao, Robert Bamler, Bernhard Schölkopf, Weiyang Liu (CoRR, 2024)',\n",
       " 'Detecting Refactoring Commits in Machine Learning Python Projects: A Machine Learning-Based Approach. By Shayan Noei, Heng Li 0007, Ying Zou 0001 (CoRR, 2024)',\n",
       " 'Arabic Offensive Language Detection Using Machine Learning and Ensemble Machine Learning Approaches. By Fatemah Husain (CoRR, 2020)',\n",
       " 'Declarative Machine Learning Systems: The future of machine learning will depend on it being in the hands of the rest of us. By Piero Molino, Christopher Ré (ACM Queue, 2021)']"
      ]
     },
     "execution_count": 12,
     "metadata": {},
     "output_type": "execute_result"
    }
   ],
   "source": [
    "gismo.get_documents_by_rank()"
   ]
  },
  {
   "cell_type": "markdown",
   "metadata": {},
   "source": [
    "OK, this seems to go everywhere. Maybe we can narrow with a more specific request."
   ]
  },
  {
   "cell_type": "code",
   "execution_count": 13,
   "metadata": {
    "ExecuteTime": {
     "start_time": "2025-04-09T08:36:02.581Z"
    }
   },
   "outputs": [
    {
     "data": {
      "text/plain": [
       "True"
      ]
     },
     "execution_count": 13,
     "metadata": {},
     "output_type": "execute_result"
    }
   ],
   "source": [
    "gismo.rank(\"Machine Learning and covid-19\")"
   ]
  },
  {
   "cell_type": "code",
   "execution_count": 14,
   "metadata": {
    "ExecuteTime": {
     "start_time": "2025-04-09T08:36:02.584Z"
    }
   },
   "outputs": [
    {
     "data": {
      "text/plain": [
       "['Ergonomics of Virtual Learning During COVID-19. By Lu Yuan, Alison Garaudy (AHFE (11), 2021)',\n",
       " 'University Virtual Learning in Covid Times. By Verónica Marín-Díaz, Eloísa Reche, Javier Martín (Technol. Knowl. Learn., 2022)',\n",
       " 'Mobile Learning for COVID-19 Prevention. By Zhiyi Wang (EAI Endorsed Trans. e Learn., 2024)',\n",
       " 'Design Issues in e-Learning during the COVID-19 Pandemic. By Alexandra Hosszu, Cosima Rughinis (CSCS, 2021)',\n",
       " 'Campus Traffic and e-Learning during COVID-19 Pandemic. By Thomas Favale, Francesca Soro, Martino Trevisan, Idilio Drago, Marco Mellia (CoRR, 2020)',\n",
       " 'Campus traffic and e-Learning during COVID-19 pandemic. By Thomas Favale, Francesca Soro, Martino Trevisan, Idilio Drago, Marco Mellia (Comput. Networks, 2020)',\n",
       " 'DCML: Deep contrastive mutual learning for COVID-19 recognition. By Hongbin Zhang 0004, Weinan Liang, Chuanxiu Li, Qipeng Xiong, Haowei Shi, Lang Hu, Guangli Li (Biomed. Signal Process. Control., 2022)',\n",
       " 'The Deaf Experience in Remote Learning during COVID-19. By Yosra Bouzid, Mohamed Jemni (ICTA, 2021)',\n",
       " 'Interpretable Sequence Learning for Covid-19 Forecasting. By Sercan Ömer Arik, Chun-Liang Li, Jinsung Yoon, Rajarishi Sinha, Arkady Epshteyn, Long T. Le, Vikas Menon, Shashank Singh 0005, Leyou Zhang, Martin Nikoltchev, Yash Sonthalia, Hootan Nakhost, Elli Kanal, Tomas Pfister (NeurIPS, 2020)',\n",
       " 'Interpretable Sequence Learning for COVID-19 Forecasting. By Sercan Ömer Arik, Chun-Liang Li, Jinsung Yoon, Rajarishi Sinha, Arkady Epshteyn, Long T. Le, Vikas Menon, Shashank Singh 0005, Leyou Zhang, Nate Yoder, Martin Nikoltchev, Yash Sonthalia, Hootan Nakhost, Elli Kanal, Tomas Pfister (CoRR, 2020)',\n",
       " 'DeCoP: Deep Learning for COVID-19 Prediction of Survival. By Yao Deng, Shigang Liu, Alireza Jolfaei, Hongbing Cheng, Ziyuan Wang, Xi Zheng 0001 (IEEE Trans. Mol. Biol. Multi Scale Commun., 2022)',\n",
       " 'Differences Between Neurodivergent and Neurotypical Learning During Covid-19: Towards the E-Tivities Satisfaction Scale. By Jonathan Bishop, Kamal Bechkoum (CSCI, 2022)',\n",
       " 'D-Learning and COVID-19 Crisis: Appraisal of Reactions and Means of Perpetuity. By Jalal Ismaili, Karim El Moutaouakil (SN Comput. Sci., 2023)',\n",
       " 'Engineering Experiential Learning During the COVID-19 Pandemic. By Nael Barakat, Aws AlShalash, Mohammad Biswas, Shih-Feng Chou, Tahsin Khajah (ICL (2), 2021)',\n",
       " 'A Survey on Deep Learning in COVID-19 Diagnosis. By Xue Han, Zuojin Hu, Shuihua Wang, Yudong Zhang 0001 (J. Imaging, 2023)',\n",
       " 'The Study on the Efficiency of Smart Learning in the COVID-19. By Seong-Kyu Kim, Mi-Jung Lee, Eun-Sill Jang, Young-Eun Lee (J. Multim. Inf. Syst., 2022)',\n",
       " 'Dual Teaching: Simultaneous Remote and In-Person Learning During COVID. By Hunter M. Williams, Malcolm Gibran Haynes, Joseph Kim (SIGITE, 2021)',\n",
       " 'An Analysis of the Effectiveness of Emergency Distance Learning under COVID-19. By Ngo Tung Son, Bui Ngoc Anh, Kieu Quoc Tuan, Son Ba Nguyen, Son Hoang Nguyen, Jafreezal Jaafar (CCRIS, 2020)',\n",
       " 'M-learning During COVID-19: A Systematic Literature Review. By Esmhan Jafer, Hossana Twinomurinzi (AFRICATEK, 2022)',\n",
       " 'Automated Machine Learning for COVID-19 Forecasting. By Jaco Tetteroo, Mitra Baratchi, Holger H. Hoos (IEEE Access, 2022)',\n",
       " 'A Data Augmented Approach to Transfer Learning for Covid-19 Detection. By Shagufta Henna, Aparna Reji (CoRR, 2021)',\n",
       " 'A Closer Look at Spatial-Slice Features Learning for COVID-19 Detection. By Chih-Chung Hsu, Chia-Ming Lee, Yang Fan Chiang, Yi-Shiuan Chou, Chih-Yu Jiang, Shen-Chieh Tai, Chi-Han Tsai (CVPR Workshops, 2024)',\n",
       " 'A Closer Look at Spatial-Slice Features Learning for COVID-19 Detection. By Chih-Chung Hsu, Chia-Ming Lee, Yang Fan Chiang, Yi-Shiuan Chou, Chih-Yu Jiang, Shen-Chieh Tai, Chi-Han Tsai (CoRR, 2024)',\n",
       " 'Academic Procrastination and Online Learning During the COVID-19 Pandemic. By Jørgen Melgaard, Rubina Monir, Lester Allan Lasrado, Asle Fagerstrøm (CENTERIS/ProjMAN/HCist, 2021)',\n",
       " 'A comprehensive review of federated learning for COVID-19 detection. By Sadaf Naz, Khoa Tran Phan, Yi-Ping Phoebe Chen (Int. J. Intell. Syst., 2022)',\n",
       " 'Challenges of Online Learning During the COVID-19: What Can We Learn on Twitter? By Wei Quan (ARTIIS, 2021)',\n",
       " 'M-learning in the COVID-19 era: physical vs digital class. By Vasiliki Matzavela, Efthimios Alepis (Educ. Inf. Technol., 2021)',\n",
       " 'Federated Learning for COVID-19 on Heterogeneous CXR Images with Noise. By Mengqing Ding, Juan Li 0011, Changyan Yi, Jun Cai 0001 (ICC, 2023)',\n",
       " 'Curriculum Contrastive Learning for COVID-19 FAQ Retrieval. By Leilei Zhang, Junfei Liu (BIBM, 2022)',\n",
       " 'Design Teaching and Learning in Covid-19 Times: An International Experience. By Paulo Ferreira, Filipa Oliveira Antunes, Haroldo Gallo, Marcos Tognon, Heloisa Mendes Pereira (TECH-EDU, 2020)',\n",
       " 'Educational Transformation: An Evaluation of Online Learning Due To COVID-19. By Rizky Firmansyah, Dhika Maha Putri, Mochammad Galih Satriyo Wicaksono, Sheila Febriani Putri, Ahmad Arif Widianto, Mohd Rizal Palil (Int. J. Emerg. Technol. Learn., 2021)',\n",
       " 'Online Learning Before, During and After COVID-19: Observations Over 20 Years. By Natalie Wieland, Liz Kollias (Int. J. Adv. Corp. Learn., 2020)',\n",
       " 'Using Deep Learning for COVID-19 Control: Implementing a Convolutional Neural Network in a Facemask Detection Application. By Caolan Deery, Kevin Meehan (SmartNets, 2021)',\n",
       " 'LitCovid ensemble learning for COVID-19 multi-label classification. By Jinghang Gu, Emmanuele Chersoni, Xing Wang, Chu-Ren Huang, Longhua Qian, Guodong Zhou (Database J. Biol. Databases Curation, 2022)',\n",
       " 'A Survey on Deep Learning and Machine Learning for COVID-19 Detection. By Mohamed M. Dessouky, Sahar F. Sabbeh, Boushra Alshehri (ICFNDS, 2021)']"
      ]
     },
     "execution_count": 14,
     "metadata": {},
     "output_type": "execute_result"
    }
   ],
   "source": [
    "gismo.get_documents_by_rank()"
   ]
  },
  {
   "cell_type": "markdown",
   "metadata": {},
   "source": [
    "Sounds nice. How are the top-10 articles related? Note: as the graph structure is really sparse on the document side (10 features), it is best to de-activate the query-distortion, which is intended for longer documents."
   ]
  },
  {
   "cell_type": "code",
   "execution_count": 15,
   "metadata": {
    "ExecuteTime": {
     "start_time": "2025-04-09T08:36:02.587Z"
    }
   },
   "outputs": [
    {
     "name": "stdout",
     "output_type": "stream",
     "text": [
      " F: 0.48. R: 0.00. S: 0.79.\n",
      "- F: 0.48. R: 0.00. S: 0.79.\n",
      "-- F: 0.48. R: 0.00. S: 0.77.\n",
      "--- F: 0.66. R: 0.00. S: 0.52.\n",
      "---- Ergonomics of Virtual Learning During COVID-19. (R: 0.00; S: 0.62)\n",
      "---- University Virtual Learning in Covid Times. (R: 0.00; S: 0.34)\n",
      "--- F: 0.73. R: 0.00. S: 0.74.\n",
      "---- Design Issues in e-Learning during the COVID-19 Pandemic. (R: 0.00; S: 0.66)\n",
      "---- F: 1.00. R: 0.00. S: 0.71.\n",
      "----- Campus Traffic and e-Learning during COVID-19 Pandemic. (R: 0.00; S: 0.71)\n",
      "----- Campus traffic and e-Learning during COVID-19 pandemic. (R: 0.00; S: 0.71)\n",
      "--- DCML: Deep contrastive mutual learning for COVID-19 recognition. (R: 0.00; S: 0.60)\n",
      "-- Mobile Learning for COVID-19 Prevention. (R: 0.00; S: 0.55)\n",
      "-- F: 1.00. R: 0.00. S: 0.53.\n",
      "--- Interpretable Sequence Learning for Covid-19 Forecasting. (R: 0.00; S: 0.53)\n",
      "--- Interpretable Sequence Learning for COVID-19 Forecasting. (R: 0.00; S: 0.53)\n",
      "- The Deaf Experience in Remote Learning during COVID-19. (R: 0.00; S: 0.50)\n"
     ]
    }
   ],
   "source": [
    "gismo.parameters.distortion = 0.0\n",
    "gismo.get_documents_by_cluster(k=10)"
   ]
  },
  {
   "cell_type": "markdown",
   "metadata": {},
   "source": [
    "Now, let's look at the main keywords."
   ]
  },
  {
   "cell_type": "code",
   "execution_count": 16,
   "metadata": {
    "ExecuteTime": {
     "start_time": "2025-04-09T08:36:02.590Z"
    }
   },
   "outputs": [
    {
     "data": {
      "text/plain": [
       "['covid',\n",
       " '19',\n",
       " 'covid 19',\n",
       " 'learning covid',\n",
       " 'machine',\n",
       " 'pandemic',\n",
       " 'machine learning',\n",
       " '19 pandemic',\n",
       " 'online learning',\n",
       " 'online',\n",
       " '19 detection',\n",
       " 'chest',\n",
       " 'student',\n",
       " 'deep learning',\n",
       " 'ray',\n",
       " 'chest ray',\n",
       " 'classification',\n",
       " 'prediction',\n",
       " 'case',\n",
       " 'ct']"
      ]
     },
     "execution_count": 16,
     "metadata": {},
     "output_type": "execute_result"
    }
   ],
   "source": [
    "gismo.get_features_by_rank(20)"
   ]
  },
  {
   "cell_type": "markdown",
   "metadata": {},
   "source": [
    "Let's organize them."
   ]
  },
  {
   "cell_type": "code",
   "execution_count": 17,
   "metadata": {
    "ExecuteTime": {
     "start_time": "2025-04-09T08:36:02.593Z"
    }
   },
   "outputs": [
    {
     "name": "stdout",
     "output_type": "stream",
     "text": [
      " F: 0.25. R: 0.06. S: 0.97.\n",
      "- F: 0.47. R: 0.05. S: 0.97.\n",
      "-- F: 0.58. R: 0.05. S: 0.97.\n",
      "--- F: 0.96. R: 0.04. S: 0.97.\n",
      "---- covid (R: 0.01; S: 1.00)\n",
      "---- 19 (R: 0.01; S: 0.99)\n",
      "---- covid 19 (R: 0.01; S: 0.99)\n",
      "---- learning covid (R: 0.01; S: 0.97)\n",
      "--- F: 0.98. R: 0.01. S: 0.58.\n",
      "---- pandemic (R: 0.00; S: 0.58)\n",
      "---- 19 pandemic (R: 0.00; S: 0.57)\n",
      "-- F: 0.94. R: 0.00. S: 0.45.\n",
      "--- online learning (R: 0.00; S: 0.45)\n",
      "--- online (R: 0.00; S: 0.48)\n",
      "- F: 0.99. R: 0.01. S: 0.27.\n",
      "-- machine (R: 0.00; S: 0.27)\n",
      "-- machine learning (R: 0.00; S: 0.27)\n"
     ]
    }
   ],
   "source": [
    "# On the feature side, the graph is more dense so we can use query distortion\n",
    "gismo.get_features_by_cluster(distortion=1)"
   ]
  },
  {
   "cell_type": "markdown",
   "metadata": {},
   "source": [
    "Rough, very broad analysis:\n",
    "- One big keyword cluster about Coronavirus / Covid-19, pandemic, online learning;\n",
    "- Machine Learning as a separate small cluster."
   ]
  },
  {
   "cell_type": "code",
   "execution_count": 18,
   "metadata": {
    "ExecuteTime": {
     "start_time": "2025-04-09T08:36:02.598Z"
    }
   },
   "outputs": [
    {
     "data": {
      "text/plain": [
       "<Compressed Sparse Row sparse matrix of dtype 'float64'\n",
       "\twith 121940 stored elements and shape (1, 7513218)>"
      ]
     },
     "execution_count": 18,
     "metadata": {},
     "output_type": "execute_result"
    }
   ],
   "source": [
    "np.dot(gismo.embedding.query_projection(\"Machine learning\")[0], gismo.embedding.y)"
   ]
  },
  {
   "cell_type": "markdown",
   "metadata": {},
   "source": [
    "122,000 articles with an explicit link to machine learning."
   ]
  },
  {
   "cell_type": "code",
   "execution_count": 19,
   "metadata": {
    "ExecuteTime": {
     "start_time": "2025-04-09T08:36:02.601Z"
    }
   },
   "outputs": [
    {
     "data": {
      "text/plain": [
       "<Compressed Sparse Row sparse matrix of dtype 'float64'\n",
       "\twith 20024 stored elements and shape (1, 7513218)>"
      ]
     },
     "execution_count": 19,
     "metadata": {},
     "output_type": "execute_result"
    }
   ],
   "source": [
    "np.dot(gismo.embedding.query_projection(\"Covid-19\")[0], gismo.embedding.y)"
   ]
  },
  {
   "cell_type": "markdown",
   "metadata": {},
   "source": [
    "20,000 articles with an explicit link to covid-19."
   ]
  },
  {
   "cell_type": "markdown",
   "metadata": {},
   "source": [
    "## Authors query"
   ]
  },
  {
   "cell_type": "markdown",
   "metadata": {},
   "source": [
    "Instead of looking at words, we can explore authors and their collaborations."
   ]
  },
  {
   "cell_type": "markdown",
   "metadata": {},
   "source": [
    " We just have to rewire the corpus to output string of authors."
   ]
  },
  {
   "cell_type": "code",
   "execution_count": 20,
   "metadata": {
    "ExecuteTime": {
     "start_time": "2025-04-09T08:36:02.607Z"
    }
   },
   "outputs": [],
   "source": [
    "def to_authors_text(dic):\n",
    "    return \" \".join([a.replace(' ', '_') for a in dic['authors']])\n",
    "corpus = Corpus(source, to_text=to_authors_text)"
   ]
  },
  {
   "cell_type": "markdown",
   "metadata": {},
   "source": [
    "We can build a new embedding on top of this modified corpus. We tell the vectorizer to be stupid: don't preprocess, words are separated spaces.\n",
    "\n",
    "This will take a few minutes (you can save the embedding for later if you want)."
   ]
  },
  {
   "cell_type": "code",
   "execution_count": 21,
   "metadata": {
    "ExecuteTime": {
     "start_time": "2025-04-09T08:36:02.611Z"
    }
   },
   "outputs": [],
   "source": [
    "vectorizer = CountVectorizer(dtype=float,\n",
    "                            preprocessor=lambda x:x, tokenizer=lambda x: x.split(' '))\n",
    "try:\n",
    "    a_embedding = Embedding.load(filename=\"dblp_aut_embedding\", path=path)\n",
    "except:\n",
    "    a_embedding = Embedding(vectorizer=vectorizer)\n",
    "    a_embedding.fit_transform(corpus)\n",
    "    a_embedding.dump(filename=\"dblp_aut_embedding\", path=path)"
   ]
  },
  {
   "cell_type": "code",
   "execution_count": 22,
   "metadata": {
    "ExecuteTime": {
     "start_time": "2025-04-09T08:36:02.614Z"
    }
   },
   "outputs": [
    {
     "data": {
      "text/plain": [
       "<Compressed Sparse Row sparse matrix of dtype 'float64'\n",
       "\twith 25662979 stored elements and shape (7513218, 3820206)>"
      ]
     },
     "execution_count": 22,
     "metadata": {},
     "output_type": "execute_result"
    }
   ],
   "source": [
    "a_embedding.x"
   ]
  },
  {
   "cell_type": "markdown",
   "metadata": {},
   "source": [
    "We now have about 3,800,000 authors to explore. Let's reload gismo and try to play."
   ]
  },
  {
   "cell_type": "code",
   "execution_count": 23,
   "metadata": {
    "ExecuteTime": {
     "start_time": "2025-04-09T08:36:02.618Z"
    }
   },
   "outputs": [],
   "source": [
    "gismo = Gismo(corpus, a_embedding)\n",
    "gismo.post_documents_item = post_article\n",
    "gismo.post_features_item = lambda g, i: g.embedding.features[i].replace(\"_\", \" \")"
   ]
  },
  {
   "cell_type": "code",
   "execution_count": 24,
   "metadata": {
    "ExecuteTime": {
     "start_time": "2025-04-09T08:36:02.621Z"
    }
   },
   "outputs": [],
   "source": [
    "gismo.post_documents_cluster = partial(post_documents_cluster_print, post_item=post_meta)\n",
    "gismo.post_features_cluster = post_features_cluster_print"
   ]
  },
  {
   "cell_type": "markdown",
   "metadata": {},
   "source": [
    "### Laurent Massoulié query"
   ]
  },
  {
   "cell_type": "code",
   "execution_count": 25,
   "metadata": {
    "ExecuteTime": {
     "start_time": "2025-04-09T08:36:02.625Z"
    }
   },
   "outputs": [
    {
     "data": {
      "text/plain": [
       "True"
      ]
     },
     "execution_count": 25,
     "metadata": {},
     "output_type": "execute_result"
    }
   ],
   "source": [
    "gismo.rank(\"Laurent_Massoulié\")"
   ]
  },
  {
   "cell_type": "markdown",
   "metadata": {},
   "source": [
    "What are the most central articles of Laurent Massoulié in terms of collaboration?"
   ]
  },
  {
   "cell_type": "code",
   "execution_count": 26,
   "metadata": {
    "ExecuteTime": {
     "start_time": "2025-04-09T08:36:02.628Z"
    }
   },
   "outputs": [
    {
     "data": {
      "text/plain": [
       "['Aligning Embeddings and Geometric Random Graphs: Informational Results and Computational Approaches for the Procrustes-Wasserstein Problem. By Mathieu Even, Luca Ganassali, Jakob Maier, Laurent Massoulié (NeurIPS, 2024)',\n",
       " 'Aligning Embeddings and Geometric Random Graphs: Informational Results and Computational Approaches for the Procrustes-Wasserstein Problem. By Mathieu Even, Luca Ganassali, Jakob Maier, Laurent Massoulié (CoRR, 2024)',\n",
       " 'Scalable Local Area Service Discovery. By Richard Black, Heimir Sverrisson, Laurent Massoulié (ICC, 2007)',\n",
       " 'Non-Backtracking Spectrum of Degree-Corrected Stochastic Block Models. By Lennart Gulikers, Marc Lelarge, Laurent Massoulié (ITCS, 2017)',\n",
       " 'An Impossibility Result for Reconstruction in a Degree-Corrected Planted-Partition Model. By Lennart Gulikers, Marc Lelarge, Laurent Massoulié (CoRR, 2015)',\n",
       " 'A spectral method for community detection in moderately-sparse degree-corrected stochastic block models. By Lennart Gulikers, Marc Lelarge, Laurent Massoulié (CoRR, 2015)',\n",
       " 'Non-Backtracking Spectrum of Degree-Corrected Stochastic Block Models. By Lennart Gulikers, Marc Lelarge, Laurent Massoulié (CoRR, 2016)',\n",
       " 'Optimal Content Placement for Peer-to-Peer Video-on-Demand Systems. By Bo Tan 0002, Laurent Massoulié (IEEE/ACM Trans. Netw., 2013)',\n",
       " 'Optimal content placement for peer-to-peer video-on-demand systems. By Bo Tan 0002, Laurent Massoulié (INFOCOM, 2011)',\n",
       " 'Brief announcement: adaptive content placement for peer-to-peer video-on-demand systems. By Bo Tan 0002, Laurent Massoulié (PODC, 2010)']"
      ]
     },
     "execution_count": 26,
     "metadata": {},
     "output_type": "execute_result"
    }
   ],
   "source": [
    "gismo.get_documents_by_rank(k=10)"
   ]
  },
  {
   "cell_type": "markdown",
   "metadata": {},
   "source": [
    "We see lots of duplicates. This is not surprising as many articles can published first as a research report, then as a conference paper, last as a journal article. Luckily, Gismo can cover for you."
   ]
  },
  {
   "cell_type": "code",
   "execution_count": 27,
   "metadata": {
    "ExecuteTime": {
     "start_time": "2025-04-09T08:36:02.632Z"
    }
   },
   "outputs": [
    {
     "data": {
      "text/plain": [
       "['Aligning Embeddings and Geometric Random Graphs: Informational Results and Computational Approaches for the Procrustes-Wasserstein Problem. By Mathieu Even, Luca Ganassali, Jakob Maier, Laurent Massoulié (NeurIPS, 2024)',\n",
       " 'Aligning Embeddings and Geometric Random Graphs: Informational Results and Computational Approaches for the Procrustes-Wasserstein Problem. By Mathieu Even, Luca Ganassali, Jakob Maier, Laurent Massoulié (CoRR, 2024)',\n",
       " 'Scalable Local Area Service Discovery. By Richard Black, Heimir Sverrisson, Laurent Massoulié (ICC, 2007)',\n",
       " 'Non-Backtracking Spectrum of Degree-Corrected Stochastic Block Models. By Lennart Gulikers, Marc Lelarge, Laurent Massoulié (ITCS, 2017)',\n",
       " 'An Impossibility Result for Reconstruction in a Degree-Corrected Planted-Partition Model. By Lennart Gulikers, Marc Lelarge, Laurent Massoulié (CoRR, 2015)',\n",
       " 'A spectral method for community detection in moderately-sparse degree-corrected stochastic block models. By Lennart Gulikers, Marc Lelarge, Laurent Massoulié (CoRR, 2015)',\n",
       " 'Non-Backtracking Spectrum of Degree-Corrected Stochastic Block Models. By Lennart Gulikers, Marc Lelarge, Laurent Massoulié (CoRR, 2016)',\n",
       " 'Optimal Content Placement for Peer-to-Peer Video-on-Demand Systems. By Bo Tan 0002, Laurent Massoulié (IEEE/ACM Trans. Netw., 2013)',\n",
       " 'Optimal content placement for peer-to-peer video-on-demand systems. By Bo Tan 0002, Laurent Massoulié (INFOCOM, 2011)',\n",
       " 'Brief announcement: adaptive content placement for peer-to-peer video-on-demand systems. By Bo Tan 0002, Laurent Massoulié (PODC, 2010)']"
      ]
     },
     "execution_count": 27,
     "metadata": {},
     "output_type": "execute_result"
    }
   ],
   "source": [
    "gismo.get_documents_by_coverage(k=10)"
   ]
  },
  {
   "cell_type": "markdown",
   "metadata": {},
   "source": [
    "Hum, not working well. The reason here is query distortion. Query distortion is a gismo feature that modulates the clustering with the query. Sadly, when features are authors, the underlying graph has a very specific structure (highly sparse and redundant) that makes query distortion *too* effective. The solution is to desactivate it."
   ]
  },
  {
   "cell_type": "code",
   "execution_count": 28,
   "metadata": {
    "ExecuteTime": {
     "start_time": "2025-04-09T08:36:02.636Z"
    }
   },
   "outputs": [
    {
     "data": {
      "text/plain": [
       "['Aligning Embeddings and Geometric Random Graphs: Informational Results and Computational Approaches for the Procrustes-Wasserstein Problem. By Mathieu Even, Luca Ganassali, Jakob Maier, Laurent Massoulié (NeurIPS, 2024)',\n",
       " 'Scalable Local Area Service Discovery. By Richard Black, Heimir Sverrisson, Laurent Massoulié (ICC, 2007)',\n",
       " 'Non-Backtracking Spectrum of Degree-Corrected Stochastic Block Models. By Lennart Gulikers, Marc Lelarge, Laurent Massoulié (ITCS, 2017)',\n",
       " 'Optimal Content Placement for Peer-to-Peer Video-on-Demand Systems. By Bo Tan 0002, Laurent Massoulié (IEEE/ACM Trans. Netw., 2013)',\n",
       " 'Adaptive Matching for Expert Systems with Uncertain Task Types. By Virag Shah, Lennart Gulikers, Laurent Massoulié, Milan Vojnovic (Oper. Res., 2020)',\n",
       " 'Asynchrony and Acceleration in Gossip Algorithms. By Mathieu Even, Hadrien Hendrikx, Laurent Massoulié (CoRR, 2020)',\n",
       " 'Asymmetric tree correlation testing for graph alignment. By Jakob Maier, Laurent Massoulié (ITW, 2023)',\n",
       " 'From tree matching to sparse graph alignment. By Luca Ganassali, Laurent Massoulié (CoRR, 2020)',\n",
       " 'Concentration of Non-Isotropic Random Tensors with Applications to Learning and Empirical Risk Minimization. By Mathieu Even, Laurent Massoulié (COLT, 2021)',\n",
       " 'Aligning Embeddings and Geometric Random Graphs: Informational Results and Computational Approaches for the Procrustes-Wasserstein Problem. By Mathieu Even, Luca Ganassali, Jakob Maier, Laurent Massoulié (CoRR, 2024)']"
      ]
     },
     "execution_count": 28,
     "metadata": {},
     "output_type": "execute_result"
    }
   ],
   "source": [
    "gismo.parameters.distortion = 0\n",
    "gismo.get_documents_by_coverage(k=10)"
   ]
  },
  {
   "cell_type": "markdown",
   "metadata": {},
   "source": [
    "Much better. No duplicate and more diversity in the results. Let's observe the communities."
   ]
  },
  {
   "cell_type": "code",
   "execution_count": 29,
   "metadata": {
    "ExecuteTime": {
     "start_time": "2025-04-09T08:36:02.640Z"
    }
   },
   "outputs": [
    {
     "name": "stdout",
     "output_type": "stream",
     "text": [
      " F: 0.38. R: 0.06. S: 0.87.\n",
      "- F: 0.42. R: 0.06. S: 0.87.\n",
      "-- F: 0.43. R: 0.04. S: 0.83.\n",
      "--- F: 0.50. R: 0.03. S: 0.77.\n",
      "---- F: 0.59. R: 0.02. S: 0.68.\n",
      "----- F: 0.70. R: 0.01. S: 0.58.\n",
      "------ F: 1.00. R: 0.01. S: 0.49.\n",
      "------- Mathieu Even, Luca Ganassali, Jakob Maier, Laurent Massoulié (NeurIPS, 2024) (R: 0.00; S: 0.49)\n",
      "------- Mathieu Even, Luca Ganassali, Jakob Maier, Laurent Massoulié (CoRR, 2024) (R: 0.00; S: 0.49)\n",
      "------ Jakob Maier, Laurent Massoulié (ITW, 2023) (R: 0.00; S: 0.59)\n",
      "----- F: 1.00. R: 0.01. S: 0.65.\n",
      "------ Luca Ganassali, Laurent Massoulié (CoRR, 2020) (R: 0.00; S: 0.65)\n",
      "------ Luca Ganassali, Laurent Massoulié (COLT, 2020) (R: 0.00; S: 0.65)\n",
      "---- F: 0.80. R: 0.01. S: 0.65.\n",
      "----- F: 1.00. R: 0.01. S: 0.60.\n",
      "------ Mathieu Even, Hadrien Hendrikx, Laurent Massoulié (CoRR, 2020) (R: 0.00; S: 0.60)\n",
      "------ Mathieu Even, Hadrien Hendrikx, Laurent Massoulié (IEEE Trans. Autom. Control., 2025) (R: 0.00; S: 0.60)\n",
      "------ Mathieu Even, Hadrien Hendrikx, Laurent Massoulié (CoRR, 2021) (R: 0.00; S: 0.60)\n",
      "----- Mathieu Even, Laurent Massoulié (COLT, 2021) (R: 0.00; S: 0.69)\n",
      "--- F: 1.00. R: 0.01. S: 0.60.\n",
      "---- Bo Tan 0002, Laurent Massoulié (IEEE/ACM Trans. Netw., 2013) (R: 0.00; S: 0.60)\n",
      "---- Bo Tan 0002, Laurent Massoulié (INFOCOM, 2011) (R: 0.00; S: 0.60)\n",
      "---- Bo Tan 0002, Laurent Massoulié (PODC, 2010) (R: 0.00; S: 0.60)\n",
      "-- F: 0.61. R: 0.02. S: 0.59.\n",
      "--- F: 1.00. R: 0.01. S: 0.58.\n",
      "---- Lennart Gulikers, Marc Lelarge, Laurent Massoulié (ITCS, 2017) (R: 0.00; S: 0.58)\n",
      "---- Lennart Gulikers, Marc Lelarge, Laurent Massoulié (CoRR, 2015) (R: 0.00; S: 0.58)\n",
      "---- Lennart Gulikers, Marc Lelarge, Laurent Massoulié (CoRR, 2015) (R: 0.00; S: 0.58)\n",
      "---- Lennart Gulikers, Marc Lelarge, Laurent Massoulié (CoRR, 2016) (R: 0.00; S: 0.58)\n",
      "--- F: 1.00. R: 0.01. S: 0.47.\n",
      "---- Virag Shah, Lennart Gulikers, Laurent Massoulié, Milan Vojnovic (Oper. Res., 2020) (R: 0.00; S: 0.47)\n",
      "---- Virag Shah, Lennart Gulikers, Laurent Massoulié, Milan Vojnovic (Allerton, 2017) (R: 0.00; S: 0.47)\n",
      "---- Virag Shah, Lennart Gulikers, Laurent Massoulié, Milan Vojnovic (CoRR, 2017) (R: 0.00; S: 0.47)\n",
      "- Richard Black, Heimir Sverrisson, Laurent Massoulié (ICC, 2007) (R: 0.00; S: 0.46)\n"
     ]
    }
   ],
   "source": [
    "gismo.get_documents_by_cluster(k=20, resolution=.9)"
   ]
  },
  {
   "cell_type": "markdown",
   "metadata": {},
   "source": [
    "OK! We see that the articles are organized by writing commmunities. Also note how Gismo managed to organize a hierachical grouping of the communities."
   ]
  },
  {
   "cell_type": "markdown",
   "metadata": {},
   "source": [
    "Now, let's look in terms of authors. This is actually the interesting part when studying collaborations."
   ]
  },
  {
   "cell_type": "code",
   "execution_count": 30,
   "metadata": {
    "ExecuteTime": {
     "start_time": "2025-04-09T08:36:02.644Z"
    }
   },
   "outputs": [
    {
     "data": {
      "text/plain": [
       "['Laurent Massoulié',\n",
       " 'Marc Lelarge',\n",
       " 'Mathieu Even',\n",
       " 'Hadrien Hendrikx',\n",
       " 'Peter B. Key',\n",
       " 'Stratis Ioannidis',\n",
       " 'Nidhi Hegde 0001',\n",
       " 'Francis R. Bach',\n",
       " 'Luca Ganassali',\n",
       " 'Anne-Marie Kermarrec',\n",
       " 'Romain Cosson',\n",
       " 'Ayalvadi J. Ganesh',\n",
       " 'Lennart Gulikers',\n",
       " 'Milan Vojnovic',\n",
       " 'Dan-Cristian Tomozei',\n",
       " 'Laurent Viennot',\n",
       " 'Kevin Scaman',\n",
       " 'Amin Karbasi',\n",
       " 'Augustin Chaintreau',\n",
       " 'Mathieu Leconte']"
      ]
     },
     "execution_count": 30,
     "metadata": {},
     "output_type": "execute_result"
    }
   ],
   "source": [
    "gismo.get_features_by_rank()"
   ]
  },
  {
   "cell_type": "markdown",
   "metadata": {},
   "source": [
    "We see many authors that were not present in the articles listed above. This is an important observation: central articles (with respect to a query) are not necessarily written by central authors!\n",
    "\n",
    "Let's organize them into communities."
   ]
  },
  {
   "cell_type": "code",
   "execution_count": 31,
   "metadata": {
    "ExecuteTime": {
     "start_time": "2025-04-09T08:36:02.648Z"
    }
   },
   "outputs": [
    {
     "name": "stdout",
     "output_type": "stream",
     "text": [
      " F: 0.01. R: 0.21. S: 0.55.\n",
      "- F: 0.01. R: 0.20. S: 0.56.\n",
      "-- F: 0.01. R: 0.20. S: 0.55.\n",
      "--- F: 0.03. R: 0.17. S: 0.52.\n",
      "---- F: 0.05. R: 0.15. S: 0.50.\n",
      "----- F: 0.09. R: 0.15. S: 0.50.\n",
      "------ F: 0.23. R: 0.12. S: 0.52.\n",
      "------- F: 0.26. R: 0.11. S: 0.57.\n",
      "-------- Laurent Massoulié (R: 0.10; S: 1.00)\n",
      "-------- Mathieu Even (R: 0.01; S: 0.28)\n",
      "------- Hadrien Hendrikx (R: 0.01; S: 0.21)\n",
      "------ F: 0.13. R: 0.02. S: 0.28.\n",
      "------- Marc Lelarge (R: 0.01; S: 0.15)\n",
      "------- Luca Ganassali (R: 0.01; S: 0.18)\n",
      "------- Lennart Gulikers (R: 0.00; S: 0.20)\n",
      "------ Francis R. Bach (R: 0.01; S: 0.06)\n",
      "------ Milan Vojnovic (R: 0.00; S: 0.05)\n",
      "----- Kevin Scaman (R: 0.00; S: 0.08)\n",
      "---- F: 0.07. R: 0.02. S: 0.18.\n",
      "----- F: 0.11. R: 0.01. S: 0.17.\n",
      "------ Peter B. Key (R: 0.01; S: 0.13)\n",
      "------ Ayalvadi J. Ganesh (R: 0.01; S: 0.13)\n",
      "----- Anne-Marie Kermarrec (R: 0.01; S: 0.07)\n",
      "--- F: 0.01. R: 0.02. S: 0.17.\n",
      "---- F: 0.06. R: 0.01. S: 0.09.\n",
      "----- Stratis Ioannidis (R: 0.01; S: 0.09)\n",
      "----- Augustin Chaintreau (R: 0.00; S: 0.05)\n",
      "---- Nidhi Hegde 0001 (R: 0.01; S: 0.15)\n",
      "---- Amin Karbasi (R: 0.00; S: 0.03)\n",
      "--- Mathieu Leconte (R: 0.00; S: 0.08)\n",
      "-- F: 0.07. R: 0.01. S: 0.13.\n",
      "--- Romain Cosson (R: 0.01; S: 0.12)\n",
      "--- Laurent Viennot (R: 0.00; S: 0.05)\n",
      "- Dan-Cristian Tomozei (R: 0.00; S: 0.07)\n"
     ]
    }
   ],
   "source": [
    "gismo.get_features_by_cluster(resolution=.6)"
   ]
  },
  {
   "cell_type": "markdown",
   "metadata": {},
   "source": [
    "### Jim Roberts  query"
   ]
  },
  {
   "cell_type": "code",
   "execution_count": 32,
   "metadata": {
    "ExecuteTime": {
     "start_time": "2025-04-09T08:36:02.652Z"
    }
   },
   "outputs": [
    {
     "data": {
      "text/plain": [
       "True"
      ]
     },
     "execution_count": 32,
     "metadata": {},
     "output_type": "execute_result"
    }
   ],
   "source": [
    "gismo.rank(\"James_W._Roberts\")"
   ]
  },
  {
   "cell_type": "markdown",
   "metadata": {},
   "source": [
    "Let's have a covering set of articles."
   ]
  },
  {
   "cell_type": "code",
   "execution_count": 33,
   "metadata": {
    "ExecuteTime": {
     "start_time": "2025-04-09T08:36:02.656Z"
    }
   },
   "outputs": [
    {
     "data": {
      "text/plain": [
       "['Integrated Admission Control for Streaming and Elastic Traffic. By Nabil Benameur, Slim Ben Fredj, Frank Delcoigne, Sara Oueslati-Boulahia, James W. Roberts (QofIS, 2001)',\n",
       " 'Statistical bandwidth sharing: a study of congestion at flow level. By Slim Ben Fredj, Thomas Bonald, Alexandre Proutière, G. Régnié, James W. Roberts (SIGCOMM, 2001)',\n",
       " 'An In-Camera Data Stream Processing System for Defect Detection in Web Inspection Tasks. By S. Hossain Hajimowlana, Roberto Muscedere, Graham A. Jullien, James W. Roberts (Real Time Imaging, 1999)',\n",
       " \"Modifications of Thomae's Function and Differentiability. By Kevin Beanland, James W. Roberts, Craig Stevenson (Am. Math. Mon., 2009)\",\n",
       " 'A Traffic Control Framework for High Speed Data Transmission. By James W. Roberts, Brahim Bensaou, Y. Canetti (Modelling and Evaluation of ATM Networks, 1993)',\n",
       " 'A CMOS model for computer-aided circuit analysis and design. By James W. Roberts, Savvas G. Chamberlain (IEEE J. Solid State Circuits, 1989)',\n",
       " 'Burstiness Bounds Based Muliplexing Schemes for VBR Video Connections in the B-ISDN. By Maher Hamdi, James W. Roberts (International Zurich Seminar on Digital Communications, 1996)',\n",
       " 'Impact of \"Trunk Reservation\" on Elastic Flow Routing. By Sara Oueslati-Boulahia, James W. Roberts (NETWORKING, 2000)',\n",
       " 'Swing: Traffic capacity of a simple WDM ring network. By Thomas Bonald, Sara Oueslati, James W. Roberts, Charlotte Roger (ITC, 2009)',\n",
       " 'Congestion at flow level and the impact of user behaviour. By Thomas Bonald, James W. Roberts (Comput. Networks, 2003)']"
      ]
     },
     "execution_count": 33,
     "metadata": {},
     "output_type": "execute_result"
    }
   ],
   "source": [
    "gismo.get_documents_by_coverage(k=10)"
   ]
  },
  {
   "cell_type": "markdown",
   "metadata": {},
   "source": [
    "Who are the associated authors?"
   ]
  },
  {
   "cell_type": "code",
   "execution_count": 34,
   "metadata": {
    "ExecuteTime": {
     "start_time": "2025-04-09T08:36:02.660Z"
    }
   },
   "outputs": [
    {
     "data": {
      "text/plain": [
       "['James W. Roberts',\n",
       " 'Thomas Bonald',\n",
       " 'Maher Hamdi',\n",
       " 'Sara Oueslati',\n",
       " 'Sara Oueslati-Boulahia',\n",
       " 'Ali Ibrahim',\n",
       " 'Alexandre Proutière',\n",
       " 'Jorma T. Virtamo',\n",
       " 'Slim Ben Fredj',\n",
       " 'Jussi Kangasharju']"
      ]
     },
     "execution_count": 34,
     "metadata": {},
     "output_type": "execute_result"
    }
   ],
   "source": [
    "gismo.get_features_by_rank(k=10)"
   ]
  },
  {
   "cell_type": "markdown",
   "metadata": {},
   "source": [
    "Let's organize them."
   ]
  },
  {
   "cell_type": "code",
   "execution_count": 35,
   "metadata": {
    "ExecuteTime": {
     "start_time": "2025-04-09T08:36:02.664Z"
    }
   },
   "outputs": [
    {
     "name": "stdout",
     "output_type": "stream",
     "text": [
      " F: 0.01. R: 0.24. S: 0.51.\n",
      "- F: 0.01. R: 0.22. S: 0.50.\n",
      "-- F: 0.11. R: 0.20. S: 0.49.\n",
      "--- F: 0.18. R: 0.19. S: 0.60.\n",
      "---- James W. Roberts (R: 0.14; S: 1.00)\n",
      "---- Thomas Bonald (R: 0.05; S: 0.22)\n",
      "---- Sara Oueslati (R: 0.01; S: 0.20)\n",
      "--- F: 0.57. R: 0.01. S: 0.31.\n",
      "---- Sara Oueslati-Boulahia (R: 0.01; S: 0.26)\n",
      "---- Slim Ben Fredj (R: 0.01; S: 0.29)\n",
      "-- Alexandre Proutière (R: 0.01; S: 0.03)\n",
      "-- Jorma T. Virtamo (R: 0.01; S: 0.04)\n",
      "-- Jussi Kangasharju (R: 0.00; S: 0.03)\n",
      "- Maher Hamdi (R: 0.01; S: 0.11)\n",
      "- Ali Ibrahim (R: 0.01; S: 0.06)\n"
     ]
    }
   ],
   "source": [
    "gismo.get_features_by_cluster(k=10, resolution=.4)"
   ]
  },
  {
   "cell_type": "markdown",
   "metadata": {},
   "source": [
    "### Combined queries"
   ]
  },
  {
   "cell_type": "markdown",
   "metadata": {},
   "source": [
    "We can input multiple authors."
   ]
  },
  {
   "cell_type": "code",
   "execution_count": 36,
   "metadata": {
    "ExecuteTime": {
     "start_time": "2025-04-09T08:36:02.667Z"
    }
   },
   "outputs": [
    {
     "data": {
      "text/plain": [
       "True"
      ]
     },
     "execution_count": 36,
     "metadata": {},
     "output_type": "execute_result"
    }
   ],
   "source": [
    "gismo.rank(\"Laurent_Massoulié and James_W._Roberts\")"
   ]
  },
  {
   "cell_type": "markdown",
   "metadata": {},
   "source": [
    "Let's have a covering set of articles."
   ]
  },
  {
   "cell_type": "code",
   "execution_count": 37,
   "metadata": {
    "ExecuteTime": {
     "start_time": "2025-04-09T08:36:02.670Z"
    }
   },
   "outputs": [
    {
     "data": {
      "text/plain": [
       "['Integrated Admission Control for Streaming and Elastic Traffic. By Nabil Benameur, Slim Ben Fredj, Frank Delcoigne, Sara Oueslati-Boulahia, James W. Roberts (QofIS, 2001)',\n",
       " 'Statistical bandwidth sharing: a study of congestion at flow level. By Slim Ben Fredj, Thomas Bonald, Alexandre Proutière, G. Régnié, James W. Roberts (SIGCOMM, 2001)',\n",
       " 'Defect detection in web inspection using fuzzy fusion of texture features. By S. Hossain Hajimowlana, Roberto Muscedere, Graham A. Jullien, James W. Roberts (ISCAS, 2000)',\n",
       " \"Modifications of Thomae's Function and Differentiability. By Kevin Beanland, James W. Roberts, Craig Stevenson (Am. Math. Mon., 2009)\",\n",
       " 'A Traffic Control Framework for High Speed Data Transmission. By James W. Roberts, Brahim Bensaou, Y. Canetti (Modelling and Evaluation of ATM Networks, 1993)',\n",
       " 'A CMOS model for computer-aided circuit analysis and design. By James W. Roberts, Savvas G. Chamberlain (IEEE J. Solid State Circuits, 1989)',\n",
       " 'Burstiness Bounds Based Muliplexing Schemes for VBR Video Connections in the B-ISDN. By Maher Hamdi, James W. Roberts (International Zurich Seminar on Digital Communications, 1996)',\n",
       " 'Impact of \"Trunk Reservation\" on Elastic Flow Routing. By Sara Oueslati-Boulahia, James W. Roberts (NETWORKING, 2000)',\n",
       " 'Swing: Traffic capacity of a simple WDM ring network. By Thomas Bonald, Sara Oueslati, James W. Roberts, Charlotte Roger (ITC, 2009)',\n",
       " 'Internet and the Erlang formula. By Thomas Bonald, James W. Roberts (Comput. Commun. Rev., 2012)']"
      ]
     },
     "execution_count": 37,
     "metadata": {},
     "output_type": "execute_result"
    }
   ],
   "source": [
    "gismo.get_documents_by_coverage(k=10)"
   ]
  },
  {
   "cell_type": "markdown",
   "metadata": {},
   "source": [
    "Note that we get here only articles by Roberts, yet the articles returned have sightly changed."
   ]
  },
  {
   "cell_type": "markdown",
   "metadata": {},
   "source": [
    "Now, let's look at the main authors."
   ]
  },
  {
   "cell_type": "code",
   "execution_count": 38,
   "metadata": {
    "ExecuteTime": {
     "start_time": "2025-04-09T08:36:02.674Z"
    }
   },
   "outputs": [
    {
     "data": {
      "text/plain": [
       "['James W. Roberts',\n",
       " 'Laurent Massoulié',\n",
       " 'Thomas Bonald',\n",
       " 'Marc Lelarge',\n",
       " 'Maher Hamdi',\n",
       " 'Sara Oueslati',\n",
       " 'Nidhi Hegde 0001',\n",
       " 'Mathieu Even',\n",
       " 'Sara Oueslati-Boulahia',\n",
       " 'Alexandre Proutière',\n",
       " 'Hadrien Hendrikx',\n",
       " 'Peter B. Key',\n",
       " 'Stratis Ioannidis',\n",
       " 'Ali Ibrahim',\n",
       " 'Jorma T. Virtamo']"
      ]
     },
     "execution_count": 38,
     "metadata": {},
     "output_type": "execute_result"
    }
   ],
   "source": [
    "gismo.get_features_by_rank()"
   ]
  },
  {
   "cell_type": "markdown",
   "metadata": {},
   "source": [
    "We see a mix of both co-authors. How are they organized?"
   ]
  },
  {
   "cell_type": "code",
   "execution_count": 39,
   "metadata": {
    "ExecuteTime": {
     "start_time": "2025-04-09T08:36:02.677Z"
    }
   },
   "outputs": [
    {
     "name": "stdout",
     "output_type": "stream",
     "text": [
      " F: 0.01. R: 0.20. S: 0.55.\n",
      "- F: 0.01. R: 0.13. S: 0.52.\n",
      "-- F: 0.02. R: 0.12. S: 0.52.\n",
      "--- F: 0.18. R: 0.11. S: 0.51.\n",
      "---- James W. Roberts (R: 0.07; S: 0.92)\n",
      "---- Thomas Bonald (R: 0.02; S: 0.21)\n",
      "---- Sara Oueslati (R: 0.01; S: 0.18)\n",
      "---- Sara Oueslati-Boulahia (R: 0.00; S: 0.24)\n",
      "--- Maher Hamdi (R: 0.01; S: 0.10)\n",
      "--- Nidhi Hegde 0001 (R: 0.00; S: 0.08)\n",
      "--- Alexandre Proutière (R: 0.00; S: 0.04)\n",
      "--- Ali Ibrahim (R: 0.00; S: 0.05)\n",
      "-- Jorma T. Virtamo (R: 0.00; S: 0.04)\n",
      "- F: 0.02. R: 0.07. S: 0.21.\n",
      "-- F: 0.19. R: 0.06. S: 0.20.\n",
      "--- Laurent Massoulié (R: 0.05; S: 0.37)\n",
      "--- Mathieu Even (R: 0.00; S: 0.11)\n",
      "--- Hadrien Hendrikx (R: 0.00; S: 0.08)\n",
      "-- Marc Lelarge (R: 0.01; S: 0.06)\n",
      "-- Peter B. Key (R: 0.00; S: 0.05)\n",
      "-- Stratis Ioannidis (R: 0.00; S: 0.03)\n"
     ]
    }
   ],
   "source": [
    "gismo.get_features_by_cluster(resolution=.4)"
   ]
  },
  {
   "cell_type": "markdown",
   "metadata": {},
   "source": [
    "## Cross-gismo"
   ]
  },
  {
   "cell_type": "markdown",
   "metadata": {},
   "source": [
    "Gismo can combine two embeddings two create one hybrid gismo. This is called a cross-gismo (XGismo). This features can be used to analyze authors with respect to the words they use (and vice-versa)."
   ]
  },
  {
   "cell_type": "code",
   "execution_count": 40,
   "metadata": {
    "ExecuteTime": {
     "start_time": "2025-04-09T08:36:02.680Z"
    }
   },
   "outputs": [],
   "source": [
    "from gismo.gismo import XGismo\n",
    "gismo = XGismo(x_embedding=a_embedding, y_embedding=embedding)\n",
    "gismo.diteration.n_iter = 2 # to speed up a little bit computation time"
   ]
  },
  {
   "cell_type": "markdown",
   "metadata": {},
   "source": [
    "Note that XGismo does not use the underlying corpus, so we can now close the source (the source keeps the file ``dblp.data`` open)."
   ]
  },
  {
   "cell_type": "code",
   "execution_count": 41,
   "metadata": {
    "ExecuteTime": {
     "start_time": "2025-04-09T08:36:02.683Z"
    }
   },
   "outputs": [],
   "source": [
    "source.close()"
   ]
  },
  {
   "cell_type": "code",
   "execution_count": 42,
   "metadata": {
    "ExecuteTime": {
     "start_time": "2025-04-09T08:36:02.686Z"
    }
   },
   "outputs": [],
   "source": [
    "gismo.post_documents_item = lambda g, i: g.corpus[i].replace(\"_\", \" \")\n",
    "gismo.post_features_cluster = post_features_cluster_print\n",
    "gismo.post_documents_cluster = post_documents_cluster_print"
   ]
  },
  {
   "cell_type": "markdown",
   "metadata": {},
   "source": [
    "Let's try a request."
   ]
  },
  {
   "cell_type": "code",
   "execution_count": 43,
   "metadata": {
    "ExecuteTime": {
     "start_time": "2025-04-09T08:36:02.689Z"
    }
   },
   "outputs": [
    {
     "data": {
      "text/plain": [
       "True"
      ]
     },
     "execution_count": 43,
     "metadata": {},
     "output_type": "execute_result"
    }
   ],
   "source": [
    "gismo.rank(\"self-stabilization\")"
   ]
  },
  {
   "cell_type": "markdown",
   "metadata": {},
   "source": [
    "What are the associated keywords?"
   ]
  },
  {
   "cell_type": "code",
   "execution_count": 44,
   "metadata": {
    "ExecuteTime": {
     "start_time": "2025-04-09T08:36:02.692Z"
    }
   },
   "outputs": [
    {
     "data": {
      "text/plain": [
       "['stabilization',\n",
       " 'self',\n",
       " 'self stabilization',\n",
       " 'stabilize',\n",
       " 'self stabilize',\n",
       " 'distribute',\n",
       " 'sensor',\n",
       " 'robust',\n",
       " 'nonlinear',\n",
       " 'adaptive']"
      ]
     },
     "execution_count": 44,
     "metadata": {},
     "output_type": "execute_result"
    }
   ],
   "source": [
    "gismo.get_features_by_rank(k=10)"
   ]
  },
  {
   "cell_type": "markdown",
   "metadata": {},
   "source": [
    "How are keywords structured?"
   ]
  },
  {
   "cell_type": "code",
   "execution_count": 45,
   "metadata": {
    "ExecuteTime": {
     "start_time": "2025-04-09T08:36:02.696Z"
    }
   },
   "outputs": [
    {
     "name": "stdout",
     "output_type": "stream",
     "text": [
      " F: 0.26. R: 0.02. S: 0.81.\n",
      "- F: 0.52. R: 0.02. S: 0.81.\n",
      "-- F: 0.63. R: 0.02. S: 0.81.\n",
      "--- F: 0.80. R: 0.02. S: 0.81.\n",
      "---- F: 0.81. R: 0.02. S: 0.81.\n",
      "----- F: 0.93. R: 0.01. S: 0.82.\n",
      "------ stabilization (R: 0.00; S: 0.80)\n",
      "------ self stabilization (R: 0.00; S: 0.82)\n",
      "----- F: 0.81. R: 0.01. S: 0.69.\n",
      "------ self (R: 0.00; S: 0.76)\n",
      "------ stabilize (R: 0.00; S: 0.72)\n",
      "------ self stabilize (R: 0.00; S: 0.68)\n",
      "------ distribute (R: 0.00; S: 0.71)\n",
      "------ optimal (R: 0.00; S: 0.66)\n",
      "------ distributed (R: 0.00; S: 0.62)\n",
      "----- stabilizing (R: 0.00; S: 0.70)\n",
      "---- F: 0.95. R: 0.00. S: 0.69.\n",
      "----- sensor (R: 0.00; S: 0.69)\n",
      "----- wireless (R: 0.00; S: 0.66)\n",
      "---- fault (R: 0.00; S: 0.75)\n",
      "--- F: 0.92. R: 0.00. S: 0.47.\n",
      "---- byzantine (R: 0.00; S: 0.46)\n",
      "---- robot (R: 0.00; S: 0.44)\n",
      "---- mobile (R: 0.00; S: 0.53)\n",
      "-- problem (R: 0.00; S: 0.65)\n",
      "- F: 0.54. R: 0.00. S: 0.32.\n",
      "-- F: 0.63. R: 0.00. S: 0.51.\n",
      "--- robust (R: 0.00; S: 0.43)\n",
      "--- adaptive (R: 0.00; S: 0.49)\n",
      "-- nonlinear (R: 0.00; S: 0.08)\n",
      "-- linear (R: 0.00; S: 0.25)\n"
     ]
    }
   ],
   "source": [
    "gismo.get_features_by_cluster(k=20, resolution=.8)"
   ]
  },
  {
   "cell_type": "markdown",
   "metadata": {},
   "source": [
    "Who are the associated researchers?"
   ]
  },
  {
   "cell_type": "code",
   "execution_count": 46,
   "metadata": {
    "ExecuteTime": {
     "start_time": "2025-04-09T08:36:02.700Z"
    }
   },
   "outputs": [
    {
     "data": {
      "text/plain": [
       "['Ted Herman',\n",
       " 'Shlomi Dolev',\n",
       " 'Sébastien Tixeuil',\n",
       " 'Sukumar Ghosh',\n",
       " 'George Varghese',\n",
       " 'Shay Kutten',\n",
       " 'Toshimitsu Masuzawa',\n",
       " 'Stéphane Devismes',\n",
       " 'Stefan Schmid 0001',\n",
       " 'Swan Dubois']"
      ]
     },
     "execution_count": 46,
     "metadata": {},
     "output_type": "execute_result"
    }
   ],
   "source": [
    "gismo.get_documents_by_rank(k=10)"
   ]
  },
  {
   "cell_type": "markdown",
   "metadata": {},
   "source": [
    "How are they structured?"
   ]
  },
  {
   "cell_type": "code",
   "execution_count": 47,
   "metadata": {
    "ExecuteTime": {
     "start_time": "2025-04-09T08:36:02.703Z"
    }
   },
   "outputs": [
    {
     "name": "stdout",
     "output_type": "stream",
     "text": [
      " F: 0.71. R: 0.05. S: 0.83.\n",
      "- F: 0.91. R: 0.05. S: 0.83.\n",
      "-- F: 0.93. R: 0.03. S: 0.83.\n",
      "--- F: 0.97. R: 0.01. S: 0.81.\n",
      "---- Ted Herman (R: 0.01; S: 0.81)\n",
      "---- George Varghese (R: 0.00; S: 0.80)\n",
      "--- F: 0.94. R: 0.02. S: 0.82.\n",
      "---- F: 0.98. R: 0.01. S: 0.81.\n",
      "----- Sébastien Tixeuil (R: 0.01; S: 0.82)\n",
      "----- Sukumar Ghosh (R: 0.01; S: 0.80)\n",
      "---- Swan Dubois (R: 0.00; S: 0.81)\n",
      "-- F: 0.95. R: 0.02. S: 0.78.\n",
      "--- F: 0.96. R: 0.02. S: 0.79.\n",
      "---- Shlomi Dolev (R: 0.01; S: 0.78)\n",
      "---- Shay Kutten (R: 0.00; S: 0.82)\n",
      "---- Stéphane Devismes (R: 0.00; S: 0.77)\n",
      "--- Toshimitsu Masuzawa (R: 0.00; S: 0.70)\n",
      "- Stefan Schmid 0001 (R: 0.00; S: 0.63)\n"
     ]
    }
   ],
   "source": [
    "gismo.get_documents_by_cluster(k=10, resolution=.9)"
   ]
  },
  {
   "cell_type": "markdown",
   "metadata": {},
   "source": [
    "We can also query researchers. Just use underscores in the query and add `y=False` to indicate that the input is *documents*."
   ]
  },
  {
   "cell_type": "code",
   "execution_count": 48,
   "metadata": {
    "ExecuteTime": {
     "start_time": "2025-04-09T08:36:02.707Z"
    }
   },
   "outputs": [
    {
     "data": {
      "text/plain": [
       "True"
      ]
     },
     "execution_count": 48,
     "metadata": {},
     "output_type": "execute_result"
    }
   ],
   "source": [
    "gismo.rank(\"Sébastien_Tixeuil and Fabien_Mathieu\", y=False)"
   ]
  },
  {
   "cell_type": "markdown",
   "metadata": {},
   "source": [
    "What are the associated keywords?"
   ]
  },
  {
   "cell_type": "code",
   "execution_count": 49,
   "metadata": {
    "ExecuteTime": {
     "start_time": "2025-04-09T08:36:02.711Z"
    }
   },
   "outputs": [
    {
     "data": {
      "text/plain": [
       "['p2p',\n",
       " 'stabilization',\n",
       " 'byzantine',\n",
       " 'kleinberg',\n",
       " 'p2p networks',\n",
       " 'live streaming',\n",
       " 'refresh',\n",
       " 'self stabilization',\n",
       " 'self',\n",
       " 'gathering']"
      ]
     },
     "execution_count": 49,
     "metadata": {},
     "output_type": "execute_result"
    }
   ],
   "source": [
    "gismo.get_features_by_rank(k=10)"
   ]
  },
  {
   "cell_type": "markdown",
   "metadata": {},
   "source": [
    "Using covering can yield other keywords of interest."
   ]
  },
  {
   "cell_type": "code",
   "execution_count": 50,
   "metadata": {
    "ExecuteTime": {
     "start_time": "2025-04-09T08:36:02.714Z"
    }
   },
   "outputs": [
    {
     "data": {
      "text/plain": [
       "['p2p',\n",
       " 'stabilization',\n",
       " 'fun',\n",
       " 'preference',\n",
       " 'pagerank',\n",
       " 'byzantine',\n",
       " 'self stabilization',\n",
       " 'self',\n",
       " 'gathering',\n",
       " 'stabilize']"
      ]
     },
     "execution_count": 50,
     "metadata": {},
     "output_type": "execute_result"
    }
   ],
   "source": [
    "gismo.get_features_by_coverage(k=10)"
   ]
  },
  {
   "cell_type": "markdown",
   "metadata": {},
   "source": [
    "How are keywords structured?"
   ]
  },
  {
   "cell_type": "code",
   "execution_count": 51,
   "metadata": {
    "ExecuteTime": {
     "start_time": "2025-04-09T08:36:02.718Z"
    }
   },
   "outputs": [
    {
     "name": "stdout",
     "output_type": "stream",
     "text": [
      " F: 0.12. R: 0.20. S: 0.67.\n",
      "- F: 0.80. R: 0.11. S: 0.44.\n",
      "-- F: 0.84. R: 0.09. S: 0.44.\n",
      "--- p2p (R: 0.02; S: 0.43)\n",
      "--- kleinberg (R: 0.01; S: 0.44)\n",
      "--- p2p networks (R: 0.01; S: 0.42)\n",
      "--- live streaming (R: 0.01; S: 0.40)\n",
      "--- refresh (R: 0.01; S: 0.40)\n",
      "--- live (R: 0.01; S: 0.43)\n",
      "--- old (R: 0.01; S: 0.40)\n",
      "--- streaming (R: 0.01; S: 0.43)\n",
      "--- acyclic (R: 0.01; S: 0.43)\n",
      "-- preference (R: 0.01; S: 0.37)\n",
      "-- pagerank (R: 0.01; S: 0.39)\n",
      "- F: 0.56. R: 0.09. S: 0.59.\n",
      "-- F: 0.81. R: 0.08. S: 0.59.\n",
      "--- stabilization (R: 0.01; S: 0.56)\n",
      "--- byzantine (R: 0.01; S: 0.51)\n",
      "--- self stabilization (R: 0.01; S: 0.58)\n",
      "--- self (R: 0.01; S: 0.59)\n",
      "--- gathering (R: 0.01; S: 0.49)\n",
      "--- stabilize (R: 0.01; S: 0.56)\n",
      "--- self stabilize (R: 0.01; S: 0.56)\n",
      "--- asynchronous (R: 0.01; S: 0.52)\n",
      "-- fun (R: 0.01; S: 0.49)\n"
     ]
    }
   ],
   "source": [
    "gismo.get_features_by_cluster(k=20, resolution=.7)"
   ]
  },
  {
   "cell_type": "markdown",
   "metadata": {},
   "source": [
    "Who are the associated researchers?"
   ]
  },
  {
   "cell_type": "code",
   "execution_count": 52,
   "metadata": {
    "ExecuteTime": {
     "start_time": "2025-04-09T08:36:02.722Z"
    }
   },
   "outputs": [
    {
     "data": {
      "text/plain": [
       "['Sébastien Tixeuil',\n",
       " 'Fabien Mathieu',\n",
       " 'Shlomi Dolev',\n",
       " 'Fukuhito Ooshita',\n",
       " 'Toshimitsu Masuzawa',\n",
       " 'Michel Raynal',\n",
       " 'Mieczyslaw A. Klopotek',\n",
       " 'Stéphane Devismes',\n",
       " 'Céline Comte',\n",
       " 'Edmond Bianco']"
      ]
     },
     "execution_count": 52,
     "metadata": {},
     "output_type": "execute_result"
    }
   ],
   "source": [
    "gismo.get_documents_by_rank(k=10)"
   ]
  },
  {
   "cell_type": "markdown",
   "metadata": {},
   "source": [
    "How are they structured?"
   ]
  },
  {
   "cell_type": "code",
   "execution_count": 53,
   "metadata": {
    "ExecuteTime": {
     "start_time": "2025-04-09T08:36:02.725Z"
    }
   },
   "outputs": [
    {
     "name": "stdout",
     "output_type": "stream",
     "text": [
      " F: 0.00. R: 0.01. S: 0.69.\n",
      "- F: 0.07. R: 0.01. S: 0.69.\n",
      "-- F: 0.70. R: 0.00. S: 0.50.\n",
      "--- F: 0.84. R: 0.00. S: 0.53.\n",
      "---- Sébastien Tixeuil (R: 0.00; S: 0.54)\n",
      "---- Fukuhito Ooshita (R: 0.00; S: 0.48)\n",
      "--- F: 0.93. R: 0.00. S: 0.41.\n",
      "---- Shlomi Dolev (R: 0.00; S: 0.41)\n",
      "---- Toshimitsu Masuzawa (R: 0.00; S: 0.43)\n",
      "---- Stéphane Devismes (R: 0.00; S: 0.39)\n",
      "--- Michel Raynal (R: 0.00; S: 0.37)\n",
      "-- F: 0.38. R: 0.00. S: 0.66.\n",
      "--- Fabien Mathieu (R: 0.00; S: 0.71)\n",
      "--- Mieczyslaw A. Klopotek (R: 0.00; S: 0.29)\n",
      "--- Céline Comte (R: 0.00; S: 0.28)\n",
      "- Edmond Bianco (R: 0.00; S: 0.03)\n"
     ]
    }
   ],
   "source": [
    "gismo.get_documents_by_cluster(k=10, resolution=.8)"
   ]
  }
 ],
 "metadata": {
  "kernelspec": {
   "display_name": "Python 3 (ipykernel)",
   "language": "python",
   "name": "python3"
  },
  "language_info": {
   "codemirror_mode": {
    "name": "ipython",
    "version": 3
   },
   "file_extension": ".py",
   "mimetype": "text/x-python",
   "name": "python",
   "nbconvert_exporter": "python",
   "pygments_lexer": "ipython3",
   "version": "3.12.8"
  },
  "toc": {
   "base_numbering": 1,
   "nav_menu": {},
   "number_sections": true,
   "sideBar": true,
   "skip_h1_title": true,
   "title_cell": "Table of Contents",
   "title_sidebar": "Contents",
   "toc_cell": false,
   "toc_position": {},
   "toc_section_display": true,
   "toc_window_display": false
  }
 },
 "nbformat": 4,
 "nbformat_minor": 4
}
