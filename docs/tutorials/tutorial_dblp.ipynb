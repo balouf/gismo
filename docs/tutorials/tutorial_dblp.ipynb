{
 "cells": [
  {
   "cell_type": "markdown",
   "metadata": {},
   "source": [
    "# DBLP exploration"
   ]
  },
  {
   "cell_type": "markdown",
   "metadata": {},
   "source": [
    "This tutorial shows how explore DBLP with Gismo.\n",
    "\n",
    "Note: the DBLP databased is not small. Recommended requirements to excute this Notebook:\n",
    "- Fast Internet connection (you will need to download a few hundred Mb)\n",
    "- 4 Gb of free space\n",
    "- 4 Gb of RAM (8Gb or more recommended)\n",
    "- Descent CPU (can take more than one hour on slow CPUs)\n",
    "\n",
    "Here, *documents* are articles in DBLP. The *features* of an article category will vary."
   ]
  },
  {
   "cell_type": "markdown",
   "metadata": {},
   "source": [
    "## Initialisation"
   ]
  },
  {
   "cell_type": "markdown",
   "metadata": {},
   "source": [
    "First, we load the required package."
   ]
  },
  {
   "cell_type": "code",
   "execution_count": 1,
   "metadata": {
    "ExecuteTime": {
     "end_time": "2020-05-13T18:04:58.982059Z",
     "start_time": "2020-05-13T18:04:55.140504Z"
    }
   },
   "outputs": [],
   "source": [
    "import numpy as np\n",
    "from sklearn.feature_extraction.text import CountVectorizer\n",
    "from sklearn.metrics.pairwise import cosine_similarity\n",
    "from pathlib import Path\n",
    "\n",
    "from gismo.datasets.dblp import Dblp\n",
    "from gismo.filesource import FileSource\n",
    "from gismo.corpus import Corpus\n",
    "from gismo.embedding import Embedding\n",
    "from gismo.gismo import Gismo\n",
    "from gismo.post_processing import print_feature_cluster"
   ]
  },
  {
   "cell_type": "markdown",
   "metadata": {},
   "source": [
    "Then, we prepare the DBLP source."
   ]
  },
  {
   "cell_type": "markdown",
   "metadata": {},
   "source": [
    "First we choose the location of the DBLP files. If you want to run this Notebook at your place, please change the path below and check that it exists."
   ]
  },
  {
   "cell_type": "code",
   "execution_count": 2,
   "metadata": {
    "ExecuteTime": {
     "end_time": "2020-05-13T18:04:59.013291Z",
     "start_time": "2020-05-13T18:04:58.986921Z"
    }
   },
   "outputs": [
    {
     "data": {
      "text/plain": [
       "True"
      ]
     },
     "execution_count": 2,
     "metadata": {},
     "output_type": "execute_result"
    }
   ],
   "source": [
    "path = Path(\"../../../../../Datasets/DBLP\")\n",
    "path.exists()"
   ]
  },
  {
   "cell_type": "markdown",
   "metadata": {},
   "source": [
    "Construction of the dblp files. Only needs to be performed the first time or when you want to refresh the database. Takes about 10 minutes on a Surface Pro 4 with fiber Internet connection."
   ]
  },
  {
   "cell_type": "code",
   "execution_count": 3,
   "metadata": {
    "ExecuteTime": {
     "end_time": "2020-05-13T18:04:59.041351Z",
     "start_time": "2020-05-13T18:04:59.021263Z"
    }
   },
   "outputs": [
    {
     "name": "stdout",
     "output_type": "stream",
     "text": [
      "File ..\\..\\..\\..\\..\\Datasets\\DBLP\\dblp.xml.gz already exists.\n",
      "File ..\\..\\..\\..\\..\\Datasets\\DBLP\\dblp.data already exists.\n"
     ]
    }
   ],
   "source": [
    "dblp = Dblp(path=path)\n",
    "dblp.build()"
   ]
  },
  {
   "cell_type": "markdown",
   "metadata": {},
   "source": [
    "Then, we can load the database as a filesource."
   ]
  },
  {
   "cell_type": "code",
   "execution_count": 4,
   "metadata": {
    "ExecuteTime": {
     "end_time": "2020-05-13T18:04:59.107033Z",
     "start_time": "2020-05-13T18:04:59.047352Z"
    }
   },
   "outputs": [
    {
     "data": {
      "text/plain": [
       "{'type': 'article',\n",
       " 'title': 'Spectre Attacks: Exploiting Speculative Execution.',\n",
       " 'venue': 'meltdownattack.com',\n",
       " 'year': '2018',\n",
       " 'authors': ['Paul Kocher',\n",
       "  'Daniel Genkin',\n",
       "  'Daniel Gruss',\n",
       "  'Werner Haas',\n",
       "  'Mike Hamburg',\n",
       "  'Moritz Lipp',\n",
       "  'Stefan Mangard',\n",
       "  'Thomas Prescher 0002',\n",
       "  'Michael Schwarz 0001',\n",
       "  'Yuval Yarom']}"
      ]
     },
     "execution_count": 4,
     "metadata": {},
     "output_type": "execute_result"
    }
   ],
   "source": [
    "source = FileSource(filename=\"dblp\", path=path)\n",
    "source[0]"
   ]
  },
  {
   "cell_type": "markdown",
   "metadata": {},
   "source": [
    "Each article is a dict with fields ``type``, ``venue``, ``title``, ``year``, and ``authors``. We build a corpus that will tell Gismo that the content of an article is its ``title`` value."
   ]
  },
  {
   "cell_type": "code",
   "execution_count": 5,
   "metadata": {
    "ExecuteTime": {
     "end_time": "2020-05-13T18:04:59.118740Z",
     "start_time": "2020-05-13T18:04:59.111468Z"
    }
   },
   "outputs": [],
   "source": [
    "corpus = Corpus(source, to_text=lambda x: x['title'])"
   ]
  },
  {
   "cell_type": "markdown",
   "metadata": {},
   "source": [
    "We build an embedding on top of that corpus.\n",
    "- We set ``min_df=30`` to exclude rare features;\n",
    "- We set ``max_df=.02`` to exclude anything present in more than 2% of the corpus;\n",
    "- A few manually selected stopwords to fine-tune things.\n",
    "- We set ``ngram_range=[1, 2]`` to include bi-grams in the embedding.\n",
    "\n",
    "This will take a few minutes (you can save the embedding for later if you want)."
   ]
  },
  {
   "cell_type": "code",
   "execution_count": 6,
   "metadata": {
    "ExecuteTime": {
     "end_time": "2020-05-13T18:05:02.396614Z",
     "start_time": "2020-05-13T18:04:59.124255Z"
    }
   },
   "outputs": [],
   "source": [
    "vectorizer = CountVectorizer(min_df=30, max_df=.02, ngram_range=[1, 2], dtype=float, \n",
    "                             stop_words=['a', 'about', 'an', 'and', 'for', 'from', 'in', 'of', 'on', 'the', 'with'])\n",
    "embedding = Embedding(vectorizer=vectorizer)\n",
    "\n",
    "try:\n",
    "    embedding.load(filename=\"dblp_embedding\", path=path)\n",
    "except:\n",
    "    embedding.fit_transform(corpus)\n",
    "    embedding.save(filename=\"dblp_embedding\", path=path)"
   ]
  },
  {
   "cell_type": "code",
   "execution_count": 7,
   "metadata": {
    "ExecuteTime": {
     "end_time": "2020-05-13T18:05:02.411773Z",
     "start_time": "2020-05-13T18:05:02.401519Z"
    }
   },
   "outputs": [
    {
     "data": {
      "text/plain": [
       "<4889758x160216 sparse matrix of type '<class 'numpy.float64'>'\n",
       "\twith 49388202 stored elements in Compressed Sparse Row format>"
      ]
     },
     "execution_count": 7,
     "metadata": {},
     "output_type": "execute_result"
    }
   ],
   "source": [
    "embedding.x"
   ]
  },
  {
   "cell_type": "markdown",
   "metadata": {},
   "source": [
    "We see from ``embedding.x`` that the embedding links about 5,000,000 documents to 160,000 features. In average, each document is linked to about 10 features."
   ]
  },
  {
   "cell_type": "markdown",
   "metadata": {},
   "source": [
    "Now, we initiate the gismo object, and customize post_processers to ease the display."
   ]
  },
  {
   "cell_type": "code",
   "execution_count": 8,
   "metadata": {
    "ExecuteTime": {
     "end_time": "2020-05-13T18:05:02.445639Z",
     "start_time": "2020-05-13T18:05:02.419465Z"
    }
   },
   "outputs": [],
   "source": [
    "gismo = Gismo(corpus, embedding)"
   ]
  },
  {
   "cell_type": "code",
   "execution_count": 9,
   "metadata": {
    "ExecuteTime": {
     "end_time": "2020-05-13T18:05:02.476196Z",
     "start_time": "2020-05-13T18:05:02.452424Z"
    }
   },
   "outputs": [],
   "source": [
    "def post_article(g, i):\n",
    "    dic = g.corpus[i]\n",
    "    authors = \", \".join(dic['authors'])\n",
    "    return f\"{dic['title']} By {authors} ({dic['venue']}, {dic['year']})\"\n",
    "    \n",
    "gismo.post_document = post_article\n",
    "def print_document_cluster(gismo, cluster, depth=\"\"):\n",
    "    sim = cosine_similarity(cluster.vector, gismo.diteration.y_relevance.reshape(1, -1))[0][0]\n",
    "    if len(cluster.children) == 0:\n",
    "        txt = gismo.corpus[cluster.indice][\"title\"]\n",
    "        print(f\"{depth} {txt} \"\n",
    "              f\"(R: {gismo.diteration.x_relevance[cluster.indice]:.2f}; \"\n",
    "              f\"S: {sim:.2f})\")\n",
    "    else:\n",
    "        print(f\"{depth} F: {cluster.focus:.2f}. \"\n",
    "              f\"R: {sum(gismo.diteration.x_relevance[cluster.members]):.2f}. \"\n",
    "              f\"S: {sim:.2f}.\")\n",
    "    for c in cluster.children:\n",
    "        print_document_cluster(gismo, c, depth=depth + '-')\n",
    "gismo.post_document_cluster = print_document_cluster\n",
    "gismo.post_feature_cluster = print_feature_cluster"
   ]
  },
  {
   "cell_type": "markdown",
   "metadata": {},
   "source": [
    "As the dataset is big, we lower the precision of the computation to speed up things a little bit."
   ]
  },
  {
   "cell_type": "code",
   "execution_count": 10,
   "metadata": {
    "ExecuteTime": {
     "end_time": "2020-05-13T18:05:02.489191Z",
     "start_time": "2020-05-13T18:05:02.481964Z"
    }
   },
   "outputs": [],
   "source": [
    "gismo.diteration.n_iter = 2"
   ]
  },
  {
   "cell_type": "markdown",
   "metadata": {},
   "source": [
    "## Machine Learning (and Covid-19) query"
   ]
  },
  {
   "cell_type": "markdown",
   "metadata": {},
   "source": [
    "We perform the query *Machine learning*. The returned ``True`` tells that some of the query features were found in the corpus' features."
   ]
  },
  {
   "cell_type": "code",
   "execution_count": 11,
   "metadata": {
    "ExecuteTime": {
     "end_time": "2020-05-13T18:05:16.223374Z",
     "start_time": "2020-05-13T18:05:02.494696Z"
    }
   },
   "outputs": [
    {
     "data": {
      "text/plain": [
       "True"
      ]
     },
     "execution_count": 11,
     "metadata": {},
     "output_type": "execute_result"
    }
   ],
   "source": [
    "gismo.rank(\"Machine Learning\")"
   ]
  },
  {
   "cell_type": "markdown",
   "metadata": {},
   "source": [
    "What are the best articles on *Machine Learning*?"
   ]
  },
  {
   "cell_type": "code",
   "execution_count": 12,
   "metadata": {
    "ExecuteTime": {
     "end_time": "2020-05-13T18:05:16.243102Z",
     "start_time": "2020-05-13T18:05:16.228667Z"
    }
   },
   "outputs": [
    {
     "data": {
      "text/plain": [
       "['Machine Learning Unplugged - Development and Evaluation of a Workshop About Machine Learning. By Elisaweta Ossovski, Michael Brinkmeier (ISSEP, 2019)',\n",
       " 'Can Machine Learning Model with Static Features be Fooled: an Adversarial Machine Learning Approach. By Rahim Taheri, Reza Javidan, Mohammad Shojafar, Vinod P, Mauro Conti (CoRR, 2019)',\n",
       " 'MARVIN: An Open Machine Learning Corpus and Environment for Automated Machine Learning Primitive Annotation and Execution. By Chris A. Mattmann, Sujen Shah, Brian Wilson (CoRR, 2018)',\n",
       " 'Trustless Machine Learning Contracts; Evaluating and Exchanging Machine Learning Models on the Ethereum Blockchain. By A. Besir Kurtulmus, Kenny Daniel (CoRR, 2018)',\n",
       " 'How Developers Iterate on Machine Learning Workflows - A Survey of the Applied Machine Learning Literature. By Doris Xin, Litian Ma, Shuchen Song, Aditya G. Parameswaran (CoRR, 2018)',\n",
       " 'Machine learning in computer forensics (and the lessons learned from machine learning in computer security). By Davide Ariu, Giorgio Giacinto, Fabio Roli (AISec, 2011)',\n",
       " 'Special session on machine learning: How will machine learning transform test? By Yiorgos Makris, Amit Nahar, Haralampos-G. D. Stratigopoulos, Marc Hutner (VTS, 2018)',\n",
       " 'How can machine-learning methods assist in virtual screening for hyperuricemia? A healthcare machine-learning approach. By Daisuke Ichikawa, Toki Saito, Waka Ujita, Hiroshi Oyama 0001 (J. Biomed. Informatics, 2016)',\n",
       " 'The Holy Grail of \"Systems for Machine Learning\": Teaming humans and machine learning for detecting cyber threats. By Ignacio Arnaldo, Kalyan Veeramachaneni (SIGKDD Explorations, 2019)',\n",
       " 'Three Differential Emotion Classification by Machine Learning Algorithms using Physiological Signals - Discriminantion of Emotions by Machine Learning Algorithms. By Eun-Hye Jang, Byoung-Jun Park, Sang-Hyeob Kim, Jin-Hun Sohn (ICAART (1), 2012)',\n",
       " 'Informed Machine Learning - Towards a Taxonomy of Explicit Integration of Knowledge into Machine Learning. By Laura von Rüden, Sebastian Mayer, Jochen Garcke, Christian Bauckhage, Jannis Schücker (CoRR, 2019)',\n",
       " 'Current Advances, Trends and Challenges of Machine Learning and Knowledge Extraction: From Machine Learning to Explainable AI. By Andreas Holzinger, Peter Kieseberg, Edgar R. Weippl, A Min Tjoa (CD-MAKE, 2018)',\n",
       " 'Machine Learning in Python: Main developments and technology trends in data science, machine learning, and artificial intelligence. By Sebastian Raschka, Joshua Patterson, Corey Nolet (CoRR, 2020)',\n",
       " 'When Lempel-Ziv-Welch Meets Machine Learning: A Case Study of Accelerating Machine Learning using Coding. By Fengan Li, Lingjiao Chen, Arun Kumar 0001, Jeffrey F. Naughton, Jignesh M. Patel, Xi Wu 0001 (CoRR, 2017)',\n",
       " 'Linear Algebra and Optimization with Applications to Machine Learning - Volume I: Linear Algebra for Computer Vision, Robotics, and Machine Learning By Jean H. Gallier, Jocelyn Quaintance (Linear Algebra Optim. Appl. Mach. Learn. I, 2020)',\n",
       " 'High Value Media Monitoring With Machine Learning - Using Machine Learning to Drive Cost Effectiveness in an Established Business. By Matti Lyra, Daoud Clarke, Hamish Morgan, Jeremy Reffin, David J. Weir (KI, 2013)',\n",
       " 'Can Machine Learning Correct Commonly Accepted Knowledge and Provide Understandable Knowledge in Care Support Domain? Tackling Cognitive Bias and Humanity from Machine Learning Perspective. By Keiki Takadama (AAAI Spring Symposia, 2018)',\n",
       " 'Ethem Alpaydin. Introduction to Machine Learning (Adaptive Computation and Machine Learning Series). The MIT Press, 2004, ISBN 0 262 01211 1. By Shahzad Khan (Nat. Lang. Eng., 2008)',\n",
       " 'Sports and machine learning: How young people can use data from their own bodies to learn about machine learning. By Abigail Zimmermann-Niefield, R. Benjamin Shapiro, Shaun K. Kane (ACM Crossroads, 2019)',\n",
       " \"A Marauder's Map of Security and Privacy in Machine Learning: An overview of current and future research directions for making machine learning secure and private. By Nicolas Papernot (AISec@CCS, 2018)\",\n",
       " 'Motion Evaluation of Therapy Exercises by Means of Skeleton Normalisation, Incremental Dynamic Time Warping and Machine Learning: A Comparison of a Rule-Based and a Machine-Learning-Based Approach. By Julia Richter, Christian Wiede, Ulrich Heinkel, Gangolf Hirtz (VISIGRAPP (4: VISAPP), 2019)',\n",
       " 'When Conventional machine learning meets neuromorphic engineering: Deep Temporal Networks (DTNets) a machine learning frawmework allowing to operate on Events and Frames and implantable on Tensor Flow Like Hardware. By Marco Macanovic, Fabian Chersi, Felix Rutard, Sio-Hoi Ieng, Ryad Benosman (CoRR, 2018)']"
      ]
     },
     "execution_count": 12,
     "metadata": {},
     "output_type": "execute_result"
    }
   ],
   "source": [
    "gismo.get_ranked_documents()"
   ]
  },
  {
   "cell_type": "markdown",
   "metadata": {},
   "source": [
    "OK, this seems to go everywhere. Maybe we can narrow with a more specific request."
   ]
  },
  {
   "cell_type": "code",
   "execution_count": 13,
   "metadata": {
    "ExecuteTime": {
     "end_time": "2020-05-13T18:05:24.013332Z",
     "start_time": "2020-05-13T18:05:16.249981Z"
    }
   },
   "outputs": [
    {
     "data": {
      "text/plain": [
       "True"
      ]
     },
     "execution_count": 13,
     "metadata": {},
     "output_type": "execute_result"
    }
   ],
   "source": [
    "gismo.rank(\"Machine Learning and covid-19\")"
   ]
  },
  {
   "cell_type": "code",
   "execution_count": 14,
   "metadata": {
    "ExecuteTime": {
     "end_time": "2020-05-13T18:05:24.030009Z",
     "start_time": "2020-05-13T18:05:24.017805Z"
    }
   },
   "outputs": [
    {
     "data": {
      "text/plain": [
       "['GSA-DenseNet121-COVID-19: a Hybrid Deep Learning Architecture for the Diagnosis of COVID-19 Disease based on Gravitational Search Optimization Algorithm. By Dalia Ezzat, Aboul Ella Hassanien, Hassan Aboul Ella (CoRR, 2020)',\n",
       " 'COVID-CT-Dataset: A CT Scan Dataset about COVID-19. By Jinyu Zhao, Yichen Zhang, Xuehai He, Pengtao Xie (CoRR, 2020)',\n",
       " 'NAIST COVID: Multilingual COVID-19 Twitter and Weibo Dataset. By Zhiwei Gao, Shuntaro Yada, Shoko Wakamiya, Eiji Aramaki (CoRR, 2020)',\n",
       " 'COVID-MobileXpert: On-Device COVID-19 Screening using Snapshots of Chest X-Ray. By Xin Li, Chengyin Li, Dongxiao Zhu (CoRR, 2020)',\n",
       " 'Deep-COVID: Predicting COVID-19 From Chest X-Ray Images Using Deep Transfer Learning. By Shervin Minaee, Rahele Kafieh, Milan Sonka, Shakib Yazdani, Ghazaleh Jamalipour Soufi (CoRR, 2020)',\n",
       " 'COVID-CAPS: A Capsule Network-based Framework for Identification of COVID-19 cases from X-ray Images. By Parnian Afshar, Shahin Heidarian, Farnoosh Naderkhani, Anastasia Oikonomou, Konstantinos N. Plataniotis, Arash Mohammadi 0001 (CoRR, 2020)',\n",
       " 'COVID-Net: A Tailored Deep Convolutional Neural Network Design for Detection of COVID-19 Cases from Chest Radiography Images. By Linda Wang, Alexander Wong (CoRR, 2020)',\n",
       " 'CORD-19: The Covid-19 Open Research Dataset. By Lucy Lu Wang, Kyle Lo, Yoganand Chandrasekhar, Russell Reas, Jiangjiang Yang, Darrin Eide, Kathryn Funk, Rodney Kinney, Ziyang Liu, William Merrill, Paul Mooney, Dewey Murdick, Devvret Rishi, Jerry Sheehan, Zhihong Shen, Brandon Stilson, Alex D. Wade, Kuansan Wang, Chris Wilhelm, Boya Xie, Douglas Raymond, Daniel S. Weld, Oren Etzioni, Sebastian Kohlmeier (CoRR, 2020)',\n",
       " 'ArCOV-19: The First Arabic COVID-19 Twitter Dataset with Propagation Networks. By Fatima Haouari, Maram Hasanain, Reem Suwaileh, Tamer Elsayed (CoRR, 2020)',\n",
       " 'SurviveCovid-19 - A Game for Improving Awareness of Social Distancing and Health Measures for Covid-19 Pandemic. By Akhila Sri Manasa Venigalla, Dheeraj Vagavolu, Sridhar Chimalakonda (CoRR, 2020)',\n",
       " 'A SIDARTHE Model of COVID-19 Epidemic in Italy. By Giulia Giordano, Franco Blanchini, Raffaele Bruno, Patrizio Colaneri, Alessandro Di Filippo, Angela Di Matteo, Marta Colaneri (CoRR, 2020)',\n",
       " 'AI4COVID-19: AI Enabled Preliminary Diagnosis for COVID-19 from Cough Samples via an App. By Ali Imran, Iryna Posokhova, Haneya Naeem Qureshi, Usama Masood, Sajid Riaz, Kamran Ali, Charles N. John, Muhammad Nabeel (CoRR, 2020)',\n",
       " 'A First Instagram Dataset on COVID-19. By Koosha Zarei, Reza Farahbakhsh, Noël Crespi, Gareth Tyson (CoRR, 2020)',\n",
       " 'COVID-19 Image Data Collection. By Joseph Paul Cohen, Paul Morrison, Lan Dao (CoRR, 2020)',\n",
       " 'The COVID-19 Social Media Infodemic. By Matteo Cinelli, Walter Quattrociocchi, Alessandro Galeazzi, Carlo Michele Valensise, Emanuele Brugnoli, Ana Lucía Schmidt, Paola Zola, Fabiana Zollo, Antonio Scala (CoRR, 2020)',\n",
       " 'Building a COVID-19 Vulnerability Index. By Dave DeCaprio, Joseph Gartner, Thadeus Burgess, Sarthak Kothari, Shaayan Sayed, Carol J. McCall (CoRR, 2020)',\n",
       " 'Responding to the COVID-19 pandemic: an invitation. By Mikael Wiberg, Alex S. Taylor, Daniela Rosner (Interactions, 2020)',\n",
       " 'Tracing Contacts to Control the COVID-19 Pandemic. By Christoph Günther 0001, Michael Günther 0007, Daniel Günther 0005 (CoRR, 2020)',\n",
       " 'CovidAID: COVID-19 Detection Using Chest X-Ray. By Arpan Mangal, Surya Kalia, Harish Rajgopal, Krithika Rangarajan, Vinay Namboodiri, Subhashis Banerjee, Chetan Arora 0001 (CoRR, 2020)',\n",
       " 'A Time-dependent SIR model for COVID-19. By Yi-Cheng Chen, Ping-En Lu, Cheng-Shang Chang (CoRR, 2020)']"
      ]
     },
     "execution_count": 14,
     "metadata": {},
     "output_type": "execute_result"
    }
   ],
   "source": [
    "gismo.get_ranked_documents()"
   ]
  },
  {
   "cell_type": "markdown",
   "metadata": {},
   "source": [
    "Sounds nice. How are the top-10 articles related?"
   ]
  },
  {
   "cell_type": "code",
   "execution_count": 15,
   "metadata": {
    "ExecuteTime": {
     "end_time": "2020-05-13T18:05:24.145883Z",
     "start_time": "2020-05-13T18:05:24.035651Z"
    }
   },
   "outputs": [
    {
     "name": "stdout",
     "output_type": "stream",
     "text": [
      " F: 0.97. R: 0.02. S: 0.95.\n",
      "- GSA-DenseNet121-COVID-19: a Hybrid Deep Learning Architecture for the Diagnosis of COVID-19 Disease based on Gravitational Search Optimization Algorithm. (R: 0.00; S: 0.96)\n",
      "- F: 1.00. R: 0.01. S: 0.92.\n",
      "-- COVID-CT-Dataset: A CT Scan Dataset about COVID-19. (R: 0.00; S: 0.92)\n",
      "-- NAIST COVID: Multilingual COVID-19 Twitter and Weibo Dataset. (R: 0.00; S: 0.92)\n",
      "-- COVID-MobileXpert: On-Device COVID-19 Screening using Snapshots of Chest X-Ray. (R: 0.00; S: 0.92)\n",
      "-- Deep-COVID: Predicting COVID-19 From Chest X-Ray Images Using Deep Transfer Learning. (R: 0.00; S: 0.92)\n",
      "-- COVID-CAPS: A Capsule Network-based Framework for Identification of COVID-19 cases from X-ray Images. (R: 0.00; S: 0.92)\n",
      "-- COVID-Net: A Tailored Deep Convolutional Neural Network Design for Detection of COVID-19 Cases from Chest Radiography Images. (R: 0.00; S: 0.92)\n",
      "- F: 1.00. R: 0.00. S: 0.94.\n",
      "-- CORD-19: The Covid-19 Open Research Dataset. (R: 0.00; S: 0.94)\n",
      "-- ArCOV-19: The First Arabic COVID-19 Twitter Dataset with Propagation Networks. (R: 0.00; S: 0.94)\n",
      "-- SurviveCovid-19 - A Game for Improving Awareness of Social Distancing and Health Measures for Covid-19 Pandemic. (R: 0.00; S: 0.94)\n"
     ]
    }
   ],
   "source": [
    "gismo.get_clustered_ranked_documents(k=10, resolution=.9)"
   ]
  },
  {
   "cell_type": "markdown",
   "metadata": {},
   "source": [
    "OK! Let's decode this: we have:\n",
    "- One single article on gravitional search\n",
    "- A large cluster on applications of ML to X-Ray / CT scan processing\n",
    "- A social cluster\n",
    "- Note that it's not perfect: a Twitter dataset falls in the X-Ray cluster..."
   ]
  },
  {
   "cell_type": "markdown",
   "metadata": {},
   "source": [
    "Now, let's look at the main keywords."
   ]
  },
  {
   "cell_type": "code",
   "execution_count": 16,
   "metadata": {
    "ExecuteTime": {
     "end_time": "2020-05-13T18:05:24.161067Z",
     "start_time": "2020-05-13T18:05:24.150899Z"
    }
   },
   "outputs": [
    {
     "data": {
      "text/plain": [
       "['19',\n",
       " 'covid',\n",
       " 'covid 19',\n",
       " 'machine',\n",
       " 'machine learning',\n",
       " 'pandemic',\n",
       " 'chest',\n",
       " 'coronavirus',\n",
       " 'dataset',\n",
       " 'ray',\n",
       " 'chest ray',\n",
       " 'deep',\n",
       " 'ray images',\n",
       " 'ct',\n",
       " 'images',\n",
       " 'twitter',\n",
       " 'deep learning',\n",
       " 'social',\n",
       " 'using machine',\n",
       " 'epidemic']"
      ]
     },
     "execution_count": 16,
     "metadata": {},
     "output_type": "execute_result"
    }
   ],
   "source": [
    "gismo.get_ranked_features(20)"
   ]
  },
  {
   "cell_type": "markdown",
   "metadata": {},
   "source": [
    "Let's organize them."
   ]
  },
  {
   "cell_type": "code",
   "execution_count": 17,
   "metadata": {
    "ExecuteTime": {
     "end_time": "2020-05-13T18:05:27.611708Z",
     "start_time": "2020-05-13T18:05:24.165935Z"
    }
   },
   "outputs": [
    {
     "name": "stdout",
     "output_type": "stream",
     "text": [
      " F: 0.00. R: 0.07. S: 0.92.\n",
      "- F: 0.13. R: 0.07. S: 0.92.\n",
      "-- F: 0.18. R: 0.07. S: 0.92.\n",
      "--- F: 0.25. R: 0.06. S: 0.92.\n",
      "---- F: 0.31. R: 0.06. S: 0.96.\n",
      "----- F: 0.97. R: 0.05. S: 0.98.\n",
      "------ 19 (R: 0.02; S: 0.99)\n",
      "------ covid (R: 0.02; S: 0.97)\n",
      "------ covid 19 (R: 0.02; S: 0.98)\n",
      "----- pandemic (R: 0.00; S: 0.31)\n",
      "----- F: 0.80. R: 0.01. S: 0.31.\n",
      "------ chest (R: 0.00; S: 0.33)\n",
      "------ ray (R: 0.00; S: 0.34)\n",
      "------ chest ray (R: 0.00; S: 0.27)\n",
      "------ ray images (R: 0.00; S: 0.27)\n",
      "------ images (R: 0.00; S: 0.34)\n",
      "----- F: 0.41. R: 0.00. S: 0.31.\n",
      "------ dataset (R: 0.00; S: 0.29)\n",
      "------ twitter (R: 0.00; S: 0.24)\n",
      "----- F: 0.71. R: 0.00. S: 0.32.\n",
      "------ deep (R: 0.00; S: 0.36)\n",
      "------ deep learning (R: 0.00; S: 0.27)\n",
      "---- coronavirus (R: 0.00; S: 0.29)\n",
      "---- ct (R: 0.00; S: 0.28)\n",
      "---- social (R: 0.00; S: 0.28)\n",
      "--- F: 0.99. R: 0.01. S: 0.16.\n",
      "---- machine (R: 0.00; S: 0.16)\n",
      "---- machine learning (R: 0.00; S: 0.16)\n",
      "-- epidemic (R: 0.00; S: 0.18)\n",
      "- using machine (R: 0.00; S: 0.01)\n"
     ]
    }
   ],
   "source": [
    "gismo.get_clustered_ranked_features(20)"
   ]
  },
  {
   "cell_type": "markdown",
   "metadata": {},
   "source": [
    "Rough, very broad analysis:\n",
    "- Covid-19 as a pandemic diseases is a core cluster. As they are more article in DBLP (a computer science database) about ML than CV-19, Gismo focused more on that\n",
    "- X-ray processing seems to be a field of interest\n",
    "- Twitter datasets"
   ]
  },
  {
   "cell_type": "code",
   "execution_count": 18,
   "metadata": {
    "ExecuteTime": {
     "end_time": "2020-05-13T18:05:27.720221Z",
     "start_time": "2020-05-13T18:05:27.616934Z"
    }
   },
   "outputs": [
    {
     "data": {
      "text/plain": [
       "<1x4889758 sparse matrix of type '<class 'numpy.float64'>'\n",
       "\twith 49442 stored elements in Compressed Sparse Row format>"
      ]
     },
     "execution_count": 18,
     "metadata": {},
     "output_type": "execute_result"
    }
   ],
   "source": [
    "np.dot(gismo.embedding.query_projection(\"Machine learning\")[0], gismo.embedding.y)"
   ]
  },
  {
   "cell_type": "markdown",
   "metadata": {},
   "source": [
    "50,000 articles with an explicit link to machine learning."
   ]
  },
  {
   "cell_type": "code",
   "execution_count": 19,
   "metadata": {
    "ExecuteTime": {
     "end_time": "2020-05-13T18:05:27.815801Z",
     "start_time": "2020-05-13T18:05:27.724222Z"
    }
   },
   "outputs": [
    {
     "data": {
      "text/plain": [
       "<1x4889758 sparse matrix of type '<class 'numpy.float64'>'\n",
       "\twith 793 stored elements in Compressed Sparse Row format>"
      ]
     },
     "execution_count": 19,
     "metadata": {},
     "output_type": "execute_result"
    }
   ],
   "source": [
    "np.dot(gismo.embedding.query_projection(\"Covid-19\")[0], gismo.embedding.y)"
   ]
  },
  {
   "cell_type": "markdown",
   "metadata": {},
   "source": [
    "800 articles with an explicit link to covid-19."
   ]
  },
  {
   "cell_type": "markdown",
   "metadata": {},
   "source": [
    "## Authors query"
   ]
  },
  {
   "cell_type": "markdown",
   "metadata": {},
   "source": [
    "Instead of looking at words, we can explore authors and their collaborations."
   ]
  },
  {
   "cell_type": "markdown",
   "metadata": {},
   "source": [
    " We just have to rewire the corpus to output string of authors."
   ]
  },
  {
   "cell_type": "code",
   "execution_count": 20,
   "metadata": {
    "ExecuteTime": {
     "end_time": "2020-05-13T18:05:27.829471Z",
     "start_time": "2020-05-13T18:05:27.820876Z"
    }
   },
   "outputs": [],
   "source": [
    "def to_authors_text(dic):\n",
    "    return \" \".join([a.replace(' ', '_') for a in dic['authors']])\n",
    "corpus = Corpus(source, to_text=to_authors_text)"
   ]
  },
  {
   "cell_type": "markdown",
   "metadata": {},
   "source": [
    "We can build a new embedding on top of this modified corpus. We tell the vectorizer to be stupid: don't preprocess, words are separated spaces.\n",
    "\n",
    "This will take a few minutes (you can save the embedding for later if you want)."
   ]
  },
  {
   "cell_type": "code",
   "execution_count": 21,
   "metadata": {
    "ExecuteTime": {
     "end_time": "2020-05-13T18:05:34.718836Z",
     "start_time": "2020-05-13T18:05:27.836014Z"
    }
   },
   "outputs": [],
   "source": [
    "vectorizer = CountVectorizer(dtype=float,\n",
    "                            preprocessor=lambda x:x, tokenizer=lambda x: x.split(' '))\n",
    "a_embedding = Embedding(vectorizer=vectorizer)\n",
    "try:\n",
    "    a_embedding.load(filename=\"dblp_aut_embedding\", path=path)\n",
    "except:\n",
    "    a_embedding.fit_transform(corpus)\n",
    "    a_embedding.save(filename=\"dblp_aut_embedding\", path=path)"
   ]
  },
  {
   "cell_type": "code",
   "execution_count": 22,
   "metadata": {
    "ExecuteTime": {
     "end_time": "2020-05-13T18:05:34.733860Z",
     "start_time": "2020-05-13T18:05:34.724347Z"
    }
   },
   "outputs": [
    {
     "data": {
      "text/plain": [
       "<4889758x2532137 sparse matrix of type '<class 'numpy.float64'>'\n",
       "\twith 15083911 stored elements in Compressed Sparse Row format>"
      ]
     },
     "execution_count": 22,
     "metadata": {},
     "output_type": "execute_result"
    }
   ],
   "source": [
    "a_embedding.x"
   ]
  },
  {
   "cell_type": "markdown",
   "metadata": {},
   "source": [
    "We now have about 2,500,000 authors to explore. Let's reload gismo and try to play."
   ]
  },
  {
   "cell_type": "code",
   "execution_count": 23,
   "metadata": {
    "ExecuteTime": {
     "end_time": "2020-05-13T18:05:34.794102Z",
     "start_time": "2020-05-13T18:05:34.747016Z"
    }
   },
   "outputs": [],
   "source": [
    "gismo = Gismo(corpus, a_embedding)\n",
    "gismo.post_document = post_article\n",
    "gismo.post_feature = lambda g, i: g.embedding.features[i].replace(\"_\", \" \")\n",
    "\n",
    "def print_document_cluster(gismo, cluster, depth=\"\"):\n",
    "    sim = cosine_similarity(cluster.vector, gismo.diteration.y_relevance.reshape(1, -1))[0][0]\n",
    "    if len(cluster.children) == 0:\n",
    "        dic = gismo.corpus[cluster.indice]\n",
    "        authors = \", \".join(dic['authors'])\n",
    "        txt = f\"{authors} ({dic['venue']}, {dic['year']})\"\n",
    "        #post_article(gismo, cluster.indice)\n",
    "        print(f\"{depth} {txt} \")\n",
    "         #     f\"(R: {gismo.diteration.x_relevance[cluster.indice]:.2f}; \"\n",
    "          #    f\"S: {sim:.2f})\")\n",
    "    else:\n",
    "        print(f\"{depth} F: {cluster.focus:.2f}. \"\n",
    "              f\"R: {sum(gismo.diteration.x_relevance[cluster.members]):.2f}. \"\n",
    "              f\"S: {sim:.2f}.\")\n",
    "    for c in cluster.children:\n",
    "        print_document_cluster(gismo, c, depth=depth + '-')\n",
    "gismo.post_document_cluster = print_document_cluster\n",
    "\n",
    "\n",
    "gismo.post_document_cluster = print_document_cluster\n",
    "gismo.post_feature_cluster = print_feature_cluster"
   ]
  },
  {
   "cell_type": "markdown",
   "metadata": {},
   "source": [
    "### Laurent Massoulié query"
   ]
  },
  {
   "cell_type": "code",
   "execution_count": 24,
   "metadata": {
    "ExecuteTime": {
     "end_time": "2020-05-13T18:05:40.141969Z",
     "start_time": "2020-05-13T18:05:34.802639Z"
    }
   },
   "outputs": [
    {
     "data": {
      "text/plain": [
       "True"
      ]
     },
     "execution_count": 24,
     "metadata": {},
     "output_type": "execute_result"
    }
   ],
   "source": [
    "gismo.rank(\"Laurent_Massoulié\")"
   ]
  },
  {
   "cell_type": "markdown",
   "metadata": {},
   "source": [
    "What are the most central articles of Laurent Massoulié in terms of collaboration?"
   ]
  },
  {
   "cell_type": "code",
   "execution_count": 25,
   "metadata": {
    "ExecuteTime": {
     "end_time": "2020-05-13T18:05:40.162223Z",
     "start_time": "2020-05-13T18:05:40.148764Z"
    }
   },
   "outputs": [
    {
     "data": {
      "text/plain": [
       "['Robustness of Spectral Methods for Community Detection. By Ludovic Stephan, Laurent Massoulié (COLT, 2019)',\n",
       " 'Robustness of spectral methods for community detection. By Ludovic Stephan, Laurent Massoulié (CoRR, 2018)',\n",
       " 'From tree matching to sparse graph alignment. By Luca Ganassali, Laurent Massoulié (CoRR, 2020)',\n",
       " 'Spectral alignment of correlated Gaussian random matrices. By Luca Ganassali, Marc Lelarge, Laurent Massoulié (CoRR, 2019)',\n",
       " 'Planting trees in graphs, and finding them back. By Laurent Massoulié, Ludovic Stephan, Don Towsley (COLT, 2019)',\n",
       " 'Brief announcement: adaptive content placement for peer-to-peer video-on-demand systems. By Bo Tan 0002, Laurent Massoulié (PODC, 2010)',\n",
       " 'Optimal content placement for peer-to-peer video-on-demand systems. By Bo Tan 0002, Laurent Massoulié (INFOCOM, 2011)',\n",
       " 'Optimal Content Placement for Peer-to-Peer Video-on-Demand Systems. By Bo Tan 0002, Laurent Massoulié (IEEE/ACM Trans. Netw., 2013)',\n",
       " 'Scalable Local Area Service Discovery. By Richard Black, Heimir Sverrisson, Laurent Massoulié (ICC, 2007)',\n",
       " 'Non-Backtracking Spectrum of Degree-Corrected Stochastic Block Models. By Lennart Gulikers, Marc Lelarge, Laurent Massoulié (CoRR, 2016)']"
      ]
     },
     "execution_count": 25,
     "metadata": {},
     "output_type": "execute_result"
    }
   ],
   "source": [
    "gismo.get_ranked_documents(k=10)"
   ]
  },
  {
   "cell_type": "markdown",
   "metadata": {},
   "source": [
    "We see lots of duplicates. This is not surprising as many articles can published first as a research report, then as a conference paper, last as a journal article. Luckily, Gismo can cover for you."
   ]
  },
  {
   "cell_type": "code",
   "execution_count": 26,
   "metadata": {
    "ExecuteTime": {
     "end_time": "2020-05-13T18:05:40.246319Z",
     "start_time": "2020-05-13T18:05:40.168263Z"
    }
   },
   "outputs": [
    {
     "data": {
      "text/plain": [
       "['Robustness of Spectral Methods for Community Detection. By Ludovic Stephan, Laurent Massoulié (COLT, 2019)',\n",
       " 'Robustness of spectral methods for community detection. By Ludovic Stephan, Laurent Massoulié (CoRR, 2018)',\n",
       " 'From tree matching to sparse graph alignment. By Luca Ganassali, Laurent Massoulié (CoRR, 2020)',\n",
       " 'Spectral alignment of correlated Gaussian random matrices. By Luca Ganassali, Marc Lelarge, Laurent Massoulié (CoRR, 2019)',\n",
       " 'Planting trees in graphs, and finding them back. By Laurent Massoulié, Ludovic Stephan, Don Towsley (COLT, 2019)',\n",
       " 'Brief announcement: adaptive content placement for peer-to-peer video-on-demand systems. By Bo Tan 0002, Laurent Massoulié (PODC, 2010)',\n",
       " 'Optimal content placement for peer-to-peer video-on-demand systems. By Bo Tan 0002, Laurent Massoulié (INFOCOM, 2011)',\n",
       " 'Optimal Content Placement for Peer-to-Peer Video-on-Demand Systems. By Bo Tan 0002, Laurent Massoulié (IEEE/ACM Trans. Netw., 2013)',\n",
       " 'Scalable Local Area Service Discovery. By Richard Black, Heimir Sverrisson, Laurent Massoulié (ICC, 2007)',\n",
       " 'Non-Backtracking Spectrum of Degree-Corrected Stochastic Block Models. By Lennart Gulikers, Marc Lelarge, Laurent Massoulié (CoRR, 2016)']"
      ]
     },
     "execution_count": 26,
     "metadata": {},
     "output_type": "execute_result"
    }
   ],
   "source": [
    "gismo.get_covering_documents(k=10)"
   ]
  },
  {
   "cell_type": "markdown",
   "metadata": {},
   "source": [
    "Hum, not working well. The reason here is query distortion. Query distortion is a gismo feature that modulates the clustering with the query. Sadly, when features are authors, the underlying graph has a very specific structure (highly sparse and redundant) that makes query distortion *too* effective. The solution is to desactivate it."
   ]
  },
  {
   "cell_type": "code",
   "execution_count": 27,
   "metadata": {
    "ExecuteTime": {
     "end_time": "2020-05-13T18:05:40.391282Z",
     "start_time": "2020-05-13T18:05:40.251928Z"
    }
   },
   "outputs": [
    {
     "data": {
      "text/plain": [
       "['Robustness of Spectral Methods for Community Detection. By Ludovic Stephan, Laurent Massoulié (COLT, 2019)',\n",
       " 'Scalable Local Area Service Discovery. By Richard Black, Heimir Sverrisson, Laurent Massoulié (ICC, 2007)',\n",
       " 'Asynchronous Accelerated Proximal Stochastic Gradient for Strongly Convex Distributed Finite Sums. By Hadrien Hendrikx, Francis Bach, Laurent Massoulié (CoRR, 2019)',\n",
       " 'From tree matching to sparse graph alignment. By Luca Ganassali, Laurent Massoulié (CoRR, 2020)',\n",
       " 'Brief announcement: adaptive content placement for peer-to-peer video-on-demand systems. By Bo Tan 0002, Laurent Massoulié (PODC, 2010)',\n",
       " 'Non-Backtracking Spectrum of Degree-Corrected Stochastic Block Models. By Lennart Gulikers, Marc Lelarge, Laurent Massoulié (CoRR, 2016)',\n",
       " 'Adaptive matching for expert systems with uncertain task types. By Virag Shah, Lennart Gulikers, Laurent Massoulié, Milan Vojnovic (Allerton, 2017)',\n",
       " 'Spectral alignment of correlated Gaussian random matrices. By Luca Ganassali, Marc Lelarge, Laurent Massoulié (CoRR, 2019)',\n",
       " 'Planting trees in graphs, and finding them back. By Laurent Massoulié, Ludovic Stephan, Don Towsley (COLT, 2019)',\n",
       " 'Optimal content placement for peer-to-peer video-on-demand systems. By Bo Tan 0002, Laurent Massoulié (INFOCOM, 2011)']"
      ]
     },
     "execution_count": 27,
     "metadata": {},
     "output_type": "execute_result"
    }
   ],
   "source": [
    "gismo.query_distortion = False\n",
    "gismo.get_covering_documents(k=10)"
   ]
  },
  {
   "cell_type": "markdown",
   "metadata": {},
   "source": [
    "Much better. No duplicate and more diversity in the results. Let's observe the communities."
   ]
  },
  {
   "cell_type": "code",
   "execution_count": 28,
   "metadata": {
    "ExecuteTime": {
     "end_time": "2020-05-13T18:05:42.346014Z",
     "start_time": "2020-05-13T18:05:40.397491Z"
    }
   },
   "outputs": [
    {
     "name": "stdout",
     "output_type": "stream",
     "text": [
      " F: 0.36. R: 0.09. S: 0.87.\n",
      "- F: 0.36. R: 0.08. S: 0.86.\n",
      "-- F: 0.36. R: 0.06. S: 0.83.\n",
      "--- F: 0.36. R: 0.03. S: 0.73.\n",
      "---- F: 0.88. R: 0.01. S: 0.60.\n",
      "----- F: 1.00. R: 0.01. S: 0.60.\n",
      "------ Ludovic Stephan, Laurent Massoulié (COLT, 2019) \n",
      "------ Ludovic Stephan, Laurent Massoulié (CoRR, 2018) \n",
      "----- Laurent Massoulié, Ludovic Stephan, Don Towsley (COLT, 2019) \n",
      "---- F: 1.00. R: 0.01. S: 0.61.\n",
      "----- Bo Tan 0002, Laurent Massoulié (PODC, 2010) \n",
      "----- Bo Tan 0002, Laurent Massoulié (INFOCOM, 2011) \n",
      "----- Bo Tan 0002, Laurent Massoulié (IEEE/ACM Trans. Netw., 2013) \n",
      "--- F: 0.41. R: 0.03. S: 0.69.\n",
      "---- F: 0.86. R: 0.01. S: 0.59.\n",
      "----- Luca Ganassali, Laurent Massoulié (CoRR, 2020) \n",
      "----- Luca Ganassali, Marc Lelarge, Laurent Massoulié (CoRR, 2019) \n",
      "---- F: 0.61. R: 0.03. S: 0.60.\n",
      "----- F: 1.00. R: 0.02. S: 0.59.\n",
      "------ Lennart Gulikers, Marc Lelarge, Laurent Massoulié (CoRR, 2016) \n",
      "------ Lennart Gulikers, Marc Lelarge, Laurent Massoulié (CoRR, 2015) \n",
      "------ Lennart Gulikers, Marc Lelarge, Laurent Massoulié (CoRR, 2015) \n",
      "------ Lennart Gulikers, Marc Lelarge, Laurent Massoulié (ITCS, 2017) \n",
      "----- F: 1.00. R: 0.01. S: 0.47.\n",
      "------ Virag Shah, Lennart Gulikers, Laurent Massoulié, Milan Vojnovic (Allerton, 2017) \n",
      "------ Virag Shah, Lennart Gulikers, Laurent Massoulié, Milan Vojnovic (CoRR, 2017) \n",
      "-- F: 1.00. R: 0.02. S: 0.55.\n",
      "--- Hadrien Hendrikx, Francis Bach, Laurent Massoulié (CoRR, 2019) \n",
      "--- Hadrien Hendrikx, Francis Bach, Laurent Massoulié (CoRR, 2019) \n",
      "--- Hadrien Hendrikx, Francis Bach, Laurent Massoulié (AISTATS, 2019) \n",
      "--- Hadrien Hendrikx, Laurent Massoulié, Francis Bach (CoRR, 2018) \n",
      "--- Hadrien Hendrikx, Francis Bach, Laurent Massoulié (NeurIPS, 2019) \n",
      "- Richard Black, Heimir Sverrisson, Laurent Massoulié (ICC, 2007) \n"
     ]
    }
   ],
   "source": [
    "gismo.get_clustered_ranked_documents(k=20, resolution=.9)"
   ]
  },
  {
   "cell_type": "markdown",
   "metadata": {},
   "source": [
    "OK! We see writing commnities."
   ]
  },
  {
   "cell_type": "markdown",
   "metadata": {},
   "source": [
    "Now, let's look in terms of authors. This is actually the interesting part when studying collaborations."
   ]
  },
  {
   "cell_type": "code",
   "execution_count": 29,
   "metadata": {
    "ExecuteTime": {
     "end_time": "2020-05-13T18:05:42.365585Z",
     "start_time": "2020-05-13T18:05:42.353768Z"
    }
   },
   "outputs": [
    {
     "data": {
      "text/plain": [
       "['Laurent Massoulié',\n",
       " 'Marc Lelarge',\n",
       " 'Stratis Ioannidis',\n",
       " 'Nidhi Hegde',\n",
       " 'Peter B. Key',\n",
       " 'Anne-Marie Kermarrec',\n",
       " 'Ayalvadi J. Ganesh',\n",
       " 'Lennart Gulikers',\n",
       " 'Hadrien Hendrikx',\n",
       " 'Francis Bach',\n",
       " 'Dan-Cristian Tomozei',\n",
       " 'Amin Karbasi',\n",
       " 'Milan Vojnovic',\n",
       " 'Augustin Chaintreau',\n",
       " 'Mathieu Leconte',\n",
       " 'Bo Tan 0002',\n",
       " 'James Roberts',\n",
       " 'Ludovic Stephan',\n",
       " 'Kuang Xu',\n",
       " 'Fabio Picconi']"
      ]
     },
     "execution_count": 29,
     "metadata": {},
     "output_type": "execute_result"
    }
   ],
   "source": [
    "gismo.get_ranked_features()"
   ]
  },
  {
   "cell_type": "markdown",
   "metadata": {},
   "source": [
    "We see many authors that were not present in the articles listed above. This is an important observation: central articles (with respect to a query) are not necessarily written by central authors!\n",
    "\n",
    "Let's organize them into communities."
   ]
  },
  {
   "cell_type": "code",
   "execution_count": 30,
   "metadata": {
    "ExecuteTime": {
     "end_time": "2020-05-13T18:05:45.752131Z",
     "start_time": "2020-05-13T18:05:42.372451Z"
    }
   },
   "outputs": [
    {
     "name": "stdout",
     "output_type": "stream",
     "text": [
      " F: 0.00. R: 0.21. S: 0.52.\n",
      "- F: 0.00. R: 0.21. S: 0.52.\n",
      "-- F: 0.01. R: 0.21. S: 0.52.\n",
      "--- F: 0.02. R: 0.20. S: 0.51.\n",
      "---- F: 0.03. R: 0.17. S: 0.50.\n",
      "----- F: 0.04. R: 0.17. S: 0.49.\n",
      "------ F: 0.08. R: 0.16. S: 0.49.\n",
      "------- F: 0.13. R: 0.15. S: 0.50.\n",
      "-------- F: 0.15. R: 0.14. S: 0.49.\n",
      "--------- Laurent_Massoulié (R: 0.10; S: 1.00)\n",
      "--------- Nidhi_Hegde (R: 0.01; S: 0.18)\n",
      "--------- Peter_B._Key (R: 0.01; S: 0.16)\n",
      "--------- Ayalvadi_J._Ganesh (R: 0.01; S: 0.16)\n",
      "--------- Lennart_Gulikers (R: 0.00; S: 0.22)\n",
      "--------- Hadrien_Hendrikx (R: 0.00; S: 0.18)\n",
      "--------- Francis_Bach (R: 0.00; S: 0.06)\n",
      "-------- Marc_Lelarge (R: 0.01; S: 0.15)\n",
      "------- Milan_Vojnovic (R: 0.00; S: 0.06)\n",
      "------ Anne-Marie_Kermarrec (R: 0.01; S: 0.08)\n",
      "----- Mathieu_Leconte (R: 0.00; S: 0.10)\n",
      "---- F: 0.03. R: 0.02. S: 0.14.\n",
      "----- F: 0.09. R: 0.02. S: 0.14.\n",
      "------ Stratis_Ioannidis (R: 0.01; S: 0.15)\n",
      "------ Augustin_Chaintreau (R: 0.00; S: 0.06)\n",
      "----- Amin_Karbasi (R: 0.00; S: 0.05)\n",
      "---- Dan-Cristian_Tomozei (R: 0.00; S: 0.08)\n",
      "---- Ludovic_Stephan (R: 0.00; S: 0.16)\n",
      "--- Bo_Tan_0002 (R: 0.00; S: 0.13)\n",
      "--- Fabio_Picconi (R: 0.00; S: 0.08)\n",
      "-- James_Roberts (R: 0.00; S: 0.06)\n",
      "- Kuang_Xu (R: 0.00; S: 0.04)\n"
     ]
    }
   ],
   "source": [
    "gismo.get_clustered_ranked_features(resolution=.6)"
   ]
  },
  {
   "cell_type": "markdown",
   "metadata": {},
   "source": [
    "### Jim Roberts  query"
   ]
  },
  {
   "cell_type": "code",
   "execution_count": 31,
   "metadata": {
    "ExecuteTime": {
     "end_time": "2020-05-13T18:05:48.535455Z",
     "start_time": "2020-05-13T18:05:45.758077Z"
    }
   },
   "outputs": [
    {
     "data": {
      "text/plain": [
       "True"
      ]
     },
     "execution_count": 31,
     "metadata": {},
     "output_type": "execute_result"
    }
   ],
   "source": [
    "gismo.rank(\"James_W._Roberts\")"
   ]
  },
  {
   "cell_type": "markdown",
   "metadata": {},
   "source": [
    "Let's have a covering set of articles."
   ]
  },
  {
   "cell_type": "code",
   "execution_count": 32,
   "metadata": {
    "ExecuteTime": {
     "end_time": "2020-05-13T18:05:48.693066Z",
     "start_time": "2020-05-13T18:05:48.541149Z"
    }
   },
   "outputs": [
    {
     "data": {
      "text/plain": [
       "['Integrated Admission Control for Streaming and Elastic Traffic. By Nabil Benameur, Slim Ben Fredj, Frank Delcoigne, Sara Oueslati-Boulahia, James W. Roberts (QofIS, 2001)',\n",
       " 'An In-Camera Data Stream Processing System for Defect Detection in Web Inspection Tasks. By S. Hossain Hajimowlana, Roberto Muscedere, Graham A. Jullien, James W. Roberts (Real-Time Imaging, 1999)',\n",
       " \"Modifications of Thomae's Function and Differentiability. By Kevin Beanland, James W. Roberts, Craig Stevenson (The American Mathematical Monthly, 2009)\",\n",
       " 'A Traffic Control Framework for High Speed Data Transmission. By James W. Roberts, Brahim Bensaou, Y. Canetti (Modelling and Evaluation of ATM Networks, 1993)',\n",
       " 'Statistical bandwidth sharing: a study of congestion at flow level. By Slim Ben Fredj, Thomas Bonald, Alexandre Proutière, G. Régnié, James W. Roberts (SIGCOMM, 2001)',\n",
       " 'Swing: Traffic capacity of a simple WDM ring network. By Thomas Bonald, Sara Oueslati, James W. Roberts, Charlotte Roger (International Teletraffic Congress, 2009)',\n",
       " 'Impact of \"Trunk Reservation\" on Elastic Flow Routing. By Sara Oueslati-Boulahia, James W. Roberts (NETWORKING, 2000)',\n",
       " 'Traffic Control in the B-ISDN. By James W. Roberts (Computer Networks and ISDN Systems, 1993)',\n",
       " 'Burstiness Bounds Based Muliplexing Schemes for VBR Video Connections in the B-ISDN. By Maher Hamdi, James W. Roberts (International Zurich Seminar on Digital Communications, 1996)',\n",
       " 'Multi-resource fairness: Objectives, algorithms and performance. By Thomas Bonald, James W. Roberts (CoRR, 2014)']"
      ]
     },
     "execution_count": 32,
     "metadata": {},
     "output_type": "execute_result"
    }
   ],
   "source": [
    "gismo.get_covering_documents(k=10)"
   ]
  },
  {
   "cell_type": "markdown",
   "metadata": {},
   "source": [
    "Who are the associated authors?"
   ]
  },
  {
   "cell_type": "code",
   "execution_count": 33,
   "metadata": {
    "ExecuteTime": {
     "end_time": "2020-05-13T18:05:48.710063Z",
     "start_time": "2020-05-13T18:05:48.698674Z"
    }
   },
   "outputs": [
    {
     "data": {
      "text/plain": [
       "['James W. Roberts',\n",
       " 'Thomas Bonald',\n",
       " 'Maher Hamdi',\n",
       " 'Sara Oueslati-Boulahia',\n",
       " 'Ali Ibrahim',\n",
       " 'Alexandre Proutière',\n",
       " 'Sara Oueslati',\n",
       " 'Jorma T. Virtamo',\n",
       " 'Slim Ben Fredj',\n",
       " 'Jussi Kangasharju']"
      ]
     },
     "execution_count": 33,
     "metadata": {},
     "output_type": "execute_result"
    }
   ],
   "source": [
    "gismo.get_ranked_features(k=10)"
   ]
  },
  {
   "cell_type": "markdown",
   "metadata": {},
   "source": [
    "Let's organize them."
   ]
  },
  {
   "cell_type": "code",
   "execution_count": 34,
   "metadata": {
    "ExecuteTime": {
     "end_time": "2020-05-13T18:05:50.579108Z",
     "start_time": "2020-05-13T18:05:48.714924Z"
    }
   },
   "outputs": [
    {
     "name": "stdout",
     "output_type": "stream",
     "text": [
      " F: 0.01. R: 0.23. S: 0.55.\n",
      "- F: 0.01. R: 0.22. S: 0.54.\n",
      "-- F: 0.04. R: 0.20. S: 0.53.\n",
      "--- F: 0.16. R: 0.19. S: 0.53.\n",
      "---- F: 0.25. R: 0.17. S: 0.91.\n",
      "----- James_W._Roberts (R: 0.12; S: 1.00)\n",
      "----- Thomas_Bonald (R: 0.05; S: 0.28)\n",
      "---- F: 0.57. R: 0.02. S: 0.34.\n",
      "----- Sara_Oueslati-Boulahia (R: 0.01; S: 0.28)\n",
      "----- Slim_Ben_Fredj (R: 0.01; S: 0.32)\n",
      "---- Sara_Oueslati (R: 0.01; S: 0.16)\n",
      "--- Alexandre_Proutière (R: 0.01; S: 0.05)\n",
      "-- Maher_Hamdi (R: 0.01; S: 0.13)\n",
      "-- Ali_Ibrahim (R: 0.01; S: 0.07)\n",
      "- F: 0.01. R: 0.01. S: 0.05.\n",
      "-- Jorma_T._Virtamo (R: 0.01; S: 0.04)\n",
      "-- Jussi_Kangasharju (R: 0.01; S: 0.03)\n"
     ]
    }
   ],
   "source": [
    "gismo.get_clustered_ranked_features(k=10, resolution=.4)"
   ]
  },
  {
   "cell_type": "markdown",
   "metadata": {},
   "source": [
    "### Combined queries"
   ]
  },
  {
   "cell_type": "markdown",
   "metadata": {},
   "source": [
    "We can input multiple authors."
   ]
  },
  {
   "cell_type": "code",
   "execution_count": 35,
   "metadata": {
    "ExecuteTime": {
     "end_time": "2020-05-13T18:05:56.038105Z",
     "start_time": "2020-05-13T18:05:50.585087Z"
    }
   },
   "outputs": [
    {
     "data": {
      "text/plain": [
       "True"
      ]
     },
     "execution_count": 35,
     "metadata": {},
     "output_type": "execute_result"
    }
   ],
   "source": [
    "gismo.rank(\"Laurent_Massoulié and James_W._Roberts\")"
   ]
  },
  {
   "cell_type": "code",
   "execution_count": 36,
   "metadata": {
    "ExecuteTime": {
     "end_time": "2020-05-13T18:05:56.054347Z",
     "start_time": "2020-05-13T18:05:56.043470Z"
    }
   },
   "outputs": [
    {
     "data": {
      "text/plain": [
       "(<1x2532137 sparse matrix of type '<class 'numpy.float64'>'\n",
       " \twith 2 stored elements in Compressed Sparse Row format>,\n",
       " True)"
      ]
     },
     "execution_count": 36,
     "metadata": {},
     "output_type": "execute_result"
    }
   ],
   "source": [
    "gismo.embedding.query_projection(\"Laurent_Massoulié and James_W._Roberts\")"
   ]
  },
  {
   "cell_type": "markdown",
   "metadata": {},
   "source": [
    "Let's have a covering set of articles."
   ]
  },
  {
   "cell_type": "code",
   "execution_count": 37,
   "metadata": {
    "ExecuteTime": {
     "end_time": "2020-05-13T18:05:56.451233Z",
     "start_time": "2020-05-13T18:05:56.060158Z"
    }
   },
   "outputs": [
    {
     "data": {
      "text/plain": [
       "['Integrated Admission Control for Streaming and Elastic Traffic. By Nabil Benameur, Slim Ben Fredj, Frank Delcoigne, Sara Oueslati-Boulahia, James W. Roberts (QofIS, 2001)',\n",
       " 'An In-Camera Data Stream Processing System for Defect Detection in Web Inspection Tasks. By S. Hossain Hajimowlana, Roberto Muscedere, Graham A. Jullien, James W. Roberts (Real-Time Imaging, 1999)',\n",
       " \"Modifications of Thomae's Function and Differentiability. By Kevin Beanland, James W. Roberts, Craig Stevenson (The American Mathematical Monthly, 2009)\",\n",
       " 'A Traffic Control Framework for High Speed Data Transmission. By James W. Roberts, Brahim Bensaou, Y. Canetti (Modelling and Evaluation of ATM Networks, 1993)',\n",
       " 'Statistical bandwidth sharing: a study of congestion at flow level. By Slim Ben Fredj, Thomas Bonald, Alexandre Proutière, G. Régnié, James W. Roberts (SIGCOMM, 2001)',\n",
       " 'Swing: Traffic capacity of a simple WDM ring network. By Thomas Bonald, Sara Oueslati, James W. Roberts, Charlotte Roger (International Teletraffic Congress, 2009)',\n",
       " 'Impact of \"Trunk Reservation\" on Elastic Flow Routing. By Sara Oueslati-Boulahia, James W. Roberts (NETWORKING, 2000)',\n",
       " 'Traffic Control in the B-ISDN. By James W. Roberts (Computer Networks and ISDN Systems, 1993)',\n",
       " 'QoS Guarantees for Shaped Bit Rate Video Connections in Broadband Networks. By Maher Hamdi, James W. Roberts (MMNET, 1995)',\n",
       " 'Internet and the Erlang formula. By Thomas Bonald, James W. Roberts (Computer Communication Review, 2012)']"
      ]
     },
     "execution_count": 37,
     "metadata": {},
     "output_type": "execute_result"
    }
   ],
   "source": [
    "gismo.get_covering_documents(k=10)"
   ]
  },
  {
   "cell_type": "markdown",
   "metadata": {},
   "source": [
    "Note that we get here only articles by Roberts, yet the articles returned have sightly changed."
   ]
  },
  {
   "cell_type": "markdown",
   "metadata": {},
   "source": [
    "Now, let's look at the main authors."
   ]
  },
  {
   "cell_type": "code",
   "execution_count": 38,
   "metadata": {
    "ExecuteTime": {
     "end_time": "2020-05-13T18:05:56.466579Z",
     "start_time": "2020-05-13T18:05:56.455717Z"
    }
   },
   "outputs": [
    {
     "data": {
      "text/plain": [
       "['James W. Roberts',\n",
       " 'Laurent Massoulié',\n",
       " 'Thomas Bonald',\n",
       " 'Nidhi Hegde',\n",
       " 'Maher Hamdi',\n",
       " 'Marc Lelarge',\n",
       " 'Stratis Ioannidis',\n",
       " 'Alexandre Proutière',\n",
       " 'Sara Oueslati-Boulahia',\n",
       " 'Ali Ibrahim',\n",
       " 'Peter B. Key',\n",
       " 'Jorma T. Virtamo',\n",
       " 'Sara Oueslati',\n",
       " 'Anne-Marie Kermarrec',\n",
       " 'Ayalvadi J. Ganesh',\n",
       " 'Slim Ben Fredj']"
      ]
     },
     "execution_count": 38,
     "metadata": {},
     "output_type": "execute_result"
    }
   ],
   "source": [
    "gismo.get_ranked_features()"
   ]
  },
  {
   "cell_type": "markdown",
   "metadata": {},
   "source": [
    "We see a mix of both co-authors. How are they organized?"
   ]
  },
  {
   "cell_type": "code",
   "execution_count": 39,
   "metadata": {
    "ExecuteTime": {
     "end_time": "2020-05-13T18:05:58.825964Z",
     "start_time": "2020-05-13T18:05:56.472677Z"
    }
   },
   "outputs": [
    {
     "name": "stdout",
     "output_type": "stream",
     "text": [
      " F: 0.01. R: 0.20. S: 0.54.\n",
      "- F: 0.01. R: 0.20. S: 0.54.\n",
      "-- F: 0.05. R: 0.19. S: 0.53.\n",
      "--- F: 0.25. R: 0.09. S: 0.84.\n",
      "---- James_W._Roberts (R: 0.06; S: 0.91)\n",
      "---- Thomas_Bonald (R: 0.03; S: 0.26)\n",
      "--- F: 0.12. R: 0.08. S: 0.23.\n",
      "---- Laurent_Massoulié (R: 0.05; S: 0.40)\n",
      "---- Nidhi_Hegde (R: 0.01; S: 0.10)\n",
      "---- Marc_Lelarge (R: 0.01; S: 0.06)\n",
      "---- Stratis_Ioannidis (R: 0.01; S: 0.06)\n",
      "---- Alexandre_Proutière (R: 0.01; S: 0.05)\n",
      "---- Peter_B._Key (R: 0.00; S: 0.07)\n",
      "---- Ayalvadi_J._Ganesh (R: 0.00; S: 0.06)\n",
      "--- F: 0.57. R: 0.01. S: 0.31.\n",
      "---- Sara_Oueslati-Boulahia (R: 0.00; S: 0.26)\n",
      "---- Slim_Ben_Fredj (R: 0.00; S: 0.29)\n",
      "--- Sara_Oueslati (R: 0.00; S: 0.15)\n",
      "--- Anne-Marie_Kermarrec (R: 0.00; S: 0.03)\n",
      "-- Maher_Hamdi (R: 0.01; S: 0.12)\n",
      "-- Ali_Ibrahim (R: 0.00; S: 0.07)\n",
      "- Jorma_T._Virtamo (R: 0.00; S: 0.04)\n"
     ]
    }
   ],
   "source": [
    "gismo.get_clustered_ranked_features(resolution=.4)"
   ]
  },
  {
   "cell_type": "markdown",
   "metadata": {},
   "source": [
    "Rough analysis:\n",
    "- One cluster centered around Jim\n",
    "- One cluster centered around Laurent\n",
    "- Others\n",
    "\n",
    "Note that Massoulié's cluster is bigger that Roberts' one. This is a possible explanation of the predominance of Roberts' articles when asking for best documents (Massoulié's articles are more diluted)."
   ]
  },
  {
   "cell_type": "markdown",
   "metadata": {},
   "source": [
    "## Cross-gismo"
   ]
  },
  {
   "cell_type": "markdown",
   "metadata": {},
   "source": [
    "Gismo can combine two embeddings two create one hybrid gismo. This is called a cross-gismo. This features can be used to analyze authors with respect to the words they use (and vice-versa)."
   ]
  },
  {
   "cell_type": "code",
   "execution_count": 40,
   "metadata": {
    "ExecuteTime": {
     "end_time": "2020-05-13T18:06:52.660346Z",
     "start_time": "2020-05-13T18:05:58.831735Z"
    }
   },
   "outputs": [],
   "source": [
    "from gismo.gismo import XGismo\n",
    "gismo = XGismo(x_embedding=a_embedding, y_embedding=embedding)\n",
    "gismo.diteration.n_iter = 2 # to speed up a little computation"
   ]
  },
  {
   "cell_type": "markdown",
   "metadata": {},
   "source": [
    "Note that XGismo does not use the underlying corpus, so we can now close the source (the source keeps the ``dblp.data`` file open)."
   ]
  },
  {
   "cell_type": "code",
   "execution_count": 41,
   "metadata": {
    "ExecuteTime": {
     "end_time": "2020-05-13T18:06:52.673472Z",
     "start_time": "2020-05-13T18:06:52.666328Z"
    }
   },
   "outputs": [],
   "source": [
    "source.close()"
   ]
  },
  {
   "cell_type": "code",
   "execution_count": 42,
   "metadata": {
    "ExecuteTime": {
     "end_time": "2020-05-13T18:06:52.715118Z",
     "start_time": "2020-05-13T18:06:52.678602Z"
    }
   },
   "outputs": [],
   "source": [
    "gismo.post_document = lambda g, i: g.corpus[i].replace(\"_\", \" \")\n",
    "gismo.post_feature_cluster = print_feature_cluster\n",
    "def print_document_cluster(gismo, cluster, depth=\"\"):\n",
    "    sim = cosine_similarity(cluster.vector, gismo.diteration.y_relevance.reshape(1, -1))[0][0]\n",
    "    if len(cluster.children) == 0:\n",
    "        txt = gismo.corpus[cluster.indice].replace(\"_\", \" \")\n",
    "        print(f\"{depth} {txt} \"\n",
    "              f\"(R: {gismo.diteration.x_relevance[cluster.indice]:.2f}; \"\n",
    "              f\"S: {sim:.2f})\")\n",
    "    else:\n",
    "        print(f\"{depth} F: {cluster.focus:.2f}. \"\n",
    "              f\"R: {sum(gismo.diteration.x_relevance[cluster.members]):.2f}. \"\n",
    "              f\"S: {sim:.2f}.\")\n",
    "    for c in cluster.children:\n",
    "        print_document_cluster(gismo, c, depth=depth + '-')\n",
    "gismo.post_document_cluster = print_document_cluster"
   ]
  },
  {
   "cell_type": "markdown",
   "metadata": {},
   "source": [
    "Let's try a request."
   ]
  },
  {
   "cell_type": "code",
   "execution_count": 43,
   "metadata": {
    "ExecuteTime": {
     "end_time": "2020-05-13T18:07:00.762063Z",
     "start_time": "2020-05-13T18:06:52.721645Z"
    }
   },
   "outputs": [
    {
     "data": {
      "text/plain": [
       "True"
      ]
     },
     "execution_count": 43,
     "metadata": {},
     "output_type": "execute_result"
    }
   ],
   "source": [
    "gismo.rank(\"self-stabilization\")"
   ]
  },
  {
   "cell_type": "markdown",
   "metadata": {},
   "source": [
    "What are the associated keywords?"
   ]
  },
  {
   "cell_type": "code",
   "execution_count": 44,
   "metadata": {
    "ExecuteTime": {
     "end_time": "2020-05-13T18:07:00.775835Z",
     "start_time": "2020-05-13T18:07:00.766913Z"
    }
   },
   "outputs": [
    {
     "data": {
      "text/plain": [
       "['stabilization',\n",
       " 'self',\n",
       " 'self stabilization',\n",
       " 'stabilizing',\n",
       " 'self stabilizing',\n",
       " 'distributed',\n",
       " 'robust',\n",
       " 'sensor',\n",
       " 'adaptive',\n",
       " 'fault']"
      ]
     },
     "execution_count": 44,
     "metadata": {},
     "output_type": "execute_result"
    }
   ],
   "source": [
    "gismo.get_ranked_features(k=10)"
   ]
  },
  {
   "cell_type": "markdown",
   "metadata": {},
   "source": [
    "Using covering can yield other keywords of interest."
   ]
  },
  {
   "cell_type": "code",
   "execution_count": 45,
   "metadata": {
    "ExecuteTime": {
     "end_time": "2020-05-13T18:07:02.407417Z",
     "start_time": "2020-05-13T18:07:00.779901Z"
    }
   },
   "outputs": [
    {
     "data": {
      "text/plain": [
       "['stabilization',\n",
       " 'nonlinear',\n",
       " 'linear',\n",
       " 'byzantine',\n",
       " 'sensor',\n",
       " 'fault',\n",
       " 'self',\n",
       " 'self stabilization',\n",
       " 'stabilizing',\n",
       " 'self stabilizing']"
      ]
     },
     "execution_count": 45,
     "metadata": {},
     "output_type": "execute_result"
    }
   ],
   "source": [
    "gismo.get_covering_features(k=10)"
   ]
  },
  {
   "cell_type": "markdown",
   "metadata": {},
   "source": [
    "How are keywords structured?"
   ]
  },
  {
   "cell_type": "code",
   "execution_count": 46,
   "metadata": {
    "ExecuteTime": {
     "end_time": "2020-05-13T18:07:05.569050Z",
     "start_time": "2020-05-13T18:07:02.412682Z"
    }
   },
   "outputs": [
    {
     "name": "stdout",
     "output_type": "stream",
     "text": [
      " F: 0.04. R: 0.02. S: 0.79.\n",
      "- F: 0.62. R: 0.02. S: 0.79.\n",
      "-- F: 0.62. R: 0.02. S: 0.80.\n",
      "--- F: 0.62. R: 0.02. S: 0.80.\n",
      "---- stabilization (R: 0.00; S: 0.81)\n",
      "---- self (R: 0.00; S: 0.76)\n",
      "---- self stabilization (R: 0.00; S: 0.82)\n",
      "---- stabilizing (R: 0.00; S: 0.72)\n",
      "---- self stabilizing (R: 0.00; S: 0.66)\n",
      "---- distributed (R: 0.00; S: 0.74)\n",
      "---- robust (R: 0.00; S: 0.46)\n",
      "---- adaptive (R: 0.00; S: 0.57)\n",
      "---- dynamic (R: 0.00; S: 0.67)\n",
      "---- optimal (R: 0.00; S: 0.65)\n",
      "---- stability (R: 0.00; S: 0.36)\n",
      "--- F: 0.93. R: 0.00. S: 0.66.\n",
      "---- sensor (R: 0.00; S: 0.66)\n",
      "---- wireless (R: 0.00; S: 0.65)\n",
      "---- sensor networks (R: 0.00; S: 0.65)\n",
      "--- fault (R: 0.00; S: 0.75)\n",
      "-- F: 0.91. R: 0.00. S: 0.47.\n",
      "--- byzantine (R: 0.00; S: 0.46)\n",
      "--- mobile (R: 0.00; S: 0.56)\n",
      "--- asynchronous (R: 0.00; S: 0.54)\n",
      "- F: 0.51. R: 0.00. S: 0.16.\n",
      "-- nonlinear (R: 0.00; S: 0.08)\n",
      "-- linear (R: 0.00; S: 0.27)\n"
     ]
    }
   ],
   "source": [
    "gismo.get_clustered_ranked_features(k=20)"
   ]
  },
  {
   "cell_type": "markdown",
   "metadata": {},
   "source": [
    "Who are the associated researchers?"
   ]
  },
  {
   "cell_type": "code",
   "execution_count": 47,
   "metadata": {
    "ExecuteTime": {
     "end_time": "2020-05-13T18:07:05.583784Z",
     "start_time": "2020-05-13T18:07:05.574051Z"
    }
   },
   "outputs": [
    {
     "data": {
      "text/plain": [
       "['Ted Herman',\n",
       " 'Shlomi Dolev',\n",
       " 'Sébastien Tixeuil',\n",
       " 'Sukumar Ghosh',\n",
       " 'George Varghese',\n",
       " 'Shay Kutten',\n",
       " 'Toshimitsu Masuzawa',\n",
       " 'Stefan Schmid 0001',\n",
       " 'Swan Dubois',\n",
       " 'Bertrand Ducourthial']"
      ]
     },
     "execution_count": 47,
     "metadata": {},
     "output_type": "execute_result"
    }
   ],
   "source": [
    "gismo.get_ranked_documents(k=10)"
   ]
  },
  {
   "cell_type": "markdown",
   "metadata": {},
   "source": [
    "How are they structured?"
   ]
  },
  {
   "cell_type": "code",
   "execution_count": 48,
   "metadata": {
    "ExecuteTime": {
     "end_time": "2020-05-13T18:07:05.705087Z",
     "start_time": "2020-05-13T18:07:05.588377Z"
    }
   },
   "outputs": [
    {
     "name": "stdout",
     "output_type": "stream",
     "text": [
      " F: 0.75. R: 0.05. S: 0.84.\n",
      "- F: 0.87. R: 0.05. S: 0.84.\n",
      "-- F: 0.92. R: 0.04. S: 0.83.\n",
      "--- F: 0.95. R: 0.03. S: 0.83.\n",
      "---- Ted Herman (R: 0.01; S: 0.81)\n",
      "---- Sébastien Tixeuil (R: 0.01; S: 0.83)\n",
      "---- Sukumar Ghosh (R: 0.01; S: 0.81)\n",
      "---- Swan Dubois (R: 0.00; S: 0.80)\n",
      "--- F: 0.97. R: 0.01. S: 0.77.\n",
      "---- Shlomi Dolev (R: 0.01; S: 0.79)\n",
      "---- Toshimitsu Masuzawa (R: 0.00; S: 0.73)\n",
      "--- Shay Kutten (R: 0.00; S: 0.82)\n",
      "-- F: 0.96. R: 0.01. S: 0.80.\n",
      "--- George Varghese (R: 0.00; S: 0.84)\n",
      "--- Bertrand Ducourthial (R: 0.00; S: 0.79)\n",
      "- Stefan Schmid 0001 (R: 0.00; S: 0.71)\n"
     ]
    }
   ],
   "source": [
    "gismo.get_clustered_ranked_documents(k=10, resolution=.9)"
   ]
  },
  {
   "cell_type": "markdown",
   "metadata": {},
   "source": [
    "We can also query researchers. Just use underscores in the query and add `y=False` to indicate that the input is *documents*."
   ]
  },
  {
   "cell_type": "code",
   "execution_count": 49,
   "metadata": {
    "ExecuteTime": {
     "end_time": "2020-05-13T18:07:16.783405Z",
     "start_time": "2020-05-13T18:07:05.710197Z"
    }
   },
   "outputs": [
    {
     "data": {
      "text/plain": [
       "True"
      ]
     },
     "execution_count": 49,
     "metadata": {},
     "output_type": "execute_result"
    }
   ],
   "source": [
    "gismo.rank(\"Sébastien_Tixeuil and Fabien_Mathieu\", y=False)"
   ]
  },
  {
   "cell_type": "markdown",
   "metadata": {},
   "source": [
    "What are the associated keywords?"
   ]
  },
  {
   "cell_type": "code",
   "execution_count": 50,
   "metadata": {
    "ExecuteTime": {
     "end_time": "2020-05-13T18:07:16.799107Z",
     "start_time": "2020-05-13T18:07:16.787404Z"
    }
   },
   "outputs": [
    {
     "data": {
      "text/plain": [
       "['byzantine',\n",
       " 'stabilization',\n",
       " 'p2p',\n",
       " 'stabilizing',\n",
       " 'live streaming',\n",
       " 'p2p networks',\n",
       " 'reloaded',\n",
       " 'self',\n",
       " 'self stabilization',\n",
       " 'live']"
      ]
     },
     "execution_count": 50,
     "metadata": {},
     "output_type": "execute_result"
    }
   ],
   "source": [
    "gismo.get_ranked_features(k=10)"
   ]
  },
  {
   "cell_type": "markdown",
   "metadata": {},
   "source": [
    "Using covering can yield other keywords of interest."
   ]
  },
  {
   "cell_type": "code",
   "execution_count": 51,
   "metadata": {
    "ExecuteTime": {
     "end_time": "2020-05-13T18:07:17.241937Z",
     "start_time": "2020-05-13T18:07:16.804416Z"
    }
   },
   "outputs": [
    {
     "data": {
      "text/plain": [
       "['byzantine',\n",
       " 'preference',\n",
       " 'p2p',\n",
       " 'pagerank',\n",
       " 'grid',\n",
       " 'live streaming',\n",
       " 'p2p networks',\n",
       " 'acyclic',\n",
       " 'streaming',\n",
       " 'stabilization']"
      ]
     },
     "execution_count": 51,
     "metadata": {},
     "output_type": "execute_result"
    }
   ],
   "source": [
    "gismo.get_covering_features(k=10)"
   ]
  },
  {
   "cell_type": "markdown",
   "metadata": {},
   "source": [
    "How are keywords structured?"
   ]
  },
  {
   "cell_type": "code",
   "execution_count": 52,
   "metadata": {
    "ExecuteTime": {
     "end_time": "2020-05-13T18:07:18.129975Z",
     "start_time": "2020-05-13T18:07:17.247317Z"
    }
   },
   "outputs": [
    {
     "name": "stdout",
     "output_type": "stream",
     "text": [
      " F: 0.23. R: 0.22. S: 0.66.\n",
      "- F: 0.38. R: 0.21. S: 0.66.\n",
      "-- F: 0.81. R: 0.09. S: 0.61.\n",
      "--- byzantine (R: 0.02; S: 0.53)\n",
      "--- stabilization (R: 0.02; S: 0.58)\n",
      "--- stabilizing (R: 0.01; S: 0.60)\n",
      "--- self (R: 0.01; S: 0.62)\n",
      "--- self stabilization (R: 0.01; S: 0.59)\n",
      "--- self stabilizing (R: 0.01; S: 0.59)\n",
      "--- robots (R: 0.01; S: 0.51)\n",
      "--- asynchronous (R: 0.01; S: 0.55)\n",
      "-- F: 0.74. R: 0.10. S: 0.30.\n",
      "--- F: 0.79. R: 0.02. S: 0.36.\n",
      "---- p2p (R: 0.02; S: 0.34)\n",
      "---- streaming (R: 0.01; S: 0.33)\n",
      "--- F: 0.88. R: 0.05. S: 0.29.\n",
      "---- live streaming (R: 0.01; S: 0.29)\n",
      "---- reloaded (R: 0.01; S: 0.29)\n",
      "---- live (R: 0.01; S: 0.31)\n",
      "---- preference based (R: 0.01; S: 0.27)\n",
      "---- refresh (R: 0.01; S: 0.27)\n",
      "--- p2p networks (R: 0.01; S: 0.30)\n",
      "--- acyclic (R: 0.01; S: 0.31)\n",
      "-- pagerank (R: 0.01; S: 0.24)\n",
      "-- grid (R: 0.01; S: 0.43)\n",
      "- preference (R: 0.01; S: 0.21)\n"
     ]
    }
   ],
   "source": [
    "gismo.get_clustered_ranked_features(k=20, resolution=.7)"
   ]
  },
  {
   "cell_type": "markdown",
   "metadata": {},
   "source": [
    "Who are the associated researchers?"
   ]
  },
  {
   "cell_type": "code",
   "execution_count": 53,
   "metadata": {
    "ExecuteTime": {
     "end_time": "2020-05-13T18:07:18.135973Z",
     "start_time": "2020-05-13T18:07:18.130973Z"
    }
   },
   "outputs": [
    {
     "data": {
      "text/plain": [
       "['Sébastien Tixeuil',\n",
       " 'Fabien Mathieu',\n",
       " 'Shlomi Dolev',\n",
       " 'Toshimitsu Masuzawa',\n",
       " 'Franck Petit',\n",
       " 'Stéphane Devismes',\n",
       " 'Edmond Bianco',\n",
       " 'Ted Herman',\n",
       " 'Nitin H. Vaidya',\n",
       " 'Michel Raynal']"
      ]
     },
     "execution_count": 53,
     "metadata": {},
     "output_type": "execute_result"
    }
   ],
   "source": [
    "gismo.get_ranked_documents(k=10)"
   ]
  },
  {
   "cell_type": "markdown",
   "metadata": {},
   "source": [
    "How are they structured?"
   ]
  },
  {
   "cell_type": "code",
   "execution_count": 54,
   "metadata": {
    "ExecuteTime": {
     "end_time": "2020-05-13T18:07:18.185062Z",
     "start_time": "2020-05-13T18:07:18.136973Z"
    }
   },
   "outputs": [
    {
     "name": "stdout",
     "output_type": "stream",
     "text": [
      " F: 0.00. R: 0.01. S: 0.62.\n",
      "- F: 0.10. R: 0.01. S: 0.61.\n",
      "-- F: 0.21. R: 0.00. S: 0.51.\n",
      "--- F: 0.75. R: 0.00. S: 0.49.\n",
      "---- Sébastien Tixeuil (R: 0.00; S: 0.56)\n",
      "---- F: 0.92. R: 0.00. S: 0.45.\n",
      "----- Shlomi Dolev (R: 0.00; S: 0.45)\n",
      "----- Toshimitsu Masuzawa (R: 0.00; S: 0.48)\n",
      "----- Franck Petit (R: 0.00; S: 0.43)\n",
      "----- Stéphane Devismes (R: 0.00; S: 0.44)\n",
      "----- Ted Herman (R: 0.00; S: 0.42)\n",
      "--- F: 0.73. R: 0.00. S: 0.32.\n",
      "---- Nitin H. Vaidya (R: 0.00; S: 0.29)\n",
      "---- Michel Raynal (R: 0.00; S: 0.34)\n",
      "-- Fabien Mathieu (R: 0.00; S: 0.71)\n",
      "- Edmond Bianco (R: 0.00; S: 0.05)\n"
     ]
    }
   ],
   "source": [
    "gismo.get_clustered_ranked_documents(k=10, resolution=.8)"
   ]
  }
 ],
 "metadata": {
  "kernelspec": {
   "display_name": "Python 3",
   "language": "python",
   "name": "python3"
  },
  "language_info": {
   "codemirror_mode": {
    "name": "ipython",
    "version": 3
   },
   "file_extension": ".py",
   "mimetype": "text/x-python",
   "name": "python",
   "nbconvert_exporter": "python",
   "pygments_lexer": "ipython3",
   "version": "3.7.7"
  },
  "toc": {
   "base_numbering": 1,
   "nav_menu": {},
   "number_sections": true,
   "sideBar": true,
   "skip_h1_title": true,
   "title_cell": "Table of Contents",
   "title_sidebar": "Contents",
   "toc_cell": false,
   "toc_position": {},
   "toc_section_display": true,
   "toc_window_display": true
  }
 },
 "nbformat": 4,
 "nbformat_minor": 4
}
