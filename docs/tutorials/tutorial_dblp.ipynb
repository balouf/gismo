{
 "cells": [
  {
   "cell_type": "markdown",
   "metadata": {},
   "source": [
    "# DBLP exploration"
   ]
  },
  {
   "cell_type": "markdown",
   "metadata": {},
   "source": [
    "This tutorial shows how explore DBLP with Gismo.\n",
    "\n",
    "If you have never used Gismo before, you may want to start with the *Toy example tutorial* or the *ACM* tutorial.\n",
    "\n",
    "Note: the DBLP databased is not small. Recommended requirements to excute this Notebook:\n",
    "- Fast Internet connection (you will need to download a few hundred Mb)\n",
    "- 4 Gb of free space\n",
    "- 4 Gb of RAM (8Gb or more recommended)\n",
    "- Descent CPU (can take more than one hour on slow CPUs)\n",
    "\n",
    "Here, *documents* are articles in DBLP. The *features* of an article category will vary."
   ]
  },
  {
   "cell_type": "markdown",
   "metadata": {},
   "source": [
    "## Initialisation"
   ]
  },
  {
   "cell_type": "markdown",
   "metadata": {},
   "source": [
    "First, we load the required packages."
   ]
  },
  {
   "cell_type": "code",
   "execution_count": 1,
   "metadata": {
    "ExecuteTime": {
     "end_time": "2025-04-09T08:36:53.936992Z",
     "start_time": "2025-04-09T08:36:02.538005Z"
    },
    "scrolled": true
   },
   "outputs": [],
   "source": [
    "import numpy as np\n",
    "import spacy\n",
    "from gismo import Corpus, Embedding, CountVectorizer, cosine_similarity, Gismo\n",
    "from pathlib import Path\n",
    "from functools import partial\n",
    "\n",
    "from gismo.datasets.dblp import Dblp\n",
    "from gismo.filesource import FileSource\n",
    "from gismo.post_processing import post_features_cluster_print, post_documents_cluster_print"
   ]
  },
  {
   "cell_type": "markdown",
   "metadata": {},
   "source": [
    "Then, we prepare the DBLP source."
   ]
  },
  {
   "cell_type": "markdown",
   "metadata": {},
   "source": [
    "First we choose the location of the DBLP files. If you want to run this Notebook at your place, please change the path below and check that it exists."
   ]
  },
  {
   "cell_type": "code",
   "execution_count": 2,
   "metadata": {
    "ExecuteTime": {
     "end_time": "2025-04-09T08:36:53.971763Z",
     "start_time": "2025-04-09T08:36:53.947949Z"
    }
   },
   "outputs": [
    {
     "data": {
      "text/plain": [
       "True"
      ]
     },
     "execution_count": 2,
     "metadata": {},
     "output_type": "execute_result"
    }
   ],
   "source": [
    "path = Path(\"../../../../../Datasets/DBLP\")\n",
    "path.exists()"
   ]
  },
  {
   "cell_type": "markdown",
   "metadata": {},
   "source": [
    "Construction of the dblp files. Only needs to be performed the first time or when you want to refresh the database. Takes about 10 minutes on a Surface Pro 4 with fiber Internet connection."
   ]
  },
  {
   "cell_type": "code",
   "execution_count": 3,
   "metadata": {
    "ExecuteTime": {
     "end_time": "2025-04-09T08:36:53.994237Z",
     "start_time": "2025-04-09T08:36:53.979412Z"
    }
   },
   "outputs": [
    {
     "name": "stdout",
     "output_type": "stream",
     "text": [
      "File ..\\..\\..\\..\\..\\Datasets\\DBLP\\dblp.xml.gz already exists. Use refresh option to overwrite.\n",
      "File ..\\..\\..\\..\\..\\Datasets\\DBLP\\dblp.data already exists. Use refresh option to overwrite.\n"
     ]
    }
   ],
   "source": [
    "dblp = Dblp(path=path)\n",
    "dblp.build()"
   ]
  },
  {
   "cell_type": "markdown",
   "metadata": {},
   "source": [
    "Then, we can load the database as a filesource."
   ]
  },
  {
   "cell_type": "code",
   "execution_count": 4,
   "metadata": {
    "ExecuteTime": {
     "end_time": "2025-04-09T08:36:54.097530Z",
     "start_time": "2025-04-09T08:36:54.001419Z"
    }
   },
   "outputs": [
    {
     "data": {
      "text/plain": [
       "{'type': 'inproceedings',\n",
       " 'authors': ['Arnon Rosenthal'],\n",
       " 'title': 'The Future of Classic Data Administration: Objects + Databases + CASE',\n",
       " 'venue': 'SWEE',\n",
       " 'year': '1998'}"
      ]
     },
     "execution_count": 4,
     "metadata": {},
     "output_type": "execute_result"
    }
   ],
   "source": [
    "source = FileSource(filename=\"dblp\", path=path)\n",
    "source[0]"
   ]
  },
  {
   "cell_type": "markdown",
   "metadata": {},
   "source": [
    "Each article is a dict with fields ``type``, ``venue``, ``title``, ``year``, and ``authors``. We build a corpus that will tell Gismo that the content of an article is its ``title`` value."
   ]
  },
  {
   "cell_type": "code",
   "execution_count": 5,
   "metadata": {
    "ExecuteTime": {
     "end_time": "2025-04-09T08:36:54.113578Z",
     "start_time": "2025-04-09T08:36:54.105424Z"
    }
   },
   "outputs": [],
   "source": [
    "corpus = Corpus(source, to_text=lambda x: x['title'])"
   ]
  },
  {
   "cell_type": "markdown",
   "metadata": {},
   "source": [
    "We build an embedding on top of that corpus.\n",
    "- We set ``min_df=30`` to exclude rare features;\n",
    "- We set ``max_df=.02`` to exclude anything present in more than 2% of the corpus;\n",
    "- We use `spacy` to lemmatize & remove some stopwords; remove `preprocessor=...` from the input if you want to skip this (takes time);\n",
    "- A few manually selected stopwords to fine-tune things.\n",
    "- We set ``ngram_range=(1, 2)`` to include bi-grams in the embedding.\n",
    "\n",
    "This will take a few minutes (without spacy) up to a few hours (with spacy enabled). You can save the embedding for later if you want."
   ]
  },
  {
   "cell_type": "code",
   "execution_count": null,
   "metadata": {
    "ExecuteTime": {
     "start_time": "2025-04-09T08:36:02.557Z"
    }
   },
   "outputs": [],
   "source": [
    "nlp = spacy.load('en_core_web_sm', disable=['parser', 'ner'])\n",
    "keep = {'ADJ', 'NOUN', 'NUM', 'PROPN', 'SYM', 'VERB'}\n",
    "vectorizer = CountVectorizer(min_df=30, max_df=.02, ngram_range=(1, 2), dtype=float,\n",
    "                             preprocessor=lambda txt: \" \".join([w.lemma_.lower() for w in nlp(txt) \n",
    "                                                                if w.pos_ in keep and not w.is_stop]),\n",
    "                             stop_words=['a', 'about', 'an', 'and', 'for', 'from', 'in', 'of', 'on', 'the', 'with'])\n",
    "\n",
    "try:\n",
    "    embedding = Embedding.load(filename=\"dblp_embedding\", path=path)\n",
    "except:\n",
    "    embedding = Embedding(vectorizer=vectorizer)\n",
    "    embedding.fit_transform(corpus)\n",
    "    embedding.dump(filename=\"dblp_embedding\", path=path)"
   ]
  },
  {
   "cell_type": "code",
   "execution_count": null,
   "metadata": {
    "ExecuteTime": {
     "start_time": "2025-04-09T08:36:02.560Z"
    }
   },
   "outputs": [],
   "source": [
    "embedding.x"
   ]
  },
  {
   "cell_type": "markdown",
   "metadata": {},
   "source": [
    "We see from ``embedding.x`` that the embedding links about 6,200,000 documents to 193,000 features. In average, each document is linked to about 10 features."
   ]
  },
  {
   "cell_type": "markdown",
   "metadata": {},
   "source": [
    "Now, we initiate the gismo object, and customize post_processers to ease the display."
   ]
  },
  {
   "cell_type": "code",
   "execution_count": null,
   "metadata": {
    "ExecuteTime": {
     "start_time": "2025-04-09T08:36:02.564Z"
    }
   },
   "outputs": [],
   "source": [
    "gismo = Gismo(corpus, embedding)"
   ]
  },
  {
   "cell_type": "code",
   "execution_count": null,
   "metadata": {
    "ExecuteTime": {
     "start_time": "2025-04-09T08:36:02.567Z"
    }
   },
   "outputs": [],
   "source": [
    "def post_article(g, i):\n",
    "    dic = g.corpus[i]\n",
    "    authors = \", \".join(dic['authors'])\n",
    "    return f\"{dic['title']} By {authors} ({dic['venue']}, {dic['year']})\"\n",
    "    \n",
    "gismo.post_documents_item = post_article\n",
    "\n",
    "def post_title(g, i):\n",
    "    return g.corpus[i]['title']\n",
    "    authors = \", \".join(dic['authors'])\n",
    "    return f\"{dic['title']} By {authors} ({dic['venue']}, {dic['year']})\"\n",
    "\n",
    "def post_meta(g, i):\n",
    "    dic = g.corpus[i]\n",
    "    authors = \", \".join(dic['authors'])\n",
    "    return f\"{authors} ({dic['venue']}, {dic['year']})\"\n",
    "\n",
    "\n",
    "gismo.post_documents_cluster = partial(post_documents_cluster_print, post_item=post_title)\n",
    "gismo.post_features_cluster = post_features_cluster_print"
   ]
  },
  {
   "cell_type": "markdown",
   "metadata": {},
   "source": [
    "As the dataset is big, we lower the precision of the computation to speed up things a little bit."
   ]
  },
  {
   "cell_type": "code",
   "execution_count": null,
   "metadata": {
    "ExecuteTime": {
     "start_time": "2025-04-09T08:36:02.570Z"
    }
   },
   "outputs": [],
   "source": [
    "gismo.parameters.n_iter = 2"
   ]
  },
  {
   "cell_type": "markdown",
   "metadata": {},
   "source": [
    "## Machine Learning (and Covid-19) query"
   ]
  },
  {
   "cell_type": "markdown",
   "metadata": {},
   "source": [
    "We perform the query *Machine learning*. The returned ``True`` tells that some of the query features were found in the corpus' features."
   ]
  },
  {
   "cell_type": "code",
   "execution_count": null,
   "metadata": {
    "ExecuteTime": {
     "start_time": "2025-04-09T08:36:02.574Z"
    }
   },
   "outputs": [],
   "source": [
    "gismo.rank(\"Machine Learning\")"
   ]
  },
  {
   "cell_type": "markdown",
   "metadata": {},
   "source": [
    "What are the best articles on *Machine Learning*?"
   ]
  },
  {
   "cell_type": "code",
   "execution_count": null,
   "metadata": {
    "ExecuteTime": {
     "start_time": "2025-04-09T08:36:02.578Z"
    }
   },
   "outputs": [],
   "source": [
    "gismo.get_documents_by_rank()"
   ]
  },
  {
   "cell_type": "markdown",
   "metadata": {},
   "source": [
    "OK, this seems to go everywhere. Maybe we can narrow with a more specific request."
   ]
  },
  {
   "cell_type": "code",
   "execution_count": null,
   "metadata": {
    "ExecuteTime": {
     "start_time": "2025-04-09T08:36:02.581Z"
    }
   },
   "outputs": [],
   "source": [
    "gismo.rank(\"Machine Learning and covid-19\")"
   ]
  },
  {
   "cell_type": "code",
   "execution_count": null,
   "metadata": {
    "ExecuteTime": {
     "start_time": "2025-04-09T08:36:02.584Z"
    }
   },
   "outputs": [],
   "source": [
    "gismo.get_documents_by_rank()"
   ]
  },
  {
   "cell_type": "markdown",
   "metadata": {},
   "source": [
    "Sounds nice. How are the top-10 articles related? Note: as the graph structure is really sparse on the document side (10 features), it is best to de-activate the query-distortion, which is intended for longer documents."
   ]
  },
  {
   "cell_type": "code",
   "execution_count": null,
   "metadata": {
    "ExecuteTime": {
     "start_time": "2025-04-09T08:36:02.587Z"
    }
   },
   "outputs": [],
   "source": [
    "gismo.parameters.distortion = 0.0\n",
    "gismo.get_documents_by_cluster(k=10)"
   ]
  },
  {
   "cell_type": "markdown",
   "metadata": {},
   "source": [
    "Now, let's look at the main keywords."
   ]
  },
  {
   "cell_type": "code",
   "execution_count": null,
   "metadata": {
    "ExecuteTime": {
     "start_time": "2025-04-09T08:36:02.590Z"
    }
   },
   "outputs": [],
   "source": [
    "gismo.get_features_by_rank(20)"
   ]
  },
  {
   "cell_type": "markdown",
   "metadata": {},
   "source": [
    "Let's organize them."
   ]
  },
  {
   "cell_type": "code",
   "execution_count": null,
   "metadata": {
    "ExecuteTime": {
     "start_time": "2025-04-09T08:36:02.593Z"
    }
   },
   "outputs": [],
   "source": [
    "# On the feature side, the graph is more dense so we can use query distortion\n",
    "gismo.get_features_by_cluster(distortion=1)"
   ]
  },
  {
   "cell_type": "markdown",
   "metadata": {},
   "source": [
    "Rough, very broad analysis:\n",
    "- One big keyword cluster about Coronavirus / Covid-19, pandemic, online learning;\n",
    "- Machine Learning as a separate small cluster."
   ]
  },
  {
   "cell_type": "code",
   "execution_count": null,
   "metadata": {
    "ExecuteTime": {
     "start_time": "2025-04-09T08:36:02.598Z"
    }
   },
   "outputs": [],
   "source": [
    "np.dot(gismo.embedding.query_projection(\"Machine learning\")[0], gismo.embedding.y)"
   ]
  },
  {
   "cell_type": "markdown",
   "metadata": {},
   "source": [
    "88,000 articles with an explicit link to machine learning."
   ]
  },
  {
   "cell_type": "code",
   "execution_count": null,
   "metadata": {
    "ExecuteTime": {
     "start_time": "2025-04-09T08:36:02.601Z"
    }
   },
   "outputs": [],
   "source": [
    "np.dot(gismo.embedding.query_projection(\"Covid-19\")[0], gismo.embedding.y)"
   ]
  },
  {
   "cell_type": "markdown",
   "metadata": {},
   "source": [
    "12,000 articles with an explicit link to covid-19."
   ]
  },
  {
   "cell_type": "markdown",
   "metadata": {},
   "source": [
    "## Authors query"
   ]
  },
  {
   "cell_type": "markdown",
   "metadata": {},
   "source": [
    "Instead of looking at words, we can explore authors and their collaborations."
   ]
  },
  {
   "cell_type": "markdown",
   "metadata": {},
   "source": [
    " We just have to rewire the corpus to output string of authors."
   ]
  },
  {
   "cell_type": "code",
   "execution_count": null,
   "metadata": {
    "ExecuteTime": {
     "start_time": "2025-04-09T08:36:02.607Z"
    }
   },
   "outputs": [],
   "source": [
    "def to_authors_text(dic):\n",
    "    return \" \".join([a.replace(' ', '_') for a in dic['authors']])\n",
    "corpus = Corpus(source, to_text=to_authors_text)"
   ]
  },
  {
   "cell_type": "markdown",
   "metadata": {},
   "source": [
    "We can build a new embedding on top of this modified corpus. We tell the vectorizer to be stupid: don't preprocess, words are separated spaces.\n",
    "\n",
    "This will take a few minutes (you can save the embedding for later if you want)."
   ]
  },
  {
   "cell_type": "code",
   "execution_count": null,
   "metadata": {
    "ExecuteTime": {
     "start_time": "2025-04-09T08:36:02.611Z"
    }
   },
   "outputs": [],
   "source": [
    "vectorizer = CountVectorizer(dtype=float,\n",
    "                            preprocessor=lambda x:x, tokenizer=lambda x: x.split(' '))\n",
    "try:\n",
    "    a_embedding = Embedding.load(filename=\"dblp_aut_embedding\", path=path)\n",
    "except:\n",
    "    a_embedding = Embedding(vectorizer=vectorizer)\n",
    "    a_embedding.fit_transform(corpus)\n",
    "    a_embedding.dump(filename=\"dblp_aut_embedding\", path=path)"
   ]
  },
  {
   "cell_type": "code",
   "execution_count": null,
   "metadata": {
    "ExecuteTime": {
     "start_time": "2025-04-09T08:36:02.614Z"
    }
   },
   "outputs": [],
   "source": [
    "a_embedding.x"
   ]
  },
  {
   "cell_type": "markdown",
   "metadata": {},
   "source": [
    "We now have about 3,200,000 authors to explore. Let's reload gismo and try to play."
   ]
  },
  {
   "cell_type": "code",
   "execution_count": null,
   "metadata": {
    "ExecuteTime": {
     "start_time": "2025-04-09T08:36:02.618Z"
    }
   },
   "outputs": [],
   "source": [
    "gismo = Gismo(corpus, a_embedding)\n",
    "gismo.post_documents_item = post_article\n",
    "gismo.post_features_item = lambda g, i: g.embedding.features[i].replace(\"_\", \" \")"
   ]
  },
  {
   "cell_type": "code",
   "execution_count": null,
   "metadata": {
    "ExecuteTime": {
     "start_time": "2025-04-09T08:36:02.621Z"
    }
   },
   "outputs": [],
   "source": [
    "gismo.post_documents_cluster = partial(post_documents_cluster_print, post_item=post_meta)\n",
    "gismo.post_features_cluster = post_features_cluster_print"
   ]
  },
  {
   "cell_type": "markdown",
   "metadata": {},
   "source": [
    "### Laurent Massoulié query"
   ]
  },
  {
   "cell_type": "code",
   "execution_count": null,
   "metadata": {
    "ExecuteTime": {
     "start_time": "2025-04-09T08:36:02.625Z"
    }
   },
   "outputs": [],
   "source": [
    "gismo.rank(\"Laurent_Massoulié\")"
   ]
  },
  {
   "cell_type": "markdown",
   "metadata": {},
   "source": [
    "What are the most central articles of Laurent Massoulié in terms of collaboration?"
   ]
  },
  {
   "cell_type": "code",
   "execution_count": null,
   "metadata": {
    "ExecuteTime": {
     "start_time": "2025-04-09T08:36:02.628Z"
    }
   },
   "outputs": [],
   "source": [
    "gismo.get_documents_by_rank(k=10)"
   ]
  },
  {
   "cell_type": "markdown",
   "metadata": {},
   "source": [
    "We see lots of duplicates. This is not surprising as many articles can published first as a research report, then as a conference paper, last as a journal article. Luckily, Gismo can cover for you."
   ]
  },
  {
   "cell_type": "code",
   "execution_count": null,
   "metadata": {
    "ExecuteTime": {
     "start_time": "2025-04-09T08:36:02.632Z"
    }
   },
   "outputs": [],
   "source": [
    "gismo.get_documents_by_coverage(k=10)"
   ]
  },
  {
   "cell_type": "markdown",
   "metadata": {},
   "source": [
    "Hum, not working well. The reason here is query distortion. Query distortion is a gismo feature that modulates the clustering with the query. Sadly, when features are authors, the underlying graph has a very specific structure (highly sparse and redundant) that makes query distortion *too* effective. The solution is to desactivate it."
   ]
  },
  {
   "cell_type": "code",
   "execution_count": null,
   "metadata": {
    "ExecuteTime": {
     "start_time": "2025-04-09T08:36:02.636Z"
    }
   },
   "outputs": [],
   "source": [
    "gismo.parameters.distortion = 0\n",
    "gismo.get_documents_by_coverage(k=10)"
   ]
  },
  {
   "cell_type": "markdown",
   "metadata": {},
   "source": [
    "Much better. No duplicate and more diversity in the results. Let's observe the communities."
   ]
  },
  {
   "cell_type": "code",
   "execution_count": null,
   "metadata": {
    "ExecuteTime": {
     "start_time": "2025-04-09T08:36:02.640Z"
    }
   },
   "outputs": [],
   "source": [
    "gismo.get_documents_by_cluster(k=20, resolution=.9)"
   ]
  },
  {
   "cell_type": "markdown",
   "metadata": {},
   "source": [
    "OK! We see that the articles are organized by writing commmunities. Also note how Gismo managed to organize a hierachical grouping of the communities."
   ]
  },
  {
   "cell_type": "markdown",
   "metadata": {},
   "source": [
    "Now, let's look in terms of authors. This is actually the interesting part when studying collaborations."
   ]
  },
  {
   "cell_type": "code",
   "execution_count": null,
   "metadata": {
    "ExecuteTime": {
     "start_time": "2025-04-09T08:36:02.644Z"
    }
   },
   "outputs": [],
   "source": [
    "gismo.get_features_by_rank()"
   ]
  },
  {
   "cell_type": "markdown",
   "metadata": {},
   "source": [
    "We see many authors that were not present in the articles listed above. This is an important observation: central articles (with respect to a query) are not necessarily written by central authors!\n",
    "\n",
    "Let's organize them into communities."
   ]
  },
  {
   "cell_type": "code",
   "execution_count": null,
   "metadata": {
    "ExecuteTime": {
     "start_time": "2025-04-09T08:36:02.648Z"
    }
   },
   "outputs": [],
   "source": [
    "gismo.get_features_by_cluster(resolution=.6)"
   ]
  },
  {
   "cell_type": "markdown",
   "metadata": {},
   "source": [
    "### Jim Roberts  query"
   ]
  },
  {
   "cell_type": "code",
   "execution_count": null,
   "metadata": {
    "ExecuteTime": {
     "start_time": "2025-04-09T08:36:02.652Z"
    }
   },
   "outputs": [],
   "source": [
    "gismo.rank(\"James_W._Roberts\")"
   ]
  },
  {
   "cell_type": "markdown",
   "metadata": {},
   "source": [
    "Let's have a covering set of articles."
   ]
  },
  {
   "cell_type": "code",
   "execution_count": null,
   "metadata": {
    "ExecuteTime": {
     "start_time": "2025-04-09T08:36:02.656Z"
    }
   },
   "outputs": [],
   "source": [
    "gismo.get_documents_by_coverage(k=10)"
   ]
  },
  {
   "cell_type": "markdown",
   "metadata": {},
   "source": [
    "Who are the associated authors?"
   ]
  },
  {
   "cell_type": "code",
   "execution_count": null,
   "metadata": {
    "ExecuteTime": {
     "start_time": "2025-04-09T08:36:02.660Z"
    }
   },
   "outputs": [],
   "source": [
    "gismo.get_features_by_rank(k=10)"
   ]
  },
  {
   "cell_type": "markdown",
   "metadata": {},
   "source": [
    "Let's organize them."
   ]
  },
  {
   "cell_type": "code",
   "execution_count": null,
   "metadata": {
    "ExecuteTime": {
     "start_time": "2025-04-09T08:36:02.664Z"
    }
   },
   "outputs": [],
   "source": [
    "gismo.get_features_by_cluster(k=10, resolution=.4)"
   ]
  },
  {
   "cell_type": "markdown",
   "metadata": {},
   "source": [
    "### Combined queries"
   ]
  },
  {
   "cell_type": "markdown",
   "metadata": {},
   "source": [
    "We can input multiple authors."
   ]
  },
  {
   "cell_type": "code",
   "execution_count": null,
   "metadata": {
    "ExecuteTime": {
     "start_time": "2025-04-09T08:36:02.667Z"
    }
   },
   "outputs": [],
   "source": [
    "gismo.rank(\"Laurent_Massoulié and James_W._Roberts\")"
   ]
  },
  {
   "cell_type": "markdown",
   "metadata": {},
   "source": [
    "Let's have a covering set of articles."
   ]
  },
  {
   "cell_type": "code",
   "execution_count": null,
   "metadata": {
    "ExecuteTime": {
     "start_time": "2025-04-09T08:36:02.670Z"
    }
   },
   "outputs": [],
   "source": [
    "gismo.get_documents_by_coverage(k=10)"
   ]
  },
  {
   "cell_type": "markdown",
   "metadata": {},
   "source": [
    "Note that we get here only articles by Roberts, yet the articles returned have sightly changed."
   ]
  },
  {
   "cell_type": "markdown",
   "metadata": {},
   "source": [
    "Now, let's look at the main authors."
   ]
  },
  {
   "cell_type": "code",
   "execution_count": null,
   "metadata": {
    "ExecuteTime": {
     "start_time": "2025-04-09T08:36:02.674Z"
    }
   },
   "outputs": [],
   "source": [
    "gismo.get_features_by_rank()"
   ]
  },
  {
   "cell_type": "markdown",
   "metadata": {},
   "source": [
    "We see a mix of both co-authors. How are they organized?"
   ]
  },
  {
   "cell_type": "code",
   "execution_count": null,
   "metadata": {
    "ExecuteTime": {
     "start_time": "2025-04-09T08:36:02.677Z"
    }
   },
   "outputs": [],
   "source": [
    "gismo.get_features_by_cluster(resolution=.4)"
   ]
  },
  {
   "cell_type": "markdown",
   "metadata": {},
   "source": [
    "## Cross-gismo"
   ]
  },
  {
   "cell_type": "markdown",
   "metadata": {},
   "source": [
    "Gismo can combine two embeddings two create one hybrid gismo. This is called a cross-gismo (XGismo). This features can be used to analyze authors with respect to the words they use (and vice-versa)."
   ]
  },
  {
   "cell_type": "code",
   "execution_count": null,
   "metadata": {
    "ExecuteTime": {
     "start_time": "2025-04-09T08:36:02.680Z"
    }
   },
   "outputs": [],
   "source": [
    "from gismo.gismo import XGismo\n",
    "gismo = XGismo(x_embedding=a_embedding, y_embedding=embedding)\n",
    "gismo.diteration.n_iter = 2 # to speed up a little bit computation time"
   ]
  },
  {
   "cell_type": "markdown",
   "metadata": {},
   "source": [
    "Note that XGismo does not use the underlying corpus, so we can now close the source (the source keeps the file ``dblp.data`` open)."
   ]
  },
  {
   "cell_type": "code",
   "execution_count": null,
   "metadata": {
    "ExecuteTime": {
     "start_time": "2025-04-09T08:36:02.683Z"
    }
   },
   "outputs": [],
   "source": [
    "source.close()"
   ]
  },
  {
   "cell_type": "code",
   "execution_count": null,
   "metadata": {
    "ExecuteTime": {
     "start_time": "2025-04-09T08:36:02.686Z"
    }
   },
   "outputs": [],
   "source": [
    "gismo.post_documents_item = lambda g, i: g.corpus[i].replace(\"_\", \" \")\n",
    "gismo.post_features_cluster = post_features_cluster_print\n",
    "gismo.post_documents_cluster = post_documents_cluster_print"
   ]
  },
  {
   "cell_type": "markdown",
   "metadata": {},
   "source": [
    "Let's try a request."
   ]
  },
  {
   "cell_type": "code",
   "execution_count": null,
   "metadata": {
    "ExecuteTime": {
     "start_time": "2025-04-09T08:36:02.689Z"
    }
   },
   "outputs": [],
   "source": [
    "gismo.rank(\"self-stabilization\")"
   ]
  },
  {
   "cell_type": "markdown",
   "metadata": {},
   "source": [
    "What are the associated keywords?"
   ]
  },
  {
   "cell_type": "code",
   "execution_count": null,
   "metadata": {
    "ExecuteTime": {
     "start_time": "2025-04-09T08:36:02.692Z"
    }
   },
   "outputs": [],
   "source": [
    "gismo.get_features_by_rank(k=10)"
   ]
  },
  {
   "cell_type": "markdown",
   "metadata": {},
   "source": [
    "How are keywords structured?"
   ]
  },
  {
   "cell_type": "code",
   "execution_count": null,
   "metadata": {
    "ExecuteTime": {
     "start_time": "2025-04-09T08:36:02.696Z"
    }
   },
   "outputs": [],
   "source": [
    "gismo.get_features_by_cluster(k=20, resolution=.8)"
   ]
  },
  {
   "cell_type": "markdown",
   "metadata": {},
   "source": [
    "Who are the associated researchers?"
   ]
  },
  {
   "cell_type": "code",
   "execution_count": null,
   "metadata": {
    "ExecuteTime": {
     "start_time": "2025-04-09T08:36:02.700Z"
    }
   },
   "outputs": [],
   "source": [
    "gismo.get_documents_by_rank(k=10)"
   ]
  },
  {
   "cell_type": "markdown",
   "metadata": {},
   "source": [
    "How are they structured?"
   ]
  },
  {
   "cell_type": "code",
   "execution_count": null,
   "metadata": {
    "ExecuteTime": {
     "start_time": "2025-04-09T08:36:02.703Z"
    }
   },
   "outputs": [],
   "source": [
    "gismo.get_documents_by_cluster(k=10, resolution=.9)"
   ]
  },
  {
   "cell_type": "markdown",
   "metadata": {},
   "source": [
    "We can also query researchers. Just use underscores in the query and add `y=False` to indicate that the input is *documents*."
   ]
  },
  {
   "cell_type": "code",
   "execution_count": null,
   "metadata": {
    "ExecuteTime": {
     "start_time": "2025-04-09T08:36:02.707Z"
    }
   },
   "outputs": [],
   "source": [
    "gismo.rank(\"Sébastien_Tixeuil and Fabien_Mathieu\", y=False)"
   ]
  },
  {
   "cell_type": "markdown",
   "metadata": {},
   "source": [
    "What are the associated keywords?"
   ]
  },
  {
   "cell_type": "code",
   "execution_count": null,
   "metadata": {
    "ExecuteTime": {
     "start_time": "2025-04-09T08:36:02.711Z"
    }
   },
   "outputs": [],
   "source": [
    "gismo.get_features_by_rank(k=10)"
   ]
  },
  {
   "cell_type": "markdown",
   "metadata": {},
   "source": [
    "Using covering can yield other keywords of interest."
   ]
  },
  {
   "cell_type": "code",
   "execution_count": null,
   "metadata": {
    "ExecuteTime": {
     "start_time": "2025-04-09T08:36:02.714Z"
    }
   },
   "outputs": [],
   "source": [
    "gismo.get_features_by_coverage(k=10)"
   ]
  },
  {
   "cell_type": "markdown",
   "metadata": {},
   "source": [
    "How are keywords structured?"
   ]
  },
  {
   "cell_type": "code",
   "execution_count": null,
   "metadata": {
    "ExecuteTime": {
     "start_time": "2025-04-09T08:36:02.718Z"
    }
   },
   "outputs": [],
   "source": [
    "gismo.get_features_by_cluster(k=20, resolution=.7)"
   ]
  },
  {
   "cell_type": "markdown",
   "metadata": {},
   "source": [
    "Who are the associated researchers?"
   ]
  },
  {
   "cell_type": "code",
   "execution_count": null,
   "metadata": {
    "ExecuteTime": {
     "start_time": "2025-04-09T08:36:02.722Z"
    }
   },
   "outputs": [],
   "source": [
    "gismo.get_documents_by_rank(k=10)"
   ]
  },
  {
   "cell_type": "markdown",
   "metadata": {},
   "source": [
    "How are they structured?"
   ]
  },
  {
   "cell_type": "code",
   "execution_count": null,
   "metadata": {
    "ExecuteTime": {
     "start_time": "2025-04-09T08:36:02.725Z"
    }
   },
   "outputs": [],
   "source": [
    "gismo.get_documents_by_cluster(k=10, resolution=.8)"
   ]
  }
 ],
 "metadata": {
  "kernelspec": {
   "display_name": "Python 3 (ipykernel)",
   "language": "python",
   "name": "python3"
  },
  "language_info": {
   "codemirror_mode": {
    "name": "ipython",
    "version": 3
   },
   "file_extension": ".py",
   "mimetype": "text/x-python",
   "name": "python",
   "nbconvert_exporter": "python",
   "pygments_lexer": "ipython3",
   "version": "3.11.4"
  },
  "toc": {
   "base_numbering": 1,
   "nav_menu": {},
   "number_sections": true,
   "sideBar": true,
   "skip_h1_title": true,
   "title_cell": "Table of Contents",
   "title_sidebar": "Contents",
   "toc_cell": false,
   "toc_position": {},
   "toc_section_display": true,
   "toc_window_display": false
  }
 },
 "nbformat": 4,
 "nbformat_minor": 4
}
