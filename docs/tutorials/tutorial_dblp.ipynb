{
 "cells": [
  {
   "cell_type": "markdown",
   "metadata": {},
   "source": [
    "# DBLP exploration"
   ]
  },
  {
   "cell_type": "markdown",
   "metadata": {},
   "source": [
    "This tutorial shows how explore DBLP with Gismo.\n",
    "\n",
    "Note: the DBLP databased is not small. Recommended requirements to excute this Notebook:\n",
    "- Fast Internet connection (you will need to download a few hundred Mb)\n",
    "- 4 Gb of free space\n",
    "- 4 Gb of RAM (8Gb or more recommended)\n",
    "- Descent CPU (can take more than one hour on slow CPUs)\n",
    "\n",
    "Here, *documents* are articles in DBLP. The *features* of an article category will vary."
   ]
  },
  {
   "cell_type": "markdown",
   "metadata": {},
   "source": [
    "## Initialisation"
   ]
  },
  {
   "cell_type": "markdown",
   "metadata": {},
   "source": [
    "First, we load the required package."
   ]
  },
  {
   "cell_type": "code",
   "execution_count": 1,
   "metadata": {
    "ExecuteTime": {
     "end_time": "2020-05-13T15:40:23.063347Z",
     "start_time": "2020-05-13T15:40:21.792612Z"
    }
   },
   "outputs": [],
   "source": [
    "import numpy as np\n",
    "from sklearn.feature_extraction.text import CountVectorizer\n",
    "from sklearn.metrics.pairwise import cosine_similarity\n",
    "from pathlib import Path\n",
    "\n",
    "from gismo.datasets.dblp import Dblp\n",
    "from gismo.filesource import FileSource\n",
    "from gismo.corpus import Corpus\n",
    "from gismo.embedding import Embedding\n",
    "from gismo.gismo import Gismo\n",
    "from gismo.post_processing import print_feature_cluster"
   ]
  },
  {
   "cell_type": "markdown",
   "metadata": {},
   "source": [
    "Then, we prepare the DBLP source."
   ]
  },
  {
   "cell_type": "markdown",
   "metadata": {},
   "source": [
    "First we choose the location of the DBLP files. If you want to run this Notebook at your place, please change the path below and check that it exists."
   ]
  },
  {
   "cell_type": "code",
   "execution_count": 2,
   "metadata": {
    "ExecuteTime": {
     "end_time": "2020-05-13T15:40:23.245150Z",
     "start_time": "2020-05-13T15:40:23.228108Z"
    }
   },
   "outputs": [
    {
     "data": {
      "text/plain": [
       "True"
      ]
     },
     "execution_count": 2,
     "metadata": {},
     "output_type": "execute_result"
    }
   ],
   "source": [
    "path = Path(\"../../../../../Datasets/DBLP\")\n",
    "path.exists()"
   ]
  },
  {
   "cell_type": "markdown",
   "metadata": {},
   "source": [
    "Construction of the dblp files. Only needs to be performed the first time or when you want to refresh the database. Takes about 10 minutes on a Surface Pro 4 with fiber Internet connection."
   ]
  },
  {
   "cell_type": "code",
   "execution_count": 3,
   "metadata": {
    "ExecuteTime": {
     "end_time": "2020-05-13T15:40:24.155782Z",
     "start_time": "2020-05-13T15:40:24.146373Z"
    }
   },
   "outputs": [
    {
     "name": "stdout",
     "output_type": "stream",
     "text": [
      "File ..\\..\\..\\..\\..\\Datasets\\DBLP\\dblp.xml.gz already exists.\n",
      "File ..\\..\\..\\..\\..\\Datasets\\DBLP\\dblp.data already exists.\n"
     ]
    }
   ],
   "source": [
    "dblp = Dblp(path=path)\n",
    "dblp.build()"
   ]
  },
  {
   "cell_type": "markdown",
   "metadata": {},
   "source": [
    "Then, we can load the database as a filesource."
   ]
  },
  {
   "cell_type": "code",
   "execution_count": 4,
   "metadata": {
    "ExecuteTime": {
     "end_time": "2020-05-13T15:40:25.761151Z",
     "start_time": "2020-05-13T15:40:25.726053Z"
    }
   },
   "outputs": [
    {
     "data": {
      "text/plain": [
       "{'type': 'article',\n",
       " 'title': 'Spectre Attacks: Exploiting Speculative Execution.',\n",
       " 'venue': 'meltdownattack.com',\n",
       " 'year': '2018',\n",
       " 'authors': ['Paul Kocher',\n",
       "  'Daniel Genkin',\n",
       "  'Daniel Gruss',\n",
       "  'Werner Haas',\n",
       "  'Mike Hamburg',\n",
       "  'Moritz Lipp',\n",
       "  'Stefan Mangard',\n",
       "  'Thomas Prescher 0002',\n",
       "  'Michael Schwarz 0001',\n",
       "  'Yuval Yarom']}"
      ]
     },
     "execution_count": 4,
     "metadata": {},
     "output_type": "execute_result"
    }
   ],
   "source": [
    "source = FileSource(filename=\"dblp\", path=path)\n",
    "source[0]"
   ]
  },
  {
   "cell_type": "markdown",
   "metadata": {},
   "source": [
    "Each article is a dict with fields ``type``, ``venue``, ``title``, ``year``, and ``authors``. We build a corpus that will tell Gismo that the content of an article is its ``title`` value."
   ]
  },
  {
   "cell_type": "code",
   "execution_count": 5,
   "metadata": {
    "ExecuteTime": {
     "end_time": "2020-05-13T15:40:28.057428Z",
     "start_time": "2020-05-13T15:40:28.052504Z"
    }
   },
   "outputs": [],
   "source": [
    "corpus = Corpus(source, to_text=lambda x: x['title'])"
   ]
  },
  {
   "cell_type": "markdown",
   "metadata": {},
   "source": [
    "We build an embedding on top of that corpus.\n",
    "- We set ``min_df=30`` to exclude rare features;\n",
    "- We set ``max_df=.02`` to exclude anything present in more than 2% of the corpus;\n",
    "- A few manually selected stopwords to fine-tune things.\n",
    "- We set ``ngram_range=[1, 2]`` to include bi-grams in the embedding.\n",
    "\n",
    "This will take a few minutes (you can save the embedding for later if you want)."
   ]
  },
  {
   "cell_type": "code",
   "execution_count": null,
   "metadata": {
    "ExecuteTime": {
     "end_time": "2020-05-13T15:36:28.673959Z",
     "start_time": "2020-05-13T15:36:27.518826Z"
    }
   },
   "outputs": [],
   "source": [
    "vectorizer = CountVectorizer(min_df=30, max_df=.02, ngram_range=[1, 2], dtype=float, \n",
    "                             stop_words=['a', 'about', 'an', 'and', 'for', 'from', 'in', 'of', 'on', 'the', 'with'])\n",
    "embedding = Embedding(vectorizer=vectorizer)\n",
    "\n",
    "try:\n",
    "    embedding.load(filename=\"dblp_embedding\", path=path)\n",
    "except:\n",
    "    embedding.fit_transform(corpus)\n",
    "    embedding.save(filename=\"dblp_embedding\", path=path)"
   ]
  },
  {
   "cell_type": "code",
   "execution_count": null,
   "metadata": {
    "ExecuteTime": {
     "end_time": "2020-05-13T15:36:29.793065Z",
     "start_time": "2020-05-13T15:36:29.786064Z"
    }
   },
   "outputs": [],
   "source": [
    "embedding.x"
   ]
  },
  {
   "cell_type": "markdown",
   "metadata": {},
   "source": [
    "We see from ``embedding.x`` that the embedding links about 5,000,000 documents to 160,000 features. In average, each document is linked to about 10 features."
   ]
  },
  {
   "cell_type": "markdown",
   "metadata": {},
   "source": [
    "Now, we initiate the gismo object, and customize post_processers to ease the display."
   ]
  },
  {
   "cell_type": "code",
   "execution_count": null,
   "metadata": {
    "ExecuteTime": {
     "end_time": "2020-05-13T15:36:32.873590Z",
     "start_time": "2020-05-13T15:36:32.867658Z"
    }
   },
   "outputs": [],
   "source": [
    "gismo = Gismo(corpus, embedding)"
   ]
  },
  {
   "cell_type": "code",
   "execution_count": 10,
   "metadata": {
    "ExecuteTime": {
     "end_time": "2020-05-13T15:40:48.245707Z",
     "start_time": "2020-05-13T15:40:48.233701Z"
    }
   },
   "outputs": [],
   "source": [
    "def post_article(g, i):\n",
    "    dic = g.corpus[i]\n",
    "    authors = \", \".join(dic['authors'])\n",
    "    return f\"{dic['title']} By {authors} ({dic['venue']}, {dic['year']})\"\n",
    "    \n",
    "gismo.post_document = post_article\n",
    "def print_document_cluster(gismo, cluster, depth=\"\"):\n",
    "    sim = cosine_similarity(cluster.vector, gismo.diteration.y_relevance.reshape(1, -1))[0][0]\n",
    "    if len(cluster.children) == 0:\n",
    "        txt = gismo.corpus[cluster.indice][\"title\"]\n",
    "        print(f\"{depth} {txt} \"\n",
    "              f\"(R: {gismo.diteration.x_relevance[cluster.indice]:.2f}; \"\n",
    "              f\"S: {sim:.2f})\")\n",
    "    else:\n",
    "        print(f\"{depth} F: {cluster.focus:.2f}. \"\n",
    "              f\"R: {sum(gismo.diteration.x_relevance[cluster.members]):.2f}. \"\n",
    "              f\"S: {sim:.2f}.\")\n",
    "    for c in cluster.children:\n",
    "        print_document_cluster(gismo, c, depth=depth + '-')\n",
    "gismo.post_document_cluster = print_document_cluster\n",
    "gismo.post_feature_cluster = print_feature_cluster"
   ]
  },
  {
   "cell_type": "markdown",
   "metadata": {},
   "source": [
    "As the dataset is big, we lower the precision of the computation to speed up things a little bit."
   ]
  },
  {
   "cell_type": "code",
   "execution_count": 11,
   "metadata": {
    "ExecuteTime": {
     "end_time": "2020-05-13T15:40:49.941798Z",
     "start_time": "2020-05-13T15:40:49.936798Z"
    }
   },
   "outputs": [],
   "source": [
    "gismo.diteration.n_iter = 2"
   ]
  },
  {
   "cell_type": "markdown",
   "metadata": {},
   "source": [
    "## Machine Learning (and Covid-19) query"
   ]
  },
  {
   "cell_type": "markdown",
   "metadata": {},
   "source": [
    "We perform the query *Machine learning*. The returned ``True`` tells that some of the query features were found in the corpus' features."
   ]
  },
  {
   "cell_type": "code",
   "execution_count": null,
   "metadata": {
    "ExecuteTime": {
     "end_time": "2020-05-13T15:17:06.105273Z",
     "start_time": "2020-05-13T15:17:02.182870Z"
    }
   },
   "outputs": [],
   "source": [
    "gismo.rank(\"Machine Learning\")"
   ]
  },
  {
   "cell_type": "markdown",
   "metadata": {},
   "source": [
    "What are the best articles on *Machine Learning*?"
   ]
  },
  {
   "cell_type": "code",
   "execution_count": null,
   "metadata": {
    "ExecuteTime": {
     "end_time": "2020-05-13T15:17:09.261317Z",
     "start_time": "2020-05-13T15:17:09.233381Z"
    }
   },
   "outputs": [],
   "source": [
    "gismo.get_ranked_documents()"
   ]
  },
  {
   "cell_type": "markdown",
   "metadata": {},
   "source": [
    "OK, this seems to go everywhere. Maybe we can narrow with a more specific request."
   ]
  },
  {
   "cell_type": "code",
   "execution_count": null,
   "metadata": {
    "ExecuteTime": {
     "end_time": "2020-05-13T15:17:15.977831Z",
     "start_time": "2020-05-13T15:17:13.614213Z"
    }
   },
   "outputs": [],
   "source": [
    "gismo.rank(\"Machine Learning and covid-19\")"
   ]
  },
  {
   "cell_type": "code",
   "execution_count": null,
   "metadata": {
    "ExecuteTime": {
     "end_time": "2020-05-13T15:17:17.898272Z",
     "start_time": "2020-05-13T15:17:17.852988Z"
    }
   },
   "outputs": [],
   "source": [
    "gismo.get_ranked_documents()"
   ]
  },
  {
   "cell_type": "markdown",
   "metadata": {},
   "source": [
    "Sounds nice. How are these articles related?"
   ]
  },
  {
   "cell_type": "code",
   "execution_count": null,
   "metadata": {
    "ExecuteTime": {
     "end_time": "2020-05-13T15:19:06.776486Z",
     "start_time": "2020-05-13T15:19:06.743937Z"
    }
   },
   "outputs": [],
   "source": [
    "gismo.get_clustered_ranked_documents(k=10, resolution=.9)"
   ]
  },
  {
   "cell_type": "markdown",
   "metadata": {},
   "source": [
    "OK! Let's decode this: we have:\n",
    "- One single article on gravitional search\n",
    "- A large cluster on applications of ML to X-Ray / CT scan processing\n",
    "- A social cluster\n",
    "- Note that it's not perfect: a Twitter dataset falls in the X-Ray cluster..."
   ]
  },
  {
   "cell_type": "markdown",
   "metadata": {},
   "source": [
    "Now, let's look at the main keywords."
   ]
  },
  {
   "cell_type": "code",
   "execution_count": null,
   "metadata": {
    "ExecuteTime": {
     "end_time": "2020-05-13T15:19:23.514525Z",
     "start_time": "2020-05-13T15:19:23.510533Z"
    }
   },
   "outputs": [],
   "source": [
    "gismo.get_ranked_features(20)"
   ]
  },
  {
   "cell_type": "markdown",
   "metadata": {},
   "source": [
    "Let's organize them."
   ]
  },
  {
   "cell_type": "code",
   "execution_count": null,
   "metadata": {
    "ExecuteTime": {
     "end_time": "2020-05-13T15:19:28.772860Z",
     "start_time": "2020-05-13T15:19:27.452761Z"
    }
   },
   "outputs": [],
   "source": [
    "gismo.get_clustered_ranked_features(20)"
   ]
  },
  {
   "cell_type": "markdown",
   "metadata": {},
   "source": [
    "Rough, very broad analysis:\n",
    "- Covid-19 as a pandemic diseases is a core cluster. As they are more article in DBLP (a computer science database) about ML than CV-19, Gismo focused more on that\n",
    "- X-ray processing seems to be a field of interest\n",
    "- Twitter datasets"
   ]
  },
  {
   "cell_type": "code",
   "execution_count": null,
   "metadata": {
    "ExecuteTime": {
     "end_time": "2020-05-13T15:19:58.690997Z",
     "start_time": "2020-05-13T15:19:58.647998Z"
    }
   },
   "outputs": [],
   "source": [
    "np.dot(gismo.embedding.query_projection(\"Machine learning\")[0], gismo.embedding.y)"
   ]
  },
  {
   "cell_type": "markdown",
   "metadata": {},
   "source": [
    "50,000 articles with an explicit link to machine learning."
   ]
  },
  {
   "cell_type": "code",
   "execution_count": null,
   "metadata": {
    "ExecuteTime": {
     "end_time": "2020-05-13T15:20:00.969445Z",
     "start_time": "2020-05-13T15:20:00.923966Z"
    }
   },
   "outputs": [],
   "source": [
    "np.dot(gismo.embedding.query_projection(\"Covid-19\")[0], gismo.embedding.y)"
   ]
  },
  {
   "cell_type": "markdown",
   "metadata": {},
   "source": [
    "800 articles with an explicit link to covid-19."
   ]
  },
  {
   "cell_type": "markdown",
   "metadata": {},
   "source": [
    "## Authors query"
   ]
  },
  {
   "cell_type": "markdown",
   "metadata": {},
   "source": [
    "Instead of looking at words, we can explore authors and their collaborations."
   ]
  },
  {
   "cell_type": "markdown",
   "metadata": {},
   "source": [
    " We just have to rewire the corpus to output string of authors."
   ]
  },
  {
   "cell_type": "code",
   "execution_count": 6,
   "metadata": {
    "ExecuteTime": {
     "end_time": "2020-05-13T15:40:32.573037Z",
     "start_time": "2020-05-13T15:40:32.566113Z"
    }
   },
   "outputs": [],
   "source": [
    "def to_authors_text(dic):\n",
    "    return \" \".join([a.replace(' ', '_') for a in dic['authors']])\n",
    "corpus = Corpus(source, to_text=to_authors_text)"
   ]
  },
  {
   "cell_type": "markdown",
   "metadata": {},
   "source": [
    "We can build a new embedding on top of this modified corpus. We tell the vectorizer to be stupid: don't preprocess, words are separated spaces.\n",
    "\n",
    "This will take a few minutes (you can save the embedding for later if you want)."
   ]
  },
  {
   "cell_type": "code",
   "execution_count": 7,
   "metadata": {
    "ExecuteTime": {
     "end_time": "2020-05-13T15:40:36.196112Z",
     "start_time": "2020-05-13T15:40:33.726365Z"
    }
   },
   "outputs": [],
   "source": [
    "vectorizer = CountVectorizer(dtype=float,\n",
    "                            preprocessor=lambda x:x, tokenizer=lambda x: x.split(' '))\n",
    "embedding = Embedding(vectorizer=vectorizer)\n",
    "try:\n",
    "    embedding.load(filename=\"dblp_aut_embedding\", path=path)\n",
    "except:\n",
    "    embedding.fit_transform(corpus)\n",
    "    embedding.save(filename=\"dblp_aut_embedding\", path=path)"
   ]
  },
  {
   "cell_type": "code",
   "execution_count": 8,
   "metadata": {
    "ExecuteTime": {
     "end_time": "2020-05-13T15:40:36.203025Z",
     "start_time": "2020-05-13T15:40:36.198025Z"
    }
   },
   "outputs": [
    {
     "data": {
      "text/plain": [
       "<4889758x2532137 sparse matrix of type '<class 'numpy.float64'>'\n",
       "\twith 15083911 stored elements in Compressed Sparse Row format>"
      ]
     },
     "execution_count": 8,
     "metadata": {},
     "output_type": "execute_result"
    }
   ],
   "source": [
    "embedding.x"
   ]
  },
  {
   "cell_type": "markdown",
   "metadata": {},
   "source": [
    "We now have about 2,500,000 authors to explore. Let's reload gismo and try Fabien Mathieu."
   ]
  },
  {
   "cell_type": "code",
   "execution_count": 12,
   "metadata": {
    "ExecuteTime": {
     "end_time": "2020-05-13T15:40:56.245225Z",
     "start_time": "2020-05-13T15:40:56.225780Z"
    }
   },
   "outputs": [],
   "source": [
    "gismo = Gismo(corpus, embedding)\n",
    "gismo.post_document = post_article\n",
    "gismo.post_feature = lambda g, i: g.embedding.features[i].replace(\"_\", \" \")\n",
    "\n",
    "def print_document_cluster(gismo, cluster, depth=\"\"):\n",
    "    sim = cosine_similarity(cluster.vector, gismo.diteration.y_relevance.reshape(1, -1))[0][0]\n",
    "    if len(cluster.children) == 0:\n",
    "        dic = gismo.corpus[cluster.indice]\n",
    "        authors = \", \".join(dic['authors'])\n",
    "        txt = f\"{authors} ({dic['venue']}, {dic['year']})\"\n",
    "        #post_article(gismo, cluster.indice)\n",
    "        print(f\"{depth} {txt} \")\n",
    "         #     f\"(R: {gismo.diteration.x_relevance[cluster.indice]:.2f}; \"\n",
    "          #    f\"S: {sim:.2f})\")\n",
    "    else:\n",
    "        print(f\"{depth} F: {cluster.focus:.2f}. \"\n",
    "              f\"R: {sum(gismo.diteration.x_relevance[cluster.members]):.2f}. \"\n",
    "              f\"S: {sim:.2f}.\")\n",
    "    for c in cluster.children:\n",
    "        print_document_cluster(gismo, c, depth=depth + '-')\n",
    "gismo.post_document_cluster = print_document_cluster\n",
    "\n",
    "\n",
    "gismo.post_document_cluster = print_document_cluster\n",
    "gismo.post_feature_cluster = print_feature_cluster"
   ]
  },
  {
   "cell_type": "markdown",
   "metadata": {},
   "source": [
    "### Laurent Massoulié query"
   ]
  },
  {
   "cell_type": "code",
   "execution_count": 13,
   "metadata": {
    "ExecuteTime": {
     "end_time": "2020-05-13T15:41:01.095746Z",
     "start_time": "2020-05-13T15:40:57.497863Z"
    }
   },
   "outputs": [
    {
     "data": {
      "text/plain": [
       "True"
      ]
     },
     "execution_count": 13,
     "metadata": {},
     "output_type": "execute_result"
    }
   ],
   "source": [
    "gismo.diteration.offset = 1\n",
    "gismo.rank(\"Laurent_Massoulié\")"
   ]
  },
  {
   "cell_type": "markdown",
   "metadata": {},
   "source": [
    "What are the most central articles of Laurent Massoulié in terms of collaboration?"
   ]
  },
  {
   "cell_type": "code",
   "execution_count": 14,
   "metadata": {
    "ExecuteTime": {
     "end_time": "2020-05-13T15:41:01.918801Z",
     "start_time": "2020-05-13T15:41:01.913542Z"
    }
   },
   "outputs": [
    {
     "data": {
      "text/plain": [
       "['Robustness of Spectral Methods for Community Detection. By Ludovic Stephan, Laurent Massoulié (COLT, 2019)',\n",
       " 'Robustness of spectral methods for community detection. By Ludovic Stephan, Laurent Massoulié (CoRR, 2018)',\n",
       " 'From tree matching to sparse graph alignment. By Luca Ganassali, Laurent Massoulié (CoRR, 2020)',\n",
       " 'Spectral alignment of correlated Gaussian random matrices. By Luca Ganassali, Marc Lelarge, Laurent Massoulié (CoRR, 2019)',\n",
       " 'Planting trees in graphs, and finding them back. By Laurent Massoulié, Ludovic Stephan, Don Towsley (COLT, 2019)',\n",
       " 'Brief announcement: adaptive content placement for peer-to-peer video-on-demand systems. By Bo Tan 0002, Laurent Massoulié (PODC, 2010)',\n",
       " 'Optimal content placement for peer-to-peer video-on-demand systems. By Bo Tan 0002, Laurent Massoulié (INFOCOM, 2011)',\n",
       " 'Optimal Content Placement for Peer-to-Peer Video-on-Demand Systems. By Bo Tan 0002, Laurent Massoulié (IEEE/ACM Trans. Netw., 2013)',\n",
       " 'Scalable Local Area Service Discovery. By Richard Black, Heimir Sverrisson, Laurent Massoulié (ICC, 2007)',\n",
       " 'Non-Backtracking Spectrum of Degree-Corrected Stochastic Block Models. By Lennart Gulikers, Marc Lelarge, Laurent Massoulié (CoRR, 2016)']"
      ]
     },
     "execution_count": 14,
     "metadata": {},
     "output_type": "execute_result"
    }
   ],
   "source": [
    "gismo.get_ranked_documents(k=10)"
   ]
  },
  {
   "cell_type": "markdown",
   "metadata": {},
   "source": [
    "We see lots of duplicates. This is not surprising as many articles can published first as a research report, then as a conference paper, last as a journal article. Luckily, Gismo can cover for you."
   ]
  },
  {
   "cell_type": "code",
   "execution_count": 15,
   "metadata": {
    "ExecuteTime": {
     "end_time": "2020-05-13T15:41:03.938986Z",
     "start_time": "2020-05-13T15:41:03.876283Z"
    }
   },
   "outputs": [
    {
     "data": {
      "text/plain": [
       "['Robustness of Spectral Methods for Community Detection. By Ludovic Stephan, Laurent Massoulié (COLT, 2019)',\n",
       " 'Scalable Local Area Service Discovery. By Richard Black, Heimir Sverrisson, Laurent Massoulié (ICC, 2007)',\n",
       " 'From tree matching to sparse graph alignment. By Luca Ganassali, Laurent Massoulié (CoRR, 2020)',\n",
       " 'Non-Backtracking Spectrum of Degree-Corrected Stochastic Block Models. By Lennart Gulikers, Marc Lelarge, Laurent Massoulié (CoRR, 2016)',\n",
       " 'Asynchronous Accelerated Proximal Stochastic Gradient for Strongly Convex Distributed Finite Sums. By Hadrien Hendrikx, Francis Bach, Laurent Massoulié (CoRR, 2019)',\n",
       " 'Non-Metric Coordinates for Predicting Network Proximity. By Peter B. Key, Laurent Massoulié, Dan-Cristian Tomozei (INFOCOM, 2008)',\n",
       " 'Planting trees in graphs, and finding them back. By Laurent Massoulié, Ludovic Stephan, Don Towsley (COLT, 2019)',\n",
       " 'Brief announcement: adaptive content placement for peer-to-peer video-on-demand systems. By Bo Tan 0002, Laurent Massoulié (PODC, 2010)',\n",
       " 'Rapid Mixing of Local Graph Dynamics. By Laurent Massoulié, Rémi Varloot (CoRR, 2017)',\n",
       " 'ISP Friend or Foe? Making P2P Live Streaming ISP-Aware. By Fabio Picconi, Laurent Massoulié (ICDCS, 2009)']"
      ]
     },
     "execution_count": 15,
     "metadata": {},
     "output_type": "execute_result"
    }
   ],
   "source": [
    "gismo.get_covering_documents(k=10, stretch=3)"
   ]
  },
  {
   "cell_type": "markdown",
   "metadata": {},
   "source": [
    "Sounds nice. Let's observe the communities?"
   ]
  },
  {
   "cell_type": "code",
   "execution_count": 17,
   "metadata": {
    "ExecuteTime": {
     "end_time": "2020-05-13T15:41:17.650013Z",
     "start_time": "2020-05-13T15:41:16.955937Z"
    }
   },
   "outputs": [
    {
     "name": "stdout",
     "output_type": "stream",
     "text": [
      " F: 0.36. R: 0.09. S: 0.87.\n",
      "- F: 0.36. R: 0.08. S: 0.86.\n",
      "-- F: 0.36. R: 0.06. S: 0.83.\n",
      "--- F: 0.36. R: 0.03. S: 0.73.\n",
      "---- F: 0.88. R: 0.01. S: 0.60.\n",
      "----- F: 1.00. R: 0.01. S: 0.60.\n",
      "------ Ludovic Stephan, Laurent Massoulié (COLT, 2019) \n",
      "------ Ludovic Stephan, Laurent Massoulié (CoRR, 2018) \n",
      "----- Laurent Massoulié, Ludovic Stephan, Don Towsley (COLT, 2019) \n",
      "---- F: 1.00. R: 0.01. S: 0.61.\n",
      "----- Bo Tan 0002, Laurent Massoulié (PODC, 2010) \n",
      "----- Bo Tan 0002, Laurent Massoulié (INFOCOM, 2011) \n",
      "----- Bo Tan 0002, Laurent Massoulié (IEEE/ACM Trans. Netw., 2013) \n",
      "--- F: 0.41. R: 0.03. S: 0.69.\n",
      "---- F: 0.86. R: 0.01. S: 0.59.\n",
      "----- Luca Ganassali, Laurent Massoulié (CoRR, 2020) \n",
      "----- Luca Ganassali, Marc Lelarge, Laurent Massoulié (CoRR, 2019) \n",
      "---- F: 0.61. R: 0.03. S: 0.60.\n",
      "----- F: 1.00. R: 0.02. S: 0.59.\n",
      "------ Lennart Gulikers, Marc Lelarge, Laurent Massoulié (CoRR, 2016) \n",
      "------ Lennart Gulikers, Marc Lelarge, Laurent Massoulié (CoRR, 2015) \n",
      "------ Lennart Gulikers, Marc Lelarge, Laurent Massoulié (CoRR, 2015) \n",
      "------ Lennart Gulikers, Marc Lelarge, Laurent Massoulié (ITCS, 2017) \n",
      "----- F: 1.00. R: 0.01. S: 0.47.\n",
      "------ Virag Shah, Lennart Gulikers, Laurent Massoulié, Milan Vojnovic (Allerton, 2017) \n",
      "------ Virag Shah, Lennart Gulikers, Laurent Massoulié, Milan Vojnovic (CoRR, 2017) \n",
      "-- F: 1.00. R: 0.02. S: 0.55.\n",
      "--- Hadrien Hendrikx, Francis Bach, Laurent Massoulié (CoRR, 2019) \n",
      "--- Hadrien Hendrikx, Francis Bach, Laurent Massoulié (CoRR, 2019) \n",
      "--- Hadrien Hendrikx, Francis Bach, Laurent Massoulié (AISTATS, 2019) \n",
      "--- Hadrien Hendrikx, Laurent Massoulié, Francis Bach (CoRR, 2018) \n",
      "--- Hadrien Hendrikx, Francis Bach, Laurent Massoulié (NeurIPS, 2019) \n",
      "- Richard Black, Heimir Sverrisson, Laurent Massoulié (ICC, 2007) \n"
     ]
    }
   ],
   "source": [
    "gismo.get_clustered_ranked_documents(k=20, resolution=.9)"
   ]
  },
  {
   "cell_type": "markdown",
   "metadata": {},
   "source": [
    "OK! We see writing commnities."
   ]
  },
  {
   "cell_type": "markdown",
   "metadata": {},
   "source": [
    "Now, let's look in terms of authors. This is actually the interesting part when studying collaborations. So far, the top articles do not seem to be very informative in the author space."
   ]
  },
  {
   "cell_type": "code",
   "execution_count": 18,
   "metadata": {
    "ExecuteTime": {
     "end_time": "2020-05-13T15:43:20.557389Z",
     "start_time": "2020-05-13T15:43:20.548476Z"
    }
   },
   "outputs": [
    {
     "data": {
      "text/plain": [
       "['Laurent Massoulié',\n",
       " 'Marc Lelarge',\n",
       " 'Stratis Ioannidis',\n",
       " 'Nidhi Hegde',\n",
       " 'Peter B. Key',\n",
       " 'Anne-Marie Kermarrec',\n",
       " 'Ayalvadi J. Ganesh',\n",
       " 'Lennart Gulikers',\n",
       " 'Hadrien Hendrikx',\n",
       " 'Francis Bach',\n",
       " 'Dan-Cristian Tomozei',\n",
       " 'Amin Karbasi',\n",
       " 'Milan Vojnovic',\n",
       " 'Augustin Chaintreau',\n",
       " 'Mathieu Leconte',\n",
       " 'Bo Tan 0002',\n",
       " 'James Roberts',\n",
       " 'Ludovic Stephan',\n",
       " 'Kuang Xu',\n",
       " 'Fabio Picconi']"
      ]
     },
     "execution_count": 18,
     "metadata": {},
     "output_type": "execute_result"
    }
   ],
   "source": [
    "gismo.get_ranked_features()"
   ]
  },
  {
   "cell_type": "markdown",
   "metadata": {},
   "source": [
    "We see many authors that were not present in the articles listed above. This is an important observation: central articles (with respect to a query) are not necessarily written by central authors!\n",
    "\n",
    "Let's organize them into communities."
   ]
  },
  {
   "cell_type": "code",
   "execution_count": 20,
   "metadata": {
    "ExecuteTime": {
     "end_time": "2020-05-13T15:43:33.932965Z",
     "start_time": "2020-05-13T15:43:32.658806Z"
    }
   },
   "outputs": [
    {
     "name": "stdout",
     "output_type": "stream",
     "text": [
      " F: 0.01. R: 0.21. S: 0.59.\n",
      "- F: 0.02. R: 0.21. S: 0.58.\n",
      "-- F: 0.03. R: 0.20. S: 0.63.\n",
      "--- F: 0.13. R: 0.19. S: 0.59.\n",
      "---- F: 0.27. R: 0.13. S: 0.80.\n",
      "----- F: 0.32. R: 0.11. S: 0.84.\n",
      "------ Laurent_Massoulié (R: 0.10; S: 1.00)\n",
      "------ Nidhi_Hegde (R: 0.01; S: 0.32)\n",
      "----- F: 0.37. R: 0.02. S: 0.33.\n",
      "------ F: 0.59. R: 0.02. S: 0.33.\n",
      "------- Stratis_Ioannidis (R: 0.01; S: 0.34)\n",
      "------- Amin_Karbasi (R: 0.00; S: 0.20)\n",
      "------ Augustin_Chaintreau (R: 0.00; S: 0.20)\n",
      "---- F: 0.53. R: 0.02. S: 0.26.\n",
      "----- Marc_Lelarge (R: 0.01; S: 0.35)\n",
      "----- Mathieu_Leconte (R: 0.00; S: 0.19)\n",
      "---- Peter_B._Key (R: 0.01; S: 0.28)\n",
      "---- F: 0.62. R: 0.01. S: 0.28.\n",
      "----- Anne-Marie_Kermarrec (R: 0.01; S: 0.30)\n",
      "----- Ayalvadi_J._Ganesh (R: 0.01; S: 0.27)\n",
      "---- F: 0.36. R: 0.01. S: 0.23.\n",
      "----- Lennart_Gulikers (R: 0.00; S: 0.22)\n",
      "----- Milan_Vojnovic (R: 0.00; S: 0.19)\n",
      "---- Dan-Cristian_Tomozei (R: 0.00; S: 0.17)\n",
      "--- F: 0.94. R: 0.01. S: 0.21.\n",
      "---- Hadrien_Hendrikx (R: 0.00; S: 0.21)\n",
      "---- Francis_Bach (R: 0.00; S: 0.23)\n",
      "--- Fabio_Picconi (R: 0.00; S: 0.15)\n",
      "-- Bo_Tan_0002 (R: 0.00; S: 0.16)\n",
      "-- James_Roberts (R: 0.00; S: 0.17)\n",
      "-- Ludovic_Stephan (R: 0.00; S: 0.16)\n",
      "- Kuang_Xu (R: 0.00; S: 0.14)\n"
     ]
    }
   ],
   "source": [
    "gismo.get_clustered_ranked_features()"
   ]
  },
  {
   "cell_type": "markdown",
   "metadata": {},
   "source": [
    "### Jim Roberts  query"
   ]
  },
  {
   "cell_type": "code",
   "execution_count": 21,
   "metadata": {
    "ExecuteTime": {
     "end_time": "2020-05-13T15:43:54.093347Z",
     "start_time": "2020-05-13T15:43:53.186735Z"
    }
   },
   "outputs": [
    {
     "data": {
      "text/plain": [
       "True"
      ]
     },
     "execution_count": 21,
     "metadata": {},
     "output_type": "execute_result"
    }
   ],
   "source": [
    "gismo.rank(\"James_W._Roberts\")"
   ]
  },
  {
   "cell_type": "markdown",
   "metadata": {},
   "source": [
    "Who are the associated authors?"
   ]
  },
  {
   "cell_type": "code",
   "execution_count": 22,
   "metadata": {
    "ExecuteTime": {
     "end_time": "2020-05-13T15:43:55.497312Z",
     "start_time": "2020-05-13T15:43:55.487795Z"
    }
   },
   "outputs": [
    {
     "data": {
      "text/plain": [
       "['James W. Roberts',\n",
       " 'Thomas Bonald',\n",
       " 'Maher Hamdi',\n",
       " 'Sara Oueslati-Boulahia',\n",
       " 'Ali Ibrahim',\n",
       " 'Alexandre Proutière',\n",
       " 'Sara Oueslati',\n",
       " 'Jorma T. Virtamo',\n",
       " 'Slim Ben Fredj',\n",
       " 'Jussi Kangasharju',\n",
       " 'Keith W. Ross',\n",
       " 'Brahim Bensaou',\n",
       " 'Alain Simonian',\n",
       " 'Nabil Benameur',\n",
       " 'Abdesselem Kortebi',\n",
       " 'Zbigniew Dziong',\n",
       " 'Luca Muscariello',\n",
       " 'Craig Stevenson',\n",
       " 'Y. Canetti',\n",
       " 'Philippe Olivier',\n",
       " 'Kevin Beanland']"
      ]
     },
     "execution_count": 22,
     "metadata": {},
     "output_type": "execute_result"
    }
   ],
   "source": [
    "gismo.get_ranked_features()"
   ]
  },
  {
   "cell_type": "markdown",
   "metadata": {},
   "source": [
    "Let's organize them."
   ]
  },
  {
   "cell_type": "code",
   "execution_count": 23,
   "metadata": {
    "ExecuteTime": {
     "end_time": "2020-05-13T15:43:59.022491Z",
     "start_time": "2020-05-13T15:43:57.576589Z"
    }
   },
   "outputs": [
    {
     "name": "stdout",
     "output_type": "stream",
     "text": [
      " F: 0.01. R: 0.28. S: 0.51.\n",
      "- F: 0.02. R: 0.28. S: 0.51.\n",
      "-- F: 0.02. R: 0.26. S: 0.48.\n",
      "--- F: 0.02. R: 0.25. S: 0.47.\n",
      "---- F: 0.03. R: 0.24. S: 0.46.\n",
      "----- F: 0.27. R: 0.21. S: 0.42.\n",
      "------ F: 0.30. R: 0.19. S: 0.97.\n",
      "------- F: 0.66. R: 0.17. S: 0.99.\n",
      "-------- James_W._Roberts (R: 0.12; S: 1.00)\n",
      "-------- Thomas_Bonald (R: 0.05; S: 0.66)\n",
      "------- Ali_Ibrahim (R: 0.01; S: 0.28)\n",
      "------- Alexandre_Proutière (R: 0.01; S: 0.29)\n",
      "------ F: 0.83. R: 0.02. S: 0.32.\n",
      "------- Sara_Oueslati-Boulahia (R: 0.01; S: 0.32)\n",
      "------- Slim_Ben_Fredj (R: 0.01; S: 0.32)\n",
      "------- Nabil_Benameur (R: 0.00; S: 0.27)\n",
      "----- Maher_Hamdi (R: 0.01; S: 0.29)\n",
      "----- F: 0.80. R: 0.02. S: 0.28.\n",
      "------ Sara_Oueslati (R: 0.01; S: 0.28)\n",
      "------ F: 1.00. R: 0.01. S: 0.23.\n",
      "------- Abdesselem_Kortebi (R: 0.00; S: 0.23)\n",
      "------- Luca_Muscariello (R: 0.00; S: 0.23)\n",
      "---- F: 0.47. R: 0.01. S: 0.26.\n",
      "----- Jorma_T._Virtamo (R: 0.01; S: 0.23)\n",
      "----- Alain_Simonian (R: 0.00; S: 0.23)\n",
      "--- F: 1.00. R: 0.01. S: 0.22.\n",
      "---- Jussi_Kangasharju (R: 0.01; S: 0.22)\n",
      "---- Keith_W._Ross (R: 0.01; S: 0.22)\n",
      "--- Philippe_Olivier (R: 0.00; S: 0.16)\n",
      "-- F: 0.74. R: 0.01. S: 0.18.\n",
      "--- Brahim_Bensaou (R: 0.00; S: 0.24)\n",
      "--- Y._Canetti (R: 0.00; S: 0.18)\n",
      "-- F: 1.00. R: 0.01. S: 0.18.\n",
      "--- Craig_Stevenson (R: 0.00; S: 0.18)\n",
      "--- Kevin_Beanland (R: 0.00; S: 0.18)\n",
      "- Zbigniew_Dziong (R: 0.00; S: 0.16)\n"
     ]
    }
   ],
   "source": [
    "gismo.get_clustered_ranked_features()"
   ]
  },
  {
   "cell_type": "markdown",
   "metadata": {},
   "source": [
    "### Combined queries"
   ]
  },
  {
   "cell_type": "markdown",
   "metadata": {},
   "source": [
    "We can input multiple authors."
   ]
  },
  {
   "cell_type": "code",
   "execution_count": 24,
   "metadata": {
    "ExecuteTime": {
     "end_time": "2020-05-13T15:44:11.823420Z",
     "start_time": "2020-05-13T15:44:09.999416Z"
    }
   },
   "outputs": [
    {
     "data": {
      "text/plain": [
       "True"
      ]
     },
     "execution_count": 24,
     "metadata": {},
     "output_type": "execute_result"
    }
   ],
   "source": [
    "gismo.rank(\"Laurent_Massoulié and James_W._Roberts\")"
   ]
  },
  {
   "cell_type": "markdown",
   "metadata": {},
   "source": [
    "Now, let's look at the main authors."
   ]
  },
  {
   "cell_type": "code",
   "execution_count": 25,
   "metadata": {
    "ExecuteTime": {
     "end_time": "2020-05-13T15:44:13.255932Z",
     "start_time": "2020-05-13T15:44:13.247930Z"
    }
   },
   "outputs": [
    {
     "data": {
      "text/plain": [
       "['James W. Roberts',\n",
       " 'Laurent Massoulié',\n",
       " 'Thomas Bonald',\n",
       " 'Nidhi Hegde',\n",
       " 'Maher Hamdi',\n",
       " 'Marc Lelarge',\n",
       " 'Stratis Ioannidis',\n",
       " 'Alexandre Proutière',\n",
       " 'Sara Oueslati-Boulahia',\n",
       " 'Ali Ibrahim',\n",
       " 'Peter B. Key',\n",
       " 'Jorma T. Virtamo',\n",
       " 'Sara Oueslati',\n",
       " 'Anne-Marie Kermarrec',\n",
       " 'Ayalvadi J. Ganesh',\n",
       " 'Slim Ben Fredj']"
      ]
     },
     "execution_count": 25,
     "metadata": {},
     "output_type": "execute_result"
    }
   ],
   "source": [
    "gismo.get_ranked_features()"
   ]
  },
  {
   "cell_type": "markdown",
   "metadata": {},
   "source": [
    "We see a mix of both co-authors. How are they organized?"
   ]
  },
  {
   "cell_type": "code",
   "execution_count": 26,
   "metadata": {
    "ExecuteTime": {
     "end_time": "2020-05-13T15:44:18.687378Z",
     "start_time": "2020-05-13T15:44:17.607292Z"
    }
   },
   "outputs": [
    {
     "name": "stdout",
     "output_type": "stream",
     "text": [
      " F: 0.00. R: 0.20. S: 0.53.\n",
      "- F: 0.03. R: 0.13. S: 0.52.\n",
      "-- F: 0.04. R: 0.13. S: 0.51.\n",
      "--- F: 0.10. R: 0.12. S: 0.47.\n",
      "---- F: 0.31. R: 0.11. S: 0.46.\n",
      "----- F: 0.66. R: 0.09. S: 0.91.\n",
      "------ James_W._Roberts (R: 0.06; S: 0.91)\n",
      "------ Thomas_Bonald (R: 0.03; S: 0.61)\n",
      "----- F: 0.70. R: 0.01. S: 0.32.\n",
      "------ Sara_Oueslati-Boulahia (R: 0.00; S: 0.29)\n",
      "------ Slim_Ben_Fredj (R: 0.00; S: 0.29)\n",
      "----- Ali_Ibrahim (R: 0.00; S: 0.26)\n",
      "---- F: 0.42. R: 0.01. S: 0.25.\n",
      "----- Nidhi_Hegde (R: 0.01; S: 0.20)\n",
      "----- Alexandre_Proutière (R: 0.01; S: 0.27)\n",
      "--- Maher_Hamdi (R: 0.01; S: 0.26)\n",
      "--- Sara_Oueslati (R: 0.00; S: 0.26)\n",
      "-- Jorma_T._Virtamo (R: 0.00; S: 0.21)\n",
      "- F: 0.19. R: 0.07. S: 0.32.\n",
      "-- F: 0.34. R: 0.06. S: 0.37.\n",
      "--- Laurent_Massoulié (R: 0.05; S: 0.40)\n",
      "--- Marc_Lelarge (R: 0.01; S: 0.14)\n",
      "--- Stratis_Ioannidis (R: 0.01; S: 0.14)\n",
      "-- Peter_B._Key (R: 0.00; S: 0.11)\n",
      "-- F: 0.62. R: 0.01. S: 0.11.\n",
      "--- Anne-Marie_Kermarrec (R: 0.00; S: 0.12)\n",
      "--- Ayalvadi_J._Ganesh (R: 0.00; S: 0.11)\n"
     ]
    }
   ],
   "source": [
    "gismo.get_clustered_ranked_features()"
   ]
  },
  {
   "cell_type": "markdown",
   "metadata": {},
   "source": [
    "Rough analysis:\n",
    "- One cluster centered around Jim\n",
    "- One cluster centered around Laurent\n",
    "- One subcluster with high focus that relates Nidhi (Laurent's top 10) and Alexandre (Jim's top 10). As expected, they have a strong collaboration history!"
   ]
  },
  {
   "cell_type": "markdown",
   "metadata": {},
   "source": [
    "## Cross-gismo"
   ]
  },
  {
   "cell_type": "markdown",
   "metadata": {},
   "source": [
    "To be done."
   ]
  },
  {
   "cell_type": "markdown",
   "metadata": {},
   "source": [
    "Don't forget to close the source when you're done (the source keeps the ``dblp.data`` file open)."
   ]
  },
  {
   "cell_type": "code",
   "execution_count": 27,
   "metadata": {
    "ExecuteTime": {
     "end_time": "2020-05-13T15:45:49.078514Z",
     "start_time": "2020-05-13T15:45:49.073596Z"
    }
   },
   "outputs": [],
   "source": [
    "source.close()"
   ]
  }
 ],
 "metadata": {
  "kernelspec": {
   "display_name": "Python 3",
   "language": "python",
   "name": "python3"
  },
  "language_info": {
   "codemirror_mode": {
    "name": "ipython",
    "version": 3
   },
   "file_extension": ".py",
   "mimetype": "text/x-python",
   "name": "python",
   "nbconvert_exporter": "python",
   "pygments_lexer": "ipython3",
   "version": "3.7.7"
  },
  "toc": {
   "base_numbering": 1,
   "nav_menu": {},
   "number_sections": true,
   "sideBar": true,
   "skip_h1_title": true,
   "title_cell": "Table of Contents",
   "title_sidebar": "Contents",
   "toc_cell": false,
   "toc_position": {},
   "toc_section_display": true,
   "toc_window_display": true
  }
 },
 "nbformat": 4,
 "nbformat_minor": 4
}
