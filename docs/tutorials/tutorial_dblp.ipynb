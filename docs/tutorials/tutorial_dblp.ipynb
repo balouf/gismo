{
 "cells": [
  {
   "cell_type": "markdown",
   "metadata": {},
   "source": [
    "# DBLP exploration"
   ]
  },
  {
   "cell_type": "markdown",
   "metadata": {},
   "source": [
    "This tutorial shows how explore DBLP with Gismo.\n",
    "\n",
    "If you have never used Gismo before, you may want to start with the *Toy example tutorial* or the *ACM* tutorial.\n",
    "\n",
    "Note: the DBLP databased is not small. Recommended requirements to excute this Notebook:\n",
    "- Fast Internet connection (you will need to download a few hundred Mb)\n",
    "- 4 Gb of free space\n",
    "- 4 Gb of RAM (8Gb or more recommended)\n",
    "- Descent CPU (can take more than one hour on slow CPUs)\n",
    "\n",
    "Here, *documents* are articles in DBLP. The *features* of an article category will vary."
   ]
  },
  {
   "cell_type": "markdown",
   "metadata": {},
   "source": [
    "## Initialisation"
   ]
  },
  {
   "cell_type": "markdown",
   "metadata": {},
   "source": [
    "First, we load the required packages."
   ]
  },
  {
   "cell_type": "code",
   "execution_count": 1,
   "metadata": {
    "ExecuteTime": {
     "end_time": "2022-12-27T16:07:11.302826Z",
     "start_time": "2022-12-27T16:07:04.752286Z"
    }
   },
   "outputs": [],
   "source": [
    "import numpy as np\n",
    "import spacy\n",
    "from sklearn.feature_extraction.text import CountVectorizer\n",
    "from sklearn.metrics.pairwise import cosine_similarity\n",
    "from pathlib import Path\n",
    "from functools import partial\n",
    "\n",
    "from gismo.datasets.dblp import Dblp\n",
    "from gismo.filesource import FileSource\n",
    "from gismo.corpus import Corpus\n",
    "from gismo.embedding import Embedding\n",
    "from gismo.gismo import Gismo\n",
    "from gismo.post_processing import post_features_cluster_print, post_documents_cluster_print"
   ]
  },
  {
   "cell_type": "markdown",
   "metadata": {},
   "source": [
    "Then, we prepare the DBLP source."
   ]
  },
  {
   "cell_type": "markdown",
   "metadata": {},
   "source": [
    "First we choose the location of the DBLP files. If you want to run this Notebook at your place, please change the path below and check that it exists."
   ]
  },
  {
   "cell_type": "code",
   "execution_count": 2,
   "metadata": {
    "ExecuteTime": {
     "end_time": "2022-12-27T16:07:11.348723Z",
     "start_time": "2022-12-27T16:07:11.309854Z"
    }
   },
   "outputs": [
    {
     "data": {
      "text/plain": [
       "True"
      ]
     },
     "execution_count": 2,
     "metadata": {},
     "output_type": "execute_result"
    }
   ],
   "source": [
    "path = Path(\"../../../../../../Datasets/DBLP\")\n",
    "path.exists()"
   ]
  },
  {
   "cell_type": "markdown",
   "metadata": {},
   "source": [
    "Construction of the dblp files. Only needs to be performed the first time or when you want to refresh the database. Takes about 10 minutes on a Surface Pro 4 with fiber Internet connection."
   ]
  },
  {
   "cell_type": "code",
   "execution_count": 3,
   "metadata": {
    "ExecuteTime": {
     "end_time": "2022-12-27T16:07:11.364310Z",
     "start_time": "2022-12-27T16:07:11.351716Z"
    }
   },
   "outputs": [
    {
     "name": "stdout",
     "output_type": "stream",
     "text": [
      "File ..\\..\\..\\..\\..\\..\\Datasets\\DBLP\\dblp.xml.gz already exists. Use refresh option to overwrite.\n",
      "File ..\\..\\..\\..\\..\\..\\Datasets\\DBLP\\dblp.data already exists. Use refresh option to overwrite.\n"
     ]
    }
   ],
   "source": [
    "dblp = Dblp(path=path)\n",
    "dblp.build()"
   ]
  },
  {
   "cell_type": "markdown",
   "metadata": {},
   "source": [
    "Then, we can load the database as a filesource."
   ]
  },
  {
   "cell_type": "code",
   "execution_count": 4,
   "metadata": {
    "ExecuteTime": {
     "end_time": "2022-12-27T16:07:11.410346Z",
     "start_time": "2022-12-27T16:07:11.368313Z"
    }
   },
   "outputs": [
    {
     "data": {
      "text/plain": [
       "{'type': 'article',\n",
       " 'authors': ['Paul Kocher',\n",
       "  'Daniel Genkin',\n",
       "  'Daniel Gruss',\n",
       "  'Werner Haas 0004',\n",
       "  'Mike Hamburg',\n",
       "  'Moritz Lipp',\n",
       "  'Stefan Mangard',\n",
       "  'Thomas Prescher 0002',\n",
       "  'Michael Schwarz 0001',\n",
       "  'Yuval Yarom'],\n",
       " 'title': 'Spectre Attacks: Exploiting Speculative Execution.',\n",
       " 'venue': 'meltdownattack.com',\n",
       " 'year': '2018'}"
      ]
     },
     "execution_count": 4,
     "metadata": {},
     "output_type": "execute_result"
    }
   ],
   "source": [
    "source = FileSource(filename=\"dblp\", path=path)\n",
    "source[0]"
   ]
  },
  {
   "cell_type": "markdown",
   "metadata": {},
   "source": [
    "Each article is a dict with fields ``type``, ``venue``, ``title``, ``year``, and ``authors``. We build a corpus that will tell Gismo that the content of an article is its ``title`` value."
   ]
  },
  {
   "cell_type": "code",
   "execution_count": 5,
   "metadata": {
    "ExecuteTime": {
     "end_time": "2022-12-27T16:07:11.426188Z",
     "start_time": "2022-12-27T16:07:11.416190Z"
    }
   },
   "outputs": [],
   "source": [
    "corpus = Corpus(source, to_text=lambda x: x['title'])"
   ]
  },
  {
   "cell_type": "markdown",
   "metadata": {},
   "source": [
    "We build an embedding on top of that corpus.\n",
    "- We set ``min_df=30`` to exclude rare features;\n",
    "- We set ``max_df=.02`` to exclude anything present in more than 2% of the corpus;\n",
    "- We use `spacy` to lemmatize & remove some stopwords; remove `preprocessor=...` from the input if you want to skip this (takes time);\n",
    "- A few manually selected stopwords to fine-tune things.\n",
    "- We set ``ngram_range=(1, 2)`` to include bi-grams in the embedding.\n",
    "\n",
    "This will take a few minutes (without spacy) up to a few hours (with spacy enabled). You can save the embedding for later if you want."
   ]
  },
  {
   "cell_type": "code",
   "execution_count": 6,
   "metadata": {
    "ExecuteTime": {
     "end_time": "2022-12-27T16:07:22.415834Z",
     "start_time": "2022-12-27T16:07:11.434709Z"
    }
   },
   "outputs": [],
   "source": [
    "nlp = spacy.load('en_core_web_sm', disable=['parser', 'ner'])\n",
    "keep = {'ADJ', 'NOUN', 'NUM', 'PROPN', 'SYM', 'VERB'}\n",
    "vectorizer = CountVectorizer(min_df=30, max_df=.02, ngram_range=(1, 2), dtype=float,\n",
    "                             preprocessor=lambda txt: \" \".join([w.lemma_.lower() for w in nlp(txt) \n",
    "                                                                if w.pos_ in keep and not w.is_stop]),\n",
    "                             stop_words=['a', 'about', 'an', 'and', 'for', 'from', 'in', 'of', 'on', 'the', 'with'])\n",
    "\n",
    "try:\n",
    "    embedding = Embedding.load(filename=\"dblp_embedding\", path=path)\n",
    "except:\n",
    "    embedding = Embedding(vectorizer=vectorizer)\n",
    "    embedding.fit_transform(corpus)\n",
    "    embedding.dump(filename=\"dblp_embedding\", path=path)"
   ]
  },
  {
   "cell_type": "code",
   "execution_count": 7,
   "metadata": {
    "ExecuteTime": {
     "end_time": "2022-12-27T16:07:22.447995Z",
     "start_time": "2022-12-27T16:07:22.421837Z"
    }
   },
   "outputs": [
    {
     "data": {
      "text/plain": [
       "<6232511x192946 sparse matrix of type '<class 'numpy.float64'>'\n",
       "\twith 61239343 stored elements in Compressed Sparse Row format>"
      ]
     },
     "execution_count": 7,
     "metadata": {},
     "output_type": "execute_result"
    }
   ],
   "source": [
    "embedding.x"
   ]
  },
  {
   "cell_type": "markdown",
   "metadata": {},
   "source": [
    "We see from ``embedding.x`` that the embedding links about 6,200,000 documents to 193,000 features. In average, each document is linked to about 10 features."
   ]
  },
  {
   "cell_type": "markdown",
   "metadata": {},
   "source": [
    "Now, we initiate the gismo object, and customize post_processers to ease the display."
   ]
  },
  {
   "cell_type": "code",
   "execution_count": 8,
   "metadata": {
    "ExecuteTime": {
     "end_time": "2022-12-27T16:07:22.479990Z",
     "start_time": "2022-12-27T16:07:22.457936Z"
    }
   },
   "outputs": [],
   "source": [
    "gismo = Gismo(corpus, embedding)"
   ]
  },
  {
   "cell_type": "code",
   "execution_count": 9,
   "metadata": {
    "ExecuteTime": {
     "end_time": "2022-12-27T16:07:22.495983Z",
     "start_time": "2022-12-27T16:07:22.483993Z"
    }
   },
   "outputs": [],
   "source": [
    "def post_article(g, i):\n",
    "    dic = g.corpus[i]\n",
    "    authors = \", \".join(dic['authors'])\n",
    "    return f\"{dic['title']} By {authors} ({dic['venue']}, {dic['year']})\"\n",
    "    \n",
    "gismo.post_documents_item = post_article\n",
    "\n",
    "def post_title(g, i):\n",
    "    return g.corpus[i]['title']\n",
    "    authors = \", \".join(dic['authors'])\n",
    "    return f\"{dic['title']} By {authors} ({dic['venue']}, {dic['year']})\"\n",
    "\n",
    "def post_meta(g, i):\n",
    "    dic = g.corpus[i]\n",
    "    authors = \", \".join(dic['authors'])\n",
    "    return f\"{authors} ({dic['venue']}, {dic['year']})\"\n",
    "\n",
    "\n",
    "gismo.post_documents_cluster = partial(post_documents_cluster_print, post_item=post_title)\n",
    "gismo.post_features_cluster = post_features_cluster_print"
   ]
  },
  {
   "cell_type": "markdown",
   "metadata": {},
   "source": [
    "As the dataset is big, we lower the precision of the computation to speed up things a little bit."
   ]
  },
  {
   "cell_type": "code",
   "execution_count": 10,
   "metadata": {
    "ExecuteTime": {
     "end_time": "2022-12-27T16:07:22.511251Z",
     "start_time": "2022-12-27T16:07:22.501991Z"
    }
   },
   "outputs": [],
   "source": [
    "gismo.parameters.n_iter = 2"
   ]
  },
  {
   "cell_type": "markdown",
   "metadata": {},
   "source": [
    "## Machine Learning (and Covid-19) query"
   ]
  },
  {
   "cell_type": "markdown",
   "metadata": {},
   "source": [
    "We perform the query *Machine learning*. The returned ``True`` tells that some of the query features were found in the corpus' features."
   ]
  },
  {
   "cell_type": "code",
   "execution_count": 11,
   "metadata": {
    "ExecuteTime": {
     "end_time": "2022-12-27T16:07:28.984864Z",
     "start_time": "2022-12-27T16:07:22.513248Z"
    }
   },
   "outputs": [
    {
     "data": {
      "text/plain": [
       "True"
      ]
     },
     "execution_count": 11,
     "metadata": {},
     "output_type": "execute_result"
    }
   ],
   "source": [
    "gismo.rank(\"Machine Learning\")"
   ]
  },
  {
   "cell_type": "markdown",
   "metadata": {},
   "source": [
    "What are the best articles on *Machine Learning*?"
   ]
  },
  {
   "cell_type": "code",
   "execution_count": 12,
   "metadata": {
    "ExecuteTime": {
     "end_time": "2022-12-27T16:07:29.064091Z",
     "start_time": "2022-12-27T16:07:28.987819Z"
    }
   },
   "outputs": [
    {
     "data": {
      "text/plain": [
       "['Resilient Machine Learning for Networked Cyber Physical Systems: A Survey for Machine Learning Security to Securing Machine Learning for CPS. By Felix O. Olowononi, Danda B. Rawat, Chunmei Liu (IEEE Commun. Surv. Tutorials, 2021)',\n",
       " 'Resilient Machine Learning for Networked Cyber Physical Systems: A Survey for Machine Learning Security to Securing Machine Learning for CPS. By Felix O. Olowononi, Danda B. Rawat, Chunmei Liu (CoRR, 2021)',\n",
       " 'The Machine Learning Machine: A Tangible User Interface for Teaching Machine Learning. By Magnus Høholt Kaspersen, Karl-Emil Kjær Bilstrup, Marianne Graves Petersen (TEI, 2021)',\n",
       " 'Resilient Machine Learning (rML) Ensemble Against Adversarial Machine Learning Attacks. By Likai Yao, Cihan Tunc, Pratik Satam, Salim Hariri (DDDAS, 2020)',\n",
       " 'A Machine Learning Tutorial for Operational Meteorology, Part I: Traditional Machine Learning. By Randy J. Chase, David R. Harrison, Amanda Burke, Gary M. Lackmann, Amy McGovern (CoRR, 2022)',\n",
       " 'Critical Tools for Machine Learning: Situating, Figuring, Diffracting, Fabulating Machine Learning Systems Design. By Goda Klumbyte, Claude Draude, Alex S. Taylor (CHItaly, 2021)',\n",
       " 'Poisoning Attacks Against Machine Learning: Can Machine Learning Be Trustworthy? By Alina Oprea, Anoop Singhal, Apostol Vassilev 0001 (Computer, 2022)',\n",
       " 'When Physics Meets Machine Learning: A Survey of Physics-Informed Machine Learning. By Chuizheng Meng, Sungyong Seo, Defu Cao, Sam Griesemer, Yan Liu (CoRR, 2022)',\n",
       " 'Predicting Machine Learning Pipeline Runtimes in the Context of Automated Machine Learning. By Felix Mohr, Marcel Wever, Alexander Tornede, Eyke Hüllermeier (IEEE Trans. Pattern Anal. Mach. Intell., 2021)',\n",
       " 'Adversarial Machine Learning: Difficulties in Applying Machine Learning to Existing Cybersecurity Systems. By Nick Rahimi, Jordan Maynor, Bidyut Gupta (CATA, 2020)',\n",
       " 'Hacking Machine Learning: Towards The Comprehensive Taxonomy of Attacks Against Machine Learning Systems. By Jerzy Surma (ICIAI, 2020)',\n",
       " 'Machine Learning Unplugged - Development and Evaluation of a Workshop About Machine Learning. By Elisaweta Ossovski, Michael Brinkmeier (ISSEP, 2019)',\n",
       " 'Can machine learning model with static features be fooled: an adversarial machine learning approach. By Rahim Taheri, Reza Javidan, Mohammad Shojafar, P. Vinod 0001, Mauro Conti (Clust. Comput., 2020)',\n",
       " 'Machine Learning for Health ( ML4H ) 2019 : What Makes Machine Learning in Medicine Different? By Adrian V. Dalca, Matthew B. A. McDermott, Emily Alsentzer, Samuel G. Finlayson, Michael Oberst, Fabian Falck, Corey Chivers, Andrew Beam, Tristan Naumann, Brett K. Beaulieu-Jones (ML4H@NeurIPS, 2019)',\n",
       " 'Ensemble Machine Learning Methods to Predict the Balancing of Ayurvedic Constituents in the Human Body Ensemble Machine Learning Methods to Predict. By Vani Rajasekar, Sathya Krishnamoorthi, Muzafer Saracevic, Dzenis Pepic, Mahir Zajmovic, Haris Zogic (Comput. Sci., 2022)',\n",
       " 'Special session on machine learning: How will machine learning transform test? By Yiorgos Makris, Amit Nahar, Haralampos-G. D. Stratigopoulos, Marc Hutner (VTS, 2018)',\n",
       " 'Informed Machine Learning - Towards a Taxonomy of Explicit Integration of Knowledge into Machine Learning. By Laura von Rüden, Sebastian Mayer, Jochen Garcke, Christian Bauckhage, Jannis Schücker (CoRR, 2019)',\n",
       " 'Machine Learning in Antenna Design: An Overview on Machine Learning Concept and Algorithms. By Hilal M. El Misilmani, Tarek Naous (HPCS, 2019)',\n",
       " 'Can Machine Learning Model with Static Features be Fooled: an Adversarial Machine Learning Approach. By Rahim Taheri, Reza Javidan, Mohammad Shojafar, Vinod P 0001, Mauro Conti (CoRR, 2019)',\n",
       " 'Physics Informed Machine Learning of SPH: Machine Learning Lagrangian Turbulence. By Michael Woodward, Yifeng Tian, Criston Hyett, Chris Fryer, Daniel Livescu, Mikhail Stepanov, Michael Chertkov (CoRR, 2021)',\n",
       " 'Targeted Machine Learning: how we can use machine learning for causal inference. By Antoine Chambaz (EGC, 2021)',\n",
       " 'Arabic Offensive Language Detection Using Machine Learning and Ensemble Machine Learning Approaches. By Fatemah Husain (CoRR, 2020)',\n",
       " 'How Developers Iterate on Machine Learning Workflows - A Survey of the Applied Machine Learning Literature. By Doris Xin, Litian Ma, Shuchen Song, Aditya G. Parameswaran (CoRR, 2018)',\n",
       " 'Declarative Machine Learning Systems: The future of machine learning will depend on it being in the hands of the rest of us. By Piero Molino, Christopher Ré (ACM Queue, 2021)',\n",
       " 'MARVIN: An Open Machine Learning Corpus and Environment for Automated Machine Learning Primitive Annotation and Execution. By Chris A. Mattmann, Sujen Shah, Brian Wilson (CoRR, 2018)',\n",
       " 'Securing Machine Learning in the Cloud: A Systematic Review of Cloud Machine Learning Security. By Adnan Qayyum, Aneeqa Ijaz, Muhammad Usama, Waleed Iqbal, Junaid Qadir 0001, Yehia Elkhatib, Ala I. Al-Fuqaha (Frontiers Big Data, 2020)',\n",
       " 'How to Conduct Rigorous Supervised Machine Learning in Information Systems Research: The Supervised Machine Learning Report Card. By Niklas Kühl, Robin Hirt, Lucas Baier, Björn Schmitz, Gerhard Satzger (Commun. Assoc. Inf. Syst., 2021)',\n",
       " \"Exploring the Effects of Machine Learning Literacy Interventions on Laypeople's Reliance on Machine Learning Models. By Chun-Wei Chiang, Ming Yin (IUI, 2022)\",\n",
       " 'Machine Learning in Space: A Review of Machine Learning Algorithms and Hardware for Space Applications. By James Murphy, John E. Ward, Brian Mac Namee (AICS, 2021)',\n",
       " 'Critical Tools for Machine Learning: Working with Intersectional Critical Concepts in Machine Learning Systems Design. By Goda Klumbyte, Claude Draude, Alex S. Taylor (FAccT, 2022)',\n",
       " 'BetaML: The Beta Machine Learning Toolkit, a self-contained repository of Machine Learning algorithms in Julia. By Antonello Lobianco (J. Open Source Softw., 2021)',\n",
       " 'Can machine learning consistently improve the scoring power of classical scoring functions? Insights into the role of machine learning in scoring functions. By Chao Shen, Ye Hu, Zhe Wang 0041, Xujun Zhang, Haiyang Zhong, Gaoang Wang, Xiaojun Yao, Lei Xu 0035, Dong-Sheng Cao 0001, Tingjun Hou (Briefings Bioinform., 2021)',\n",
       " 'Three Differential Emotion Classification by Machine Learning Algorithms using Physiological Signals - Discriminantion of Emotions by Machine Learning Algorithms. By Eun-Hye Jang, Byoung-Jun Park, Sang-Hyeob Kim, Jin-Hun Sohn (ICAART (1), 2012)',\n",
       " 'The Silent Problem - Machine Learning Model Failure - How to Diagnose and Fix Ailing Machine Learning Models. By Michele Bennett, Jaya Balusu, Karin Hayes, Ewa J. Kleczyk (CoRR, 2022)',\n",
       " 'Trustless Machine Learning Contracts; Evaluating and Exchanging Machine Learning Models on the Ethereum Blockchain. By A. Besir Kurtulmus, Kenny Daniel (CoRR, 2018)',\n",
       " 'Machine Learning Against Cancer: Accurate Diagnosis of Cancer by Machine Learning Classification of the Whole Genome Sequencing Data. By Arash Hooshmand (CoRR, 2020)',\n",
       " 'Machine Learning in Python: Main Developments and Technology Trends in Data Science, Machine Learning, and Artificial Intelligence. By Sebastian Raschka, Joshua Patterson, Corey Nolet (Inf., 2020)',\n",
       " 'Machine Learning in Python: Main developments and technology trends in data science, machine learning, and artificial intelligence. By Sebastian Raschka, Joshua Patterson, Corey Nolet (CoRR, 2020)',\n",
       " 'Teaching Machine Learning to Computer Science Preservice Teachers: Human vs. Machine Learning. By Koby Mike, Rinat B. Rosenberg-Kima (SIGCSE, 2021)',\n",
       " 'Linear Algebra and Optimization with Applications to Machine Learning - Volume II: Fundamentals of Optimization Theory with Applications to Machine Learning By Jean H. Gallier, Jocelyn Quaintance (Linear Algebra and Optimization with Applications to Machine Learning, Volume II, 2020)',\n",
       " 'Machine Learning in Textual Criticism: An examination of the performance of supervised machine learning algorithms in reconstructing the text of the Greek New Testament. By Mason Jones, Francesco Romano, Abidalrahman Mohd (ICMLT, 2022)',\n",
       " 'Linear Algebra and Optimization with Applications to Machine Learning - Volume I: Linear Algebra for Computer Vision, Robotics, and Machine Learning By Jean H. Gallier, Jocelyn Quaintance (Linear Algebra and Optimization with Applications to Machine Learning, Volume I, 2020)',\n",
       " '\"I Never Thought About Securing My Machine Learning Systems\": A Study of Security and Privacy Awareness of Machine Learning Practitioners. By Franziska Boenisch, Verena Battis, Nicolas Buchmann, Maija Poikela (MuC, 2021)',\n",
       " 'Métodos de Machine Learning Aplicados no Cenário da Educaçáo a Distância Brasileira (Machine Learning Techniques Applied to the Brazilian Distance Education). By Charles Nicollas C. Freitas, Roberta M. M. Gouveia, Rodrigo G. F. Soares (SIIE, 2020)',\n",
       " 'When Lempel-Ziv-Welch Meets Machine Learning: A Case Study of Accelerating Machine Learning using Coding. By Fengan Li, Lingjiao Chen, Arun Kumar 0001, Jeffrey F. Naughton, Jignesh M. Patel, Xi Wu 0001 (CoRR, 2017)',\n",
       " 'Machine Learning approach to Secure Software Defined Network: Machine Learning and Artificial Intelligence. By Afaf D. Althobiti, Rabab M. Almohayawi, Omaimah Bamasag (ICFNDS, 2020)',\n",
       " 'Preserving User Privacy for Machine Learning: Local Differential Privacy or Federated Machine Learning? By Huadi Zheng, Haibo Hu 0001, Ziyang Han (IEEE Intell. Syst., 2020)',\n",
       " \"Machine Learning Explanations as Boundary Objects: How AI Researchers Explain and Non-Experts Perceive Machine Learning. By Amid Ayobi, Katarzyna Stawarz, Dmitri S. Katz, Paul Marshall, Taku Yamagata, Raúl Santos-Rodríguez, Peter A. Flach, Aisling Ann O'Kane (IUI Workshops, 2021)\",\n",
       " 'The Holy Grail of \"Systems for Machine Learning\": Teaming humans and machine learning for detecting cyber threats. By Ignacio Arnaldo, Kalyan Veeramachaneni (SIGKDD Explor., 2019)',\n",
       " 'Sports and machine learning: How young people can use data from their own bodies to learn about machine learning. By Abigail Zimmermann-Niefield, R. Benjamin Shapiro, Shaun K. Kane (XRDS, 2019)',\n",
       " 'Tracking machine learning models for pandemic scenarios: a systematic review of machine learning models that predict local and global evolution of pandemics. By Marcelo Benedeti Palermo, Lucas Micol Policarpo, Cristiano André da Costa, Rodrigo da Rosa Righi (Netw. Model. Anal. Health Informatics Bioinform., 2022)',\n",
       " 'Current Advances, Trends and Challenges of Machine Learning and Knowledge Extraction: From Machine Learning to Explainable AI. By Andreas Holzinger, Peter Kieseberg, Edgar R. Weippl, A Min Tjoa (CD-MAKE, 2018)',\n",
       " 'Modelling of Received Signals in Molecular Communication Systems based machine learning: Comparison of azure machine learning and Python tools. By Soha Mohamed, Mahmoud S. Fayed (CoRR, 2021)',\n",
       " 'High Value Media Monitoring With Machine Learning - Using Machine Learning to Drive Cost Effectiveness in an Established Business. By Matti Lyra, Daoud Clarke, Hamish Morgan, Jeremy Reffin, David J. Weir (Künstliche Intell., 2013)',\n",
       " 'BPMN4sML: A BPMN Extension for Serverless Machine Learning. Technology Independent and Interoperable Modeling of Machine Learning Workflows and their Serverless Deployment Orchestration. By Laurens Martin Tetzlaff (CoRR, 2022)',\n",
       " 'Do we need different machine learning algorithms for QSAR modeling? A comprehensive assessment of 16 machine learning algorithms on 14 QSAR data sets. By Zhenxing Wu, Minfeng Zhu, Yu Kang 0002, Elaine Lai-Han Leung, Tailong Lei, Chao Shen, Dejun Jiang 0002, Zhe Wang 0041, Dong-Sheng Cao 0001, Tingjun Hou (Briefings Bioinform., 2021)',\n",
       " 'Ethem Alpaydin. Introduction to Machine Learning (Adaptive Computation and Machine Learning Series). The MIT Press, 2004, ISBN 0 262 01211 1. By Shahzad Khan (Nat. Lang. Eng., 2008)',\n",
       " 'Bagging Machine Learning Algorithms: A Generic Computing Framework Based on Machine-Learning Methods for Regional Rainfall Forecasting in Upstate New York. By Ning Yu, Timothy Haskins (Informatics, 2021)',\n",
       " 'Artificial Intelligence, Machine Learning, and Signal Processing: Researchers are using artificial intelligence, machine learning, and signal processing to build powerful three-level platforms to help meet project goals [Special Reports]. By John Edwards (IEEE Signal Process. Mag., 2021)',\n",
       " 'Automated Essay Scoring (AES); A Semantic Analysis Inspired Machine Learning Approach: An automated essay scoring system using semantic analysis and machine learning is presented in this research. By Ahsan Ikram, Billy Castle (ICETC, 2020)',\n",
       " 'Digital Phenotyping and Machine Learning in the Next Generation of Digital Health Technologies: Utilising Event Logging, Ecological Momentary Assessment & Machine Learning. By Maurice D. Mulvenna (ICT4AWE, 2020)',\n",
       " 'Can Machine Learning Correct Commonly Accepted Knowledge and Provide Understandable Knowledge in Care Support Domain? Tackling Cognitive Bias and Humanity from Machine Learning Perspective. By Keiki Takadama (AAAI Spring Symposia, 2018)',\n",
       " 'Brain Tumor Classification using Machine Learning and Deep Learning Algorithms: A Comparison: Classifying brain MRI images on thebasis of location of tumor and comparingthe various Machine Learning and Deep LEARNING models used to predict best performance. By Ananya Joshi, Vipasha Rana, Aman Sharma (IC3, 2022)',\n",
       " 'Motion Evaluation of Therapy Exercises by Means of Skeleton Normalisation, Incremental Dynamic Time Warping and Machine Learning: A Comparison of a Rule-Based and a Machine-Learning-Based Approach. By Julia Richter, Christian Wiede, Ulrich Heinkel, Gangolf Hirtz (VISIGRAPP (4: VISAPP), 2019)']"
      ]
     },
     "execution_count": 12,
     "metadata": {},
     "output_type": "execute_result"
    }
   ],
   "source": [
    "gismo.get_documents_by_rank()"
   ]
  },
  {
   "cell_type": "markdown",
   "metadata": {},
   "source": [
    "OK, this seems to go everywhere. Maybe we can narrow with a more specific request."
   ]
  },
  {
   "cell_type": "code",
   "execution_count": 13,
   "metadata": {
    "ExecuteTime": {
     "end_time": "2022-12-27T16:07:33.058206Z",
     "start_time": "2022-12-27T16:07:29.068085Z"
    }
   },
   "outputs": [
    {
     "data": {
      "text/plain": [
       "True"
      ]
     },
     "execution_count": 13,
     "metadata": {},
     "output_type": "execute_result"
    }
   ],
   "source": [
    "gismo.rank(\"Machine Learning and covid-19\")"
   ]
  },
  {
   "cell_type": "code",
   "execution_count": 14,
   "metadata": {
    "ExecuteTime": {
     "end_time": "2022-12-27T16:07:33.119624Z",
     "start_time": "2022-12-27T16:07:33.061214Z"
    }
   },
   "outputs": [
    {
     "data": {
      "text/plain": [
       "['Ergonomics of Virtual Learning During COVID-19. By Lu Yuan, Alison Garaudy (AHFE (11), 2021)',\n",
       " 'University Virtual Learning in Covid Times. By Verónica Marín-Díaz, Eloísa Reche, Javier Martín (Technol. Knowl. Learn., 2022)',\n",
       " 'DCML: Deep contrastive mutual learning for COVID-19 recognition. By Hongbin Zhang, Weinan Liang, Chuanxiu Li, Qipeng Xiong, Haowei Shi, Lang Hu, Guangli Li (Biomed. Signal Process. Control., 2022)',\n",
       " 'Interpretable Sequence Learning for Covid-19 Forecasting. By Sercan Ömer Arik, Chun-Liang Li, Jinsung Yoon, Rajarishi Sinha, Arkady Epshteyn, Long T. Le, Vikas Menon, Shashank Singh 0005, Leyou Zhang, Martin Nikoltchev, Yash Sonthalia, Hootan Nakhost, Elli Kanal, Tomas Pfister (NeurIPS, 2020)',\n",
       " 'Interpretable Sequence Learning for COVID-19 Forecasting. By Sercan Ömer Arik, Chun-Liang Li, Jinsung Yoon, Rajarishi Sinha, Arkady Epshteyn, Long T. Le, Vikas Menon, Shashank Singh 0005, Leyou Zhang, Nate Yoder, Martin Nikoltchev, Yash Sonthalia, Hootan Nakhost, Elli Kanal, Tomas Pfister (CoRR, 2020)',\n",
       " 'The Deaf Experience in Remote Learning during COVID-19. By Yosra Bouzid, Mohamed Jemni (ICTA, 2021)',\n",
       " 'The Study on the Efficiency of Smart Learning in the COVID-19. By Seong-Kyu Kim, Mi-Jung Lee, Eun-Sill Jang, Young-Eun Lee (J. Multim. Inf. Syst., 2022)',\n",
       " 'Dual Teaching: Simultaneous Remote and In-Person Learning During COVID. By Hunter M. Williams, Malcolm Haynes, Joseph Kim (SIGITE, 2021)',\n",
       " 'An Analysis of the Effectiveness of Emergency Distance Learning under COVID-19. By Ngo Tung Son, Bui Ngoc Anh, Kieu Quoc Tuan, Son Ba Nguyen, Son Hoang Nguyen, Jafreezal Jaafar (CCRIS, 2020)',\n",
       " 'Automated Machine Learning for COVID-19 Forecasting. By Jaco Tetteroo, Mitra Baratchi, Holger H. Hoos (IEEE Access, 2022)',\n",
       " \"Unsupervised Convolutional Filter Learning for COVID-19 Classification. By Sakthi Ganesh Mahalingam, Saichandra Pandraju (Rev. d'Intelligence Artif., 2021)\",\n",
       " 'A Data Augmented Approach to Transfer Learning for Covid-19 Detection. By Shagufta Henna, Aparna Reji (CoRR, 2021)',\n",
       " 'Academic Procrastination and Online Learning During the COVID-19 Pandemic. By Jørgen Melgaard, Rubina Monir, Lester Allan Lasrado, Asle Fagerstrøm (CENTERIS/ProjMAN/HCist, 2021)',\n",
       " 'A comprehensive review of federated learning for COVID-19 detection. By Sadaf Naz, Khoa Tran Phan, Yi-Ping Phoebe Chen (Int. J. Intell. Syst., 2022)',\n",
       " 'M-learning in the COVID-19 era: physical vs digital class. By Vasiliki Matzavela, Efthimios Alepis (Educ. Inf. Technol., 2021)',\n",
       " 'Challenges of Online Learning During the COVID-19: What Can We Learn on Twitter? By Wei Quan (ARTIIS, 2021)',\n",
       " 'Exploring the Effectiveness of Fully Online Translation Learning During COVID-19. By Wenchao Su, Defeng Li, Xiaoxing Zhao, Ruilin Li (ICWL/SETE, 2020)',\n",
       " 'Educational Transformation: An Evaluation of Online Learning Due To COVID-19. By Rizky Firmansyah, Dhika Maha Putri, Mochammad Galih Satriyo Wicaksono, Sheila Febriani Putri, Ahmad Arif Widianto, Mohd Rizal Palil (Int. J. Emerg. Technol. Learn., 2021)',\n",
       " 'Adoption, use and enhancement of virtual learning during COVID-19. By Munyaradzi Zhou, Canicio Dzingirai, Kudakwashe Hove, Tavengwa Chitata, Raymond Mugandani (Educ. Inf. Technol., 2022)',\n",
       " 'Online Learning Before, During and After COVID-19: Observations Over 20 Years. By Natalie Wieland, Liz Kollias (Int. J. Adv. Corp. Learn., 2020)',\n",
       " 'Attitudes Towards Online Learning During COVID-19: A Cluster and Sentiment Analyses. By Rex Perez Bringula, Ma. Teresa Borebor, Ma. Ymelda C. Batalla (MLIS, 2022)',\n",
       " 'The Effects of the Sudden Switch to Remote Learning Due to Covid-19 on HBCU Students and Faculty. By Mariele Ponticiello, Mariah Simmons, Joon-Suk Lee (HCI (23), 2021)',\n",
       " 'Dynamic-Fusion-Based Federated Learning for COVID-19 Detection. By Weishan Zhang, Tao Zhou, Qinghua Lu 0001, Xiao Wang 0002, Chunsheng Zhu, Haoyun Sun, Zhipeng Wang, Sin Kit Lo, Fei-Yue Wang 0001 (IEEE Internet Things J., 2021)',\n",
       " 'Dynamic Fusion based Federated Learning for COVID-19 Detection. By Weishan Zhang, Tao Zhou, Qinghua Lu 0001, Xiao Wang 0002, Chunsheng Zhu, Haoyun Sun, Zhipeng Wang, Sin Kit Lo, Feiyue Wang 0001 (CoRR, 2020)',\n",
       " 'Using Mobile ICT for Online Learning During COVID-19 Lockdown. By Viktoriia Tkachuk, Yuliia V. Yechkalo, Serhiy Semerikov, Maria Kislova, Yana Hladyr (ICTERI (Revised Selected Papers), 2020)',\n",
       " \"Analysis of Teachers' Satisfaction With Online Learning During the Covid-19 Pandemic. By Yaser Saleh, Nuha El-Khalili, Nesreen A. Otoum, Mohammad Al-Sheikh Hasan, Saif Abu-Aishah, Izzeddin Matar (IWSSIP, 2022)\",\n",
       " \"Teachers' emotions, technostress, and burnout in distance learning during the COVID-19 pandemic. By Francesco Sulla, Benedetta Ragni, Miriana D'Angelo, Dolores Rollo (teleXbe, 2022)\",\n",
       " \"Teachers' Difficulties in Implementing Distance Learning during Covid-19 Pandemic. By Nana Diana, Suhendra Suhendra, Yohannes Yohannes (ICETC, 2020)\",\n",
       " 'Student Emotions in the Shift to Online Learning During the COVID-19 Pandemic. By Danielle P. Espino, Tiffany Wright, Victoria M. Brown, Zachariah Mbasu, Matthew Sweeney, Seung B. Lee (ICQE, 2020)',\n",
       " 'CNN-based Transfer Learning for Covid-19 Diagnosis. By Zanear Sh. Ahmed, Nigar M. Shafiq Surameery, Rasber Dh. Rashid, Shadman Q. Salih, Hawre Kh. Abdulla (ICIT, 2021)',\n",
       " 'Federated learning for COVID-19 screening from Chest X-ray images. By Ines Feki, Sourour Ammar, Yousri Kessentini, Khan Muhammad (Appl. Soft Comput., 2021)',\n",
       " 'University-Wide Online Learning During COVID-19: From Policy to Practice. By Nuengwong Tuaycharoen (Int. J. Interact. Mob. Technol., 2021)',\n",
       " 'Mobile Technology for Learning During Covid-19: Opportunities, Lessons, and Challenges. By Oluwakemi Fasae, Femi Alufa, Victor Ayodele, Akachukwu Okoli, Opeyemi Dele-Ajayi (IMCL, 2021)',\n",
       " 'Optimal policy learning for COVID-19 prevention using reinforcement learning. By Muhammad Irfan Uddin, Syed Atif Ali Shah, Mahmoud Ahmad Al-Khasawneh, Ala Abdulsalam Alarood, Eesa Alsolami (J. Inf. Sci., 2022)',\n",
       " 'Semi-supervised Learning for COVID-19 Image Classification via ResNet. By Lucy Nwuso, Xiangfang Li, Lijun Qian, Seungchan Kim, Xishuang Dong (CoRR, 2021)',\n",
       " 'Using Deep Learning for COVID-19 Control: Implementing a Convolutional Neural Network in a Facemask Detection Application. By Caolan Deery, Kevin Meehan (SmartNets, 2021)',\n",
       " 'Boosting Deep Transfer Learning For Covid-19 Classification. By Fouzia Altaf, Syed M. S. Islam, Naeem Khalid Janjua, Naveed Akhtar (ICIP, 2021)',\n",
       " 'Boosting Deep Transfer Learning for COVID-19 Classification. By Fouzia Altaf, Syed M. S. Islam, Naeem Khalid Janjua, Naveed Akhtar (CoRR, 2021)',\n",
       " 'Applications of machine learning for COVID-19 misinformation: a systematic review. By A. R. Sanaullah, Anupam Das 0006, Anik Das, Muhammad Ashad Kabir, Kai Shu (Soc. Netw. Anal. Min., 2022)',\n",
       " 'A Survey on Deep Learning and Machine Learning for COVID-19 Detection. By Mohamed M. Dessouky, Sahar F. Sabbeh, Boushra Alshehri (ICFNDS, 2021)',\n",
       " \"Evaluating Students' Aprehension About Remote Learning During the COVID-19 Pandemic: a Brazilian Sample. By Wesley Machado, Cassia Isac, Thiago Franco Leal, Luiz Couto, David Silva (LWMOOCS, 2020)\"]"
      ]
     },
     "execution_count": 14,
     "metadata": {},
     "output_type": "execute_result"
    }
   ],
   "source": [
    "gismo.get_documents_by_rank()"
   ]
  },
  {
   "cell_type": "markdown",
   "metadata": {},
   "source": [
    "Sounds nice. How are the top-10 articles related? Note: as the graph structure is really sparse on the document side (10 features), it is best to de-activate the query-distortion, which is intended for longer documents."
   ]
  },
  {
   "cell_type": "code",
   "execution_count": 15,
   "metadata": {
    "ExecuteTime": {
     "end_time": "2022-12-27T16:07:33.228490Z",
     "start_time": "2022-12-27T16:07:33.121626Z"
    }
   },
   "outputs": [
    {
     "name": "stdout",
     "output_type": "stream",
     "text": [
      " F: 0.45. R: 0.01. S: 0.74.\n",
      "- F: 0.45. R: 0.01. S: 0.73.\n",
      "-- F: 0.45. R: 0.00. S: 0.66.\n",
      "--- F: 0.66. R: 0.00. S: 0.53.\n",
      "---- Ergonomics of Virtual Learning During COVID-19. (R: 0.00; S: 0.63)\n",
      "---- University Virtual Learning in Covid Times. (R: 0.00; S: 0.35)\n",
      "--- DCML: Deep contrastive mutual learning for COVID-19 recognition. (R: 0.00; S: 0.60)\n",
      "--- Dual Teaching: Simultaneous Remote and In-Person Learning During COVID. (R: 0.00; S: 0.35)\n",
      "--- An Analysis of the Effectiveness of Emergency Distance Learning under COVID-19. (R: 0.00; S: 0.56)\n",
      "-- F: 0.70. R: 0.00. S: 0.60.\n",
      "--- F: 1.00. R: 0.00. S: 0.54.\n",
      "---- Interpretable Sequence Learning for Covid-19 Forecasting. (R: 0.00; S: 0.54)\n",
      "---- Interpretable Sequence Learning for COVID-19 Forecasting. (R: 0.00; S: 0.54)\n",
      "--- Automated Machine Learning for COVID-19 Forecasting. (R: 0.00; S: 0.59)\n",
      "-- The Deaf Experience in Remote Learning during COVID-19. (R: 0.00; S: 0.52)\n",
      "- The Study on the Efficiency of Smart Learning in the COVID-19. (R: 0.00; S: 0.50)\n"
     ]
    }
   ],
   "source": [
    "gismo.parameters.distortion = 0.0\n",
    "gismo.get_documents_by_cluster(k=10)"
   ]
  },
  {
   "cell_type": "markdown",
   "metadata": {},
   "source": [
    "Now, let's look at the main keywords."
   ]
  },
  {
   "cell_type": "code",
   "execution_count": 16,
   "metadata": {
    "ExecuteTime": {
     "end_time": "2022-12-27T16:07:33.243925Z",
     "start_time": "2022-12-27T16:07:33.231875Z"
    }
   },
   "outputs": [
    {
     "data": {
      "text/plain": [
       "['covid',\n",
       " '19',\n",
       " 'covid 19',\n",
       " 'learning covid',\n",
       " 'machine',\n",
       " 'machine learning',\n",
       " 'pandemic',\n",
       " '19 pandemic',\n",
       " 'online learning',\n",
       " 'online',\n",
       " 'chest',\n",
       " 'deep',\n",
       " '19 detection',\n",
       " 'deep learning',\n",
       " 'student',\n",
       " 'distance learning',\n",
       " 'ray',\n",
       " 'chest ray',\n",
       " 'classification',\n",
       " 'ct']"
      ]
     },
     "execution_count": 16,
     "metadata": {},
     "output_type": "execute_result"
    }
   ],
   "source": [
    "gismo.get_features_by_rank(20)"
   ]
  },
  {
   "cell_type": "markdown",
   "metadata": {},
   "source": [
    "Let's organize them."
   ]
  },
  {
   "cell_type": "code",
   "execution_count": 17,
   "metadata": {
    "ExecuteTime": {
     "end_time": "2022-12-27T16:07:33.840090Z",
     "start_time": "2022-12-27T16:07:33.246926Z"
    }
   },
   "outputs": [
    {
     "name": "stdout",
     "output_type": "stream",
     "text": [
      " F: 0.31. R: 0.06. S: 0.97.\n",
      "- F: 0.46. R: 0.06. S: 0.97.\n",
      "-- F: 0.55. R: 0.05. S: 0.97.\n",
      "--- F: 0.96. R: 0.05. S: 0.97.\n",
      "---- covid (R: 0.01; S: 1.00)\n",
      "---- 19 (R: 0.01; S: 0.99)\n",
      "---- covid 19 (R: 0.01; S: 0.99)\n",
      "---- learning covid (R: 0.01; S: 0.97)\n",
      "--- F: 0.97. R: 0.01. S: 0.55.\n",
      "---- pandemic (R: 0.00; S: 0.56)\n",
      "---- 19 pandemic (R: 0.00; S: 0.54)\n",
      "-- F: 0.95. R: 0.00. S: 0.44.\n",
      "--- online learning (R: 0.00; S: 0.44)\n",
      "--- online (R: 0.00; S: 0.45)\n",
      "- F: 1.00. R: 0.01. S: 0.31.\n",
      "-- machine (R: 0.00; S: 0.31)\n",
      "-- machine learning (R: 0.00; S: 0.31)\n"
     ]
    }
   ],
   "source": [
    "# On the feature side, the graph is more dense so we can use query distortion\n",
    "gismo.get_features_by_cluster(distortion=1)"
   ]
  },
  {
   "cell_type": "markdown",
   "metadata": {},
   "source": [
    "Rough, very broad analysis:\n",
    "- One big keyword cluster about Coronavirus / Covid-19, pandemic, online learning;\n",
    "- Machine Learning as a separate small cluster."
   ]
  },
  {
   "cell_type": "code",
   "execution_count": 18,
   "metadata": {
    "ExecuteTime": {
     "end_time": "2022-12-27T16:07:33.903358Z",
     "start_time": "2022-12-27T16:07:33.843135Z"
    }
   },
   "outputs": [
    {
     "data": {
      "text/plain": [
       "<1x6232511 sparse matrix of type '<class 'numpy.float64'>'\n",
       "\twith 88256 stored elements in Compressed Sparse Row format>"
      ]
     },
     "execution_count": 18,
     "metadata": {},
     "output_type": "execute_result"
    }
   ],
   "source": [
    "np.dot(gismo.embedding.query_projection(\"Machine learning\")[0], gismo.embedding.y)"
   ]
  },
  {
   "cell_type": "markdown",
   "metadata": {},
   "source": [
    "88,000 articles with an explicit link to machine learning."
   ]
  },
  {
   "cell_type": "code",
   "execution_count": 19,
   "metadata": {
    "ExecuteTime": {
     "end_time": "2022-12-27T16:07:33.981244Z",
     "start_time": "2022-12-27T16:07:33.905362Z"
    }
   },
   "outputs": [
    {
     "data": {
      "text/plain": [
       "<1x6232511 sparse matrix of type '<class 'numpy.float64'>'\n",
       "\twith 11831 stored elements in Compressed Sparse Row format>"
      ]
     },
     "execution_count": 19,
     "metadata": {},
     "output_type": "execute_result"
    }
   ],
   "source": [
    "np.dot(gismo.embedding.query_projection(\"Covid-19\")[0], gismo.embedding.y)"
   ]
  },
  {
   "cell_type": "markdown",
   "metadata": {},
   "source": [
    "12,000 articles with an explicit link to covid-19."
   ]
  },
  {
   "cell_type": "markdown",
   "metadata": {},
   "source": [
    "## Authors query"
   ]
  },
  {
   "cell_type": "markdown",
   "metadata": {},
   "source": [
    "Instead of looking at words, we can explore authors and their collaborations."
   ]
  },
  {
   "cell_type": "markdown",
   "metadata": {},
   "source": [
    " We just have to rewire the corpus to output string of authors."
   ]
  },
  {
   "cell_type": "code",
   "execution_count": 20,
   "metadata": {
    "ExecuteTime": {
     "end_time": "2022-12-27T16:07:33.996589Z",
     "start_time": "2022-12-27T16:07:33.984588Z"
    }
   },
   "outputs": [],
   "source": [
    "def to_authors_text(dic):\n",
    "    return \" \".join([a.replace(' ', '_') for a in dic['authors']])\n",
    "corpus = Corpus(source, to_text=to_authors_text)"
   ]
  },
  {
   "cell_type": "markdown",
   "metadata": {},
   "source": [
    "We can build a new embedding on top of this modified corpus. We tell the vectorizer to be stupid: don't preprocess, words are separated spaces.\n",
    "\n",
    "This will take a few minutes (you can save the embedding for later if you want)."
   ]
  },
  {
   "cell_type": "code",
   "execution_count": 21,
   "metadata": {
    "ExecuteTime": {
     "end_time": "2022-12-27T16:07:41.321110Z",
     "start_time": "2022-12-27T16:07:33.998590Z"
    }
   },
   "outputs": [],
   "source": [
    "vectorizer = CountVectorizer(dtype=float,\n",
    "                            preprocessor=lambda x:x, tokenizer=lambda x: x.split(' '))\n",
    "try:\n",
    "    a_embedding = Embedding.load(filename=\"dblp_aut_embedding\", path=path)\n",
    "except:\n",
    "    a_embedding = Embedding(vectorizer=vectorizer)\n",
    "    a_embedding.fit_transform(corpus)\n",
    "    a_embedding.dump(filename=\"dblp_aut_embedding\", path=path)"
   ]
  },
  {
   "cell_type": "code",
   "execution_count": 22,
   "metadata": {
    "ExecuteTime": {
     "end_time": "2022-12-27T16:07:41.337151Z",
     "start_time": "2022-12-27T16:07:41.323072Z"
    }
   },
   "outputs": [
    {
     "data": {
      "text/plain": [
       "<6232511x3200857 sparse matrix of type '<class 'numpy.float64'>'\n",
       "\twith 20237296 stored elements in Compressed Sparse Row format>"
      ]
     },
     "execution_count": 22,
     "metadata": {},
     "output_type": "execute_result"
    }
   ],
   "source": [
    "a_embedding.x"
   ]
  },
  {
   "cell_type": "markdown",
   "metadata": {},
   "source": [
    "We now have about 3,200,000 authors to explore. Let's reload gismo and try to play."
   ]
  },
  {
   "cell_type": "code",
   "execution_count": 23,
   "metadata": {
    "ExecuteTime": {
     "end_time": "2022-12-27T16:07:41.368900Z",
     "start_time": "2022-12-27T16:07:41.341936Z"
    }
   },
   "outputs": [],
   "source": [
    "gismo = Gismo(corpus, a_embedding)\n",
    "gismo.post_documents_item = post_article\n",
    "gismo.post_features_item = lambda g, i: g.embedding.features[i].replace(\"_\", \" \")"
   ]
  },
  {
   "cell_type": "code",
   "execution_count": 24,
   "metadata": {
    "ExecuteTime": {
     "end_time": "2022-12-27T16:07:41.384920Z",
     "start_time": "2022-12-27T16:07:41.371898Z"
    }
   },
   "outputs": [],
   "source": [
    "gismo.post_documents_cluster = partial(post_documents_cluster_print, post_item=post_meta)\n",
    "gismo.post_features_cluster = post_features_cluster_print"
   ]
  },
  {
   "cell_type": "markdown",
   "metadata": {},
   "source": [
    "### Laurent Massoulié query"
   ]
  },
  {
   "cell_type": "code",
   "execution_count": 25,
   "metadata": {
    "ExecuteTime": {
     "end_time": "2022-12-27T16:07:44.308014Z",
     "start_time": "2022-12-27T16:07:41.386899Z"
    }
   },
   "outputs": [
    {
     "data": {
      "text/plain": [
       "True"
      ]
     },
     "execution_count": 25,
     "metadata": {},
     "output_type": "execute_result"
    }
   ],
   "source": [
    "gismo.rank(\"Laurent_Massoulié\")"
   ]
  },
  {
   "cell_type": "markdown",
   "metadata": {},
   "source": [
    "What are the most central articles of Laurent Massoulié in terms of collaboration?"
   ]
  },
  {
   "cell_type": "code",
   "execution_count": 26,
   "metadata": {
    "ExecuteTime": {
     "end_time": "2022-12-27T16:07:44.322981Z",
     "start_time": "2022-12-27T16:07:44.311020Z"
    }
   },
   "outputs": [
    {
     "data": {
      "text/plain": [
       "['Asynchrony and Acceleration in Gossip Algorithms. By Mathieu Even, Hadrien Hendrikx, Laurent Massoulié (CoRR, 2020)',\n",
       " 'Decentralized Optimization with Heterogeneous Delays: a Continuous-Time Approach. By Mathieu Even, Hadrien Hendrikx, Laurent Massoulié (CoRR, 2021)',\n",
       " 'Scalable Local Area Service Discovery. By Richard Black, Heimir Sverrisson, Laurent Massoulié (ICC, 2007)',\n",
       " 'A spectral method for community detection in moderately-sparse degree-corrected stochastic block models. By Lennart Gulikers, Marc Lelarge, Laurent Massoulié (CoRR, 2015)',\n",
       " 'Non-Backtracking Spectrum of Degree-Corrected Stochastic Block Models. By Lennart Gulikers, Marc Lelarge, Laurent Massoulié (CoRR, 2016)',\n",
       " 'Non-Backtracking Spectrum of Degree-Corrected Stochastic Block Models. By Lennart Gulikers, Marc Lelarge, Laurent Massoulié (ITCS, 2017)',\n",
       " 'An Impossibility Result for Reconstruction in a Degree-Corrected Planted-Partition Model. By Lennart Gulikers, Marc Lelarge, Laurent Massoulié (CoRR, 2015)',\n",
       " 'From tree matching to sparse graph alignment. By Luca Ganassali, Laurent Massoulié (CoRR, 2020)',\n",
       " 'From tree matching to sparse graph alignment. By Luca Ganassali, Laurent Massoulié (COLT, 2020)',\n",
       " 'Optimal Content Placement for Peer-to-Peer Video-on-Demand Systems. By Bo Tan 0002, Laurent Massoulié (IEEE/ACM Trans. Netw., 2013)']"
      ]
     },
     "execution_count": 26,
     "metadata": {},
     "output_type": "execute_result"
    }
   ],
   "source": [
    "gismo.get_documents_by_rank(k=10)"
   ]
  },
  {
   "cell_type": "markdown",
   "metadata": {},
   "source": [
    "We see lots of duplicates. This is not surprising as many articles can published first as a research report, then as a conference paper, last as a journal article. Luckily, Gismo can cover for you."
   ]
  },
  {
   "cell_type": "code",
   "execution_count": 27,
   "metadata": {
    "ExecuteTime": {
     "end_time": "2022-12-27T16:07:44.494878Z",
     "start_time": "2022-12-27T16:07:44.326969Z"
    }
   },
   "outputs": [
    {
     "data": {
      "text/plain": [
       "['Asynchrony and Acceleration in Gossip Algorithms. By Mathieu Even, Hadrien Hendrikx, Laurent Massoulié (CoRR, 2020)',\n",
       " 'Decentralized Optimization with Heterogeneous Delays: a Continuous-Time Approach. By Mathieu Even, Hadrien Hendrikx, Laurent Massoulié (CoRR, 2021)',\n",
       " 'Scalable Local Area Service Discovery. By Richard Black, Heimir Sverrisson, Laurent Massoulié (ICC, 2007)',\n",
       " 'A spectral method for community detection in moderately-sparse degree-corrected stochastic block models. By Lennart Gulikers, Marc Lelarge, Laurent Massoulié (CoRR, 2015)',\n",
       " 'Non-Backtracking Spectrum of Degree-Corrected Stochastic Block Models. By Lennart Gulikers, Marc Lelarge, Laurent Massoulié (CoRR, 2016)',\n",
       " 'Non-Backtracking Spectrum of Degree-Corrected Stochastic Block Models. By Lennart Gulikers, Marc Lelarge, Laurent Massoulié (ITCS, 2017)',\n",
       " 'An Impossibility Result for Reconstruction in a Degree-Corrected Planted-Partition Model. By Lennart Gulikers, Marc Lelarge, Laurent Massoulié (CoRR, 2015)',\n",
       " 'From tree matching to sparse graph alignment. By Luca Ganassali, Laurent Massoulié (CoRR, 2020)',\n",
       " 'From tree matching to sparse graph alignment. By Luca Ganassali, Laurent Massoulié (COLT, 2020)',\n",
       " 'Optimal Content Placement for Peer-to-Peer Video-on-Demand Systems. By Bo Tan 0002, Laurent Massoulié (IEEE/ACM Trans. Netw., 2013)']"
      ]
     },
     "execution_count": 27,
     "metadata": {},
     "output_type": "execute_result"
    }
   ],
   "source": [
    "gismo.get_documents_by_coverage(k=10)"
   ]
  },
  {
   "cell_type": "markdown",
   "metadata": {},
   "source": [
    "Hum, not working well. The reason here is query distortion. Query distortion is a gismo feature that modulates the clustering with the query. Sadly, when features are authors, the underlying graph has a very specific structure (highly sparse and redundant) that makes query distortion *too* effective. The solution is to desactivate it."
   ]
  },
  {
   "cell_type": "code",
   "execution_count": 28,
   "metadata": {
    "ExecuteTime": {
     "end_time": "2022-12-27T16:07:44.557893Z",
     "start_time": "2022-12-27T16:07:44.501828Z"
    }
   },
   "outputs": [
    {
     "data": {
      "text/plain": [
       "['Asynchrony and Acceleration in Gossip Algorithms. By Mathieu Even, Hadrien Hendrikx, Laurent Massoulié (CoRR, 2020)',\n",
       " 'Scalable Local Area Service Discovery. By Richard Black, Heimir Sverrisson, Laurent Massoulié (ICC, 2007)',\n",
       " 'A spectral method for community detection in moderately-sparse degree-corrected stochastic block models. By Lennart Gulikers, Marc Lelarge, Laurent Massoulié (CoRR, 2015)',\n",
       " 'From tree matching to sparse graph alignment. By Luca Ganassali, Laurent Massoulié (CoRR, 2020)',\n",
       " 'Optimal Content Placement for Peer-to-Peer Video-on-Demand Systems. By Bo Tan 0002, Laurent Massoulié (IEEE/ACM Trans. Netw., 2013)',\n",
       " 'Robustness of Spectral Methods for Community Detection. By Ludovic Stephan, Laurent Massoulié (COLT, 2019)',\n",
       " 'Concentration of Non-Isotropic Random Tensors with Applications to Learning and Empirical Risk Minimization. By Mathieu Even, Laurent Massoulié (CoRR, 2021)',\n",
       " 'Correlation Detection in Trees for Planted Graph Alignment. By Luca Ganassali, Laurent Massoulié, Marc Lelarge (ITCS, 2022)',\n",
       " 'Non-Backtracking Spectrum of Degree-Corrected Stochastic Block Models. By Lennart Gulikers, Marc Lelarge, Laurent Massoulié (CoRR, 2016)',\n",
       " 'Non-Backtracking Spectrum of Degree-Corrected Stochastic Block Models. By Lennart Gulikers, Marc Lelarge, Laurent Massoulié (ITCS, 2017)']"
      ]
     },
     "execution_count": 28,
     "metadata": {},
     "output_type": "execute_result"
    }
   ],
   "source": [
    "gismo.parameters.distortion = 0\n",
    "gismo.get_documents_by_coverage(k=10)"
   ]
  },
  {
   "cell_type": "markdown",
   "metadata": {},
   "source": [
    "Much better. No duplicate and more diversity in the results. Let's observe the communities."
   ]
  },
  {
   "cell_type": "code",
   "execution_count": 29,
   "metadata": {
    "ExecuteTime": {
     "end_time": "2022-12-27T16:07:44.668084Z",
     "start_time": "2022-12-27T16:07:44.560905Z"
    }
   },
   "outputs": [
    {
     "name": "stdout",
     "output_type": "stream",
     "text": [
      " F: 0.37. R: 0.07. S: 0.86.\n",
      "- F: 0.37. R: 0.07. S: 0.86.\n",
      "-- F: 0.81. R: 0.01. S: 0.63.\n",
      "--- F: 1.00. R: 0.01. S: 0.56.\n",
      "---- Mathieu Even, Hadrien Hendrikx, Laurent Massoulié (CoRR, 2020) (R: 0.00; S: 0.56)\n",
      "---- Mathieu Even, Hadrien Hendrikx, Laurent Massoulié (CoRR, 2021) (R: 0.00; S: 0.56)\n",
      "--- F: 1.00. R: 0.01. S: 0.63.\n",
      "---- Mathieu Even, Laurent Massoulié (CoRR, 2021) (R: 0.00; S: 0.63)\n",
      "---- Mathieu Even, Laurent Massoulié (COLT, 2021) (R: 0.00; S: 0.63)\n",
      "-- F: 0.37. R: 0.06. S: 0.81.\n",
      "--- F: 0.50. R: 0.04. S: 0.71.\n",
      "---- F: 1.00. R: 0.01. S: 0.59.\n",
      "----- Lennart Gulikers, Marc Lelarge, Laurent Massoulié (CoRR, 2015) (R: 0.00; S: 0.59)\n",
      "----- Lennart Gulikers, Marc Lelarge, Laurent Massoulié (CoRR, 2016) (R: 0.00; S: 0.59)\n",
      "----- Lennart Gulikers, Marc Lelarge, Laurent Massoulié (ITCS, 2017) (R: 0.00; S: 0.59)\n",
      "----- Lennart Gulikers, Marc Lelarge, Laurent Massoulié (CoRR, 2015) (R: 0.00; S: 0.59)\n",
      "---- F: 0.84. R: 0.03. S: 0.64.\n",
      "----- F: 1.00. R: 0.01. S: 0.64.\n",
      "------ Luca Ganassali, Laurent Massoulié (CoRR, 2020) (R: 0.00; S: 0.64)\n",
      "------ Luca Ganassali, Laurent Massoulié (COLT, 2020) (R: 0.00; S: 0.64)\n",
      "----- F: 1.00. R: 0.02. S: 0.60.\n",
      "------ Luca Ganassali, Laurent Massoulié, Marc Lelarge (ITCS, 2022) (R: 0.00; S: 0.60)\n",
      "------ Luca Ganassali, Laurent Massoulié, Marc Lelarge (CoRR, 2021) (R: 0.00; S: 0.60)\n",
      "------ Luca Ganassali, Marc Lelarge, Laurent Massoulié (CoRR, 2019) (R: 0.00; S: 0.60)\n",
      "------ Luca Ganassali, Laurent Massoulié, Marc Lelarge (COLT, 2021) (R: 0.00; S: 0.60)\n",
      "------ Luca Ganassali, Laurent Massoulié, Marc Lelarge (CoRR, 2021) (R: 0.00; S: 0.60)\n",
      "--- F: 0.37. R: 0.01. S: 0.70.\n",
      "---- F: 1.00. R: 0.01. S: 0.61.\n",
      "----- Bo Tan 0002, Laurent Massoulié (IEEE/ACM Trans. Netw., 2013) (R: 0.00; S: 0.61)\n",
      "----- Bo Tan 0002, Laurent Massoulié (INFOCOM, 2011) (R: 0.00; S: 0.61)\n",
      "----- Bo Tan 0002, Laurent Massoulié (PODC, 2010) (R: 0.00; S: 0.61)\n",
      "---- Ludovic Stephan, Laurent Massoulié (COLT, 2019) (R: 0.00; S: 0.61)\n",
      "- Richard Black, Heimir Sverrisson, Laurent Massoulié (ICC, 2007) (R: 0.00; S: 0.46)\n"
     ]
    }
   ],
   "source": [
    "gismo.get_documents_by_cluster(k=20, resolution=.9)"
   ]
  },
  {
   "cell_type": "markdown",
   "metadata": {},
   "source": [
    "OK! We see that the articles are organized by writing commmunities. Also note how Gismo managed to organize a hierachical grouping of the communities."
   ]
  },
  {
   "cell_type": "markdown",
   "metadata": {},
   "source": [
    "Now, let's look in terms of authors. This is actually the interesting part when studying collaborations."
   ]
  },
  {
   "cell_type": "code",
   "execution_count": 30,
   "metadata": {
    "ExecuteTime": {
     "end_time": "2022-12-27T16:07:44.684115Z",
     "start_time": "2022-12-27T16:07:44.671108Z"
    }
   },
   "outputs": [
    {
     "data": {
      "text/plain": [
       "['Laurent Massoulié',\n",
       " 'Marc Lelarge',\n",
       " 'Stratis Ioannidis',\n",
       " 'Hadrien Hendrikx',\n",
       " 'Nidhi Hegde 0001',\n",
       " 'Peter B. Key',\n",
       " 'Francis R. Bach',\n",
       " 'Anne-Marie Kermarrec',\n",
       " 'Ayalvadi J. Ganesh',\n",
       " 'Luca Ganassali',\n",
       " 'Mathieu Even',\n",
       " 'Lennart Gulikers',\n",
       " 'Milan Vojnovic',\n",
       " 'Dan-Cristian Tomozei',\n",
       " 'Amin Karbasi',\n",
       " 'Augustin Chaintreau',\n",
       " 'Mathieu Leconte',\n",
       " 'Bo Tan 0002',\n",
       " 'James Roberts',\n",
       " 'Rémi Varloot',\n",
       " 'Kuang Xu']"
      ]
     },
     "execution_count": 30,
     "metadata": {},
     "output_type": "execute_result"
    }
   ],
   "source": [
    "gismo.get_features_by_rank()"
   ]
  },
  {
   "cell_type": "markdown",
   "metadata": {},
   "source": [
    "We see many authors that were not present in the articles listed above. This is an important observation: central articles (with respect to a query) are not necessarily written by central authors!\n",
    "\n",
    "Let's organize them into communities."
   ]
  },
  {
   "cell_type": "code",
   "execution_count": 31,
   "metadata": {
    "ExecuteTime": {
     "end_time": "2022-12-27T16:07:44.938680Z",
     "start_time": "2022-12-27T16:07:44.687110Z"
    }
   },
   "outputs": [
    {
     "name": "stdout",
     "output_type": "stream",
     "text": [
      " F: 0.00. R: 0.21. S: 0.54.\n",
      "- F: 0.00. R: 0.21. S: 0.54.\n",
      "-- F: 0.01. R: 0.21. S: 0.54.\n",
      "--- F: 0.01. R: 0.20. S: 0.54.\n",
      "---- F: 0.01. R: 0.20. S: 0.55.\n",
      "----- F: 0.02. R: 0.18. S: 0.54.\n",
      "------ F: 0.03. R: 0.17. S: 0.52.\n",
      "------- F: 0.08. R: 0.13. S: 0.42.\n",
      "-------- F: 0.15. R: 0.12. S: 0.41.\n",
      "--------- Laurent Massoulié (R: 0.10; S: 1.00)\n",
      "--------- Marc Lelarge (R: 0.01; S: 0.17)\n",
      "--------- Luca Ganassali (R: 0.01; S: 0.19)\n",
      "-------- F: 0.12. R: 0.01. S: 0.22.\n",
      "--------- Lennart Gulikers (R: 0.00; S: 0.22)\n",
      "--------- Milan Vojnovic (R: 0.00; S: 0.06)\n",
      "------- F: 0.10. R: 0.02. S: 0.27.\n",
      "-------- F: 0.35. R: 0.01. S: 0.27.\n",
      "--------- Hadrien Hendrikx (R: 0.01; S: 0.26)\n",
      "--------- Mathieu Even (R: 0.00; S: 0.20)\n",
      "-------- Francis R. Bach (R: 0.01; S: 0.07)\n",
      "------- F: 0.08. R: 0.02. S: 0.18.\n",
      "-------- F: 0.12. R: 0.01. S: 0.17.\n",
      "--------- Peter B. Key (R: 0.01; S: 0.12)\n",
      "--------- Ayalvadi J. Ganesh (R: 0.01; S: 0.14)\n",
      "-------- Anne-Marie Kermarrec (R: 0.01; S: 0.07)\n",
      "------ Nidhi Hegde 0001 (R: 0.01; S: 0.16)\n",
      "------ Mathieu Leconte (R: 0.00; S: 0.09)\n",
      "----- F: 0.02. R: 0.02. S: 0.11.\n",
      "------ F: 0.07. R: 0.01. S: 0.11.\n",
      "------- Stratis Ioannidis (R: 0.01; S: 0.11)\n",
      "------- Augustin Chaintreau (R: 0.00; S: 0.05)\n",
      "------ Amin Karbasi (R: 0.00; S: 0.04)\n",
      "---- Dan-Cristian Tomozei (R: 0.00; S: 0.08)\n",
      "---- Bo Tan 0002 (R: 0.00; S: 0.11)\n",
      "--- Rémi Varloot (R: 0.00; S: 0.09)\n",
      "-- James Roberts (R: 0.00; S: 0.05)\n",
      "- Kuang Xu (R: 0.00; S: 0.03)\n"
     ]
    }
   ],
   "source": [
    "gismo.get_features_by_cluster(resolution=.6)"
   ]
  },
  {
   "cell_type": "markdown",
   "metadata": {},
   "source": [
    "### Jim Roberts  query"
   ]
  },
  {
   "cell_type": "code",
   "execution_count": 32,
   "metadata": {
    "ExecuteTime": {
     "end_time": "2022-12-27T16:07:46.657878Z",
     "start_time": "2022-12-27T16:07:44.941679Z"
    }
   },
   "outputs": [
    {
     "data": {
      "text/plain": [
       "True"
      ]
     },
     "execution_count": 32,
     "metadata": {},
     "output_type": "execute_result"
    }
   ],
   "source": [
    "gismo.rank(\"James_W._Roberts\")"
   ]
  },
  {
   "cell_type": "markdown",
   "metadata": {},
   "source": [
    "Let's have a covering set of articles."
   ]
  },
  {
   "cell_type": "code",
   "execution_count": 33,
   "metadata": {
    "ExecuteTime": {
     "end_time": "2022-12-27T16:07:46.721232Z",
     "start_time": "2022-12-27T16:07:46.661883Z"
    }
   },
   "outputs": [
    {
     "data": {
      "text/plain": [
       "['Integrated Admission Control for Streaming and Elastic Traffic. By Nabil Benameur, Slim Ben Fredj, Frank Delcoigne, Sara Oueslati-Boulahia, James W. Roberts (QofIS, 2001)',\n",
       " 'An In-Camera Data Stream Processing System for Defect Detection in Web Inspection Tasks. By S. Hossain Hajimowlana, Roberto Muscedere, Graham A. Jullien, James W. Roberts (Real Time Imaging, 1999)',\n",
       " \"Modifications of Thomae's Function and Differentiability. By Kevin Beanland, James W. Roberts, Craig Stevenson (Am. Math. Mon., 2009)\",\n",
       " 'A Traffic Control Framework for High Speed Data Transmission. By James W. Roberts, Brahim Bensaou, Y. Canetti (Modelling and Evaluation of ATM Networks, 1993)',\n",
       " 'Statistical bandwidth sharing: a study of congestion at flow level. By Slim Ben Fredj, Thomas Bonald, Alexandre Proutière, G. Régnié, James W. Roberts (SIGCOMM, 2001)',\n",
       " 'Swing: Traffic capacity of a simple WDM ring network. By Thomas Bonald, Sara Oueslati, James W. Roberts, Charlotte Roger (ITC, 2009)',\n",
       " 'Impact of \"Trunk Reservation\" on Elastic Flow Routing. By Sara Oueslati-Boulahia, James W. Roberts (NETWORKING, 2000)',\n",
       " 'Comment on \"Datacenter Congestion Control: Identifying what is essential and making it practical\" by Aisha Mushtaq, et al, CCR, July 2019. By James W. Roberts (Comput. Commun. Rev., 2020)',\n",
       " 'QoS Guarantees for Shaped Bit Rate Video Connections in Broadband Networks. By Maher Hamdi, James W. Roberts (MMNET, 1995)',\n",
       " 'Multi-Resource Fairness: Objectives, Algorithms and Performance. By Thomas Bonald, James W. Roberts (SIGMETRICS, 2015)']"
      ]
     },
     "execution_count": 33,
     "metadata": {},
     "output_type": "execute_result"
    }
   ],
   "source": [
    "gismo.get_documents_by_coverage(k=10)"
   ]
  },
  {
   "cell_type": "markdown",
   "metadata": {},
   "source": [
    "Who are the associated authors?"
   ]
  },
  {
   "cell_type": "code",
   "execution_count": 34,
   "metadata": {
    "ExecuteTime": {
     "end_time": "2022-12-27T16:07:46.736685Z",
     "start_time": "2022-12-27T16:07:46.723234Z"
    }
   },
   "outputs": [
    {
     "data": {
      "text/plain": [
       "['James W. Roberts',\n",
       " 'Thomas Bonald',\n",
       " 'Maher Hamdi',\n",
       " 'Sara Oueslati-Boulahia',\n",
       " 'Ali Ibrahim',\n",
       " 'Alexandre Proutière',\n",
       " 'Sara Oueslati',\n",
       " 'Jorma T. Virtamo',\n",
       " 'Slim Ben Fredj',\n",
       " 'Jussi Kangasharju']"
      ]
     },
     "execution_count": 34,
     "metadata": {},
     "output_type": "execute_result"
    }
   ],
   "source": [
    "gismo.get_features_by_rank(k=10)"
   ]
  },
  {
   "cell_type": "markdown",
   "metadata": {},
   "source": [
    "Let's organize them."
   ]
  },
  {
   "cell_type": "code",
   "execution_count": 35,
   "metadata": {
    "ExecuteTime": {
     "end_time": "2022-12-27T16:07:46.894473Z",
     "start_time": "2022-12-27T16:07:46.739685Z"
    }
   },
   "outputs": [
    {
     "name": "stdout",
     "output_type": "stream",
     "text": [
      " F: 0.01. R: 0.24. S: 0.51.\n",
      "- F: 0.01. R: 0.23. S: 0.51.\n",
      "-- F: 0.04. R: 0.21. S: 0.50.\n",
      "--- F: 0.15. R: 0.20. S: 0.50.\n",
      "---- F: 0.23. R: 0.18. S: 0.90.\n",
      "----- James W. Roberts (R: 0.14; S: 1.00)\n",
      "----- Thomas Bonald (R: 0.05; S: 0.25)\n",
      "---- F: 0.57. R: 0.01. S: 0.32.\n",
      "----- Sara Oueslati-Boulahia (R: 0.01; S: 0.27)\n",
      "----- Slim Ben Fredj (R: 0.01; S: 0.30)\n",
      "---- Sara Oueslati (R: 0.01; S: 0.15)\n",
      "--- Alexandre Proutière (R: 0.01; S: 0.04)\n",
      "-- Maher Hamdi (R: 0.01; S: 0.12)\n",
      "-- Ali Ibrahim (R: 0.01; S: 0.06)\n",
      "- F: 0.01. R: 0.01. S: 0.05.\n",
      "-- Jorma T. Virtamo (R: 0.01; S: 0.04)\n",
      "-- Jussi Kangasharju (R: 0.00; S: 0.03)\n"
     ]
    }
   ],
   "source": [
    "gismo.get_features_by_cluster(k=10, resolution=.4)"
   ]
  },
  {
   "cell_type": "markdown",
   "metadata": {},
   "source": [
    "### Combined queries"
   ]
  },
  {
   "cell_type": "markdown",
   "metadata": {},
   "source": [
    "We can input multiple authors."
   ]
  },
  {
   "cell_type": "code",
   "execution_count": 36,
   "metadata": {
    "ExecuteTime": {
     "end_time": "2022-12-27T16:07:50.499487Z",
     "start_time": "2022-12-27T16:07:46.896468Z"
    }
   },
   "outputs": [
    {
     "data": {
      "text/plain": [
       "True"
      ]
     },
     "execution_count": 36,
     "metadata": {},
     "output_type": "execute_result"
    }
   ],
   "source": [
    "gismo.rank(\"Laurent_Massoulié and James_W._Roberts\")"
   ]
  },
  {
   "cell_type": "markdown",
   "metadata": {},
   "source": [
    "Let's have a covering set of articles."
   ]
  },
  {
   "cell_type": "code",
   "execution_count": 37,
   "metadata": {
    "ExecuteTime": {
     "end_time": "2022-12-27T16:07:50.562239Z",
     "start_time": "2022-12-27T16:07:50.502512Z"
    }
   },
   "outputs": [
    {
     "data": {
      "text/plain": [
       "['Integrated Admission Control for Streaming and Elastic Traffic. By Nabil Benameur, Slim Ben Fredj, Frank Delcoigne, Sara Oueslati-Boulahia, James W. Roberts (QofIS, 2001)',\n",
       " 'Defect detection in web inspection using fuzzy fusion of texture features. By S. Hossain Hajimowlana, Roberto Muscedere, Graham A. Jullien, James W. Roberts (ISCAS, 2000)',\n",
       " \"Modifications of Thomae's Function and Differentiability. By Kevin Beanland, James W. Roberts, Craig Stevenson (Am. Math. Mon., 2009)\",\n",
       " 'A Traffic Control Framework for High Speed Data Transmission. By James W. Roberts, Brahim Bensaou, Y. Canetti (Modelling and Evaluation of ATM Networks, 1993)',\n",
       " 'Statistical bandwidth sharing: a study of congestion at flow level. By Slim Ben Fredj, Thomas Bonald, Alexandre Proutière, G. Régnié, James W. Roberts (SIGCOMM, 2001)',\n",
       " 'Swing: Traffic capacity of a simple WDM ring network. By Thomas Bonald, Sara Oueslati, James W. Roberts, Charlotte Roger (ITC, 2009)',\n",
       " 'Impact of \"Trunk Reservation\" on Elastic Flow Routing. By Sara Oueslati-Boulahia, James W. Roberts (NETWORKING, 2000)',\n",
       " 'Internet traffic, QoS, and pricing. By James W. Roberts (Proc. IEEE, 2004)',\n",
       " 'QoS Guarantees for Shaped Bit Rate Video Connections in Broadband Networks. By Maher Hamdi, James W. Roberts (MMNET, 1995)',\n",
       " 'Enhanced Cluster Computing Performance Through Proportional Fairness. By Thomas Bonald, James W. Roberts (CoRR, 2014)']"
      ]
     },
     "execution_count": 37,
     "metadata": {},
     "output_type": "execute_result"
    }
   ],
   "source": [
    "gismo.get_documents_by_coverage(k=10)"
   ]
  },
  {
   "cell_type": "markdown",
   "metadata": {},
   "source": [
    "Note that we get here only articles by Roberts, yet the articles returned have sightly changed."
   ]
  },
  {
   "cell_type": "markdown",
   "metadata": {},
   "source": [
    "Now, let's look at the main authors."
   ]
  },
  {
   "cell_type": "code",
   "execution_count": 38,
   "metadata": {
    "ExecuteTime": {
     "end_time": "2022-12-27T16:07:50.577863Z",
     "start_time": "2022-12-27T16:07:50.564293Z"
    }
   },
   "outputs": [
    {
     "data": {
      "text/plain": [
       "['James W. Roberts',\n",
       " 'Laurent Massoulié',\n",
       " 'Thomas Bonald',\n",
       " 'Marc Lelarge',\n",
       " 'Maher Hamdi',\n",
       " 'Nidhi Hegde 0001',\n",
       " 'Stratis Ioannidis',\n",
       " 'Alexandre Proutière',\n",
       " 'Sara Oueslati-Boulahia',\n",
       " 'Hadrien Hendrikx',\n",
       " 'Ali Ibrahim',\n",
       " 'Peter B. Key',\n",
       " 'Francis R. Bach',\n",
       " 'Jorma T. Virtamo',\n",
       " 'Sara Oueslati']"
      ]
     },
     "execution_count": 38,
     "metadata": {},
     "output_type": "execute_result"
    }
   ],
   "source": [
    "gismo.get_features_by_rank()"
   ]
  },
  {
   "cell_type": "markdown",
   "metadata": {},
   "source": [
    "We see a mix of both co-authors. How are they organized?"
   ]
  },
  {
   "cell_type": "code",
   "execution_count": 39,
   "metadata": {
    "ExecuteTime": {
     "end_time": "2022-12-27T16:07:50.705066Z",
     "start_time": "2022-12-27T16:07:50.583862Z"
    }
   },
   "outputs": [
    {
     "name": "stdout",
     "output_type": "stream",
     "text": [
      " F: 0.01. R: 0.20. S: 0.55.\n",
      "- F: 0.02. R: 0.19. S: 0.55.\n",
      "-- F: 0.05. R: 0.11. S: 0.50.\n",
      "--- F: 0.23. R: 0.10. S: 0.50.\n",
      "---- James W. Roberts (R: 0.07; S: 0.92)\n",
      "---- Thomas Bonald (R: 0.03; S: 0.24)\n",
      "---- Sara Oueslati-Boulahia (R: 0.00; S: 0.25)\n",
      "--- Sara Oueslati (R: 0.00; S: 0.14)\n",
      "-- F: 0.14. R: 0.05. S: 0.21.\n",
      "--- F: 0.24. R: 0.05. S: 0.21.\n",
      "---- Laurent Massoulié (R: 0.05; S: 0.39)\n",
      "---- Hadrien Hendrikx (R: 0.00; S: 0.10)\n",
      "--- Francis R. Bach (R: 0.00; S: 0.03)\n",
      "-- Marc Lelarge (R: 0.01; S: 0.07)\n",
      "-- Maher Hamdi (R: 0.01; S: 0.11)\n",
      "-- F: 0.10. R: 0.01. S: 0.09.\n",
      "--- Nidhi Hegde 0001 (R: 0.01; S: 0.08)\n",
      "--- Alexandre Proutière (R: 0.00; S: 0.04)\n",
      "-- Stratis Ioannidis (R: 0.00; S: 0.04)\n",
      "-- Ali Ibrahim (R: 0.00; S: 0.06)\n",
      "-- Peter B. Key (R: 0.00; S: 0.05)\n",
      "- Jorma T. Virtamo (R: 0.00; S: 0.04)\n"
     ]
    }
   ],
   "source": [
    "gismo.get_features_by_cluster(resolution=.4)"
   ]
  },
  {
   "cell_type": "markdown",
   "metadata": {},
   "source": [
    "## Cross-gismo"
   ]
  },
  {
   "cell_type": "markdown",
   "metadata": {},
   "source": [
    "Gismo can combine two embeddings two create one hybrid gismo. This is called a cross-gismo (XGismo). This features can be used to analyze authors with respect to the words they use (and vice-versa)."
   ]
  },
  {
   "cell_type": "code",
   "execution_count": 40,
   "metadata": {
    "ExecuteTime": {
     "end_time": "2022-12-27T16:08:28.472688Z",
     "start_time": "2022-12-27T16:07:50.708069Z"
    }
   },
   "outputs": [],
   "source": [
    "from gismo.gismo import XGismo\n",
    "gismo = XGismo(x_embedding=a_embedding, y_embedding=embedding)\n",
    "gismo.diteration.n_iter = 2 # to speed up a little bit computation time"
   ]
  },
  {
   "cell_type": "markdown",
   "metadata": {},
   "source": [
    "Note that XGismo does not use the underlying corpus, so we can now close the source (the source keeps the file ``dblp.data`` open)."
   ]
  },
  {
   "cell_type": "code",
   "execution_count": 41,
   "metadata": {
    "ExecuteTime": {
     "end_time": "2022-12-27T16:08:28.488511Z",
     "start_time": "2022-12-27T16:08:28.475683Z"
    }
   },
   "outputs": [],
   "source": [
    "source.close()"
   ]
  },
  {
   "cell_type": "code",
   "execution_count": 42,
   "metadata": {
    "ExecuteTime": {
     "end_time": "2022-12-27T16:08:28.504515Z",
     "start_time": "2022-12-27T16:08:28.491521Z"
    }
   },
   "outputs": [],
   "source": [
    "gismo.post_documents_item = lambda g, i: g.corpus[i].replace(\"_\", \" \")\n",
    "gismo.post_features_cluster = post_features_cluster_print\n",
    "gismo.post_documents_cluster = post_documents_cluster_print"
   ]
  },
  {
   "cell_type": "markdown",
   "metadata": {},
   "source": [
    "Let's try a request."
   ]
  },
  {
   "cell_type": "code",
   "execution_count": 43,
   "metadata": {
    "ExecuteTime": {
     "end_time": "2022-12-27T16:08:48.822142Z",
     "start_time": "2022-12-27T16:08:28.507513Z"
    }
   },
   "outputs": [
    {
     "data": {
      "text/plain": [
       "True"
      ]
     },
     "execution_count": 43,
     "metadata": {},
     "output_type": "execute_result"
    }
   ],
   "source": [
    "gismo.rank(\"self-stabilization\")"
   ]
  },
  {
   "cell_type": "markdown",
   "metadata": {},
   "source": [
    "What are the associated keywords?"
   ]
  },
  {
   "cell_type": "code",
   "execution_count": 44,
   "metadata": {
    "ExecuteTime": {
     "end_time": "2022-12-27T16:08:48.852204Z",
     "start_time": "2022-12-27T16:08:48.829103Z"
    }
   },
   "outputs": [
    {
     "data": {
      "text/plain": [
       "['stabilization',\n",
       " 'self',\n",
       " 'self stabilization',\n",
       " 'stabilize',\n",
       " 'self stabilize',\n",
       " 'distribute',\n",
       " 'distributed',\n",
       " 'robust',\n",
       " 'sensor',\n",
       " 'stabilizing']"
      ]
     },
     "execution_count": 44,
     "metadata": {},
     "output_type": "execute_result"
    }
   ],
   "source": [
    "gismo.get_features_by_rank(k=10)"
   ]
  },
  {
   "cell_type": "markdown",
   "metadata": {},
   "source": [
    "How are keywords structured?"
   ]
  },
  {
   "cell_type": "code",
   "execution_count": 45,
   "metadata": {
    "ExecuteTime": {
     "end_time": "2022-12-27T16:08:52.499850Z",
     "start_time": "2022-12-27T16:08:48.856541Z"
    }
   },
   "outputs": [
    {
     "name": "stdout",
     "output_type": "stream",
     "text": [
      " F: 0.35. R: 0.02. S: 0.80.\n",
      "- F: 0.61. R: 0.02. S: 0.80.\n",
      "-- F: 0.76. R: 0.02. S: 0.81.\n",
      "--- F: 0.82. R: 0.01. S: 0.81.\n",
      "---- F: 0.92. R: 0.01. S: 0.81.\n",
      "----- stabilization (R: 0.00; S: 0.81)\n",
      "----- self stabilization (R: 0.00; S: 0.81)\n",
      "----- stabilizing (R: 0.00; S: 0.75)\n",
      "---- F: 0.94. R: 0.00. S: 0.68.\n",
      "----- sensor (R: 0.00; S: 0.68)\n",
      "----- wireless (R: 0.00; S: 0.66)\n",
      "---- fault (R: 0.00; S: 0.76)\n",
      "--- F: 0.85. R: 0.01. S: 0.67.\n",
      "---- F: 0.97. R: 0.01. S: 0.67.\n",
      "----- self (R: 0.00; S: 0.76)\n",
      "----- stabilize (R: 0.00; S: 0.69)\n",
      "----- self stabilize (R: 0.00; S: 0.66)\n",
      "---- distributed (R: 0.00; S: 0.70)\n",
      "-- F: 0.79. R: 0.00. S: 0.46.\n",
      "--- distribute (R: 0.00; S: 0.67)\n",
      "--- robot (R: 0.00; S: 0.41)\n",
      "--- byzantine (R: 0.00; S: 0.44)\n",
      "--- optimal (R: 0.00; S: 0.64)\n",
      "--- mobile (R: 0.00; S: 0.53)\n",
      "- F: 0.54. R: 0.00. S: 0.36.\n",
      "-- F: 0.65. R: 0.00. S: 0.44.\n",
      "--- F: 0.68. R: 0.00. S: 0.38.\n",
      "---- robust (R: 0.00; S: 0.44)\n",
      "---- stability (R: 0.00; S: 0.32)\n",
      "--- adaptive (R: 0.00; S: 0.51)\n",
      "-- F: 0.54. R: 0.00. S: 0.15.\n",
      "--- nonlinear (R: 0.00; S: 0.08)\n",
      "--- linear (R: 0.00; S: 0.25)\n"
     ]
    }
   ],
   "source": [
    "gismo.get_features_by_cluster(k=20, resolution=.8)"
   ]
  },
  {
   "cell_type": "markdown",
   "metadata": {},
   "source": [
    "Who are the associated researchers?"
   ]
  },
  {
   "cell_type": "code",
   "execution_count": 46,
   "metadata": {
    "ExecuteTime": {
     "end_time": "2022-12-27T16:08:52.515851Z",
     "start_time": "2022-12-27T16:08:52.502850Z"
    }
   },
   "outputs": [
    {
     "data": {
      "text/plain": [
       "['Ted Herman',\n",
       " 'Shlomi Dolev',\n",
       " 'Sébastien Tixeuil',\n",
       " 'Sukumar Ghosh',\n",
       " 'George Varghese',\n",
       " 'Shay Kutten',\n",
       " 'Toshimitsu Masuzawa',\n",
       " 'Stefan Schmid 0001',\n",
       " 'Swan Dubois',\n",
       " 'Laurence Pilard']"
      ]
     },
     "execution_count": 46,
     "metadata": {},
     "output_type": "execute_result"
    }
   ],
   "source": [
    "gismo.get_documents_by_rank(k=10)"
   ]
  },
  {
   "cell_type": "markdown",
   "metadata": {},
   "source": [
    "How are they structured?"
   ]
  },
  {
   "cell_type": "code",
   "execution_count": 47,
   "metadata": {
    "ExecuteTime": {
     "end_time": "2022-12-27T16:08:52.579384Z",
     "start_time": "2022-12-27T16:08:52.518852Z"
    }
   },
   "outputs": [
    {
     "name": "stdout",
     "output_type": "stream",
     "text": [
      " F: 0.78. R: 0.05. S: 0.83.\n",
      "- F: 0.93. R: 0.05. S: 0.83.\n",
      "-- F: 0.98. R: 0.01. S: 0.82.\n",
      "--- Ted Herman (R: 0.01; S: 0.82)\n",
      "--- George Varghese (R: 0.00; S: 0.81)\n",
      "-- F: 0.96. R: 0.02. S: 0.80.\n",
      "--- F: 0.97. R: 0.01. S: 0.80.\n",
      "---- Shlomi Dolev (R: 0.01; S: 0.78)\n",
      "---- Toshimitsu Masuzawa (R: 0.00; S: 0.74)\n",
      "---- Laurence Pilard (R: 0.00; S: 0.80)\n",
      "--- Shay Kutten (R: 0.00; S: 0.82)\n",
      "-- F: 0.94. R: 0.02. S: 0.82.\n",
      "--- F: 0.98. R: 0.01. S: 0.81.\n",
      "---- Sébastien Tixeuil (R: 0.01; S: 0.82)\n",
      "---- Sukumar Ghosh (R: 0.01; S: 0.80)\n",
      "--- Swan Dubois (R: 0.00; S: 0.81)\n",
      "- Stefan Schmid 0001 (R: 0.00; S: 0.67)\n"
     ]
    }
   ],
   "source": [
    "gismo.get_documents_by_cluster(k=10, resolution=.9)"
   ]
  },
  {
   "cell_type": "markdown",
   "metadata": {},
   "source": [
    "We can also query researchers. Just use underscores in the query and add `y=False` to indicate that the input is *documents*."
   ]
  },
  {
   "cell_type": "code",
   "execution_count": 48,
   "metadata": {
    "ExecuteTime": {
     "end_time": "2022-12-27T16:09:17.685773Z",
     "start_time": "2022-12-27T16:08:52.582382Z"
    }
   },
   "outputs": [
    {
     "data": {
      "text/plain": [
       "True"
      ]
     },
     "execution_count": 48,
     "metadata": {},
     "output_type": "execute_result"
    }
   ],
   "source": [
    "gismo.rank(\"Sébastien_Tixeuil and Fabien_Mathieu\", y=False)"
   ]
  },
  {
   "cell_type": "markdown",
   "metadata": {},
   "source": [
    "What are the associated keywords?"
   ]
  },
  {
   "cell_type": "code",
   "execution_count": 49,
   "metadata": {
    "ExecuteTime": {
     "end_time": "2022-12-27T16:09:17.700753Z",
     "start_time": "2022-12-27T16:09:17.689783Z"
    }
   },
   "outputs": [
    {
     "data": {
      "text/plain": [
       "['p2p',\n",
       " 'grid',\n",
       " 'byzantine',\n",
       " 'stabilization',\n",
       " 'reloaded',\n",
       " 'refresh',\n",
       " 'self',\n",
       " 'self stabilization',\n",
       " 'p2p network',\n",
       " 'live streaming']"
      ]
     },
     "execution_count": 49,
     "metadata": {},
     "output_type": "execute_result"
    }
   ],
   "source": [
    "gismo.get_features_by_rank(k=10)"
   ]
  },
  {
   "cell_type": "markdown",
   "metadata": {},
   "source": [
    "Using covering can yield other keywords of interest."
   ]
  },
  {
   "cell_type": "code",
   "execution_count": 50,
   "metadata": {
    "ExecuteTime": {
     "end_time": "2022-12-27T16:09:19.220317Z",
     "start_time": "2022-12-27T16:09:17.704838Z"
    }
   },
   "outputs": [
    {
     "data": {
      "text/plain": [
       "['p2p',\n",
       " 'grid',\n",
       " 'byzantine',\n",
       " 'preference',\n",
       " 'pagerank',\n",
       " 'fun',\n",
       " 'reloaded',\n",
       " 'p2p network',\n",
       " 'old',\n",
       " 'acyclic']"
      ]
     },
     "execution_count": 50,
     "metadata": {},
     "output_type": "execute_result"
    }
   ],
   "source": [
    "gismo.get_features_by_coverage(k=10)"
   ]
  },
  {
   "cell_type": "markdown",
   "metadata": {},
   "source": [
    "How are keywords structured?"
   ]
  },
  {
   "cell_type": "code",
   "execution_count": 51,
   "metadata": {
    "ExecuteTime": {
     "end_time": "2022-12-27T16:09:20.669623Z",
     "start_time": "2022-12-27T16:09:19.224296Z"
    }
   },
   "outputs": [
    {
     "name": "stdout",
     "output_type": "stream",
     "text": [
      " F: 0.39. R: 0.21. S: 0.67.\n",
      "- F: 0.72. R: 0.09. S: 0.31.\n",
      "-- F: 0.72. R: 0.06. S: 0.31.\n",
      "--- p2p (R: 0.02; S: 0.34)\n",
      "--- refresh (R: 0.01; S: 0.27)\n",
      "--- live streaming (R: 0.01; S: 0.29)\n",
      "--- live (R: 0.01; S: 0.33)\n",
      "--- streaming (R: 0.01; S: 0.32)\n",
      "-- reloaded (R: 0.01; S: 0.29)\n",
      "-- p2p network (R: 0.01; S: 0.29)\n",
      "-- old (R: 0.01; S: 0.27)\n",
      "-- acyclic (R: 0.01; S: 0.32)\n",
      "- grid (R: 0.02; S: 0.47)\n",
      "- F: 0.66. R: 0.09. S: 0.62.\n",
      "-- F: 0.79. R: 0.08. S: 0.62.\n",
      "--- byzantine (R: 0.01; S: 0.56)\n",
      "--- stabilization (R: 0.01; S: 0.58)\n",
      "--- self (R: 0.01; S: 0.62)\n",
      "--- self stabilization (R: 0.01; S: 0.59)\n",
      "--- stabilize (R: 0.01; S: 0.60)\n",
      "--- self stabilize (R: 0.01; S: 0.60)\n",
      "--- asynchronous (R: 0.01; S: 0.56)\n",
      "-- fun (R: 0.01; S: 0.48)\n",
      "- preference (R: 0.01; S: 0.24)\n",
      "- pagerank (R: 0.01; S: 0.24)\n"
     ]
    }
   ],
   "source": [
    "gismo.get_features_by_cluster(k=20, resolution=.7)"
   ]
  },
  {
   "cell_type": "markdown",
   "metadata": {},
   "source": [
    "Who are the associated researchers?"
   ]
  },
  {
   "cell_type": "code",
   "execution_count": 52,
   "metadata": {
    "ExecuteTime": {
     "end_time": "2022-12-27T16:09:20.685519Z",
     "start_time": "2022-12-27T16:09:20.672620Z"
    }
   },
   "outputs": [
    {
     "data": {
      "text/plain": [
       "['Sébastien Tixeuil',\n",
       " 'Fabien Mathieu',\n",
       " 'Shlomi Dolev',\n",
       " 'Toshimitsu Masuzawa',\n",
       " 'Michel Raynal',\n",
       " 'Nitin H. Vaidya',\n",
       " 'Stéphane Devismes',\n",
       " 'Fukuhito Ooshita',\n",
       " 'Edmond Bianco',\n",
       " 'Ted Herman']"
      ]
     },
     "execution_count": 52,
     "metadata": {},
     "output_type": "execute_result"
    }
   ],
   "source": [
    "gismo.get_documents_by_rank(k=10)"
   ]
  },
  {
   "cell_type": "markdown",
   "metadata": {},
   "source": [
    "How are they structured?"
   ]
  },
  {
   "cell_type": "code",
   "execution_count": 53,
   "metadata": {
    "ExecuteTime": {
     "end_time": "2022-12-27T16:09:20.733034Z",
     "start_time": "2022-12-27T16:09:20.688026Z"
    }
   },
   "outputs": [
    {
     "name": "stdout",
     "output_type": "stream",
     "text": [
      " F: 0.00. R: 0.01. S: 0.66.\n",
      "- F: 0.12. R: 0.00. S: 0.66.\n",
      "-- F: 0.36. R: 0.00. S: 0.52.\n",
      "--- F: 0.80. R: 0.00. S: 0.50.\n",
      "---- F: 0.80. R: 0.00. S: 0.52.\n",
      "----- Sébastien Tixeuil (R: 0.00; S: 0.53)\n",
      "----- Shlomi Dolev (R: 0.00; S: 0.42)\n",
      "----- Toshimitsu Masuzawa (R: 0.00; S: 0.47)\n",
      "----- Stéphane Devismes (R: 0.00; S: 0.41)\n",
      "----- Fukuhito Ooshita (R: 0.00; S: 0.50)\n",
      "---- Ted Herman (R: 0.00; S: 0.39)\n",
      "--- F: 0.82. R: 0.00. S: 0.31.\n",
      "---- Michel Raynal (R: 0.00; S: 0.37)\n",
      "---- Nitin H. Vaidya (R: 0.00; S: 0.26)\n",
      "-- Fabien Mathieu (R: 0.00; S: 0.73)\n",
      "- Edmond Bianco (R: 0.00; S: 0.04)\n"
     ]
    }
   ],
   "source": [
    "gismo.get_documents_by_cluster(k=10, resolution=.8)"
   ]
  }
 ],
 "metadata": {
  "kernelspec": {
   "display_name": "Python 3 (ipykernel)",
   "language": "python",
   "name": "python3"
  },
  "language_info": {
   "codemirror_mode": {
    "name": "ipython",
    "version": 3
   },
   "file_extension": ".py",
   "mimetype": "text/x-python",
   "name": "python",
   "nbconvert_exporter": "python",
   "pygments_lexer": "ipython3",
   "version": "3.9.13"
  },
  "toc": {
   "base_numbering": 1,
   "nav_menu": {},
   "number_sections": true,
   "sideBar": true,
   "skip_h1_title": true,
   "title_cell": "Table of Contents",
   "title_sidebar": "Contents",
   "toc_cell": false,
   "toc_position": {},
   "toc_section_display": true,
   "toc_window_display": false
  }
 },
 "nbformat": 4,
 "nbformat_minor": 4
}
