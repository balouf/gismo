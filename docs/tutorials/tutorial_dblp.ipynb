{
 "cells": [
  {
   "cell_type": "markdown",
   "metadata": {},
   "source": [
    "# DBLP exploration"
   ]
  },
  {
   "cell_type": "markdown",
   "metadata": {},
   "source": [
    "This tutorial shows how explore DBLP with Gismo.\n",
    "\n",
    "If you have never used Gismo before, you may want to start with the *Toy example tutorial* or the *ACM* tutorial.\n",
    "\n",
    "Note: the DBLP databased is not small. Recommended requirements to excute this Notebook:\n",
    "- Fast Internet connection (you will need to download a few hundred Mb)\n",
    "- 4 Gb of free space\n",
    "- 4 Gb of RAM (8Gb or more recommended)\n",
    "- Descent CPU (can take more than one hour on slow CPUs)\n",
    "\n",
    "Here, *documents* are articles in DBLP. The *features* of an article category will vary."
   ]
  },
  {
   "cell_type": "markdown",
   "metadata": {},
   "source": [
    "## Initialisation"
   ]
  },
  {
   "cell_type": "markdown",
   "metadata": {},
   "source": [
    "First, we load the required packages."
   ]
  },
  {
   "cell_type": "code",
   "execution_count": null,
   "metadata": {
    "ExecuteTime": {
     "end_time": "2020-07-22T12:26:47.664654Z",
     "start_time": "2020-07-22T12:26:43.221373Z"
    }
   },
   "outputs": [],
   "source": [
    "import numpy as np\n",
    "import spacy\n",
    "from sklearn.feature_extraction.text import CountVectorizer\n",
    "from sklearn.metrics.pairwise import cosine_similarity\n",
    "from pathlib import Path\n",
    "\n",
    "from gismo.datasets.dblp import Dblp\n",
    "from gismo.filesource import FileSource\n",
    "from gismo.corpus import Corpus\n",
    "from gismo.embedding import Embedding\n",
    "from gismo.gismo import Gismo\n",
    "from gismo.post_processing import post_features_cluster_print"
   ]
  },
  {
   "cell_type": "markdown",
   "metadata": {},
   "source": [
    "Then, we prepare the DBLP source."
   ]
  },
  {
   "cell_type": "markdown",
   "metadata": {},
   "source": [
    "First we choose the location of the DBLP files. If you want to run this Notebook at your place, please change the path below and check that it exists."
   ]
  },
  {
   "cell_type": "code",
   "execution_count": 2,
   "metadata": {
    "ExecuteTime": {
     "end_time": "2020-07-22T12:26:47.701915Z",
     "start_time": "2020-07-22T12:26:47.680941Z"
    }
   },
   "outputs": [
    {
     "data": {
      "text/plain": [
       "True"
      ]
     },
     "execution_count": 2,
     "metadata": {},
     "output_type": "execute_result"
    }
   ],
   "source": [
    "path = Path(\"../../../../../Datasets/DBLP\")\n",
    "path.exists()"
   ]
  },
  {
   "cell_type": "markdown",
   "metadata": {},
   "source": [
    "Construction of the dblp files. Only needs to be performed the first time or when you want to refresh the database. Takes about 10 minutes on a Surface Pro 4 with fiber Internet connection."
   ]
  },
  {
   "cell_type": "code",
   "execution_count": 3,
   "metadata": {
    "ExecuteTime": {
     "end_time": "2020-07-22T12:26:47.725111Z",
     "start_time": "2020-07-22T12:26:47.704973Z"
    }
   },
   "outputs": [
    {
     "name": "stdout",
     "output_type": "stream",
     "text": [
      "File ..\\..\\..\\..\\..\\Datasets\\DBLP\\dblp.xml.gz already exists. Use refresh option to overwrite.\n",
      "File ..\\..\\..\\..\\..\\Datasets\\DBLP\\dblp.data already exists. Use refresh option to overwrite.\n"
     ]
    }
   ],
   "source": [
    "dblp = Dblp(path=path)\n",
    "dblp.build()"
   ]
  },
  {
   "cell_type": "markdown",
   "metadata": {},
   "source": [
    "Then, we can load the database as a filesource."
   ]
  },
  {
   "cell_type": "code",
   "execution_count": 4,
   "metadata": {
    "ExecuteTime": {
     "end_time": "2020-07-22T12:26:50.407950Z",
     "start_time": "2020-07-22T12:26:50.321413Z"
    }
   },
   "outputs": [
    {
     "data": {
      "text/plain": [
       "{'type': 'article',\n",
       " 'title': 'Spectre Attacks: Exploiting Speculative Execution.',\n",
       " 'venue': 'meltdownattack.com',\n",
       " 'year': '2018',\n",
       " 'authors': ['Paul Kocher',\n",
       "  'Daniel Genkin',\n",
       "  'Daniel Gruss',\n",
       "  'Werner Haas',\n",
       "  'Mike Hamburg',\n",
       "  'Moritz Lipp',\n",
       "  'Stefan Mangard',\n",
       "  'Thomas Prescher 0002',\n",
       "  'Michael Schwarz 0001',\n",
       "  'Yuval Yarom']}"
      ]
     },
     "execution_count": 4,
     "metadata": {},
     "output_type": "execute_result"
    }
   ],
   "source": [
    "source = FileSource(filename=\"dblp\", path=path)\n",
    "source[0]"
   ]
  },
  {
   "cell_type": "markdown",
   "metadata": {},
   "source": [
    "Each article is a dict with fields ``type``, ``venue``, ``title``, ``year``, and ``authors``. We build a corpus that will tell Gismo that the content of an article is its ``title`` value."
   ]
  },
  {
   "cell_type": "code",
   "execution_count": 5,
   "metadata": {
    "ExecuteTime": {
     "end_time": "2020-07-22T12:26:52.009414Z",
     "start_time": "2020-07-22T12:26:52.001538Z"
    }
   },
   "outputs": [],
   "source": [
    "corpus = Corpus(source, to_text=lambda x: x['title'])"
   ]
  },
  {
   "cell_type": "markdown",
   "metadata": {},
   "source": [
    "We build an embedding on top of that corpus.\n",
    "- We set ``min_df=30`` to exclude rare features;\n",
    "- We set ``max_df=.02`` to exclude anything present in more than 2% of the corpus;\n",
    "- We use `spacy` to lemmatize & remove some stopwords; remove `preprocessor=...` from the input if you want to skip this (takes time);\n",
    "- A few manually selected stopwords to fine-tune things.\n",
    "- We set ``ngram_range=[1, 2]`` to include bi-grams in the embedding.\n",
    "\n",
    "This will take a few minutes (without spacy) up to a few hours (with spacy enabled). You can save the embedding for later if you want."
   ]
  },
  {
   "cell_type": "code",
   "execution_count": 6,
   "metadata": {
    "ExecuteTime": {
     "end_time": "2020-07-22T12:26:59.308133Z",
     "start_time": "2020-07-22T12:26:54.618144Z"
    }
   },
   "outputs": [],
   "source": [
    "nlp = spacy.load('en', disable=['parser', 'ner'])\n",
    "keep = {'ADJ', 'NOUN', 'NUM', 'PROPN', 'SYM', 'VERB'}\n",
    "vectorizer = CountVectorizer(min_df=30, max_df=.02, ngram_range=[1, 2], dtype=float,\n",
    "                             preprocessor=lambda txt: \" \".join([w.lemma_.lower() for w in nlp(txt) \n",
    "                                                                if w.pos_ in keep and not w.is_stop]),\n",
    "                             stop_words=['a', 'about', 'an', 'and', 'for', 'from', 'in', 'of', 'on', 'the', 'with'])\n",
    "embedding = Embedding(vectorizer=vectorizer)\n",
    "\n",
    "try:\n",
    "    embedding.load(filename=\"dblp_embedding\", path=path)\n",
    "except:\n",
    "    embedding.fit_transform(corpus)\n",
    "    embedding.save(filename=\"dblp_embedding\", path=path)"
   ]
  },
  {
   "cell_type": "code",
   "execution_count": 7,
   "metadata": {
    "ExecuteTime": {
     "end_time": "2020-07-22T12:26:59.924734Z",
     "start_time": "2020-07-22T12:26:59.913740Z"
    }
   },
   "outputs": [
    {
     "data": {
      "text/plain": [
       "<4889758x149361 sparse matrix of type '<class 'numpy.float64'>'\n",
       "\twith 45847196 stored elements in Compressed Sparse Row format>"
      ]
     },
     "execution_count": 7,
     "metadata": {},
     "output_type": "execute_result"
    }
   ],
   "source": [
    "embedding.x"
   ]
  },
  {
   "cell_type": "markdown",
   "metadata": {},
   "source": [
    "We see from ``embedding.x`` that the embedding links about 5,000,000 documents to 150,000 features. In average, each document is linked to about 10 features."
   ]
  },
  {
   "cell_type": "markdown",
   "metadata": {},
   "source": [
    "Now, we initiate the gismo object, and customize post_processers to ease the display."
   ]
  },
  {
   "cell_type": "code",
   "execution_count": 8,
   "metadata": {
    "ExecuteTime": {
     "end_time": "2020-07-22T12:27:07.153497Z",
     "start_time": "2020-07-22T12:27:07.145752Z"
    }
   },
   "outputs": [],
   "source": [
    "gismo = Gismo(corpus, embedding)"
   ]
  },
  {
   "cell_type": "code",
   "execution_count": 29,
   "metadata": {
    "ExecuteTime": {
     "end_time": "2020-07-22T12:28:51.352075Z",
     "start_time": "2020-07-22T12:28:51.331580Z"
    }
   },
   "outputs": [],
   "source": [
    "def post_article(g, i):\n",
    "    dic = g.corpus[i]\n",
    "    authors = \", \".join(dic['authors'])\n",
    "    return f\"{dic['title']} By {authors} ({dic['venue']}, {dic['year']})\"\n",
    "    \n",
    "gismo.post_documents_item = post_article\n",
    "\n",
    "\n",
    "def get_sim(csr, arr):\n",
    "    return csr.dot(arr)[0]/np.linalg.norm(csr.data)/np.linalg.norm(arr)    \n",
    "\n",
    "\n",
    "\n",
    "\n",
    "def post_documents_cluster_print(gismo, cluster, depth=\"\"):\n",
    "#     sim = cosine_similarity(cluster.vector, gismo.diteration.y_relevance.reshape(1, -1))[0][0]\n",
    "    sim = get_sim(cluster.vector, gismo.diteration.y_relevance)\n",
    "    if len(cluster.children) == 0:\n",
    "        txt = gismo.corpus[cluster.indice][\"title\"]\n",
    "        print(f\"{depth} {txt} \"\n",
    "              f\"(R: {gismo.diteration.x_relevance[cluster.indice]:.2f}; \"\n",
    "              f\"S: {sim:.2f})\")\n",
    "    else:\n",
    "        print(f\"{depth} F: {cluster.focus:.2f}. \"\n",
    "              f\"R: {sum(gismo.diteration.x_relevance[cluster.members]):.2f}. \"\n",
    "              f\"S: {sim:.2f}.\")\n",
    "    for c in cluster.children:\n",
    "        post_documents_cluster_print(gismo, c, depth=depth + '-')\n",
    "gismo.post_documents_cluster = post_documents_cluster_print\n",
    "gismo.post_features_cluster = post_features_cluster_print"
   ]
  },
  {
   "cell_type": "markdown",
   "metadata": {},
   "source": [
    "As the dataset is big, we lower the precision of the computation to speed up things a little bit."
   ]
  },
  {
   "cell_type": "code",
   "execution_count": 30,
   "metadata": {
    "ExecuteTime": {
     "end_time": "2020-07-22T12:28:52.464965Z",
     "start_time": "2020-07-22T12:28:52.459351Z"
    }
   },
   "outputs": [],
   "source": [
    "gismo.parameters.n_iter = 2"
   ]
  },
  {
   "cell_type": "markdown",
   "metadata": {},
   "source": [
    "## Machine Learning (and Covid-19) query"
   ]
  },
  {
   "cell_type": "markdown",
   "metadata": {},
   "source": [
    "We perform the query *Machine learning*. The returned ``True`` tells that some of the query features were found in the corpus' features."
   ]
  },
  {
   "cell_type": "code",
   "execution_count": 31,
   "metadata": {
    "ExecuteTime": {
     "end_time": "2020-07-22T12:29:00.959540Z",
     "start_time": "2020-07-22T12:28:53.474458Z"
    }
   },
   "outputs": [
    {
     "data": {
      "text/plain": [
       "True"
      ]
     },
     "execution_count": 31,
     "metadata": {},
     "output_type": "execute_result"
    }
   ],
   "source": [
    "gismo.rank(\"Machine Learning\")"
   ]
  },
  {
   "cell_type": "markdown",
   "metadata": {},
   "source": [
    "What are the best articles on *Machine Learning*?"
   ]
  },
  {
   "cell_type": "code",
   "execution_count": 32,
   "metadata": {
    "ExecuteTime": {
     "end_time": "2020-07-22T12:29:00.978406Z",
     "start_time": "2020-07-22T12:29:00.965537Z"
    }
   },
   "outputs": [
    {
     "data": {
      "text/plain": [
       "['Can Machine Learning Model with Static Features be Fooled: an Adversarial Machine Learning Approach. By Rahim Taheri, Reza Javidan, Mohammad Shojafar, Vinod P, Mauro Conti (CoRR, 2019)',\n",
       " 'How Developers Iterate on Machine Learning Workflows - A Survey of the Applied Machine Learning Literature. By Doris Xin, Litian Ma, Shuchen Song, Aditya G. Parameswaran (CoRR, 2018)',\n",
       " 'Informed Machine Learning - Towards a Taxonomy of Explicit Integration of Knowledge into Machine Learning. By Laura von Rüden, Sebastian Mayer, Jochen Garcke, Christian Bauckhage, Jannis Schücker (CoRR, 2019)',\n",
       " 'Three Differential Emotion Classification by Machine Learning Algorithms using Physiological Signals - Discriminantion of Emotions by Machine Learning Algorithms. By Eun-Hye Jang, Byoung-Jun Park, Sang-Hyeob Kim, Jin-Hun Sohn (ICAART (1), 2012)',\n",
       " 'When Lempel-Ziv-Welch Meets Machine Learning: A Case Study of Accelerating Machine Learning using Coding. By Fengan Li, Lingjiao Chen, Arun Kumar 0001, Jeffrey F. Naughton, Jignesh M. Patel, Xi Wu 0001 (CoRR, 2017)',\n",
       " 'Linear Algebra and Optimization with Applications to Machine Learning - Volume I: Linear Algebra for Computer Vision, Robotics, and Machine Learning By Jean H. Gallier, Jocelyn Quaintance (Linear Algebra Optim. Appl. Mach. Learn. I, 2020)',\n",
       " 'Sports and machine learning: How young people can use data from their own bodies to learn about machine learning. By Abigail Zimmermann-Niefield, R. Benjamin Shapiro, Shaun K. Kane (ACM Crossroads, 2019)',\n",
       " 'Ethem Alpaydin. Introduction to Machine Learning (Adaptive Computation and Machine Learning Series). The MIT Press, 2004, ISBN 0 262 01211 1. By Shahzad Khan (Nat. Lang. Eng., 2008)',\n",
       " 'Motion Evaluation of Therapy Exercises by Means of Skeleton Normalisation, Incremental Dynamic Time Warping and Machine Learning: A Comparison of a Rule-Based and a Machine-Learning-Based Approach. By Julia Richter, Christian Wiede, Ulrich Heinkel, Gangolf Hirtz (VISIGRAPP (4: VISAPP), 2019)']"
      ]
     },
     "execution_count": 32,
     "metadata": {},
     "output_type": "execute_result"
    }
   ],
   "source": [
    "gismo.get_documents_by_rank()"
   ]
  },
  {
   "cell_type": "markdown",
   "metadata": {},
   "source": [
    "OK, this seems to go everywhere. Maybe we can narrow with a more specific request."
   ]
  },
  {
   "cell_type": "code",
   "execution_count": 33,
   "metadata": {
    "ExecuteTime": {
     "end_time": "2020-07-22T12:29:08.480056Z",
     "start_time": "2020-07-22T12:29:00.984947Z"
    }
   },
   "outputs": [
    {
     "data": {
      "text/plain": [
       "True"
      ]
     },
     "execution_count": 33,
     "metadata": {},
     "output_type": "execute_result"
    }
   ],
   "source": [
    "gismo.rank(\"Machine Learning and covid-19\")"
   ]
  },
  {
   "cell_type": "code",
   "execution_count": 34,
   "metadata": {
    "ExecuteTime": {
     "end_time": "2020-07-22T12:29:08.495434Z",
     "start_time": "2020-07-22T12:29:08.484050Z"
    }
   },
   "outputs": [
    {
     "data": {
      "text/plain": [
       "['GSA-DenseNet121-COVID-19: a Hybrid Deep Learning Architecture for the Diagnosis of COVID-19 Disease based on Gravitational Search Optimization Algorithm. By Dalia Ezzat, Aboul Ella Hassanien, Hassan Aboul Ella (CoRR, 2020)',\n",
       " 'NAIST COVID: Multilingual COVID-19 Twitter and Weibo Dataset. By Zhiwei Gao, Shuntaro Yada, Shoko Wakamiya, Eiji Aramaki (CoRR, 2020)',\n",
       " 'COVID-MobileXpert: On-Device COVID-19 Screening using Snapshots of Chest X-Ray. By Xin Li, Chengyin Li, Dongxiao Zhu (CoRR, 2020)',\n",
       " 'Deep-COVID: Predicting COVID-19 From Chest X-Ray Images Using Deep Transfer Learning. By Shervin Minaee, Rahele Kafieh, Milan Sonka, Shakib Yazdani, Ghazaleh Jamalipour Soufi (CoRR, 2020)',\n",
       " 'COVID-CAPS: A Capsule Network-based Framework for Identification of COVID-19 cases from X-ray Images. By Parnian Afshar, Shahin Heidarian, Farnoosh Naderkhani, Anastasia Oikonomou, Konstantinos N. Plataniotis, Arash Mohammadi 0001 (CoRR, 2020)',\n",
       " 'COVID-Net: A Tailored Deep Convolutional Neural Network Design for Detection of COVID-19 Cases from Chest Radiography Images. By Linda Wang, Alexander Wong (CoRR, 2020)',\n",
       " 'CORD-19: The Covid-19 Open Research Dataset. By Lucy Lu Wang, Kyle Lo, Yoganand Chandrasekhar, Russell Reas, Jiangjiang Yang, Darrin Eide, Kathryn Funk, Rodney Kinney, Ziyang Liu, William Merrill, Paul Mooney, Dewey Murdick, Devvret Rishi, Jerry Sheehan, Zhihong Shen, Brandon Stilson, Alex D. Wade, Kuansan Wang, Chris Wilhelm, Boya Xie, Douglas Raymond, Daniel S. Weld, Oren Etzioni, Sebastian Kohlmeier (CoRR, 2020)',\n",
       " 'A SIDARTHE Model of COVID-19 Epidemic in Italy. By Giulia Giordano, Franco Blanchini, Raffaele Bruno, Patrizio Colaneri, Alessandro Di Filippo, Angela Di Matteo, Marta Colaneri (CoRR, 2020)',\n",
       " 'A First Instagram Dataset on COVID-19. By Koosha Zarei, Reza Farahbakhsh, Noël Crespi, Gareth Tyson (CoRR, 2020)',\n",
       " 'SurviveCovid-19 - A Game for Improving Awareness of Social Distancing and Health Measures for Covid-19 Pandemic. By Akhila Sri Manasa Venigalla, Dheeraj Vagavolu, Sridhar Chimalakonda (CoRR, 2020)',\n",
       " 'Responding to the COVID-19 pandemic: an invitation. By Mikael Wiberg, Alex S. Taylor, Daniela Rosner (Interactions, 2020)',\n",
       " 'Tracing Contacts to Control the COVID-19 Pandemic. By Christoph Günther 0001, Michael Günther 0007, Daniel Günther 0005 (CoRR, 2020)',\n",
       " 'Learning to Forecast and Forecasting to Learn from the COVID-19 Pandemic. By Ajitesh Srivastava, Viktor K. Prasanna (CoRR, 2020)',\n",
       " 'Campus Traffic and e-Learning during COVID-19 Pandemic. By Thomas Favale, Francesca Soro, Martino Trevisan, Idilio Drago, Marco Mellia (CoRR, 2020)',\n",
       " 'MiniSeg: An Extremely Minimum Network for Efficient COVID-19 Segmentation. By Yu Qiu, Yun Liu, Jing Xu (CoRR, 2020)',\n",
       " 'COVID-19 Image Data Collection. By Joseph Paul Cohen, Paul Morrison, Lan Dao (CoRR, 2020)',\n",
       " 'The COVID-19 Social Media Infodemic. By Matteo Cinelli, Walter Quattrociocchi, Alessandro Galeazzi, Carlo Michele Valensise, Emanuele Brugnoli, Ana Lucía Schmidt, Paola Zola, Fabiana Zollo, Antonio Scala (CoRR, 2020)',\n",
       " 'Mobility Changes in Response to COVID-19. By Michael S. Warren, Samuel W. Skillman (CoRR, 2020)',\n",
       " 'Building a COVID-19 Vulnerability Index. By Dave DeCaprio, Joseph Gartner, Thadeus Burgess, Sarthak Kothari, Shaayan Sayed, Carol J. McCall (CoRR, 2020)',\n",
       " 'Why do People Share Misinformation during the COVID-19 Pandemic? By Samuli Laato, A. K. M. Najmul Islam, Muhammad Nazrul Islam, Eoin Whelan (CoRR, 2020)',\n",
       " 'CovidAID: COVID-19 Detection Using Chest X-Ray. By Arpan Mangal, Surya Kalia, Harish Rajgopal, Krithika Rangarajan, Vinay Namboodiri, Subhashis Banerjee, Chetan Arora 0001 (CoRR, 2020)']"
      ]
     },
     "execution_count": 34,
     "metadata": {},
     "output_type": "execute_result"
    }
   ],
   "source": [
    "gismo.get_documents_by_rank()"
   ]
  },
  {
   "cell_type": "markdown",
   "metadata": {},
   "source": [
    "Sounds nice. How are the top-10 articles related? Note: as the graph structure is really sparse on the document side (10 features), it is best to de-activate the query-distortion, which is intended for longer documents."
   ]
  },
  {
   "cell_type": "code",
   "execution_count": 35,
   "metadata": {
    "ExecuteTime": {
     "end_time": "2020-07-22T12:29:08.569632Z",
     "start_time": "2020-07-22T12:29:08.499982Z"
    }
   },
   "outputs": [
    {
     "name": "stdout",
     "output_type": "stream",
     "text": [
      " F: 0.56. R: 0.02. S: 0.93.\n",
      "- F: 0.57. R: 0.02. S: 0.92.\n",
      "-- GSA-DenseNet121-COVID-19: a Hybrid Deep Learning Architecture for the Diagnosis of COVID-19 Disease based on Gravitational Search Optimization Algorithm. (R: 0.00; S: 0.64)\n",
      "-- F: 0.66. R: 0.01. S: 0.91.\n",
      "--- F: 0.66. R: 0.01. S: 0.90.\n",
      "---- NAIST COVID: Multilingual COVID-19 Twitter and Weibo Dataset. (R: 0.00; S: 0.69)\n",
      "---- CORD-19: The Covid-19 Open Research Dataset. (R: 0.00; S: 0.76)\n",
      "---- A SIDARTHE Model of COVID-19 Epidemic in Italy. (R: 0.00; S: 0.79)\n",
      "---- A First Instagram Dataset on COVID-19. (R: 0.00; S: 0.80)\n",
      "--- F: 0.68. R: 0.00. S: 0.73.\n",
      "---- COVID-MobileXpert: On-Device COVID-19 Screening using Snapshots of Chest X-Ray. (R: 0.00; S: 0.70)\n",
      "---- Deep-COVID: Predicting COVID-19 From Chest X-Ray Images Using Deep Transfer Learning. (R: 0.00; S: 0.63)\n",
      "-- COVID-CAPS: A Capsule Network-based Framework for Identification of COVID-19 cases from X-ray Images. (R: 0.00; S: 0.60)\n",
      "-- COVID-Net: A Tailored Deep Convolutional Neural Network Design for Detection of COVID-19 Cases from Chest Radiography Images. (R: 0.00; S: 0.56)\n",
      "- SurviveCovid-19 - A Game for Improving Awareness of Social Distancing and Health Measures for Covid-19 Pandemic. (R: 0.00; S: 0.62)\n"
     ]
    }
   ],
   "source": [
    "gismo.parameters.distortion = 0.0\n",
    "gismo.get_documents_by_cluster(k=10)"
   ]
  },
  {
   "cell_type": "markdown",
   "metadata": {},
   "source": [
    "OK! Let's decode this: we have:\n",
    "- Lone wolves on gravitional search (first article) and serious gaming (last article)\n",
    "- A large cluster on applications of ML to X-Ray / CT scan processing\n",
    "- A cluster on datasets and social networks\n",
    "- Note that it's not perfect: the social network has been nested inside X-Ray although a manual classification would probably have put it nearby..."
   ]
  },
  {
   "cell_type": "markdown",
   "metadata": {},
   "source": [
    "Now, let's look at the main keywords."
   ]
  },
  {
   "cell_type": "code",
   "execution_count": 36,
   "metadata": {
    "ExecuteTime": {
     "end_time": "2020-07-22T12:29:51.084977Z",
     "start_time": "2020-07-22T12:29:51.074547Z"
    }
   },
   "outputs": [
    {
     "data": {
      "text/plain": [
       "['19',\n",
       " 'covid',\n",
       " 'covid 19',\n",
       " 'machine',\n",
       " 'machine learning',\n",
       " 'pandemic',\n",
       " 'chest',\n",
       " 'chest ray',\n",
       " 'coronavirus',\n",
       " 'ray',\n",
       " 'dataset',\n",
       " 'deep',\n",
       " 'ct',\n",
       " 'epidemic',\n",
       " 'ray image',\n",
       " 'social',\n",
       " 'learn',\n",
       " 'twitter',\n",
       " 'infection',\n",
       " 'spread']"
      ]
     },
     "execution_count": 36,
     "metadata": {},
     "output_type": "execute_result"
    }
   ],
   "source": [
    "gismo.get_features_by_rank(20)"
   ]
  },
  {
   "cell_type": "markdown",
   "metadata": {},
   "source": [
    "Let's organize them."
   ]
  },
  {
   "cell_type": "code",
   "execution_count": 38,
   "metadata": {
    "ExecuteTime": {
     "end_time": "2020-07-22T12:29:56.725758Z",
     "start_time": "2020-07-22T12:29:54.858472Z"
    }
   },
   "outputs": [
    {
     "name": "stdout",
     "output_type": "stream",
     "text": [
      " F: 0.15. R: 0.07. S: 0.93.\n",
      "- F: 0.26. R: 0.06. S: 0.93.\n",
      "-- F: 0.29. R: 0.06. S: 0.97.\n",
      "--- F: 0.97. R: 0.05. S: 0.98.\n",
      "---- 19 (R: 0.02; S: 0.99)\n",
      "---- covid (R: 0.02; S: 0.97)\n",
      "---- covid 19 (R: 0.02; S: 0.98)\n",
      "--- pandemic (R: 0.00; S: 0.32)\n",
      "--- F: 0.86. R: 0.00. S: 0.30.\n",
      "---- chest (R: 0.00; S: 0.32)\n",
      "---- chest ray (R: 0.00; S: 0.28)\n",
      "---- ray (R: 0.00; S: 0.33)\n",
      "--- dataset (R: 0.00; S: 0.28)\n",
      "-- coronavirus (R: 0.00; S: 0.27)\n",
      "- F: 0.79. R: 0.01. S: 0.14.\n",
      "-- machine (R: 0.00; S: 0.16)\n",
      "-- machine learning (R: 0.00; S: 0.12)\n"
     ]
    }
   ],
   "source": [
    "# On the feature side, the graph is more dense so we can use query distortion\n",
    "gismo.get_features_by_cluster(distortion=1)"
   ]
  },
  {
   "cell_type": "markdown",
   "metadata": {},
   "source": [
    "Rough, very broad analysis:\n",
    "- One big keyword cluster about Coronavirus / Covid-19;\n",
    "- Chest X-ray as a sub-cluster;\n",
    "- Machine Learning as a separate small cluster."
   ]
  },
  {
   "cell_type": "code",
   "execution_count": null,
   "metadata": {
    "ExecuteTime": {
     "end_time": "2020-07-22T09:27:22.748113Z",
     "start_time": "2020-07-22T09:27:22.635962Z"
    }
   },
   "outputs": [],
   "source": [
    "np.dot(gismo.embedding.query_projection(\"Machine learning\")[0], gismo.embedding.y)"
   ]
  },
  {
   "cell_type": "markdown",
   "metadata": {},
   "source": [
    "50,000 articles with an explicit link to machine learning."
   ]
  },
  {
   "cell_type": "code",
   "execution_count": null,
   "metadata": {
    "ExecuteTime": {
     "end_time": "2020-07-22T09:27:22.854455Z",
     "start_time": "2020-07-22T09:27:22.752796Z"
    }
   },
   "outputs": [],
   "source": [
    "np.dot(gismo.embedding.query_projection(\"Covid-19\")[0], gismo.embedding.y)"
   ]
  },
  {
   "cell_type": "markdown",
   "metadata": {},
   "source": [
    "800 articles with an explicit link to covid-19."
   ]
  },
  {
   "cell_type": "markdown",
   "metadata": {},
   "source": [
    "## Authors query"
   ]
  },
  {
   "cell_type": "markdown",
   "metadata": {},
   "source": [
    "Instead of looking at words, we can explore authors and their collaborations."
   ]
  },
  {
   "cell_type": "markdown",
   "metadata": {},
   "source": [
    " We just have to rewire the corpus to output string of authors."
   ]
  },
  {
   "cell_type": "code",
   "execution_count": null,
   "metadata": {
    "ExecuteTime": {
     "end_time": "2020-07-22T09:27:22.869614Z",
     "start_time": "2020-07-22T09:27:22.860335Z"
    }
   },
   "outputs": [],
   "source": [
    "def to_authors_text(dic):\n",
    "    return \" \".join([a.replace(' ', '_') for a in dic['authors']])\n",
    "corpus = Corpus(source, to_text=to_authors_text)"
   ]
  },
  {
   "cell_type": "markdown",
   "metadata": {},
   "source": [
    "We can build a new embedding on top of this modified corpus. We tell the vectorizer to be stupid: don't preprocess, words are separated spaces.\n",
    "\n",
    "This will take a few minutes (you can save the embedding for later if you want)."
   ]
  },
  {
   "cell_type": "code",
   "execution_count": null,
   "metadata": {
    "ExecuteTime": {
     "end_time": "2020-07-22T09:27:29.817932Z",
     "start_time": "2020-07-22T09:27:22.876690Z"
    }
   },
   "outputs": [],
   "source": [
    "vectorizer = CountVectorizer(dtype=float,\n",
    "                            preprocessor=lambda x:x, tokenizer=lambda x: x.split(' '))\n",
    "a_embedding = Embedding(vectorizer=vectorizer)\n",
    "try:\n",
    "    a_embedding.load(filename=\"dblp_aut_embedding\", path=path)\n",
    "except:\n",
    "    a_embedding.fit_transform(corpus)\n",
    "    a_embedding.save(filename=\"dblp_aut_embedding\", path=path)"
   ]
  },
  {
   "cell_type": "code",
   "execution_count": null,
   "metadata": {
    "ExecuteTime": {
     "end_time": "2020-07-22T09:27:29.833142Z",
     "start_time": "2020-07-22T09:27:29.822933Z"
    }
   },
   "outputs": [],
   "source": [
    "a_embedding.x"
   ]
  },
  {
   "cell_type": "markdown",
   "metadata": {},
   "source": [
    "We now have about 2,500,000 authors to explore. Let's reload gismo and try to play."
   ]
  },
  {
   "cell_type": "code",
   "execution_count": null,
   "metadata": {
    "ExecuteTime": {
     "end_time": "2020-07-22T09:30:54.630114Z",
     "start_time": "2020-07-22T09:30:54.604370Z"
    }
   },
   "outputs": [],
   "source": [
    "gismo = Gismo(corpus, a_embedding)\n",
    "gismo.post_documents_item = post_article\n",
    "gismo.post_features_item = lambda g, i: g.embedding.features[i].replace(\"_\", \" \")\n",
    "\n",
    "def print_document_cluster(gismo, cluster, depth=\"\"):\n",
    "    sim = cosine_similarity(cluster.vector, gismo.diteration.y_relevance.reshape(1, -1))[0][0]\n",
    "    if len(cluster.children) == 0:\n",
    "        dic = gismo.corpus[cluster.indice]\n",
    "        authors = \", \".join(dic['authors'])\n",
    "        txt = f\"{authors} ({dic['venue']}, {dic['year']})\"\n",
    "        #post_article(gismo, cluster.indice)\n",
    "        print(f\"{depth} {txt} \")\n",
    "         #     f\"(R: {gismo.diteration.x_relevance[cluster.indice]:.2f}; \"\n",
    "          #    f\"S: {sim:.2f})\")\n",
    "    else:\n",
    "        print(f\"{depth} F: {cluster.focus:.2f}. \"\n",
    "              f\"R: {sum(gismo.diteration.x_relevance[cluster.members]):.2f}. \"\n",
    "              f\"S: {sim:.2f}.\")\n",
    "    for c in cluster.children:\n",
    "        print_document_cluster(gismo, c, depth=depth + '-')\n",
    "gismo.post_document_cluster = print_document_cluster\n",
    "\n",
    "\n",
    "gismo.post_documents_cluster = print_document_cluster\n",
    "gismo.post_features_cluster = post_features_cluster_print"
   ]
  },
  {
   "cell_type": "markdown",
   "metadata": {},
   "source": [
    "### Laurent Massoulié query"
   ]
  },
  {
   "cell_type": "code",
   "execution_count": null,
   "metadata": {
    "ExecuteTime": {
     "end_time": "2020-07-22T09:31:01.232356Z",
     "start_time": "2020-07-22T09:30:55.883617Z"
    }
   },
   "outputs": [],
   "source": [
    "gismo.rank(\"Laurent_Massoulié\")"
   ]
  },
  {
   "cell_type": "markdown",
   "metadata": {},
   "source": [
    "What are the most central articles of Laurent Massoulié in terms of collaboration?"
   ]
  },
  {
   "cell_type": "code",
   "execution_count": null,
   "metadata": {
    "ExecuteTime": {
     "end_time": "2020-07-22T09:31:01.245274Z",
     "start_time": "2020-07-22T09:31:01.236913Z"
    }
   },
   "outputs": [],
   "source": [
    "gismo.get_documents_by_rank(k=10)"
   ]
  },
  {
   "cell_type": "markdown",
   "metadata": {},
   "source": [
    "We see lots of duplicates. This is not surprising as many articles can published first as a research report, then as a conference paper, last as a journal article. Luckily, Gismo can cover for you."
   ]
  },
  {
   "cell_type": "code",
   "execution_count": null,
   "metadata": {
    "ExecuteTime": {
     "end_time": "2020-07-22T09:31:54.363783Z",
     "start_time": "2020-07-22T09:31:54.298845Z"
    }
   },
   "outputs": [],
   "source": [
    "gismo.get_documents_by_coverage(k=10)"
   ]
  },
  {
   "cell_type": "markdown",
   "metadata": {},
   "source": [
    "Hum, not working well. The reason here is query distortion. Query distortion is a gismo feature that modulates the clustering with the query. Sadly, when features are authors, the underlying graph has a very specific structure (highly sparse and redundant) that makes query distortion *too* effective. The solution is to desactivate it."
   ]
  },
  {
   "cell_type": "code",
   "execution_count": null,
   "metadata": {
    "ExecuteTime": {
     "end_time": "2020-07-22T09:32:10.264333Z",
     "start_time": "2020-07-22T09:32:10.141047Z"
    }
   },
   "outputs": [],
   "source": [
    "gismo.parameters.distortion = 0\n",
    "gismo.get_documents_by_coverage(k=10)"
   ]
  },
  {
   "cell_type": "markdown",
   "metadata": {},
   "source": [
    "Much better. No duplicate and more diversity in the results. Let's observe the communities."
   ]
  },
  {
   "cell_type": "code",
   "execution_count": null,
   "metadata": {
    "ExecuteTime": {
     "end_time": "2020-07-22T09:32:14.487793Z",
     "start_time": "2020-07-22T09:32:12.661392Z"
    }
   },
   "outputs": [],
   "source": [
    "gismo.get_documents_by_cluster(k=20, resolution=.9)"
   ]
  },
  {
   "cell_type": "markdown",
   "metadata": {},
   "source": [
    "OK! We see that the articles are organized by writing commmunities. Also note how Gismo managed to organize a hierachical grouping of the communities."
   ]
  },
  {
   "cell_type": "markdown",
   "metadata": {},
   "source": [
    "Now, let's look in terms of authors. This is actually the interesting part when studying collaborations."
   ]
  },
  {
   "cell_type": "code",
   "execution_count": null,
   "metadata": {
    "ExecuteTime": {
     "end_time": "2020-07-22T09:32:30.334682Z",
     "start_time": "2020-07-22T09:32:30.323634Z"
    }
   },
   "outputs": [],
   "source": [
    "gismo.get_features_by_rank()"
   ]
  },
  {
   "cell_type": "markdown",
   "metadata": {},
   "source": [
    "We see many authors that were not present in the articles listed above. This is an important observation: central articles (with respect to a query) are not necessarily written by central authors!\n",
    "\n",
    "Let's organize them into communities."
   ]
  },
  {
   "cell_type": "code",
   "execution_count": null,
   "metadata": {
    "ExecuteTime": {
     "end_time": "2020-07-22T09:33:07.716818Z",
     "start_time": "2020-07-22T09:33:04.316695Z"
    }
   },
   "outputs": [],
   "source": [
    "gismo.get_features_by_cluster(resolution=.6)"
   ]
  },
  {
   "cell_type": "markdown",
   "metadata": {},
   "source": [
    "### Jim Roberts  query"
   ]
  },
  {
   "cell_type": "code",
   "execution_count": null,
   "metadata": {
    "ExecuteTime": {
     "end_time": "2020-07-22T09:33:19.166218Z",
     "start_time": "2020-07-22T09:33:16.052099Z"
    }
   },
   "outputs": [],
   "source": [
    "gismo.rank(\"James_W._Roberts\")"
   ]
  },
  {
   "cell_type": "markdown",
   "metadata": {},
   "source": [
    "Let's have a covering set of articles."
   ]
  },
  {
   "cell_type": "code",
   "execution_count": null,
   "metadata": {
    "ExecuteTime": {
     "end_time": "2020-07-22T10:04:52.540162Z",
     "start_time": "2020-07-22T10:04:52.385475Z"
    }
   },
   "outputs": [],
   "source": [
    "gismo.get_documents_by_coverage(k=10)"
   ]
  },
  {
   "cell_type": "markdown",
   "metadata": {},
   "source": [
    "Who are the associated authors?"
   ]
  },
  {
   "cell_type": "code",
   "execution_count": null,
   "metadata": {
    "ExecuteTime": {
     "end_time": "2020-07-22T10:05:06.145924Z",
     "start_time": "2020-07-22T10:05:06.135652Z"
    }
   },
   "outputs": [],
   "source": [
    "gismo.get_features_by_rank(k=10)"
   ]
  },
  {
   "cell_type": "markdown",
   "metadata": {},
   "source": [
    "Let's organize them."
   ]
  },
  {
   "cell_type": "code",
   "execution_count": null,
   "metadata": {
    "ExecuteTime": {
     "end_time": "2020-07-22T10:05:20.225306Z",
     "start_time": "2020-07-22T10:05:18.377254Z"
    }
   },
   "outputs": [],
   "source": [
    "gismo.get_features_by_cluster(k=10, resolution=.4)"
   ]
  },
  {
   "cell_type": "markdown",
   "metadata": {},
   "source": [
    "### Combined queries"
   ]
  },
  {
   "cell_type": "markdown",
   "metadata": {},
   "source": [
    "We can input multiple authors."
   ]
  },
  {
   "cell_type": "code",
   "execution_count": null,
   "metadata": {
    "ExecuteTime": {
     "end_time": "2020-07-22T12:00:18.663544Z",
     "start_time": "2020-07-22T12:00:13.039362Z"
    }
   },
   "outputs": [],
   "source": [
    "gismo.rank(\"Laurent_Massoulié and James_W._Roberts\")"
   ]
  },
  {
   "cell_type": "markdown",
   "metadata": {},
   "source": [
    "Let's have a covering set of articles."
   ]
  },
  {
   "cell_type": "code",
   "execution_count": null,
   "metadata": {
    "ExecuteTime": {
     "end_time": "2020-07-22T12:00:31.468883Z",
     "start_time": "2020-07-22T12:00:31.314048Z"
    }
   },
   "outputs": [],
   "source": [
    "gismo.get_documents_by_coverage(k=10)"
   ]
  },
  {
   "cell_type": "markdown",
   "metadata": {},
   "source": [
    "Note that we get here only articles by Roberts, yet the articles returned have sightly changed."
   ]
  },
  {
   "cell_type": "markdown",
   "metadata": {},
   "source": [
    "Now, let's look at the main authors."
   ]
  },
  {
   "cell_type": "code",
   "execution_count": null,
   "metadata": {
    "ExecuteTime": {
     "end_time": "2020-07-22T12:01:04.379738Z",
     "start_time": "2020-07-22T12:01:04.370101Z"
    }
   },
   "outputs": [],
   "source": [
    "gismo.get_features_by_rank()"
   ]
  },
  {
   "cell_type": "markdown",
   "metadata": {},
   "source": [
    "We see a mix of both co-authors. How are they organized?"
   ]
  },
  {
   "cell_type": "code",
   "execution_count": null,
   "metadata": {
    "ExecuteTime": {
     "end_time": "2020-07-22T12:01:37.791253Z",
     "start_time": "2020-07-22T12:01:35.433151Z"
    }
   },
   "outputs": [],
   "source": [
    "gismo.get_features_by_cluster(resolution=.4)"
   ]
  },
  {
   "cell_type": "markdown",
   "metadata": {},
   "source": [
    "## Cross-gismo"
   ]
  },
  {
   "cell_type": "markdown",
   "metadata": {},
   "source": [
    "Gismo can combine two embeddings two create one hybrid gismo. This is called a cross-gismo (XGismo). This features can be used to analyze authors with respect to the words they use (and vice-versa)."
   ]
  },
  {
   "cell_type": "code",
   "execution_count": null,
   "metadata": {
    "ExecuteTime": {
     "end_time": "2020-07-22T09:27:36.576281Z",
     "start_time": "2020-07-22T09:26:49.346Z"
    }
   },
   "outputs": [],
   "source": [
    "from gismo.gismo import XGismo\n",
    "gismo = XGismo(x_embedding=a_embedding, y_embedding=embedding)\n",
    "gismo.diteration.n_iter = 2 # to speed up a little bit computation time"
   ]
  },
  {
   "cell_type": "markdown",
   "metadata": {},
   "source": [
    "Note that XGismo does not use the underlying corpus, so we can now close the source (the source keeps the ``dblp.data`` file open)."
   ]
  },
  {
   "cell_type": "code",
   "execution_count": null,
   "metadata": {
    "ExecuteTime": {
     "end_time": "2020-07-22T09:27:36.581052Z",
     "start_time": "2020-07-22T09:26:49.358Z"
    }
   },
   "outputs": [],
   "source": [
    "source.close()"
   ]
  },
  {
   "cell_type": "code",
   "execution_count": null,
   "metadata": {
    "ExecuteTime": {
     "end_time": "2020-07-22T09:27:36.584532Z",
     "start_time": "2020-07-22T09:26:49.366Z"
    }
   },
   "outputs": [],
   "source": [
    "gismo.post_document = lambda g, i: g.corpus[i].replace(\"_\", \" \")\n",
    "gismo.post_feature_cluster = print_feature_cluster\n",
    "def print_document_cluster(gismo, cluster, depth=\"\"):\n",
    "    sim = cosine_similarity(cluster.vector, gismo.diteration.y_relevance.reshape(1, -1))[0][0]\n",
    "    if len(cluster.children) == 0:\n",
    "        txt = gismo.corpus[cluster.indice].replace(\"_\", \" \")\n",
    "        print(f\"{depth} {txt} \"\n",
    "              f\"(R: {gismo.diteration.x_relevance[cluster.indice]:.2f}; \"\n",
    "              f\"S: {sim:.2f})\")\n",
    "    else:\n",
    "        print(f\"{depth} F: {cluster.focus:.2f}. \"\n",
    "              f\"R: {sum(gismo.diteration.x_relevance[cluster.members]):.2f}. \"\n",
    "              f\"S: {sim:.2f}.\")\n",
    "    for c in cluster.children:\n",
    "        print_document_cluster(gismo, c, depth=depth + '-')\n",
    "gismo.post_document_cluster = print_document_cluster"
   ]
  },
  {
   "cell_type": "markdown",
   "metadata": {},
   "source": [
    "Let's try a request."
   ]
  },
  {
   "cell_type": "code",
   "execution_count": null,
   "metadata": {
    "ExecuteTime": {
     "end_time": "2020-07-22T09:27:36.588042Z",
     "start_time": "2020-07-22T09:26:49.373Z"
    }
   },
   "outputs": [],
   "source": [
    "gismo.rank(\"self-stabilization\")"
   ]
  },
  {
   "cell_type": "markdown",
   "metadata": {},
   "source": [
    "What are the associated keywords?"
   ]
  },
  {
   "cell_type": "code",
   "execution_count": null,
   "metadata": {
    "ExecuteTime": {
     "end_time": "2020-07-22T09:27:36.590851Z",
     "start_time": "2020-07-22T09:26:49.388Z"
    }
   },
   "outputs": [],
   "source": [
    "gismo.get_ranked_features(k=10)"
   ]
  },
  {
   "cell_type": "markdown",
   "metadata": {},
   "source": [
    "How are keywords structured?"
   ]
  },
  {
   "cell_type": "code",
   "execution_count": null,
   "metadata": {
    "ExecuteTime": {
     "end_time": "2020-07-22T09:27:36.595187Z",
     "start_time": "2020-07-22T09:26:49.395Z"
    }
   },
   "outputs": [],
   "source": [
    "gismo.get_clustered_ranked_features(k=20, resolution=.8)"
   ]
  },
  {
   "cell_type": "markdown",
   "metadata": {},
   "source": [
    "Who are the associated researchers?"
   ]
  },
  {
   "cell_type": "code",
   "execution_count": null,
   "metadata": {
    "ExecuteTime": {
     "end_time": "2020-07-22T09:27:36.600194Z",
     "start_time": "2020-07-22T09:26:49.402Z"
    }
   },
   "outputs": [],
   "source": [
    "gismo.get_ranked_documents(k=10)"
   ]
  },
  {
   "cell_type": "markdown",
   "metadata": {},
   "source": [
    "How are they structured?"
   ]
  },
  {
   "cell_type": "code",
   "execution_count": null,
   "metadata": {
    "ExecuteTime": {
     "end_time": "2020-07-22T09:27:36.605220Z",
     "start_time": "2020-07-22T09:26:49.413Z"
    }
   },
   "outputs": [],
   "source": [
    "gismo.get_clustered_ranked_documents(k=10, resolution=.9)"
   ]
  },
  {
   "cell_type": "markdown",
   "metadata": {},
   "source": [
    "We can also query researchers. Just use underscores in the query and add `y=False` to indicate that the input is *documents*."
   ]
  },
  {
   "cell_type": "code",
   "execution_count": null,
   "metadata": {
    "ExecuteTime": {
     "end_time": "2020-07-22T09:27:36.608398Z",
     "start_time": "2020-07-22T09:26:49.420Z"
    }
   },
   "outputs": [],
   "source": [
    "gismo.rank(\"Sébastien_Tixeuil and Fabien_Mathieu\", y=False)"
   ]
  },
  {
   "cell_type": "markdown",
   "metadata": {},
   "source": [
    "What are the associated keywords?"
   ]
  },
  {
   "cell_type": "code",
   "execution_count": null,
   "metadata": {
    "ExecuteTime": {
     "end_time": "2020-07-22T09:27:36.611377Z",
     "start_time": "2020-07-22T09:26:49.423Z"
    }
   },
   "outputs": [],
   "source": [
    "gismo.get_ranked_features(k=10)"
   ]
  },
  {
   "cell_type": "markdown",
   "metadata": {},
   "source": [
    "Using covering can yield other keywords of interest."
   ]
  },
  {
   "cell_type": "code",
   "execution_count": null,
   "metadata": {
    "ExecuteTime": {
     "end_time": "2020-07-22T09:27:36.614378Z",
     "start_time": "2020-07-22T09:26:49.428Z"
    }
   },
   "outputs": [],
   "source": [
    "gismo.get_covering_features(k=10)"
   ]
  },
  {
   "cell_type": "markdown",
   "metadata": {},
   "source": [
    "How are keywords structured?"
   ]
  },
  {
   "cell_type": "code",
   "execution_count": null,
   "metadata": {
    "ExecuteTime": {
     "end_time": "2020-07-22T09:27:36.618377Z",
     "start_time": "2020-07-22T09:26:49.434Z"
    }
   },
   "outputs": [],
   "source": [
    "gismo.get_clustered_ranked_features(k=20, resolution=.7)"
   ]
  },
  {
   "cell_type": "markdown",
   "metadata": {},
   "source": [
    "Who are the associated researchers?"
   ]
  },
  {
   "cell_type": "code",
   "execution_count": null,
   "metadata": {
    "ExecuteTime": {
     "end_time": "2020-07-22T09:27:36.621380Z",
     "start_time": "2020-07-22T09:26:49.439Z"
    }
   },
   "outputs": [],
   "source": [
    "gismo.get_ranked_documents(k=10)"
   ]
  },
  {
   "cell_type": "markdown",
   "metadata": {},
   "source": [
    "How are they structured?"
   ]
  },
  {
   "cell_type": "code",
   "execution_count": null,
   "metadata": {
    "ExecuteTime": {
     "end_time": "2020-07-22T09:27:36.624380Z",
     "start_time": "2020-07-22T09:26:49.446Z"
    }
   },
   "outputs": [],
   "source": [
    "gismo.get_clustered_ranked_documents(k=10, resolution=.8)"
   ]
  }
 ],
 "metadata": {
  "kernelspec": {
   "display_name": "Python 3",
   "language": "python",
   "name": "python3"
  },
  "language_info": {
   "codemirror_mode": {
    "name": "ipython",
    "version": 3
   },
   "file_extension": ".py",
   "mimetype": "text/x-python",
   "name": "python",
   "nbconvert_exporter": "python",
   "pygments_lexer": "ipython3",
   "version": "3.7.7"
  },
  "toc": {
   "base_numbering": 1,
   "nav_menu": {},
   "number_sections": true,
   "sideBar": true,
   "skip_h1_title": true,
   "title_cell": "Table of Contents",
   "title_sidebar": "Contents",
   "toc_cell": false,
   "toc_position": {},
   "toc_section_display": true,
   "toc_window_display": false
  }
 },
 "nbformat": 4,
 "nbformat_minor": 4
}
